{
 "cells": [
  {
   "cell_type": "markdown",
   "metadata": {},
   "source": [
    "## GA4GH 1000 Genomes Variant Annotation Example\n",
    "This example illustrates how to access the different variant calls implemented within the variant service."
   ]
  },
  {
   "cell_type": "markdown",
   "metadata": {},
   "source": [
    "### Initialize the client\n",
    "In this step we create a client object which will be used to communicate with the server. It is initialized using the URL."
   ]
  },
  {
   "cell_type": "code",
   "execution_count": 1,
   "metadata": {
    "collapsed": false
   },
   "outputs": [],
   "source": [
    "from ga4gh.client import client\n",
    "c = client.HttpClient(\"http://1kgenomes.ga4gh.org\")"
   ]
  },
  {
   "cell_type": "code",
   "execution_count": 2,
   "metadata": {
    "collapsed": false
   },
   "outputs": [],
   "source": [
    "#Obtain dataSet id REF: -> `1kg_metadata_service`\n",
    "dataset = c.search_datasets().next() \n",
    "\n",
    "#Obtain functional-annotations set id REF: -> `1kg_variant_service`\n",
    "for variant_sets in c.search_variant_sets(dataset_id=dataset.id):\n",
    "    if variant_sets.name == \"functional-annotations\":\n",
    "        variant_sets = variant_sets.id\n",
    "        break"
   ]
  },
  {
   "cell_type": "markdown",
   "metadata": {},
   "source": [
    "### Search Variant Annotation Sets method\n",
    "Variant Annotation Sets collect together information about variants that are not otherwise described in a variant message. These variant annotations mainly describe transcriptional effects of a variation, as well as which genomic feature they may occur on."
   ]
  },
  {
   "cell_type": "code",
   "execution_count": 3,
   "metadata": {
    "collapsed": false
   },
   "outputs": [
    {
     "name": "stdout",
     "output_type": "stream",
     "text": [
      "\n",
      "Name: functional-annotation,\n",
      " Id: WyIxa2dlbm9tZXMiLCJ2cyIsImZ1bmN0aW9uYWwtYW5ub3RhdGlvbiIsImZ1bmN0aW9uYWwtYW5ub3RhdGlvbiJd,\n",
      " Variant Set Id: WyIxa2dlbm9tZXMiLCJ2cyIsImZ1bmN0aW9uYWwtYW5ub3RhdGlvbiJd,\n"
     ]
    }
   ],
   "source": [
    "for variant_annotation_sets in c.search_variant_annotation_sets(variant_set_id=variant_sets.id):\n",
    "    print \"\\nName: {},\".format(variant_annotation_sets.name)\n",
    "    print\" Id: {},\".format(variant_annotation_sets.id)\n",
    "    print\" Variant Set Id: {},\".format(variant_annotation_sets.variant_set_id)\n"
   ]
  },
  {
   "cell_type": "markdown",
   "metadata": {},
   "source": [
    "### Search Variant Annotations\n",
    "Searching Variant Annotations is done by making a genomic range query using the Variant Annotation Set ID found above. The returned annotations include details on the transcript effects for variants in that range."
   ]
  },
  {
   "cell_type": "code",
   "execution_count": 4,
   "metadata": {
    "collapsed": false
   },
   "outputs": [
    {
     "name": "stdout",
     "output_type": "stream",
     "text": [
      "Id: WyIxa2dlbm9tZXMiLCJ2cyIsImZ1bmN0aW9uYWwtYW5ub3RhdGlvbiIsImZ1bmN0aW9uYWwtYW5ub3RhdGlvbiIsIjEiLCIxMDE3NiIsIjhjYjI5MGJhNTcyNzlmNjg1MDc4ZGUwZGNmMGNjYzJiIl0,\n",
      " Variant Id: WyIxa2dlbm9tZXMiLCJ2cyIsImZ1bmN0aW9uYWwtYW5ub3RhdGlvbiIsIjEiLCIxMDE3NiIsImQwMTZjNGUxYWRjYWQ1ZDFiYzg5YzJjYTRhZGJhM2E4Il0,\n",
      " Variant Annotation Set Id: WyIxa2dlbm9tZXMiLCJ2cyIsImZ1bmN0aW9uYWwtYW5ub3RhdGlvbiIsImZ1bmN0aW9uYWwtYW5ub3RhdGlvbiJd\n",
      " Created: 2014-07-30T00:00:00Z\n",
      " Transcript Effects Id: 4ef6c08cbb50fec318e9815d897e511f,\n",
      " Featured Id: ENST00000456328,\n",
      " Alternate Bases: C,\n",
      " Effects Id: SO:0001631,\n",
      " Effect Term: upstream_gene_variant,\n",
      " Effect Sorce Name: so-xp,\n",
      " Effect Source Version: so-xp/releases/2015-11-24/so-xp.owl\n",
      "\n",
      "Id: WyIxa2dlbm9tZXMiLCJ2cyIsImZ1bmN0aW9uYWwtYW5ub3RhdGlvbiIsImZ1bmN0aW9uYWwtYW5ub3RhdGlvbiIsIjEiLCIxMDIzNCIsImZjZGQzZjU2MTMxNWUwMTM4YWNlMmE4MjA2NjllY2QyIl0,\n",
      " Variant Id: WyIxa2dlbm9tZXMiLCJ2cyIsImZ1bmN0aW9uYWwtYW5ub3RhdGlvbiIsIjEiLCIxMDIzNCIsIjBjZTM1MDcyNDQ2MTRjMzcwNWY1ZTJhYTJkMTBhZjI1Il0,\n",
      " Variant Annotation Set Id: WyIxa2dlbm9tZXMiLCJ2cyIsImZ1bmN0aW9uYWwtYW5ub3RhdGlvbiIsImZ1bmN0aW9uYWwtYW5ub3RhdGlvbiJd\n",
      " Created: 2014-07-30T00:00:00Z\n",
      " Transcript Effects Id: 36da0f368090af154c25b9f56266b920,\n",
      " Featured Id: ENST00000456328,\n",
      " Alternate Bases: A,\n",
      " Effects Id: SO:0001631,\n",
      " Effect Term: upstream_gene_variant,\n",
      " Effect Sorce Name: so-xp,\n",
      " Effect Source Version: so-xp/releases/2015-11-24/so-xp.owl\n",
      "\n",
      "Id: WyIxa2dlbm9tZXMiLCJ2cyIsImZ1bmN0aW9uYWwtYW5ub3RhdGlvbiIsImZ1bmN0aW9uYWwtYW5ub3RhdGlvbiIsIjEiLCIxMDM1MSIsImZjZGQzZjU2MTMxNWUwMTM4YWNlMmE4MjA2NjllY2QyIl0,\n",
      " Variant Id: WyIxa2dlbm9tZXMiLCJ2cyIsImZ1bmN0aW9uYWwtYW5ub3RhdGlvbiIsIjEiLCIxMDM1MSIsIjBjZTM1MDcyNDQ2MTRjMzcwNWY1ZTJhYTJkMTBhZjI1Il0,\n",
      " Variant Annotation Set Id: WyIxa2dlbm9tZXMiLCJ2cyIsImZ1bmN0aW9uYWwtYW5ub3RhdGlvbiIsImZ1bmN0aW9uYWwtYW5ub3RhdGlvbiJd\n",
      " Created: 2014-07-30T00:00:00Z\n",
      " Transcript Effects Id: 36da0f368090af154c25b9f56266b920,\n",
      " Featured Id: ENST00000456328,\n",
      " Alternate Bases: A,\n",
      " Effects Id: SO:0001631,\n",
      " Effect Term: upstream_gene_variant,\n",
      " Effect Sorce Name: so-xp,\n",
      " Effect Source Version: so-xp/releases/2015-11-24/so-xp.owl\n",
      "\n"
     ]
    }
   ],
   "source": [
    "counter = 3\n",
    "for variant_annotations in c.search_variant_annotations(variant_annotation_set_id=variant_annotation_sets.id, reference_name=\"1\", start=0, end=1000000):\n",
    "    if counter <= 0:\n",
    "        break\n",
    "    counter -= 1 \n",
    "    print\"Id: {},\".format(variant_annotations.id)\n",
    "    print\" Variant Id: {},\".format(variant_annotations.variant_id)\n",
    "    print\" Variant Annotation Set Id: {}\".format(variant_annotations.variant_annotation_set_id)\n",
    "    print\" Created: {}\".format(variant_annotations.created)\n",
    "    print\" Transcript Effects Id: {},\".format(variant_annotations.transcript_effects[0].id)\n",
    "    print\" Featured Id: {},\".format(variant_annotations.transcript_effects[0].feature_id)\n",
    "    print\" Alternate Bases: {},\".format(variant_annotations.transcript_effects[0].alternate_bases)\n",
    "    print\" Effects Id: {},\".format(variant_annotations.transcript_effects[0].effects[0].id)\n",
    "    print\" Effect Term: {},\".format(variant_annotations.transcript_effects[0].effects[0].term)\n",
    "    print\" Effect Sorce Name: {},\".format(variant_annotations.transcript_effects[0].effects[0].source_name)\n",
    "    print\" Effect Source Version: {}\\n\".format(variant_annotations.transcript_effects[0].effects[0].source_version)"
   ]
  },
  {
   "cell_type": "markdown",
   "metadata": {
    "collapsed": true
   },
   "source": [
    "### Get Variant Annotation Set\n",
    "Variant Annotation Sets can be retrieved using their ID."
   ]
  },
  {
   "cell_type": "code",
   "execution_count": 5,
   "metadata": {
    "collapsed": false
   },
   "outputs": [],
   "source": [
    "variant_annotation_set = c.get_variant_annotation_set(variant_annotation_set_id=variant_annotation_sets.id)"
   ]
  },
  {
   "cell_type": "code",
   "execution_count": 6,
   "metadata": {
    "collapsed": false
   },
   "outputs": [
    {
     "name": "stdout",
     "output_type": "stream",
     "text": [
      "Name: functional-annotation\n",
      " Id: WyIxa2dlbm9tZXMiLCJ2cyIsImZ1bmN0aW9uYWwtYW5ub3RhdGlvbiIsImZ1bmN0aW9uYWwtYW5ub3RhdGlvbiJd \n",
      " Variant Set Id: WyIxa2dlbm9tZXMiLCJ2cyIsImZ1bmN0aW9uYWwtYW5ub3RhdGlvbiJd\n"
     ]
    }
   ],
   "source": [
    "print\"Name: {}\".format(variant_annotation_set.name)\n",
    "print\" Id: {} \".format(variant_annotation_set.id)\n",
    "print\" Variant Set Id: {}\".format(variant_annotation_set.variant_set_id)"
   ]
  },
  {
   "cell_type": "markdown",
   "metadata": {},
   "source": [
    "##### For documentation on the service, and more information go to:\n",
    "https://ga4gh-schemas.readthedocs.io/en/latest/schemas/allele_annotation_service.proto.html"
   ]
  }
 ],
 "metadata": {
  "kernelspec": {
   "display_name": "Python 2",
   "language": "python",
   "name": "python2"
  },
  "language_info": {
   "codemirror_mode": {
    "name": "ipython",
    "version": 2
   },
   "file_extension": ".py",
   "mimetype": "text/x-python",
   "name": "python",
   "nbconvert_exporter": "python",
   "pygments_lexer": "ipython2",
   "version": "2.7.11"
  },
  "widgets": {
   "state": {},
   "version": "1.1.1"
  }
 },
 "nbformat": 4,
 "nbformat_minor": 1
}
