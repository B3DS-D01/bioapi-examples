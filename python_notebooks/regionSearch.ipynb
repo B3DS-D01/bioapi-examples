{
 "cells": [
  {
   "cell_type": "markdown",
   "metadata": {},
   "source": [
    "### Initialize the client\n",
    "\n",
    "As seen in the \"1kg.ipynb\" example, we take the following steps to create the client object that will be used to obtain the information we desire and query the server. Plotting tools are also imported here."
   ]
  },
  {
   "cell_type": "code",
   "execution_count": 100,
   "metadata": {
    "collapsed": false
   },
   "outputs": [],
   "source": [
    "import ga4gh.client as client\n",
    "c = client.HttpClient(\"http://1kgenomes.ga4gh.org\")\n",
    "\n",
    "import sys\n",
    "import collections\n",
    "import math\n",
    "%matplotlib inline\n",
    "import matplotlib\n",
    "import numpy as np\n",
    "import matplotlib.pyplot as plt\n",
    "\n",
    "from __future__ import print_function\n",
    "from ipywidgets import interact, interactive, fixed\n",
    "import ipywidgets as widgets"
   ]
  },
  {
   "cell_type": "markdown",
   "metadata": {},
   "source": [
    "### Acquiring annotation set\n",
    "\n",
    "We query the server for the dataset, which is the 1k-genomes dataset. The dataset has a unique ID that can be used to acquire each variant set within the dataset. \n",
    "\n",
    "To access the different kinds of annotations, we access the annotation set using the unique variant set ID."
   ]
  },
  {
   "cell_type": "code",
   "execution_count": 101,
   "metadata": {
    "collapsed": false
   },
   "outputs": [],
   "source": [
    "dataset = c.searchDatasets().next()\n",
    "\n",
    "for variantSet in c.searchVariantSets(dataset.id):\n",
    "    if variantSet.name == \"functional-annotation\":\n",
    "        annotation = variantSet\n",
    "\n",
    "annotationSet = c.searchVariantAnnotationSets(variantSetId=annotation.id).next()"
   ]
  },
  {
   "cell_type": "code",
   "execution_count": 102,
   "metadata": {
    "collapsed": false
   },
   "outputs": [],
   "source": [
    "def runSearch(startPos, endPos, chromosome, searchTerm, window):\n",
    "    \n",
    "    windowCount = ((int(endPos)-int(startPos))/int(window))\n",
    "    print(\"windowCount = \",windowCount)\n",
    "    startPoint = int(startPos)\n",
    "    endPoint = (int(startPos)+int(window))\n",
    "    yList=[]\n",
    "    \n",
    "    for i in range(0,windowCount):\n",
    "        #print(\"endPoint = \",endPoint)\n",
    "\n",
    "        abc=c.searchVariantAnnotations(variantAnnotationSetId=annotationSet.id, start=startPoint, end=endPoint, referenceName=chromosome, effects=[{\"id\": searchTerm}])\n",
    "    \n",
    "        idList = []\n",
    "        startEndList = []\n",
    "        \n",
    "        for annotation in abc:\n",
    "            idList.append(annotation.variant_id)\n",
    "    \n",
    "        for ids in idList:\n",
    "            important = c.getVariant(ids)\n",
    "            startEndList.append(important.start)\n",
    "            startEndList.append(important.end)\n",
    "        countingStats(seVals=startEndList, windowValue=windowCount, yValList=yList, startPos=startPoint, endPos=endPoint)\n",
    "        \n",
    "        startPoint+=int(window)\n",
    "        endPoint+=int(window)\n",
    "        del idList[:]\n",
    "        del startEndList[:]\n",
    "    "
   ]
  },
  {
   "cell_type": "code",
   "execution_count": 103,
   "metadata": {
    "collapsed": false
   },
   "outputs": [],
   "source": [
    "def countingStats(seVals, windowValue, yValList,startPos, endPos):\n",
    "    values = np.empty([int(len(seVals))/2,2], dtype=np.int32)\n",
    "    \n",
    "    j=0\n",
    "    k=1\n",
    "    for i in range(0,int(len(seVals))/2):\n",
    "        values[i][0] = seVals[j]\n",
    "        values[i][1] = seVals[k]\n",
    "        j+=2\n",
    "        k+=2\n",
    "        \n",
    "    testFunc(values, len(values), windowValue, yValList, startPos, endPos)\n",
    "    #plotWindowHistogram(values, len(values), startPos, endPos)"
   ]
  },
  {
   "cell_type": "code",
   "execution_count": 118,
   "metadata": {
    "collapsed": true
   },
   "outputs": [],
   "source": [
    "def testFunc(xAxisTicks,yAxisValues, windowVals, yList,startPos, endPos):\n",
    "    #print(\"xAxisTicks = \",xAxisTicks,\"\\n\")\n",
    "    #print(\"yAxisValues = \",yAxisValues,\"\\n\")\n",
    "    #print(\"startPos = \",startPos,\"\\n\")\n",
    "    #print(\"endPos = \",endPos,\"\\n\")\n",
    "     \n",
    "    yList.append(yAxisValues)\n",
    "    \n",
    "    print(yList)\n",
    "    \n",
    "    if len(yList)==windowVals:\n",
    "        plotWindowHistogram(xAxisTicks, yList, windowVals, startPos, endPos)"
   ]
  },
  {
   "cell_type": "code",
   "execution_count": 127,
   "metadata": {
    "collapsed": false
   },
   "outputs": [],
   "source": [
    "def plotWindowHistogram(xAxisTicks, yAxisValues, windowVals, startPos, endPos):\n",
    "    \n",
    "    fig, ax = plt.subplots()\n",
    "    \n",
    "    endValues = np.empty([1,2], dtype=np.int32)\n",
    "\n",
    "    #print(xAxisTicks)\n",
    "\n",
    "    #if xAxisTicks.size==0:\n",
    "    endValues[0][0] = startPos\n",
    "    endValues[0][1] = endPos\n",
    "    #else:\n",
    "        #endValues[0][0] = xAxisTicks[0][0]\n",
    "        #endValues[0][1] = xAxisTicks[-1][1]\n",
    "    \n",
    "    ax.set_xticklabels(endValues, rotation=45)\n",
    "    \n",
    "    for i in range(0,windowVals):\n",
    "        plt.bar(i, yAxisValues[i], width=1, color=['maroon'])\n",
    "    \n",
    "    #h = plt.bar(xrange(len(xAxisTicks)), yAxisValues, label=xAxisTicks)\n",
    "    #xticks_pos = [0.50*patch.get_width() + patch.get_xy()[0] for patch in h]\n",
    "    #plt.xticks(xticks_pos, xAxisTicks,  ha='right', rotation=45)\n",
    "    \n",
    "    \n",
    "    \n",
    "    ax.set_title(\"intron_variants from \"+str(startPos)+\" to \"+str(endPos))\n",
    "    ax.set_ylim([0,int(math.ceil(max(yAxisValues)/10.0))*10])\n",
    "    ax.set_xticklabels([endValues])\n",
    "    plt.rcParams[\"figure.figsize\"] = [10,10]\n",
    "    \n",
    "    plt.show()"
   ]
  },
  {
   "cell_type": "code",
   "execution_count": 128,
   "metadata": {
    "collapsed": false,
    "scrolled": false
   },
   "outputs": [
    {
     "name": "stdout",
     "output_type": "stream",
     "text": [
      "windowCount =  2\n",
      "[58]\n",
      "[58, 53]\n"
     ]
    },
    {
     "data": {
      "image/png": "[encoded data removed]",
      "text/plain": [
       "<matplotlib.figure.Figure at 0x11105ca90>"
      ]
     },
     "metadata": {},
     "output_type": "display_data"
    }
   ],
   "source": [
    "searchOntologyDict = {'transcript_ablation' : 'SO:0001893', 'splice_acceptor_variant' : 'SO:0001574', 'splice_donor_variant' : 'SO:0001575', 'stop_gained' : 'SO:0001587', 'frameshift_variant' : 'SO:0001589', 'stop_lost' : 'SO:0001578', 'start_lost' : 'SO:0002012', 'transcript_amplification' : 'SO:0001889', 'inframe_insertion' : 'SO:0001821', 'inframe_deletion' : 'SO:0001822', 'missense_variant' : 'SO:0001583', 'protein_altering_variant' : 'SO:0001818', 'splice_region_variant' : 'SO:0001630', 'incomplete_terminal_codon_variant' : 'SO:0001626', 'stop_retained_variant' : 'SO:0001567', 'synonymous_variant' : 'SO:0001819', 'coding_sequence_variant' : 'SO:0001580', 'mature_miRNA_variant' : 'SO:0001620', '5_prime_UTR_variant' : 'SO:0001623', '3_prime_UTR_variant' : 'SO:0001624', 'non_coding_transcript_exon_variant' : 'SO:0001792', 'intron_variant' : 'SO:0001627', 'NMD_transcript_variant' : 'SO:0001621', 'non_coding_transcript_variant' : 'SO:0001619', 'upstream_gene_variant' : 'SO:0001631', 'downstream_gene_variant' : 'SO:0001632', 'TFBS_ablation' : 'SO:0001892', 'TFBS_amplification' : 'SO:0001892', 'TF_binding_site_variant' : 'SO:0001782', 'regulatory_region_ablation' : 'SO:0001894', 'regulatory_region_amplification' : 'SO:0001891', 'feature_elongation' : 'SO:0001907', 'regulatory_region_variant' : 'SO:0001566', 'feature_truncation' : 'SO:0001906', 'intergenic_variant' : 'SO:0001628'}\n",
    "shortDict = {'intron_variant' : 'SO:0001627', 'feature_truncation' : 'SO:0001906' , 'non_coding_transcript_exon_variant' : 'SO:0001792' , 'non_coding_transcript_variant' : 'SO:0001619', 'transcript_ablation' : 'SO:0001893'}\n",
    "chromList = ('1','2','3','4','5','6','7','8','9','10','11','12','13','14','15','16','17','18')\n",
    "\n",
    "elements = interact(runSearch,\n",
    "           startPos=\"0\",\n",
    "           endPos=\"100000\",\n",
    "           chromosome=chromList,\n",
    "           searchTerm=shortDict,\n",
    "           window=\"50000\",\n",
    "           #__manual=\"True\"\n",
    "            );"
   ]
  },
  {
   "cell_type": "code",
   "execution_count": null,
   "metadata": {
    "collapsed": true
   },
   "outputs": [],
   "source": []
  }
 ],
 "metadata": {
  "kernelspec": {
   "display_name": "Python 2",
   "language": "python",
   "name": "python2"
  },
  "language_info": {
   "codemirror_mode": {
    "name": "ipython",
    "version": 2
   },
   "file_extension": ".py",
   "mimetype": "text/x-python",
   "name": "python",
   "nbconvert_exporter": "python",
   "pygments_lexer": "ipython2",
   "version": "2.7.11"
  },
  "widgets": {
   "state": {
    "00233dc0055c442a84f07f2182c696b0": {
     "views": []
    },
    "0045e178cc5247379c456eb1b6f2b89c": {
     "views": []
    },
    "0050eb0b3aca41f9abf16a4e6bf24cfa": {
     "views": []
    },
    "006749898db14f2a9dc91af5e6e0b883": {
     "views": []
    },
    "006c73bce85a4b3ba57b558d89c7635f": {
     "views": []
    },
    "0080fcabb59543d5b3ac685bec6e5ef4": {
     "views": []
    },
    "009aa53a93634a10b0b79174d3eacb31": {
     "views": []
    },
    "01460b6f0ea44311800f0246644cdc29": {
     "views": []
    },
    "01e9c0d58d8c408394f86421309edba5": {
     "views": []
    },
    "021d83f8e2ec49479aab60b749e526d8": {
     "views": []
    },
    "02322d9ffd0f413cbbdd947d5140490b": {
     "views": []
    },
    "02674e002c4d4ada945d97b89e989352": {
     "views": []
    },
    "02913ed2a1ab4721b9866c2c96258974": {
     "views": []
    },
    "029669da8a064339ac606ecf16db782f": {
     "views": []
    },
    "02bf89eba0ca43009c0cb8f68059c5c4": {
     "views": []
    },
    "03b752f539f046fdb6274519e0bc0508": {
     "views": []
    },
    "04645338bf1a4daabcee5db09396bb65": {
     "views": []
    },
    "04e4b65474404bb89728f5812134207b": {
     "views": []
    },
    "051fe047f9fb4cbfa8c70faae0669647": {
     "views": []
    },
    "057ca3ad77d047b58376698af499df0e": {
     "views": []
    },
    "064ccbade37141f68ac7ff8c9439221e": {
     "views": []
    },
    "0664738f8b1841f6b24ce5cf030d5eab": {
     "views": []
    },
    "06bd8cf7b3c047ec9a2bec601d706a8a": {
     "views": []
    },
    "06c87e8e3a194c48ae28811e7383809b": {
     "views": []
    },
    "06f36820dc854e2db609576148962527": {
     "views": []
    },
    "0732004a3f57402b823a1c3f90389642": {
     "views": []
    },
    "0736c0ee01e14ec48edd1d1b08e53e83": {
     "views": []
    },
    "0753170ad48940d3b2590ce1b6feeece": {
     "views": []
    },
    "07585fb4ea9f46f68e1dff8e16210b1a": {
     "views": []
    },
    "07756a772f434159a303aaaf60aa2af0": {
     "views": []
    },
    "078912c789af4923a8a65aca5f6a86fb": {
     "views": []
    },
    "07dcf1fc78ea45078b2d24652f96536d": {
     "views": []
    },
    "07deffc11dcd4f01b5e26367ef9c1ce6": {
     "views": []
    },
    "07f6204691234e4c98bd47282f92093d": {
     "views": []
    },
    "08212deefa7343219372301c5962e28b": {
     "views": []
    },
    "082649b4638c451391bc7d001e5ed062": {
     "views": []
    },
    "084ba7efcefa4418952e90c1b0e740c9": {
     "views": []
    },
    "08658c54a752434fbe241fe1443f641a": {
     "views": []
    },
    "086e7025be9c4092b1eb4bf4e9afbbe8": {
     "views": []
    },
    "09095c5931d242a4bbb0bc4ff8148212": {
     "views": []
    },
    "0999836648ae4805ae86e225b1342e9f": {
     "views": []
    },
    "09eb3f4190e045dba928491cccdedc59": {
     "views": []
    },
    "0a25e622d4554c8d86466938e9e72380": {
     "views": []
    },
    "0a631a2b66e2408184c235cd6a852556": {
     "views": []
    },
    "0a97845e538a4a84af94f228501b49e0": {
     "views": []
    },
    "0aaa121712ff4018a4c644363bb7370c": {
     "views": []
    },
    "0b122efc0e464895bad7d050c383eb75": {
     "views": []
    },
    "0b6f148413d54c9c9f373bab44f320e9": {
     "views": []
    },
    "0ba5ae0ad8b74a26b75b6b4d90f9e882": {
     "views": []
    },
    "0bc704d56e8d45e0a5b7bde5ab0d1a3a": {
     "views": []
    },
    "0c4289f0ddf04d6e8dac4aa10bed664b": {
     "views": []
    },
    "0c718ec7aa1346bebea677cdcf734669": {
     "views": []
    },
    "0cd8d48fceb84e349daaea7b13b98cc4": {
     "views": []
    },
    "0ce4bb1f044a4f96b8072f95442b4103": {
     "views": []
    },
    "0d2833dea87b4ba1af59b2fa16c6a79b": {
     "views": []
    },
    "0d46414eb17140db9689a54ba58aa9e8": {
     "views": []
    },
    "0d66b9ac05d14c77994d87a12465ef86": {
     "views": []
    },
    "0d68cc2777c74a3bacf7c0ac82757c01": {
     "views": []
    },
    "0d6f1b88dade4795a2270fb8959d6095": {
     "views": []
    },
    "0e97f8d47dcd450fbe9531634e8985c3": {
     "views": []
    },
    "0eee858fd65345e3bcd7e3312d261613": {
     "views": []
    },
    "0f05056438b540048ec769ced31ad77a": {
     "views": []
    },
    "0f330c7daffa4afba7997c85ad128223": {
     "views": []
    },
    "0f702018fcef4c3495735077787fdaf5": {
     "views": []
    },
    "0fdaeaccf31543ad8fc3bbdb162e59d4": {
     "views": []
    },
    "105074566ddc43208117d9ff127c3aba": {
     "views": []
    },
    "11314f28c3bf412897d6d9072d4f9004": {
     "views": []
    },
    "117bab9f5dc2481aad6d7586866add01": {
     "views": []
    },
    "12af40aab7b04704b0d42b132e81edf8": {
     "views": []
    },
    "134abedd86f94d86a5038f4092035275": {
     "views": []
    },
    "136497e2f26840d3a2332354ba818e49": {
     "views": []
    },
    "13b22128bb254effbd8e82c99553fbd8": {
     "views": []
    },
    "14364922ee504cb1a6cc623db8d710db": {
     "views": []
    },
    "14491a402ea34f9dade1d65e856b8dc6": {
     "views": []
    },
    "1457e8340b424e66b0503d30284ceed3": {
     "views": []
    },
    "1488327ae8fc40728ba7e43547555e8b": {
     "views": []
    },
    "14974abed0834f0ab7b68cbcbdc9ff01": {
     "views": []
    },
    "14a1602195234d798560c528b4a0475f": {
     "views": []
    },
    "14a8929114e345bfb4d23b3883d3e28d": {
     "views": []
    },
    "14f839bf7b88446bac636e46dfa3e6ab": {
     "views": []
    },
    "15024c897ac94e91b0ea87e077aa1552": {
     "views": []
    },
    "15e2a43eebd6460c800dcb134907730f": {
     "views": []
    },
    "160733118a92457bb7c8758d2a03e214": {
     "views": []
    },
    "164f3b7ca7694089a7e7709b0ceaf887": {
     "views": []
    },
    "16a229d28c2a42efa6352c1dee1229cc": {
     "views": []
    },
    "16dcb0cf4eae479f98137f1cffc82998": {
     "views": []
    },
    "16f4a26a25714e10ba1b64223ec34039": {
     "views": []
    },
    "16f4e9e483c04c75969a1346d07d671a": {
     "views": []
    },
    "1797e9a7ef714de0893db0af94a90930": {
     "views": []
    },
    "17b43c99548a4621bf02a05ede590207": {
     "views": []
    },
    "17c88a9cbae943428f50ee6673a30e64": {
     "views": []
    },
    "1816cd0fc8584d4298d068137c24ab8a": {
     "views": []
    },
    "1830cb16dc604f4bb36d76de7b74a68f": {
     "views": []
    },
    "18ac1fb05cc144d28d0a8b70134d11b7": {
     "views": []
    },
    "191848bef74a49d3874af03e77e15545": {
     "views": []
    },
    "19837d596f7243de9763120c4e07d59a": {
     "views": []
    },
    "19a1a45d082f4bda80a16760cc88e173": {
     "views": []
    },
    "19ca7719cd8f4fa59d799b76258f2731": {
     "views": []
    },
    "1a116f0d768443009bc3aefa05060e6f": {
     "views": []
    },
    "1a79589afbe84caa9d015c60b43c65ff": {
     "views": []
    },
    "1a9fca2f4f754cc3bef2ef12d9e3fe6c": {
     "views": []
    },
    "1ae75eb4f9dc410981a55402542cd41a": {
     "views": []
    },
    "1b95214ad7f948f1bbae2f6a56a602f4": {
     "views": []
    },
    "1c507452163940b7ac164df0a8d39475": {
     "views": []
    },
    "1c7569a32f2d4255acea0fc5ebb048e0": {
     "views": []
    },
    "1c8ccfb12e2b46049b71b58d4e6fcdad": {
     "views": []
    },
    "1c992c8f5feb40078cd11a06ced1b3b3": {
     "views": []
    },
    "1ccd0e23d38843eb93add804a37ad01d": {
     "views": []
    },
    "1d30f995696d4ee0aafd6c4fca02f2dc": {
     "views": []
    },
    "1da38c5e1fc4487081bd3dbb1193202e": {
     "views": []
    },
    "1deaad7334034ff68486f55bd3f0b369": {
     "views": []
    },
    "1df176c09eae4896bce6612aab16c405": {
     "views": []
    },
    "1e43012c00f84525ad745e5ee20a879b": {
     "views": []
    },
    "1e4975e018ff4c0aa220c3487697b1ac": {
     "views": []
    },
    "1e59415ffea24517a736edc32b50cbe4": {
     "views": []
    },
    "1e8b099995d5417cb2130f5c5deadbf0": {
     "views": []
    },
    "1f1e1667a6094c669eb3fc3c09f474e3": {
     "views": []
    },
    "1f22711613ce4d7fbd28e24e0c47236a": {
     "views": []
    },
    "1f32b3ebc2894ab897383eef8e3629c8": {
     "views": []
    },
    "1f6ce582391a4bb2b4a75ae2317a2f51": {
     "views": []
    },
    "1fb295259762405cb30454d000e6e153": {
     "views": []
    },
    "20b9fb4e654842bca13b4c2aee80940b": {
     "views": []
    },
    "2119649ad71a4dcda9a18c709674fa9c": {
     "views": []
    },
    "216f11e43bcf4172979287b4ce84478a": {
     "views": []
    },
    "22506288a6f349338376fdb79118aaba": {
     "views": []
    },
    "227b2461c04845dca69863875268facf": {
     "views": []
    },
    "227decc98cdd4b7d83857c5bb1c574de": {
     "views": []
    },
    "22c3a69c28fb416b8c8f53d17de0c64c": {
     "views": []
    },
    "22c5ddf5c28b4d1a9086a3bdfb53714e": {
     "views": []
    },
    "22e2d486f0df423faa8bc6f70a2d266f": {
     "views": []
    },
    "22ff88802e1643d7b7bb03762f925ed7": {
     "views": []
    },
    "235916819f0c4698a3bd36b21dd9c235": {
     "views": []
    },
    "2368bfae35af474cb7001b6290090f2f": {
     "views": []
    },
    "238fa332fbe84d56837642a0563c8372": {
     "views": []
    },
    "240cdd17d44744fda6f01b900a5eecd4": {
     "views": []
    },
    "246d432755a2419fa4cc2d13b390d410": {
     "views": []
    },
    "250cb6151bfe4beab7fa886c9df30195": {
     "views": []
    },
    "25195fe21a7f4d6b87410d18e2f8663c": {
     "views": []
    },
    "254dd05a1aae4931b900ca7f92c69d90": {
     "views": []
    },
    "255beb64d8cd4f279b963aeffc7f4b54": {
     "views": []
    },
    "25ced442ee9c4df0bc1fd80826a06f27": {
     "views": []
    },
    "264008e07783429a91c72832b2ea80bc": {
     "views": []
    },
    "266af8dfa602447a81c7bf55b9312463": {
     "views": []
    },
    "267edf63e31e404ca8c202c1e90a9693": {
     "views": []
    },
    "26931fb0fe924eaeb7db06dd4c275dff": {
     "views": []
    },
    "26ead6ffe1d5445a94836e3d48781fca": {
     "views": []
    },
    "26eeeec60522451dbc43fd0fbf5e357c": {
     "views": []
    },
    "27530b6780614f64ae38f397718e379f": {
     "views": []
    },
    "275925389e474bb39f1854e822b47c37": {
     "views": []
    },
    "2772b8915e9348d1aa8a351e0a6c3791": {
     "views": []
    },
    "27891137725e4e3786a58d557e43ef3c": {
     "views": []
    },
    "27910ebeb92146a68c42bcdd5c14e437": {
     "views": []
    },
    "28aac5bf4834445fa5d8bf7a4810b437": {
     "views": []
    },
    "28d2cfd2e21940f7831cc43f477bf729": {
     "views": []
    },
    "2927917669e6455d97adfe10926eb1c2": {
     "views": []
    },
    "2999c5390b994e97906664e0c3228714": {
     "views": []
    },
    "299f78947a514097bd4941df61aca7ec": {
     "views": []
    },
    "29dcfac6c64443c19854a8804dc3f4a5": {
     "views": []
    },
    "2a2546eb5ee04270b46fcc08ca24f9f7": {
     "views": []
    },
    "2a497a11b7274be8ab7658f44d00418a": {
     "views": []
    },
    "2a4bf0e523fb4f92adfd74aa583aa275": {
     "views": []
    },
    "2a4f421a047847a4aa25e926ae7b4b49": {
     "views": []
    },
    "2a5f5e8d0901447389223da6249850f3": {
     "views": []
    },
    "2a7d365b1b4b4eaf91dbd0234a1ae8ba": {
     "views": []
    },
    "2ac71041a14d4c17868264c4888a97d5": {
     "views": []
    },
    "2b07fe1303b64fc6ad9e65c6eeaa77ca": {
     "views": []
    },
    "2b81ac66ce9644d5adf1cad9e100bf5a": {
     "views": []
    },
    "2b94e725449f4978858c4b396ca80018": {
     "views": []
    },
    "2bd1543b06224ac08ffe7d110e25b166": {
     "views": []
    },
    "2be69622f3e34bb5b9ef6e0660f8b244": {
     "views": []
    },
    "2be9ea9e11aa4b7e87942ee93b900f32": {
     "views": []
    },
    "2c092efb01b44b7a90782dbb3eddac8d": {
     "views": []
    },
    "2c944126f1dd4b6c85361b231550e094": {
     "views": []
    },
    "2cea527a221d445f925ec8c20e90b344": {
     "views": []
    },
    "2d169f98df55466ba68d97f176f1b8e6": {
     "views": []
    },
    "2d3847c660dd4c329b6e76c2663edf8a": {
     "views": []
    },
    "2d457a1249b64e6f858a1961823d0fe8": {
     "views": []
    },
    "2d4b79c53a0644cfbc34bf657779c771": {
     "views": []
    },
    "2d99fbc1ad0b4fa99623d49517a9df53": {
     "views": []
    },
    "2dbad03857c148faa9fcccbb13b95d48": {
     "views": []
    },
    "2e3bfb084dc141b4be88b3cb8741d8e0": {
     "views": []
    },
    "2e57b42cfb364b5cbeb8803f8ebb5857": {
     "views": []
    },
    "2e69c62982dd40609742ae4ee8840ae2": {
     "views": []
    },
    "2e7cc8cc206c419a9114ad3556349978": {
     "views": []
    },
    "2e9b188d805c4896af0c9203a5e22441": {
     "views": []
    },
    "2ebff18db2944f0f909912c1bcc1874c": {
     "views": []
    },
    "2ed944b25e874223824d88f388c0566b": {
     "views": []
    },
    "2ee476e2d2bd46648f7362940b1ad481": {
     "views": []
    },
    "2f44f074407b4ac7b3f40ddccd5094fe": {
     "views": []
    },
    "2f6f45d648674059a3cb86fb3d0f10d7": {
     "views": []
    },
    "2f7670a1e64e40448cee18526dea98bf": {
     "views": []
    },
    "2fc751228810425da13459abe451acb0": {
     "views": []
    },
    "301f7191c7de4e8ab4b407e7d0a36294": {
     "views": []
    },
    "30947b5b4499481499870ae1ff6ab020": {
     "views": []
    },
    "30a26b774d9f452993c0616ea4c8c626": {
     "views": []
    },
    "30b04a473caf40689dec2a14f74b7ff0": {
     "views": []
    },
    "30c7dbad937142e2b27ca4c63b7721c9": {
     "views": []
    },
    "30ea4312a3e2449ca908a30b25c6435f": {
     "views": []
    },
    "31214957f6124422a2a09f24afa72e13": {
     "views": []
    },
    "3129bbf4b4b64395bc495706a9cbd880": {
     "views": []
    },
    "316e43a304634dd5832c9e433de42945": {
     "views": []
    },
    "3187bddec5d34fecb1daf1c66902c557": {
     "views": []
    },
    "31a17827cbe64cc09fe5932b29a615d7": {
     "views": []
    },
    "31ba3d00e6a44129920333065ad26991": {
     "views": []
    },
    "31cbe8811a5749e895a8930ad067c8aa": {
     "views": []
    },
    "32407108b4db49618af0fc91f1d68783": {
     "views": []
    },
    "32649bd652ca4c53bf7679a99e708f32": {
     "views": []
    },
    "32cbba5251fc44cfa38b52f3b13c1450": {
     "views": []
    },
    "33294f43d87e4281b802cac182d3d7a8": {
     "views": []
    },
    "338135752a4f4626b1345c0c94d0e62c": {
     "views": []
    },
    "33ad4fef4ebb44d99d41c95d77bbcd58": {
     "views": []
    },
    "33ddebb7f6924e808fe9f2e063c0be30": {
     "views": []
    },
    "3433c430c8bd44b0b5ce7c431d7f7919": {
     "views": []
    },
    "34c1d3f27e564736a96d746620506f7f": {
     "views": []
    },
    "34e8961d30844fd3ab12a5474eb96b0f": {
     "views": []
    },
    "34ef7435c3fc4eaf87f7fcc73e184902": {
     "views": []
    },
    "3522eaed53e8427c86dbf5160edbcd1c": {
     "views": []
    },
    "354ad10ba8a444f48400ce0f4e482c29": {
     "views": []
    },
    "363139cb118c4e8a9286d8af99419ed3": {
     "views": []
    },
    "370ea141a7364a50b5e9b328c2e7c36c": {
     "views": []
    },
    "3716e327ccb94e10b959f8de4b8b1d6b": {
     "views": []
    },
    "37577f4d23ee466faf3b333edb87c8e1": {
     "views": []
    },
    "377261c638104075a80285b4c9ff8c3a": {
     "views": []
    },
    "37bd15fb66a84b609265fb197d1fb053": {
     "views": []
    },
    "3807d057389840208115139e66415b15": {
     "views": []
    },
    "38743d7856b04ea39822b9e83426e61d": {
     "views": []
    },
    "388ce45b75ed459a9c15348588149686": {
     "views": []
    },
    "389fc241703b470f938cf859a85c144d": {
     "views": []
    },
    "38bd94e503c4489db3ecf3403015744c": {
     "views": []
    },
    "397980c54feb4618837e54f829584a7b": {
     "views": []
    },
    "398f228254584aab84a1c350704decdf": {
     "views": []
    },
    "39c7bf10001e458dbb8e24c7da164d4a": {
     "views": []
    },
    "39d9e683f95c4de7831e5639604bedba": {
     "views": []
    },
    "3a2201dec30245c3997787a63b4eecc2": {
     "views": []
    },
    "3a591243077a4c96ae0383a1636d2286": {
     "views": []
    },
    "3a6cfeba14464e9ebf0cd7ea407e0c5e": {
     "views": []
    },
    "3a9aa85b34a445f798c03f042cc408ee": {
     "views": []
    },
    "3abbbf78f38749a084d06393ffc496cc": {
     "views": []
    },
    "3b04b202eeed41d3820f97d8d87fa59f": {
     "views": []
    },
    "3b4653d29ee4472ab0a58b88b433b67f": {
     "views": []
    },
    "3b47a518328c469db3aabab68fa235ad": {
     "views": []
    },
    "3b724d03d441467a82973aa1fdb53a38": {
     "views": []
    },
    "3c380fe3d31a4e2bb55e91d8f1469a90": {
     "views": []
    },
    "3c3eaf6fbbef4326b77cd6254c6b4139": {
     "views": []
    },
    "3d11ad4a7e574f8eb0844074edd11434": {
     "views": []
    },
    "3d774e6b3f6f424b9fee77726bceb755": {
     "views": []
    },
    "3d7f97ef5bbb4022acc96189192a2886": {
     "views": []
    },
    "3daed02af06044efbd631945fcf929e7": {
     "views": []
    },
    "3e46c232be4e4cfeb8c469b38bfc15a4": {
     "views": []
    },
    "3ea441faae9b43ddbb4ea79de4211811": {
     "views": []
    },
    "3eeda6464f294ac1a7a7348647d46e6a": {
     "views": []
    },
    "3ef384f483974852a641451b91f5b7ab": {
     "views": []
    },
    "3f1cec2386814e5eb2490b38dee1f77d": {
     "views": []
    },
    "3f3967b6f0fa4dc6bb4a17ad3d614a74": {
     "views": []
    },
    "3f92c3613efc460cbcc57ad527b4c7fc": {
     "views": []
    },
    "3fa6eff976b4422e82bc291a0e89ee82": {
     "views": []
    },
    "3faf097d358740f0aafb71bad04ba921": {
     "views": []
    },
    "3fbe9b4c160d47e3960e32bc9ed14faa": {
     "views": []
    },
    "401b69b69fb8487b9da8b4e93922648b": {
     "views": []
    },
    "40714b0dfd6b411f8e0764961d555a16": {
     "views": []
    },
    "40dd7841d286490c907657727fe4679a": {
     "views": []
    },
    "40edef43e3f14565be986110b8e59bf3": {
     "views": []
    },
    "411885c6563f4553927af634952a1f45": {
     "views": []
    },
    "413cb6a3b5854d6783b514fb146e1197": {
     "views": []
    },
    "414294a172994213b5ce7b1cb4898436": {
     "views": []
    },
    "4197276708c748f6bca3ffbd7645f2a9": {
     "views": []
    },
    "419a044affdb43dca0f2226ab36a20e9": {
     "views": []
    },
    "41b081f7f7944c62912970a129db2f1d": {
     "views": []
    },
    "41c69b1244f048458149901c4f491b44": {
     "views": []
    },
    "424e41bffbea447f93df44da05139002": {
     "views": []
    },
    "42cda6d4dab444fb8ee41dea59f98123": {
     "views": []
    },
    "4303bd5c3d364adfb147d43f34aba66e": {
     "views": []
    },
    "432d8f1d6dc84af18c889eb335fa2a8d": {
     "views": []
    },
    "434461aef239452e882282b461801933": {
     "views": []
    },
    "434ee17258204cd1ad5998f735e84aab": {
     "views": []
    },
    "4382ab8360434ee79cca5c05bb485512": {
     "views": []
    },
    "43ed9104879d4c75b43fda065073e46f": {
     "views": []
    },
    "4493d64ce2254f319fc0cd3b19494b37": {
     "views": []
    },
    "4495aef91b9145ca8ac7174d84400e9a": {
     "views": []
    },
    "44a4835cdf954ed4816790bee1d47e9c": {
     "views": []
    },
    "45447fdf4a9e4601bd03e4139d0ab2c2": {
     "views": []
    },
    "45e9aa8ed10c46fda14c88faa2c7bbf1": {
     "views": []
    },
    "46062ae7e7184131983d6f7879839b7e": {
     "views": []
    },
    "46075bded600459192f7f141d2529d31": {
     "views": []
    },
    "460ecac4aab048b89025ed603c306efa": {
     "views": []
    },
    "461ca53fbfcb456f876a3de4ed3b86d4": {
     "views": []
    },
    "4634a8fbcf514763911f16d480f6687d": {
     "views": []
    },
    "4671702be981493f80ca48144a1f0659": {
     "views": []
    },
    "4699f6f527b24aabb4cee176162e541a": {
     "views": []
    },
    "46c13f402c8c48ee866fc741f06195be": {
     "views": []
    },
    "46da72b5d5f349d09e694d0e82604bd3": {
     "views": []
    },
    "4741c6fd5f5749ba8a1b3c3e94451030": {
     "views": []
    },
    "47ed639cecec481b8bce627d3c2df58b": {
     "views": []
    },
    "47f6fbea0d64411586fb5ff389301144": {
     "views": []
    },
    "48415394659545c398b8620536d380dd": {
     "views": []
    },
    "484aef79a6bc4dd087b528ee32d28b94": {
     "views": []
    },
    "48588f208b7749d8ab73dd12428e2338": {
     "views": []
    },
    "48a205f526234a30a56268c91710e425": {
     "views": []
    },
    "4900526db5e94e0a8f124ed13552fe7a": {
     "views": []
    },
    "495e42496c3c4ae5b2e87f4a1a45afec": {
     "views": []
    },
    "4a10e0ff2e5e411abd4e4562ff355a68": {
     "views": []
    },
    "4a45fce9047b4c1da512ea66d520c775": {
     "views": []
    },
    "4a4d5861a73244dc85fd092d65e8bd58": {
     "views": []
    },
    "4a97a59b60aa494894f04f945dbf0d91": {
     "views": []
    },
    "4aa233e616d24af898ff0614067638c6": {
     "views": []
    },
    "4b44588f048c4d198d7ef59e38a05ac2": {
     "views": []
    },
    "4b4d7f5019fb4e49b3440bf960f00ccb": {
     "views": []
    },
    "4b5221507d834f5a9dee841f69fc4e0a": {
     "views": []
    },
    "4b9cc995731e43b69fbac0f01b84a6e3": {
     "views": []
    },
    "4c6a95d90ae441a2b83cc4583e248ad0": {
     "views": []
    },
    "4c97a5ffc444428891e9c0adf813f5bf": {
     "views": []
    },
    "4cc600784a5d4b22a2334a494e55674e": {
     "views": []
    },
    "4cd30a4ff90442539eb0a2f037b52c99": {
     "views": []
    },
    "4d020c12e6bd47eeb333d6bab6fcae18": {
     "views": []
    },
    "4d56fb2955b14d108fb5f7f16239fc64": {
     "views": []
    },
    "4d9e04965e604a86a9cffba5898a8ef0": {
     "views": []
    },
    "4da0279580be40338d7cda8afee700f1": {
     "views": []
    },
    "4db2fbe33f044332bc5a25839fb56ad9": {
     "views": []
    },
    "4db4ac5ed33a432a88a7979765ecea10": {
     "views": []
    },
    "4de17a4d570a48968e27e45a6dfd32a1": {
     "views": []
    },
    "4df1b1912f1a43bdbc906efc0af70fef": {
     "views": []
    },
    "4df2660d2512498c9de0c6debe8bea4a": {
     "views": []
    },
    "4e89726c37b44f91b42393e2c6dda8b1": {
     "views": []
    },
    "4e94fd3236424be8bebf0eee96c7b4ba": {
     "views": []
    },
    "4f6f03b6d7474194b6eca03858ca5f59": {
     "views": []
    },
    "4f709b5118f9464597f4d15f394c172d": {
     "views": []
    },
    "4f9114a837214e9c91e31fb542fca7e6": {
     "views": []
    },
    "5003aa8bdddd4d0eb0abccb511ff3b4e": {
     "views": []
    },
    "50331e9d14054d76a2d060ad5a3aeafd": {
     "views": []
    },
    "506f3ebb4aa24afb9d2bbaa80b194981": {
     "views": []
    },
    "5080662cc2ea4718b11c808f4d5a9b31": {
     "views": []
    },
    "509f2bb07f164d3f956ba42c1c942761": {
     "views": []
    },
    "50b28fc09b084becb0a49218f897d860": {
     "views": []
    },
    "50d04d8ebe924c5c8bfad1ec8c595400": {
     "views": []
    },
    "515265a86d5f4e44a736a964b99bbb40": {
     "views": []
    },
    "515d9dc34b874060a2e4adfc0bc0031a": {
     "views": []
    },
    "515fd135df114e2da9563cb7aefea70e": {
     "views": []
    },
    "51832e356c424cb58b84c26159aac1f2": {
     "views": []
    },
    "51aa79156824474eb37a1ec9afec8636": {
     "views": []
    },
    "51c68ab531164bf889f7c5869d139c17": {
     "views": []
    },
    "520c232a11854c879a915ff9a13faf6e": {
     "views": []
    },
    "520d83467862401bb1492a9997ee6bf7": {
     "views": []
    },
    "5242b8c9ef594f20a025e161fdd690c0": {
     "views": []
    },
    "52990bbc001345b2a1e0da0a3c097279": {
     "views": []
    },
    "52da0b92c99d45669944d15e5f71fb3f": {
     "views": []
    },
    "545fb7fe7bfb4a858879381fba91e472": {
     "views": []
    },
    "54659fffd8ca47c299a1e128f933f024": {
     "views": []
    },
    "546791f7129d46b2ab81994ff0da06a2": {
     "views": []
    },
    "5497fae151704bb08e34fa1ac1495926": {
     "views": []
    },
    "54e5e735c4184b3ebc7d67f2f0301479": {
     "views": []
    },
    "555911b2fdef4797b71e724a35e360be": {
     "views": []
    },
    "555c749df257431b8de3d903c9bdd0c6": {
     "views": []
    },
    "5564d0d6a4d84795a1e90c6d2860c565": {
     "views": []
    },
    "55bb23ff23bd431cb936e229e792ea14": {
     "views": []
    },
    "564636abef7d470a93de329145066c50": {
     "views": []
    },
    "56842541c3ad4710a49fd660456bf16b": {
     "views": []
    },
    "56d53103257b44d58beedc285c3779cc": {
     "views": []
    },
    "56e513a77d1940678961fafd712bf9cf": {
     "views": []
    },
    "56fb6c7932a046f389db1ecfb4d5edb3": {
     "views": []
    },
    "5780b4fa56e34082bca8cc506462cbba": {
     "views": []
    },
    "57cbeaf754a2497789011975a0950257": {
     "views": []
    },
    "57ce4cfce2db4048880bd2eb2d042429": {
     "views": []
    },
    "5838c911237d4830b7f7f22683038663": {
     "views": []
    },
    "5864d71c82bf479ab56a5ef24832c87e": {
     "views": []
    },
    "5870093702264c17b7da2cf0a7f1cc0b": {
     "views": []
    },
    "58d3aa6d25fa436a9b24ce260b78350e": {
     "views": []
    },
    "58f6099231d84363b02a92f38ffb7d2e": {
     "views": []
    },
    "596177f442d546e2be7a000f5db7e0bf": {
     "views": []
    },
    "59bf99090fd540869cd9d53df2005766": {
     "views": []
    },
    "5aa7353363b340cbbc2fef6879c7a562": {
     "views": []
    },
    "5ad29bb59eb14a1fba659e2480a416d8": {
     "views": []
    },
    "5af19bc44c944db6a4e1f68793fa19b2": {
     "views": []
    },
    "5b22ee1720454ee8bed797b4c63343a1": {
     "views": []
    },
    "5b5c94c05254425d9e20c09d15da326e": {
     "views": []
    },
    "5b9ec033e2f84cd48afb32e069d16230": {
     "views": []
    },
    "5bad36bdec734622a52882ba5691005b": {
     "views": []
    },
    "5bba82a49e4c460cb523fcf3ee497502": {
     "views": []
    },
    "5be221330f1241f38d4fc5aa8cf44e54": {
     "views": []
    },
    "5bec2e41ebf5426fb17a0618781e68ef": {
     "views": []
    },
    "5c66b5030a7343aa82a1fc119a3df977": {
     "views": []
    },
    "5cbe69ca731c47219e283a330f420f26": {
     "views": []
    },
    "5ce1a70bc0a14b8a8400a3e0e31e92f1": {
     "views": []
    },
    "5d1b02e3fe34409b8981a6817762430e": {
     "views": []
    },
    "5d3487c3969c4974ab66657dab703284": {
     "views": []
    },
    "5d3cf4d45cff46e6b112ce5dd4182de2": {
     "views": []
    },
    "5d4f8b77de0d48b3939827d11a4b10d5": {
     "views": []
    },
    "5dcba59a2726481db879198db2a1d3fe": {
     "views": []
    },
    "5dd453e64d1a4c6eba0e461ea78564eb": {
     "views": []
    },
    "5df7b3c0396246ce8ae9c7345054d1f9": {
     "views": []
    },
    "5e1e4160b30d4bbc881b52afcf1ba11e": {
     "views": []
    },
    "5e29b6c779d046fe93541765d0f747d3": {
     "views": []
    },
    "5e8c80493fde44b3bcc8c14f48a2d2a0": {
     "views": []
    },
    "5ee56c0c876f48b8a4ef4b558ae30c2a": {
     "views": []
    },
    "5f1ffa46c27f4219a7bfbe1161974e73": {
     "views": []
    },
    "5f4435a41fe941168a776e710ea43401": {
     "views": []
    },
    "5f4c4758946f4e52bfc2e8487468cfea": {
     "views": []
    },
    "5f94bed5a1494512aac018fb36b43aad": {
     "views": []
    },
    "5fa9da333a014b08a230ebc695e8ea61": {
     "views": []
    },
    "5fe10d09d754434195ad16a51c5313e0": {
     "views": []
    },
    "601549d8bd5141699ee1f325dfb21d2d": {
     "views": []
    },
    "609978d83ffa450fb89bdec3a7464aed": {
     "views": []
    },
    "61347397289844f18c1467928d7adc63": {
     "views": []
    },
    "614d6f8c5edd4882807253aaaf4461cc": {
     "views": []
    },
    "61cb737d5fe6442b875982eecc405a68": {
     "views": []
    },
    "620b32472b014122b6da8d7528b627ea": {
     "views": []
    },
    "621971e4476e4c2ea0f85858d7bc8e1c": {
     "views": []
    },
    "621bac2585024bb68fd34384cfa049f3": {
     "views": []
    },
    "6221c158715e42f1aa349ab98bd86934": {
     "views": []
    },
    "622ce6aabf5b4d50b2fc57fa6ba3341b": {
     "views": []
    },
    "6253d9a26ce847029044b42f069b1d2f": {
     "views": []
    },
    "6292e8a1a26b4efcba7aab4ea8f42443": {
     "views": []
    },
    "631f170557a7440bb833955b16e5dae1": {
     "views": []
    },
    "631f73074c9c4cfc93f034373fabe1a0": {
     "views": []
    },
    "63c1ba0f866c42f69f459846de329974": {
     "views": []
    },
    "63d9e5040f6e4245a89ebb509879dc13": {
     "views": []
    },
    "6420f0378c3d44a580c103eff985800a": {
     "views": []
    },
    "647eb00775c6495f9dabb87170d0cdda": {
     "views": []
    },
    "64c7756a44544c1db2138dcee6e4599e": {
     "views": []
    },
    "64c7fcf161034721b0c2690270e9b98f": {
     "views": []
    },
    "64dcd96792384e87b7ade354c83307d4": {
     "views": []
    },
    "6502d505be1a4bc185abb932fb6cc5e0": {
     "views": []
    },
    "651454abab6a4856827589be7da559ae": {
     "views": []
    },
    "65166f679f814a4bb45a32c9d0588730": {
     "views": []
    },
    "661e15cc96404d578d86eff968740ea2": {
     "views": []
    },
    "6636f921021a44abb3802684890cdf65": {
     "views": []
    },
    "669e2912224d45e3b5bdc1825cc20d40": {
     "views": []
    },
    "66f7d4217a4447c9832ab3c75c51b7c1": {
     "views": []
    },
    "6723ccbcd5cd4dc08ed7af9b82f2b50c": {
     "views": []
    },
    "67609695262849b0958ff8b987a298f6": {
     "views": []
    },
    "67713d12f0c84e8d9cf65672eee1fcd7": {
     "views": []
    },
    "67b428c8e56647038f93ead3eeee35c7": {
     "views": []
    },
    "67fbc7a7e1f94301941b160c4acb830e": {
     "views": []
    },
    "6876a0f1387e4ba2a69f8f16279c73b3": {
     "views": []
    },
    "68e2bd9895fd4d8eb690d709af1388c5": {
     "views": []
    },
    "69a7e86b040a4a5b80ac5ac44d2f843c": {
     "views": []
    },
    "69d7efd2388448b68dc79bf15849bf38": {
     "views": []
    },
    "6a23e8dcd3614182bc1cb881cc1b5e0a": {
     "views": []
    },
    "6acc075975a947aba1ad3838e9e7447c": {
     "views": []
    },
    "6b0af3a091ab4c4ab2cd91afbec64482": {
     "views": []
    },
    "6b69aebcb1f54e228a30c6f5e9b015b3": {
     "views": []
    },
    "6ba8831548d94c22b9ff05ffc2bc6efc": {
     "views": []
    },
    "6beb7aff366b4f26aa6f90ec53583c98": {
     "views": []
    },
    "6c1a5d6105314b67a142e477960c94de": {
     "views": []
    },
    "6c2c61738bcb4f95a2c89df9df63f36a": {
     "views": []
    },
    "6c48d0166c484e3fae730014328ccbe5": {
     "views": []
    },
    "6c927e8570ca4eb89d9de9c585f54d93": {
     "views": []
    },
    "6c9520a57e934b51a8683b9d31322abd": {
     "views": []
    },
    "6cf3e85e8b864442a457024171de9439": {
     "views": []
    },
    "6d2e850ff0b141adb9eaf3c89647959b": {
     "views": []
    },
    "6d5b7f70cdb54f01b019118a21adb274": {
     "views": []
    },
    "6d8f9eba5fb34d09bbce812a6d4d6d0e": {
     "views": []
    },
    "6d996a747dad47f59f74c4a6bbfc7011": {
     "views": []
    },
    "6dd0c1f3657645f3a6958624705bb380": {
     "views": []
    },
    "6e110ebecaf546f3aec9af029a884a91": {
     "views": []
    },
    "6e4100bb7cfc4b229820cd478eb15522": {
     "views": []
    },
    "6e8394e53fac4e85896eba8ff5293036": {
     "views": []
    },
    "6e89a1095d794b8aab9dfef41cf4d3ba": {
     "views": []
    },
    "6edca0600abb4e4fae02959685d53e40": {
     "views": []
    },
    "6f3c2ac5623a436280509827677b7728": {
     "views": []
    },
    "6f3e40ebece54cc480ac3c3aa16ed2c1": {
     "views": []
    },
    "6f47745199104ed8aae7a99cb25fa13a": {
     "views": []
    },
    "6f4ea8c34dd440ca99c0c1085c6d0e89": {
     "views": []
    },
    "6f752ba3357445a1bb3978f41d56be29": {
     "views": []
    },
    "6f7641243f734e01ac6b2cab9d537bff": {
     "views": []
    },
    "6fd9dbf096d94e55b1c9ce13d661faa2": {
     "views": []
    },
    "7012ec444ee34d66a207bee865a39585": {
     "views": []
    },
    "70455df39e634c2f974313ce455d1ff8": {
     "views": []
    },
    "704a677dbb3c4dd6a12c1842037072e8": {
     "views": []
    },
    "705a1e8eb9db466184f4e2ba171e0abf": {
     "views": []
    },
    "7075ee6bcfd04c4cb4e0c7e85574a6e5": {
     "views": []
    },
    "70bb4a8db87d40028abb2617176057a1": {
     "views": []
    },
    "70e86b97c9c54c068231dcb98d0407bd": {
     "views": []
    },
    "70f6596096064833a29c473ac548753e": {
     "views": []
    },
    "710ce9cdcd2c488bbad08f536983fcf0": {
     "views": []
    },
    "71e730238bbf4b95b1aaf89ff9103c95": {
     "views": []
    },
    "72143cea9dcd4e5c905e98fe322ebf0b": {
     "views": []
    },
    "7272bc28bc614e8382c6b092b54d7f71": {
     "views": []
    },
    "72946265a48540258f2fd2eef55146f7": {
     "views": []
    },
    "73080bbc7301405eb31ef5c67b6a7ea0": {
     "views": []
    },
    "73318acd44f349d6b00e939eca7e522b": {
     "views": []
    },
    "73646195e280446fa962747147b69964": {
     "views": []
    },
    "739bb92ad4f34d1e94018952f295d59f": {
     "views": []
    },
    "74078c1c89854dada54e20e2b92d1993": {
     "views": []
    },
    "74122ecaa7bc40df9c569ee3d3b59b36": {
     "views": []
    },
    "7424285a7322486d8cd33bb011d60b27": {
     "views": []
    },
    "74bc374c117a45d4b679ac6d52fa0d52": {
     "views": []
    },
    "74e1df6f9c554fd0aa8d85bf55de3d58": {
     "views": []
    },
    "752171f185ed47f5b9f542889cba58c9": {
     "views": []
    },
    "753f72da84ee4685bd9050d6c11f2dbe": {
     "views": []
    },
    "75781098f3874b418802f099a77115b2": {
     "views": []
    },
    "75cc14ffbed747e68c88b46b80c5536a": {
     "views": []
    },
    "75cd8178eafe45d28711a3c5944c0ebf": {
     "views": []
    },
    "75da2d6be2154d1792e4017886e78f19": {
     "views": []
    },
    "75f0c79e85dd4c23bc27f48bdfdad229": {
     "views": []
    },
    "75f97c57267c4295b70bfd0e85aea71e": {
     "views": []
    },
    "76230b47501f4267a010cbcd23835bc8": {
     "views": []
    },
    "7627fe9f969e457388692ba21f7d0395": {
     "views": []
    },
    "7628310a3c9b4950a55606cb91934782": {
     "views": []
    },
    "7631780e1090496f82784f5e94b06ee1": {
     "views": []
    },
    "7657ddbc33144b41b5a96c7d5e1a8f47": {
     "views": []
    },
    "76bb8e60bc164c8e81a31173d42a4758": {
     "views": []
    },
    "772e71b4722b458cbb28b89ef81e2f16": {
     "views": []
    },
    "77954e615e4e4f4aa5d7952fd489f8f0": {
     "views": []
    },
    "7795d30fe90b4ced95afb9e2e1cbd424": {
     "views": []
    },
    "77f421bcf9644f9f9da2e444f1ec5712": {
     "views": []
    },
    "780aab83bee84aa0acc2f4a6d6dfcf27": {
     "views": []
    },
    "78bb51f015d8487193bfffe9c551e392": {
     "views": []
    },
    "78e25b376fac4e718ed25e410105755e": {
     "views": []
    },
    "78ff8fdcc838422284538c672f46e014": {
     "views": []
    },
    "79006ffd9b1e48b098a73aa324b09e13": {
     "views": []
    },
    "79ef73d991fc4050a66fb9715194d14b": {
     "views": []
    },
    "7a002a78fb16433ebee0c7e567a2ad4c": {
     "views": []
    },
    "7a0c741642f54285a775590fd637b1fd": {
     "views": []
    },
    "7a3a964f1fdb48938110f35472f7ae0a": {
     "views": []
    },
    "7a8d339d4b4845bf9aefa945f92670e8": {
     "views": []
    },
    "7aa2f91b22aa40be8816448362e0d9b6": {
     "views": []
    },
    "7ae495cab254485ea0e8b70c9f54f8b1": {
     "views": []
    },
    "7b04f471a1c843f39a6d6e6a62a34fa1": {
     "views": []
    },
    "7bce7acc9fde48a68adc1d9232352895": {
     "views": []
    },
    "7c5a26d95a2a45cb816dd8d7f72abe81": {
     "views": []
    },
    "7caed7d76a204d99962b5fddd8f26d77": {
     "views": []
    },
    "7d018d168566444f9a57d4d7ec980d7a": {
     "views": []
    },
    "7d442ad60bdc4d1c91c204e6744d4ba0": {
     "views": []
    },
    "7d74c1427da04fd0935be2021855ece4": {
     "views": []
    },
    "7d8cad14237e4cf69fecc177d89b0e94": {
     "views": []
    },
    "7d8cd640f44049a5a43971f75f1fc662": {
     "views": []
    },
    "7e2acdb1d7a24d4e81b9a40abfc81bc0": {
     "views": []
    },
    "7e2bde73800749cbab8079dccf5cb3c6": {
     "views": []
    },
    "7eb01dbe47e94d5f915dc708f41b670b": {
     "views": []
    },
    "7f7c8812112c42c3aedf9842f03e75fd": {
     "views": []
    },
    "7f989e00a3574eed9699d96797780236": {
     "views": []
    },
    "7fa938d1b9a64d52bb5a3893c27e88a7": {
     "views": []
    },
    "7fec4916632a429ba11ee2f4a2ae387d": {
     "views": []
    },
    "802225da40f04c159d24bc53e66cce77": {
     "views": []
    },
    "806eed32589a4c918b04e2d8f7265e64": {
     "views": []
    },
    "80dbb9d2d4f2485d858bb5f1a983aba6": {
     "views": []
    },
    "80e026d49d9b493bb06f10d44217cee8": {
     "views": []
    },
    "80e8eb7254574c3b9cd182b5b2314625": {
     "views": []
    },
    "8144f069dfdd45088f928bf90a8df808": {
     "views": []
    },
    "81c7f831e7694c8cb8e268c0b7563c6d": {
     "views": []
    },
    "8293d61ccb6442bda01bd718ffde884d": {
     "views": []
    },
    "83139c90a3be4c03b31a3bfcaf9ea99f": {
     "views": []
    },
    "832642b6831f4776bfc4a3e51404385e": {
     "views": []
    },
    "83363bc1c05a4f098eb50cf7ea3c1abc": {
     "views": []
    },
    "837c1c43a14248baa81f682acf8be218": {
     "views": []
    },
    "83c3a349679348068e64702b85092ea0": {
     "views": []
    },
    "83d4df40b6b043feb6b9bdcdf68c4f8b": {
     "views": []
    },
    "83d721b18cad4ab39a247a2ab298d459": {
     "views": []
    },
    "83f687ecdd244164b12fc308074780be": {
     "views": []
    },
    "83fa718084b34caf8b26828163b54bd2": {
     "views": []
    },
    "84168d1c6a1b4ab7bfef7e13e17cf114": {
     "views": []
    },
    "841f93aa843d4586a593ab699266d14f": {
     "views": []
    },
    "846767f1d2c34a43b9a984e004a5b96e": {
     "views": []
    },
    "84d7c6f6c499469c8a4d4aecfe692219": {
     "views": []
    },
    "84ea799b12b6408dabf0706335e5d321": {
     "views": []
    },
    "8523e75a997a4aa5afb272e6d6e57f0f": {
     "views": []
    },
    "8570264ceee84a42b0b5219d18778cc6": {
     "views": []
    },
    "85ba33931c17483caf483c90ba631450": {
     "views": []
    },
    "860650ac792d4b3ea7e2df0e5405f745": {
     "views": []
    },
    "860f4241925d4ebeb81c3505d9c0f95a": {
     "views": []
    },
    "8639c70f0bb14eac8f9cd30877ef5ba8": {
     "views": []
    },
    "877b52a674764ce8be1c274910eb7733": {
     "views": []
    },
    "87b5ddb24f9d4dd0b2f9b8de1ea5769f": {
     "views": []
    },
    "8842136add0646f3ab84b8afea315b39": {
     "views": []
    },
    "887504a1500648f4aa555b915ad96835": {
     "views": []
    },
    "88baade66f664e169f7c4938f299172d": {
     "views": []
    },
    "89f05ba300244fb8a0df812791f2c9b7": {
     "views": []
    },
    "8a0bb22987ba4165bcec944420ec995d": {
     "views": []
    },
    "8a68705f35714eb0a71abb286a67f2b8": {
     "views": []
    },
    "8aa867548a7d42c5b26f5124079f17c8": {
     "views": []
    },
    "8b21a910039e4c88b262bb75e5ce44af": {
     "views": []
    },
    "8ba18db526464928bbed417d159fd7ea": {
     "views": []
    },
    "8bdeb7aaf9b34818b62ab2ed1c029d3a": {
     "views": []
    },
    "8c2cdd373af3412eb22407deeb8089e6": {
     "views": []
    },
    "8da0de583b9d4dddb17742f3c5809823": {
     "views": []
    },
    "8deb997381424a549734fd800e8616fd": {
     "views": []
    },
    "8e107e80004146fe9e9080c055543bfc": {
     "views": []
    },
    "8e52599f8b2042be82be09de96aaf97f": {
     "views": []
    },
    "8e645e17957f4f71979aa4d5df1acf79": {
     "views": []
    },
    "8f4d90546d004c958582134abaf8e5b2": {
     "views": []
    },
    "8f7891fa3655442fac27115c9805c83e": {
     "views": []
    },
    "8f9a58f8b9494778839ec9740961eba8": {
     "views": []
    },
    "8faaf63c283a45998e8c8f6673f314a2": {
     "views": []
    },
    "8fb8b0d0fee144ab9d63a99bf20fb520": {
     "views": []
    },
    "8feab8dcf86f40a9bc2d509497c4e327": {
     "views": []
    },
    "8ff0f7cd684e4c8bbaa39771291256e7": {
     "views": []
    },
    "8ff1017fd2a04f5aae46322cbc7a5103": {
     "views": []
    },
    "8ffb746ad67948a39814b898778bfecc": {
     "views": []
    },
    "90155f76a404460186c33b8aadccc9fb": {
     "views": []
    },
    "90304afec1cb4374a829b0bde0bb2dad": {
     "views": []
    },
    "905b6e0a51434c6a953be9dd80f405d7": {
     "views": []
    },
    "90731e04e6e24582b815b1e41cfbdf79": {
     "views": []
    },
    "907d6cd1e56e4d49963c1e401272243b": {
     "views": []
    },
    "9094c9be8daf4814938466b9f0375964": {
     "views": []
    },
    "90957b160feb4328af77f5a95af69fa7": {
     "views": []
    },
    "90e8f13854954a7c9f710fad913e1271": {
     "views": []
    },
    "90e9be1a8bc54f79a654e126863bde6f": {
     "views": []
    },
    "912bb003484a459e9594c0a302f09adb": {
     "views": []
    },
    "915b3ae87a6a40d49a0513cd8715aa6d": {
     "views": []
    },
    "9226942b2db84f468e5b0bb1e00e6ce7": {
     "views": []
    },
    "925c7053977e40e997073037e6a1e625": {
     "views": []
    },
    "92e3520892fb4f299451248c6b5ada0d": {
     "views": []
    },
    "92f1dac93001461da95b175a40b1cf2b": {
     "views": []
    },
    "93251e8bab5f411facb7803bcaa5e7b3": {
     "views": []
    },
    "939ca1a0a00f47448727142693968a8f": {
     "views": []
    },
    "93a40e8e99264724b76feb355440bbc5": {
     "views": []
    },
    "93b83e58c2e349f68ccf2dba5b370606": {
     "views": []
    },
    "93eea32480184844967353773293ce37": {
     "views": []
    },
    "94298758a3ef481c914aff32b9c097a5": {
     "views": []
    },
    "943088a8215340c5afe5d0e3253d0834": {
     "views": []
    },
    "9432305cee874ae9ba20551ab71d99be": {
     "views": []
    },
    "9475ea37bdf04c048a6b32ee0ca8cb1d": {
     "views": []
    },
    "948bfb61d723478a974e4db83c9d1f76": {
     "views": []
    },
    "9495667eff6e48ff9f76110d8fb90818": {
     "views": []
    },
    "94d426124ddf4caa9e44ab69c904cedc": {
     "views": []
    },
    "9501decf8cc74a18b7a376658c5d95b3": {
     "views": []
    },
    "9509aabeeecb49c0a1af71a28250a046": {
     "views": []
    },
    "95215b393f804fd6be7e18d7305e7e91": {
     "views": []
    },
    "95672006cac4448d97d90e6e596dc2c2": {
     "views": []
    },
    "95d573ca96634c888f5cdac781b05bec": {
     "views": []
    },
    "95d58862613c49d7a2dc25f7db3ac154": {
     "views": []
    },
    "96608aa534e84cf6a582bb0626725874": {
     "views": []
    },
    "966d3d1250ce420f9a6eefdb837b271d": {
     "views": []
    },
    "973239fab006417faaf5102126e1902b": {
     "views": []
    },
    "97422b56f4fc44cfb666f0aa033b96eb": {
     "views": []
    },
    "97ba2d460b6043a98c122cb615f8da6e": {
     "views": []
    },
    "9801ee94eca64725b956299c6538d535": {
     "views": []
    },
    "988f7f38f3ff4409befc28c631182c24": {
     "views": []
    },
    "98c4d10298e145b0849280ca80bb3c7a": {
     "views": []
    },
    "997e366a9b89465592ce5e4deed19130": {
     "views": []
    },
    "99a252aca52547f2a32c5e1925e382d1": {
     "views": []
    },
    "99ddb5e68141425b8e16053d052508ee": {
     "views": []
    },
    "9ab67d4245f0427a80037258e7a954bf": {
     "views": []
    },
    "9ae5d99c1ec14db495fe49728787e53f": {
     "views": []
    },
    "9aea032af08e4719b236ac6e648c013a": {
     "views": []
    },
    "9af6c8531f674d848fe6563cd960b66b": {
     "views": []
    },
    "9afd4e4b98904ac890994a5349c46fb0": {
     "views": []
    },
    "9b767ddb8d6d4631bd7ab6bc496e0bbe": {
     "views": []
    },
    "9b93fb6206c041e6aff713b81faca443": {
     "views": []
    },
    "9ba3c6ca98334671b60a3526eee881b4": {
     "views": []
    },
    "9bb787bf0f72441196c60a904841d1d9": {
     "views": []
    },
    "9be7e6d9125f45aa853d404ec090755d": {
     "views": []
    },
    "9c2ddf6617af4b69a375cbbeb5771eb5": {
     "views": []
    },
    "9c3dba1eac5944e2ab174d32813ec97c": {
     "views": []
    },
    "9c5846195b3446f99bd6c4c37f4cb726": {
     "views": []
    },
    "9c7123c25d064fe1b3d45f5ceaa80721": {
     "views": []
    },
    "9d4044e8d4d64bf0a69c88b49a96d9e9": {
     "views": []
    },
    "9d89114be6be494998a0ba3abe9bcff7": {
     "views": []
    },
    "9d93c607b97d4067a6e381316c11dbcd": {
     "views": []
    },
    "9dae286e573c4ffdbb9c00ef3642b4d2": {
     "views": []
    },
    "9df1dd2528c64f35865340f4f8435637": {
     "views": []
    },
    "9e445e5bb4b44c40adc77a5900e170ad": {
     "views": []
    },
    "9f12fa0ffb4448df9cd55c4e0f77d72f": {
     "views": []
    },
    "9f5ecfcbd1b749e291cde5ab4731b701": {
     "views": []
    },
    "9fc4f7329c9b406ebe6e95ef925f2f9d": {
     "views": []
    },
    "a03cfdb5cfe445f6815e4e8e32857514": {
     "views": []
    },
    "a04fc73832424cce97ad8a62cbbcc7ea": {
     "views": []
    },
    "a072c3b3eca4471cb8fde2925aab1018": {
     "views": []
    },
    "a0888a0ec912480f960dde74121bb1b6": {
     "views": []
    },
    "a0ae1a0cab7a485a9d10ab35d6058eb1": {
     "views": []
    },
    "a0cba07d9b6847d88c556a1253033d78": {
     "views": []
    },
    "a13cc5ab750045288554db887661625f": {
     "views": []
    },
    "a149d2ecf63a4f21b54a3196117cfd1d": {
     "views": []
    },
    "a1a24b7abb624fc991b07b660d15dae4": {
     "views": []
    },
    "a1c56756c1434b18b2e8d27375f36d05": {
     "views": []
    },
    "a1d6e61765df4613ba60404c55ec39f4": {
     "views": []
    },
    "a251ad48fd4d4b9d919b5786dc7b62df": {
     "views": []
    },
    "a25244cab8b6460188bb53f7bbf41488": {
     "views": []
    },
    "a2bed85401bd41639c7294fbd7faa9ae": {
     "views": []
    },
    "a2d22eed849140569bcea868eeb1eea9": {
     "views": []
    },
    "a2ea4b75a9b049c7a6f56ea4faa2c2a7": {
     "views": []
    },
    "a360951938bb44b28e28d6b46f2b1d8d": {
     "views": []
    },
    "a3784a32ff6046caa11202dbe8801153": {
     "views": []
    },
    "a3c05f86b2be498a87fd980ac8ffae3b": {
     "views": []
    },
    "a3ce1cf9273a49e1a31f2b3e1ad4d466": {
     "views": []
    },
    "a43a0a8417f7494682a5893b6621ab60": {
     "views": []
    },
    "a44eb99c1e58418aab3e292b44bf9a52": {
     "views": []
    },
    "a4749f6e309e414f8675976f2a7a72b7": {
     "views": []
    },
    "a5103e2374d549498c1a178c99486f5e": {
     "views": []
    },
    "a60d7ea2b8e442dda07b18e254d8041e": {
     "views": []
    },
    "a6818c865297435bab0c4f0e27554a9f": {
     "views": []
    },
    "a6fb49b7e4544e728b5a5c28de58e18c": {
     "views": []
    },
    "a7504725121f4401bcb5def4e2907438": {
     "views": []
    },
    "a7952e941c094a9296becedd703f9f20": {
     "views": []
    },
    "a7a8941caa644b16b2ab653b445017ba": {
     "views": []
    },
    "a7b14f77681649629cd1bff2784efb7c": {
     "views": []
    },
    "a7bbe34c52744c319e2c489160e9ad58": {
     "views": []
    },
    "a80ada8c840342b6bf197ef7c3fb08c5": {
     "views": []
    },
    "a854218032254c4ab4c0a28f02abeb9e": {
     "views": []
    },
    "a85e08cdc1ba4c709e3b5163d4bb0e3c": {
     "views": []
    },
    "a90671b3edc445deb136ca26a4af560a": {
     "views": []
    },
    "a9ae3abd005c4cc4971244150e1853e8": {
     "views": []
    },
    "a9b81f7b40ae4559abdd6852f267fbce": {
     "views": []
    },
    "a9e4a89260df40b89a1a6eaaa1d49992": {
     "views": []
    },
    "aa4154d2fad04b46b69951cbaa55b620": {
     "views": []
    },
    "aa6c1be84c434566a8e272355e2b8bfe": {
     "views": []
    },
    "aaa08cf3835242c4958945663eefe191": {
     "views": []
    },
    "aabb22928ecd4402bcd933fbc3172466": {
     "views": []
    },
    "aabcb9c00f2641ab91e249c8e8ac1122": {
     "views": []
    },
    "aadee04e8c4c4d9aa791b9e00ee67c1c": {
     "views": []
    },
    "ab2ad56d84b142a3836c0e2555378778": {
     "views": []
    },
    "ab46dccf494b40cbbd1f76a24b875c43": {
     "views": []
    },
    "ab85e5977cc04a50acb23935a1a949b5": {
     "views": []
    },
    "ac05e9a313d64682a9252cbb866eb3b2": {
     "views": []
    },
    "ac22c7a64aa743f0bd0ca78eb2354e63": {
     "views": []
    },
    "ac356cfaad574a96926cb6a613b98eaa": {
     "views": []
    },
    "ac66b39c385642748699c0b6b3d661a7": {
     "views": []
    },
    "ac9cdbdbd0d24afea8405a397291063b": {
     "views": []
    },
    "acf971cabf25439aa194bb2947ed4ad7": {
     "views": []
    },
    "ad3966470f6f4a759eb88488b32f558b": {
     "views": []
    },
    "adcccaf0c6934e4793047b209fe27eaf": {
     "views": []
    },
    "add4fbfb6e704e91aea8c90ef49f8adb": {
     "views": []
    },
    "aea3ca52e9c84fce8ef1473f6c2dc5aa": {
     "views": []
    },
    "aeaa45984f87400db744985ed437c69f": {
     "views": []
    },
    "aeae73d0c24a44e0b46d9ae265af2d53": {
     "views": []
    },
    "aeccaba6987a4f44b693646fa0e7b40f": {
     "views": []
    },
    "af1e53dd6f4049a18bd1cff7798ef543": {
     "views": []
    },
    "afd59f796fa14aada6a4fa1570c00bed": {
     "views": []
    },
    "b01de23531c249a1950f2be78e3a11ce": {
     "views": []
    },
    "b08169f3235c4d27b00e31ff175d415a": {
     "views": []
    },
    "b094c897f76f4174becb88c256543708": {
     "views": []
    },
    "b0b44e148d344ecea5cc0c68a4024cfd": {
     "views": []
    },
    "b0c65ecfc5e64885bb6250137a1994c8": {
     "views": []
    },
    "b0db6bf2cbdb4a05a6561a314b11148f": {
     "views": []
    },
    "b0de1b7362a24369a2e29bc8676f9f2c": {
     "views": []
    },
    "b0eca59c72a441cfbb63fc8242e486be": {
     "views": []
    },
    "b1a70deabfc44ce09c8d1cbe18655d30": {
     "views": []
    },
    "b1abde824c4c42bf9906e0175e9b33a9": {
     "views": []
    },
    "b1fa0826a627476aa4b7a7745419c610": {
     "views": []
    },
    "b248ed4760674514b96468e86ef23521": {
     "views": []
    },
    "b254bbb4ab0b4a80a83e3ca6aa0e7a6c": {
     "views": []
    },
    "b292a58374e24e98a0342ebd23d65349": {
     "views": []
    },
    "b2ad8f6870be434a8b550667f18bd415": {
     "views": []
    },
    "b2f374750d2d4224b5e8c1188bfd39fc": {
     "views": []
    },
    "b3934f7e991044c6825d72a6d6664602": {
     "views": []
    },
    "b3c04e8b90fb4bd0820482e5a473c001": {
     "views": []
    },
    "b3e154e50695421ea30d9dd6112abd05": {
     "views": []
    },
    "b45a79fe63a64e61a5444b37ae0a2c1c": {
     "views": []
    },
    "b49907cdc46f4e09aa3cc345ae28cad2": {
     "views": []
    },
    "b4a064a7c7d649e584856d68664cdcef": {
     "views": []
    },
    "b4f0a14fcf7b461a9aa95ccd37205b7c": {
     "views": []
    },
    "b51401c3358347829a3557773dd215cb": {
     "views": []
    },
    "b53e55df92304bdd8f781a4747ef3deb": {
     "views": []
    },
    "b56cf0c3f9c8495c9e68e28f7f2fbe7d": {
     "views": []
    },
    "b6123352c8d047edb1573296d0766c5c": {
     "views": []
    },
    "b61a1177774c4947bc029ad47761e6a9": {
     "views": []
    },
    "b63608182a2a4f8c8c9739917944d2e2": {
     "views": []
    },
    "b6680ca8f40d4070ac3fe8a008913f6a": {
     "views": []
    },
    "b67a06f601ef4bc3b4ecb28daa809b97": {
     "views": []
    },
    "b67c55ebfdd74c999afc0a3d8137c858": {
     "views": []
    },
    "b6ec838e33cf475985693ce6251b784c": {
     "views": []
    },
    "b7010c319ab547e8b1e4922c4421f778": {
     "views": []
    },
    "b76bdff9e5d94931aab88687df94d972": {
     "views": []
    },
    "b7900a0fcc024cf89001d6eeadb1f011": {
     "views": []
    },
    "b7b62b70f3ae4d789128dfac69b11a84": {
     "views": []
    },
    "b7dc6190a12e455494a433b2be192bad": {
     "views": []
    },
    "b7e0951d4d83480db9d91c37f57ea832": {
     "views": []
    },
    "b7edc152a4634db591b279a5ebed625a": {
     "views": []
    },
    "b80abde0307a41aab98b068cb77b991d": {
     "views": []
    },
    "b8345e7b619e4337a7536632e99659d4": {
     "views": []
    },
    "b83b3bb0f23a4b7bb4d50c155b0c047d": {
     "views": []
    },
    "b8600abbbc254e34af61c7c51fb7e31d": {
     "views": []
    },
    "b86113f0ac0a4f839dfaa07e4d56dca4": {
     "views": []
    },
    "b87c97afbfcf4daeb8800e122bb7de24": {
     "views": []
    },
    "b90e13edb5eb4962a2afe12c6c421b17": {
     "views": []
    },
    "b93fc09a6c6c4e39893e76970eeb15c6": {
     "views": []
    },
    "b9465ad42cd74bf8ba64dcc0259abd2f": {
     "views": []
    },
    "b971ebb545f04888a0ac35a5bde3239b": {
     "views": []
    },
    "b9733923b6a04d37b7e117d3a7ee3567": {
     "views": []
    },
    "b9a89b6c6a5840fe808911b100209751": {
     "views": []
    },
    "b9b6f81b53734d398fcbcc28fb382074": {
     "views": []
    },
    "b9c004565d5642d3bde860ea164f8620": {
     "views": []
    },
    "b9e614c56fb04c3f897f3f9001267c12": {
     "views": []
    },
    "b9eed0d0196046d4a5ffb434e75d54ec": {
     "views": []
    },
    "ba2a275d8c6940cb804f5647157d2001": {
     "views": []
    },
    "ba8d805866e44934bba7938d3c4729e3": {
     "views": []
    },
    "bacd03a7f9794781ab3dba62cda0f6ce": {
     "views": []
    },
    "bb052cd170c6414e95775b75e6fa8f26": {
     "views": []
    },
    "bb531bc8eca8417788b7fe3cb58bd79d": {
     "views": []
    },
    "bb80d7090fb041bd841c31d71db8bc95": {
     "views": []
    },
    "bb8bcc426eff4de59bd9093132e2e321": {
     "views": []
    },
    "bc0694b8b61442d29147ea5cf9809271": {
     "views": []
    },
    "bc3d02c6edd746aa99278030b720e02b": {
     "views": []
    },
    "bc492bfbc6f74c1698d37f93f44e440a": {
     "views": []
    },
    "bc663d9f3e9f4ba593f57e098146744f": {
     "views": []
    },
    "bd2e02d692c844b0ad3c0b2835c7f60b": {
     "views": []
    },
    "bd646d04f6784f038303c4151fca7221": {
     "views": []
    },
    "bdc9093276ea4d688ad60f11803d9f58": {
     "views": []
    },
    "be0924c685d04966b50ef04e95f40daa": {
     "views": []
    },
    "be0a1f3310a042e4a7c5acde19987c43": {
     "views": []
    },
    "be1cacd47e8940419352c0eb6b43d70f": {
     "views": []
    },
    "be8317feabb9449190afee3e9fb67576": {
     "views": []
    },
    "beace9a3ba6f421bad63b1175da26af3": {
     "views": [
      {
       "cell_index": 8
      }
     ]
    },
    "beb8a99cdb144a67a357b4df7dcbc566": {
     "views": []
    },
    "bedf246e64424e4f85be37910829863c": {
     "views": []
    },
    "bee84849ee7f4248a6b42be391d6e2c8": {
     "views": []
    },
    "bf79f08f52b548db84e105d8756bf720": {
     "views": []
    },
    "bfdf715ae07d40bfad7af67c4b46af54": {
     "views": []
    },
    "bfee31f07fe24b78a2cf221d4b01d521": {
     "views": []
    },
    "c0ae155846f842259eb6b52c83823c00": {
     "views": []
    },
    "c0f744f598ab4992a4909c1329f1fdc0": {
     "views": []
    },
    "c169ef7c7fd345239251d98c40df2d8a": {
     "views": []
    },
    "c2746077fd624a46b3eb5275fe8403a5": {
     "views": []
    },
    "c322d464f5f8492f84dc1f8f4b63db3f": {
     "views": []
    },
    "c3d4ef6fd13a403c8459e6d5dd0ac078": {
     "views": []
    },
    "c4ec275b07a445aab921edfd16af3a1e": {
     "views": []
    },
    "c590e646f80743928ebd871f88c462ff": {
     "views": []
    },
    "c59ac21a222443deadb51b7dfcd77323": {
     "views": []
    },
    "c5f72be9c58c48818ee0e55550e7d29c": {
     "views": []
    },
    "c5fded982bc64853933cb2e9fb225d8c": {
     "views": []
    },
    "c6a1a67ef9144d728a193db22381ecd4": {
     "views": []
    },
    "c6ae1bcba5af4b5d880c503086a7d5b5": {
     "views": []
    },
    "c6cd9deda1074a67b7eb8f3c8c5bd31e": {
     "views": []
    },
    "c6fe95c3a5af4c8a9401028b45dff155": {
     "views": []
    },
    "c70861f050cd4e4eba1a914f6fc03444": {
     "views": []
    },
    "c755aacdcb0e4848bc8e6bd22efb44eb": {
     "views": []
    },
    "c7760513d3924e4d836bf53bc2ac0a56": {
     "views": []
    },
    "c7c881fc63084621aee82d2541792496": {
     "views": []
    },
    "c842a6c0f540468eb0d0da1a18ab33db": {
     "views": []
    },
    "c8a806e7eef24c8ea7c8709851ae5efd": {
     "views": []
    },
    "c8a8330645c5458faa1f08dcc9e72dc0": {
     "views": []
    },
    "c8ca9a4c886543a5a5f2efe30a36e700": {
     "views": []
    },
    "c92214bc2b214260a9fc8e5ed536dbef": {
     "views": []
    },
    "c958b095c7c44ccf99fec4533148ef09": {
     "views": []
    },
    "ca4d295a31a64bdea8d0aa6f733414c6": {
     "views": []
    },
    "ca68673cfeb94c918fd6773f41c6b397": {
     "views": []
    },
    "ca9544ee51d0441c971448433ee87d19": {
     "views": []
    },
    "cb012e905f1d4eb0ab9e580a84ea3e32": {
     "views": []
    },
    "cbc19194983d47d8ba26f289cba76c03": {
     "views": []
    },
    "cbc2b4b22c4748a4a5e527e9fd335d09": {
     "views": []
    },
    "cc020220164f43dbad0376da5d4e61d2": {
     "views": []
    },
    "cc16141e22dc421f9b7f6a80f6f5a994": {
     "views": []
    },
    "cc88f627e6974d7699fbf491435745da": {
     "views": []
    },
    "cc958a37e70c48d8b28d457d9222f49e": {
     "views": []
    },
    "ccc8c1b0c003439eae3185e7f52c84a7": {
     "views": []
    },
    "cd079631d15545bf981d0c4668057c6f": {
     "views": []
    },
    "cd093bf722864ddc83597b21fcbdaf22": {
     "views": []
    },
    "cd13b779e98644e6893f54a0c15d0db8": {
     "views": []
    },
    "cd2ff3ab153f438fb3272bf2891b572c": {
     "views": []
    },
    "cdd3a2f093c440bd847a4136a234db9b": {
     "views": []
    },
    "cdf0574cbb5b40dcaa1d7a101ef7233d": {
     "views": []
    },
    "ce2e2ff867b147769142d1f4e4a75092": {
     "views": []
    },
    "ced69562db5a430fa14e75db43c58666": {
     "views": []
    },
    "cee393be0bb640df851fd608dc5904a1": {
     "views": []
    },
    "cf392244fa9c4b74a14609f900ba60cc": {
     "views": []
    },
    "cfbec1fc02c3409ba94a398441aa4348": {
     "views": []
    },
    "cfe5771b607a40bea5f338efb13301dc": {
     "views": []
    },
    "cff5452a35464f3ba1f4224367703acc": {
     "views": []
    },
    "d014efaa22b94f95879a031afd832204": {
     "views": []
    },
    "d020a1e896f64d63ae41a1d0e4db8f05": {
     "views": []
    },
    "d065b7b896324c82b98b2340d3b73990": {
     "views": []
    },
    "d06c5a9b5ece4006afcd83162a0d05e9": {
     "views": []
    },
    "d0c13817a889463c8b96b16985a997b7": {
     "views": []
    },
    "d113eb417b514df088155d42e34aba0f": {
     "views": []
    },
    "d12d130c7c544f519600851f4becf583": {
     "views": []
    },
    "d1375b58bd1841a7b255c46058ae80fa": {
     "views": []
    },
    "d233f51d95a3420fb0587c240056f114": {
     "views": []
    },
    "d25da2536e9c4d33b5d7a44319c43a8b": {
     "views": []
    },
    "d2ae728680454aceb66e04eb419eb945": {
     "views": []
    },
    "d2f7c8569d08410caf836f9ed8c7457d": {
     "views": []
    },
    "d31c2dd14c2f4445b74a5801f16ce2da": {
     "views": []
    },
    "d3ba1997889d4aee8bc9bd923ba42c2e": {
     "views": []
    },
    "d40b2d09ef4147b593ad309a43982eef": {
     "views": []
    },
    "d474c88e3e324652aae50f095f2ce6be": {
     "views": []
    },
    "d478b81fc4cf4e518d4f5501ab215c2c": {
     "views": []
    },
    "d4a448f7e1b34fcd887747ae429b79c2": {
     "views": []
    },
    "d4a9c1d1946a42fca82d5c3f10a22736": {
     "views": []
    },
    "d4e9a33e09d2423f84b6b4e16db55c87": {
     "views": []
    },
    "d5b441565af14132b9fc8bcd76cd0140": {
     "views": []
    },
    "d66975eca78d483d9bcb340a6d1ef416": {
     "views": []
    },
    "d69ca55bab784b55b1ac4cbafd759a5f": {
     "views": []
    },
    "d6b74474de46411b8d492b46ecf6a754": {
     "views": []
    },
    "d70753c26cf54ff5ad4c7fe3c829e658": {
     "views": []
    },
    "d7bb8055b1cd4c3f8f21b2e72b27618a": {
     "views": []
    },
    "d80b155b7922451696fc899a3efde62a": {
     "views": []
    },
    "d84a6eb12843418e87b449f16c6a4743": {
     "views": []
    },
    "d873431fb7db419498cb2b90f5a09283": {
     "views": []
    },
    "d891506ba5de4458af51509665adafcc": {
     "views": []
    },
    "d8a15579547141a4b463461985ecdd70": {
     "views": []
    },
    "d8b492f941ef42feaec00b1d1a179daa": {
     "views": []
    },
    "d914e773821b4764ba59f32a8bfd9a62": {
     "views": []
    },
    "d953312b364a4244a8f21066153b6f58": {
     "views": []
    },
    "d958dc25f27e4468ab3d2ca307a026d1": {
     "views": []
    },
    "d960e1d186534686bcb4e046d35fa801": {
     "views": []
    },
    "d9b440d259ca4f7cb44ec944ee0a5049": {
     "views": []
    },
    "dac808effc244e219abd4138cbe9e389": {
     "views": []
    },
    "db5d157c7dc548c0aa3f22fb02717065": {
     "views": []
    },
    "db7838bda59d44bfab5096112315b67f": {
     "views": []
    },
    "db7b42a2e3f048a4b7659b0f8ce45c32": {
     "views": []
    },
    "db9e3fe5850e437dbea01f04f4fc25a2": {
     "views": []
    },
    "dbb7f10f887d46d4842db2a0b7c585a5": {
     "views": []
    },
    "dc14dea1a97249b698163279d2080593": {
     "views": []
    },
    "dc702a1f484249d18de93d65775dba41": {
     "views": []
    },
    "dd5916943df241d28826bb048382de4e": {
     "views": []
    },
    "dd5bf999074a4e1d84b4643b5c6e130c": {
     "views": []
    },
    "dd6a9343bc41463ba607a5561680aba5": {
     "views": []
    },
    "dd7ec88d24cb4ce5a5fd6391ec9237fd": {
     "views": []
    },
    "ddb5b47ae6df448681f21d8a4d1af855": {
     "views": []
    },
    "ddf1675c9b53454795f3cfa857e7160a": {
     "views": []
    },
    "ddfe1c5227d441cd800d488fab8ecb2d": {
     "views": []
    },
    "de2eefcb53df493aaa07912ce266ab88": {
     "views": []
    },
    "de754cbefaf1440fa128799c3fe2ee14": {
     "views": []
    },
    "de9cf30cc63e42718b65671ca17a0d23": {
     "views": []
    },
    "de9dfbe5206c444cb27cd8398b009a83": {
     "views": []
    },
    "def38ab5d6fe48459388c7ab1bc4ab53": {
     "views": []
    },
    "df0be984572243a9801774d182d3b474": {
     "views": []
    },
    "df51da92e9e74381b52372a86b7c6e10": {
     "views": []
    },
    "df6c8467ce1e4953affacb4e30fa8a61": {
     "views": []
    },
    "df884bb7cf7e4d59a7b00494b5ada2c7": {
     "views": []
    },
    "e0009496c0174822adbf0a523290b58a": {
     "views": []
    },
    "e1268e053e6a421796edd04f04015fb6": {
     "views": []
    },
    "e16ab8b5433440aeba4ed19b8b54039a": {
     "views": []
    },
    "e19e0d5e60f64c9a99368503530b71cc": {
     "views": []
    },
    "e1c21f3ace9741acb4a58443d36958a3": {
     "views": []
    },
    "e26ecaa6cd734ed09f7e76bf7d07611a": {
     "views": []
    },
    "e293a086bea746d28b2edc4eeb47fa8f": {
     "views": []
    },
    "e2f928d045ef4995a660dec2a34ccfe3": {
     "views": []
    },
    "e3089e11d38948aaa111b68a5c0c56b5": {
     "views": []
    },
    "e348a0eda8354b55b8379b5f3d02d705": {
     "views": []
    },
    "e3698b4e9f5e424fae08e0bbc6cbc25d": {
     "views": []
    },
    "e3875a4532d54012800fa484e6ac31cb": {
     "views": []
    },
    "e3d7c74cd9ae4d83a52b4b12e7ef146e": {
     "views": []
    },
    "e40de672b7604799a392d76f64f0ef6b": {
     "views": []
    },
    "e4a8fd14a48948e3b0bfe50ef0dc421c": {
     "views": []
    },
    "e532bfafd09542afa00ee4f9baa511f1": {
     "views": []
    },
    "e538fcda174841ae8db4fb667521213c": {
     "views": []
    },
    "e54184a7caf5478b9cf5712b8d68c19d": {
     "views": []
    },
    "e5996f31334440a19f4077445420f03b": {
     "views": []
    },
    "e650ca2674e2406d9b6cd81eefa99183": {
     "views": []
    },
    "e6e49646bacb459e84f0424354abd425": {
     "views": []
    },
    "e798e052d3f8425b9f6d732cad7b8c37": {
     "views": []
    },
    "e7f8b96f33014ba3900040f1f1584fdf": {
     "views": []
    },
    "e7fc5742a1914ec19e7b1e83f8b38e86": {
     "views": []
    },
    "e84f16dee1e74fdc95f8edcabfe944e5": {
     "views": []
    },
    "e91ac0bf3a744fef8b6a8337393019eb": {
     "views": []
    },
    "e986f56c1f684a16a180fcf2d9883b71": {
     "views": []
    },
    "ea03788600b84d31aeb608d98a1c8c3d": {
     "views": []
    },
    "ea52ae22031e4985aa25dbd8da4ae302": {
     "views": []
    },
    "ea988b3eeafb4c6889faa588d97348e6": {
     "views": []
    },
    "eafbf287043d4705b134fc6d7ef987ff": {
     "views": []
    },
    "eb1d5f3fdc534301bd9e61fa179ce8c7": {
     "views": []
    },
    "eb203ab666eb4bc0964ca8fb43585d06": {
     "views": []
    },
    "eb225d995a4a4bfbb6b3f72e0258845b": {
     "views": []
    },
    "eb4a826e36ef496aab11abb0e9c38f24": {
     "views": []
    },
    "eba1f06df0b748b4ba91f35f078a8bff": {
     "views": []
    },
    "ec084ab752ac4a9899cde1ed486ef784": {
     "views": []
    },
    "ec0e44318e244f1eaab4756293f0dba7": {
     "views": []
    },
    "ec5ec0e386d64bbbb2e89e1d89a17b90": {
     "views": []
    },
    "ec715d8feca740f59715dc5a33e653c2": {
     "views": []
    },
    "ece98e2805b24b00ae487712b526d07c": {
     "views": []
    },
    "ed5c35d68f4747d0bd4bce7a9527c174": {
     "views": []
    },
    "ede0d9d5241a4d41865e84c45bd8cc62": {
     "views": []
    },
    "ee5a177105c045f491a6692f6e8ee20b": {
     "views": []
    },
    "ee75e1387a0c4a7fb44cc9e040ac049d": {
     "views": []
    },
    "eeaf4cc88dc94733b4fd31df0d35c0c4": {
     "views": []
    },
    "eeba4bf58a23414e9036780b7884e271": {
     "views": []
    },
    "eee6a981057e48a3b3afee891d3dd434": {
     "views": []
    },
    "ef0687f3c1ae4bdbb1accb04d3e540b0": {
     "views": []
    },
    "ef27b3343ad0422792950fcb7a8c4544": {
     "views": []
    },
    "ef580c927a5e4278b27e1d12e7ca5af0": {
     "views": []
    },
    "ef688fa389f543fc81cbe9b7baa805ce": {
     "views": []
    },
    "ef74784602c2492a84997abfa84eed66": {
     "views": []
    },
    "efa3b003d61e4045b05f8ca09a7f163a": {
     "views": []
    },
    "f0166394730c4b24a7b41b12ae3b5d55": {
     "views": []
    },
    "f02127481969451d91d080d938f7e234": {
     "views": []
    },
    "f05a220f9f7c4eb58e626055574595c7": {
     "views": []
    },
    "f05ebfc058ef40dc9ee173ffbf565eb4": {
     "views": []
    },
    "f063c5fc2b1d46bd82df58a016409376": {
     "views": []
    },
    "f08f1d0957ad48b5b75eb9a5ecdd1f2b": {
     "views": []
    },
    "f0c3e4d53f4642728f89b2cc818293b5": {
     "views": []
    },
    "f0d4105476894df29dddf46243bfb1df": {
     "views": []
    },
    "f156104494fe4a7297ce59e5ac00d47d": {
     "views": []
    },
    "f19e56d2a7a34773bc69ef1c31fd217d": {
     "views": []
    },
    "f2c7ddd1daa247c682e3d5df41063747": {
     "views": []
    },
    "f2f481b4b2f2492c8e3e0284b41c9c62": {
     "views": []
    },
    "f3068c8cda1e4e0095ddb025511fb1f3": {
     "views": []
    },
    "f33719606f6c4ef8a8832dc3e3e537cf": {
     "views": []
    },
    "f341cbf0f79146c9947ede820825fc82": {
     "views": []
    },
    "f37f17906908432ba4cc3d13ed5ac176": {
     "views": []
    },
    "f3cc4a9b743c4ce4be36574f6ff9dc65": {
     "views": []
    },
    "f420f56ff7d04053a53968470c949a44": {
     "views": []
    },
    "f45dbc34beb54907932df23f6163e091": {
     "views": []
    },
    "f4dc0469216c402b8746f8b8498af174": {
     "views": []
    },
    "f525252a85d24e4ead652f69caea721f": {
     "views": []
    },
    "f554de97a2ae49049870944fba701e79": {
     "views": []
    },
    "f63f7b80ceb04b139d71d86eabcf8902": {
     "views": []
    },
    "f6ad240e1661406abdaa8857e6679f8b": {
     "views": []
    },
    "f7109d37344f47b9a96c3d7b1b607932": {
     "views": []
    },
    "f75b4aec6680466aaaff0384f9a1eead": {
     "views": []
    },
    "f813aba0aae34222b94b2a704e425666": {
     "views": []
    },
    "f823bd6870764f47ad6e2c141f4764e3": {
     "views": []
    },
    "f86af253cbbc4fc4bff41fb630e1c202": {
     "views": []
    },
    "f86be731da464d7497f60e0c5b2fa6de": {
     "views": []
    },
    "f86d694e2aea4242b9e699dfa34c8ab3": {
     "views": []
    },
    "f87abdf3b31c45018dd4fc607b9a863b": {
     "views": []
    },
    "f8ad7cb7d220442785980d7ff40f680d": {
     "views": []
    },
    "f8b47a1353c944a9b23d2e866ad66236": {
     "views": []
    },
    "f8c8481761da45d4ac63345adcc10497": {
     "views": []
    },
    "f8cedd373f004544a6a2e5c260bf472e": {
     "views": []
    },
    "f91c567ec30c40c09fdeb08cdddad68d": {
     "views": []
    },
    "f936a9c5852143fda86ff45698864d3c": {
     "views": []
    },
    "f93f4054ba914860a2abd5a2e8157909": {
     "views": []
    },
    "f96554eb835541a384968f4ecd0e145c": {
     "views": []
    },
    "f9bcc272a3f44642a92cf0901f096adf": {
     "views": []
    },
    "f9e2b1d48a4142658066030feb0231c9": {
     "views": []
    },
    "fa693245af8e41bd9c12897b6acc158c": {
     "views": []
    },
    "fa991c346a974799a44a37a039584be2": {
     "views": []
    },
    "faaf791920784c4db211b78185e4f177": {
     "views": []
    },
    "fac6e583565742deaa8ad6409beb49d5": {
     "views": []
    },
    "fb50b17bba7e4694806d548befd82cc9": {
     "views": []
    },
    "fb880b27a5064f1da2cdf3ce68373ace": {
     "views": []
    },
    "fb9bb1d4cc534a22ac622a5f8118e105": {
     "views": []
    },
    "fc147d627890447890e7c561be8e5944": {
     "views": []
    },
    "fc4a35b53b4d44efab81183aa2d603a7": {
     "views": []
    },
    "fcbb5c1d261c415aa2adef3765b54862": {
     "views": []
    },
    "fd6dc558268d4dd2a7ec27417e7d7923": {
     "views": []
    },
    "fda7176438f04540a439f761cafed78a": {
     "views": []
    },
    "fde6a7a8ec21473d966cc72a5843a68a": {
     "views": []
    },
    "fdeb4fd6bd464df29ad3a05d0565fae8": {
     "views": []
    },
    "fe566e41cf4042e9b4d3940718f4a390": {
     "views": []
    },
    "fe5f53aeb1d944b886848d59a79d2df0": {
     "views": []
    },
    "fe95dfc6269c4089a1844e6f954616d1": {
     "views": []
    },
    "fed9b5ed80f848fc832cb2eac59f0553": {
     "views": []
    },
    "ff3e02308ee74b428899d3e0c66d10d0": {
     "views": []
    },
    "ff796d6376e74e16abd765dddd90cbf2": {
     "views": []
    },
    "ffab4ae3fa884fb48333d1902db45341": {
     "views": []
    }
   },
   "version": "1.1.1"
  }
 },
 "nbformat": 4,
 "nbformat_minor": 0
}
