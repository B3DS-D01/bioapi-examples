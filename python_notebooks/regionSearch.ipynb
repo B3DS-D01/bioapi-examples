{
 "cells": [
  {
   "cell_type": "markdown",
   "metadata": {},
   "source": [
    "### Initialize the client\n",
    "\n",
    "As seen in the \"1kg.ipynb\" example, we take the following steps to create the client object that will be used to obtain the information we desire and query the server. Plotting tools are also imported here."
   ]
  },
  {
   "cell_type": "code",
   "execution_count": 281,
   "metadata": {
    "collapsed": false
   },
   "outputs": [],
   "source": [
    "import ga4gh.client as client\n",
    "c = client.HttpClient(\"http://1kgenomes.ga4gh.org\")\n",
    "\n",
    "import sys\n",
    "import collections\n",
    "import math\n",
    "%matplotlib inline\n",
    "import matplotlib\n",
    "import numpy as np\n",
    "import matplotlib.pyplot as plt\n",
    "\n",
    "from __future__ import print_function\n",
    "from ipywidgets import interact, interactive, fixed\n",
    "from IPython.display import display\n",
    "import ipywidgets as widgets"
   ]
  },
  {
   "cell_type": "markdown",
   "metadata": {},
   "source": [
    "### Acquiring annotation set\n",
    "\n",
    "We query the server for the dataset, which is the 1k-genomes dataset. The dataset has a unique ID that can be used to acquire each variant set within the dataset. \n",
    "\n",
    "To access the different kinds of annotations, we access the annotation set using the unique variant set ID."
   ]
  },
  {
   "cell_type": "code",
   "execution_count": 282,
   "metadata": {
    "collapsed": false
   },
   "outputs": [],
   "source": [
    "dataset = c.searchDatasets().next()\n",
    "\n",
    "for variantSet in c.searchVariantSets(dataset.id):\n",
    "    if variantSet.name == \"functional-annotation\":\n",
    "        annotation = variantSet\n",
    "\n",
    "annotationSet = c.searchVariantAnnotationSets(variantSetId=annotation.id).next()"
   ]
  },
  {
   "cell_type": "code",
   "execution_count": 283,
   "metadata": {
    "collapsed": false
   },
   "outputs": [],
   "source": [
    "def runSearch(startPos, endPos, chromosome, searchTerms, buckets):\n",
    "    \n",
    "    formatSearch = []\n",
    "    \n",
    "    for i in range(0,len(searchTerms)):\n",
    "        #print(searchTerms[i])\n",
    "        formatSearch.append({\"id\":searchTerms[i]})\n",
    "        #formatSearch+=\"\"\"{\"id\": \"\"\"+\"\"\"\\\"\"\"\"+searchTerms[i]+\"\"\"\\\"\"\"\"+\"}, \"\n",
    "    \n",
    "    print(formatSearch)\n",
    "    \n",
    "    global windowCount\n",
    "    #windowCount = ((int(endPos)-int(startPos))/int(window))\n",
    "    windowCount = int(buckets)\n",
    "    #print(\"windowCount = \",windowCount)\n",
    "    startPoint = int(startPos)\n",
    "    endPoint = (int(startPos)+(int(endPos)-int(startPos))/int(buckets))\n",
    "    global yList\n",
    "    yList=[]\n",
    "    global xTickList \n",
    "    xTickList=[]\n",
    "    \n",
    "    for i in range(0,windowCount):\n",
    "        #print(\"endPoint = \",endPoint)\n",
    "        \n",
    "        abc=c.searchVariantAnnotations(variantAnnotationSetId=annotationSet.id, start=startPoint, end=endPoint, referenceName=chromosome, effects=formatSearch)\n",
    "    \n",
    "        idList = []\n",
    "        startEndList = []\n",
    "        \n",
    "        for annotation in abc:\n",
    "            idList.append(annotation.variant_id)\n",
    "    \n",
    "        for ids in idList:\n",
    "            important = c.getVariant(ids)\n",
    "            startEndList.append(important.start)\n",
    "            startEndList.append(important.end)\n",
    "        countingStats(seVals=startEndList, windowValue=windowCount, yValList=yList, startPos=startPoint, endPos=endPoint)\n",
    "        \n",
    "        startPoint+=(int(endPos)-int(startPos))/int(buckets)\n",
    "        endPoint+=(int(endPos)-int(startPos))/int(buckets)\n",
    "        del idList[:]\n",
    "        del startEndList[:]\n",
    "    "
   ]
  },
  {
   "cell_type": "code",
   "execution_count": 284,
   "metadata": {
    "collapsed": false
   },
   "outputs": [],
   "source": [
    "def countingStats(seVals, windowValue, yValList,startPos, endPos):\n",
    "    values = np.empty([int(len(seVals))/2,2], dtype=np.int32)\n",
    "    \n",
    "    j=0\n",
    "    k=1\n",
    "    for i in range(0,int(len(seVals))/2):\n",
    "        values[i][0] = seVals[j]\n",
    "        values[i][1] = seVals[k]\n",
    "        j+=2\n",
    "        k+=2\n",
    "        \n",
    "    testFunc(values, len(values), windowValue, yValList, startPos, endPos)\n",
    "    #plotWindowHistogram(values, len(values), startPos, endPos)"
   ]
  },
  {
   "cell_type": "code",
   "execution_count": 285,
   "metadata": {
    "collapsed": true
   },
   "outputs": [],
   "source": [
    "def testFunc(xAxisTicks,yAxisValues, windowVals, yList,startPos, endPos):\n",
    "     \n",
    "    yList.append(yAxisValues)\n",
    "    \n",
    "    #print(yList)\n",
    "    \n",
    "    xTickList.append(xAxisTicks)\n",
    "    #print(xTickList,\"\\n\")\n",
    "    \n",
    "    if len(yList)==windowVals:\n",
    "        plotWindowHistogram(xTickList, yList, windowVals, startPos, endPos)"
   ]
  },
  {
   "cell_type": "code",
   "execution_count": 286,
   "metadata": {
    "collapsed": false
   },
   "outputs": [],
   "source": [
    "def plotWindowHistogram(xAxisTicks, yAxisValues, windowVals, startPos, endPos):\n",
    "    \n",
    "    fig, ax = plt.subplots()\n",
    "    \n",
    "    endValues = np.empty([1,2], dtype=np.int32)\n",
    "\n",
    "    #print(xAxisTicks)\n",
    "\n",
    "    #if xAxisTicks.size==0:\n",
    "    endValues[0][0] = startPos\n",
    "    endValues[0][1] = endPos\n",
    "    #else:\n",
    "        #endValues[0][0] = xAxisTicks[0][0]\n",
    "        #endValues[0][1] = xAxisTicks[-1][1]\n",
    "    \n",
    "    ax.set_xticklabels(endValues, rotation=90)\n",
    "    \n",
    "    for i in range(0,windowVals):\n",
    "        plt.bar(i, yAxisValues[i], width=1, color=['maroon'])\n",
    "    \n",
    "    #h = plt.bar(xrange(len(xAxisTicks)), yAxisValues, label=xAxisTicks)\n",
    "    #xticks_pos = [0.50*patch.get_width() + patch.get_xy()[0] for patch in h]\n",
    "    #plt.xticks(xticks_pos, xAxisTicks,  ha='right', rotation=45)\n",
    "    \n",
    "    ax.set_title(\"intron_variants from \"+str(startPos)+\" to \"+str(endPos))\n",
    "    ax.set_ylim([0,int(math.ceil(max(yAxisValues)/5.0))*5])\n",
    "    ax.set_xticklabels([endValues])\n",
    "    plt.rcParams[\"figure.figsize\"] = [10,10]\n",
    "    \n",
    "    plt.show()"
   ]
  },
  {
   "cell_type": "code",
   "execution_count": 287,
   "metadata": {
    "collapsed": false,
    "scrolled": false
   },
   "outputs": [
    {
     "name": "stdout",
     "output_type": "stream",
     "text": [
      "[{'id': 'SO:0001627'}]\n"
     ]
    },
    {
     "data": {
      "image/png": "[encoded data removed]",
      "text/plain": [
       "<matplotlib.figure.Figure at 0x10d79dc10>"
      ]
     },
     "metadata": {},
     "output_type": "display_data"
    }
   ],
   "source": [
    "searchOntologyDict = {'transcript_ablation' : 'SO:0001893', 'splice_acceptor_variant' : 'SO:0001574', 'splice_donor_variant' : 'SO:0001575', 'stop_gained' : 'SO:0001587', 'frameshift_variant' : 'SO:0001589', 'stop_lost' : 'SO:0001578', 'start_lost' : 'SO:0002012', 'transcript_amplification' : 'SO:0001889', 'inframe_insertion' : 'SO:0001821', 'inframe_deletion' : 'SO:0001822', 'missense_variant' : 'SO:0001583', 'protein_altering_variant' : 'SO:0001818', 'splice_region_variant' : 'SO:0001630', 'incomplete_terminal_codon_variant' : 'SO:0001626', 'stop_retained_variant' : 'SO:0001567', 'synonymous_variant' : 'SO:0001819', 'coding_sequence_variant' : 'SO:0001580', 'mature_miRNA_variant' : 'SO:0001620', '5_prime_UTR_variant' : 'SO:0001623', '3_prime_UTR_variant' : 'SO:0001624', 'non_coding_transcript_exon_variant' : 'SO:0001792', 'intron_variant' : 'SO:0001627', 'NMD_transcript_variant' : 'SO:0001621', 'non_coding_transcript_variant' : 'SO:0001619', 'upstream_gene_variant' : 'SO:0001631', 'downstream_gene_variant' : 'SO:0001632', 'TFBS_ablation' : 'SO:0001892', 'TFBS_amplification' : 'SO:0001892', 'TF_binding_site_variant' : 'SO:0001782', 'regulatory_region_ablation' : 'SO:0001894', 'regulatory_region_amplification' : 'SO:0001891', 'feature_elongation' : 'SO:0001907', 'regulatory_region_variant' : 'SO:0001566', 'feature_truncation' : 'SO:0001906', 'intergenic_variant' : 'SO:0001628'}\n",
    "shortDict = {'intron_variant' : 'SO:0001627', 'feature_truncation' : 'SO:0001906' , 'non_coding_transcript_exon_variant' : 'SO:0001792' , 'non_coding_transcript_variant' : 'SO:0001619', 'transcript_ablation' : 'SO:0001893'}\n",
    "chromList = ('1','2','3','4','5','6','7','8','9','10','11','12','13','14','15','16','17','18')\n",
    "\n",
    "\n",
    "multiSelect = widgets.SelectMultiple(\n",
    "    description=\"Transcript Effects\",\n",
    "    options=shortDict\n",
    ")\n",
    "\n",
    "interact(runSearch,\n",
    "         startPos=\"10000\",\n",
    "         endPos=\"20000\",\n",
    "         chromosome=chromList,\n",
    "         searchTerms=multiSelect,\n",
    "         buckets=\"10\",\n",
    "         __manual=\"True\"\n",
    "         )"
   ]
  },
  {
   "cell_type": "code",
   "execution_count": null,
   "metadata": {
    "collapsed": true
   },
   "outputs": [],
   "source": []
  }
 ],
 "metadata": {
  "kernelspec": {
   "display_name": "Python 2",
   "language": "python",
   "name": "python2"
  },
  "language_info": {
   "codemirror_mode": {
    "name": "ipython",
    "version": 2
   },
   "file_extension": ".py",
   "mimetype": "text/x-python",
   "name": "python",
   "nbconvert_exporter": "python",
   "pygments_lexer": "ipython2",
   "version": "2.7.11"
  },
  "widgets": {
   "state": {
    "00391f9c870847508990c4256bb9e76d": {
     "views": []
    },
    "00b559ef36094557887b41f97f6b80ec": {
     "views": []
    },
    "00b710f5b2474d298074caa33a5042a3": {
     "views": []
    },
    "00eff88f69764338ae0f2ece12c6881f": {
     "views": []
    },
    "013560f2970e48a8925fa8d93f5e9892": {
     "views": []
    },
    "02bd8c1193774cd1ab25adce51b4ca6a": {
     "views": []
    },
    "02c3339e1b4e4338ba1dfd3ce64d65b1": {
     "views": []
    },
    "03d7e0a8b86b466db08e429415d9fbbd": {
     "views": []
    },
    "0460d91de5af4b1da8f26b873698ce44": {
     "views": []
    },
    "04959ad5b9e74aca894e8972c60378df": {
     "views": []
    },
    "04a039b8078b47ae987b719fd94aa2b8": {
     "views": []
    },
    "05821a0cb71843e9ac69cb2d9ab249f2": {
     "views": []
    },
    "05cb7b14f6274af8bf0fa9eadde82140": {
     "views": []
    },
    "06592b3cf1f7481398aff9d450c9d273": {
     "views": []
    },
    "06b3506ea5ee4dec8346acba40e435f2": {
     "views": []
    },
    "06e4a492bd3b48aeaa0d91d652887e45": {
     "views": []
    },
    "070add08816744a68660778db0a12471": {
     "views": []
    },
    "072126d2fd984945a43413da34937637": {
     "views": []
    },
    "072cc670baf94940bb467400eb458063": {
     "views": []
    },
    "07fd993a941a41c9a48a6e2e89169b5f": {
     "views": []
    },
    "086d7a106e834b25a5bd1d4f2df13d48": {
     "views": []
    },
    "08b48cba32b1423a90031fa9d7e68af1": {
     "views": []
    },
    "092177117c4e45e08835d4ea41a50070": {
     "views": []
    },
    "096a98b4f7644fb1858ca166e20e49cb": {
     "views": []
    },
    "0996fb21109d4eaf884fb0557915a752": {
     "views": []
    },
    "0a0af62dd57449478dc86a6153694de9": {
     "views": []
    },
    "0a26d4076444411d8373b0ce6b469d69": {
     "views": []
    },
    "0a5dd0a76f9a400e872207f133224c45": {
     "views": []
    },
    "0b15d3fed9a0497180e4d8afa093ecac": {
     "views": []
    },
    "0b73c890670742928781f23634fab342": {
     "views": []
    },
    "0b97cd33a33e493f9209b3b9fa8098cc": {
     "views": [
      {
       "cell_index": 8
      }
     ]
    },
    "0badac86e8df4eb2bca46b600259313a": {
     "views": []
    },
    "0bc024cca19f41c48b915376bc8f4885": {
     "views": []
    },
    "0cd5fef0f72e4cfab8200ff697eb5185": {
     "views": []
    },
    "0d4d10efccdf422f90dc9514d21f90cb": {
     "views": []
    },
    "0da906bbedbf45a8ae027cdd023209f5": {
     "views": []
    },
    "0dabfbb66f844e22806a3cbaa961a29d": {
     "views": []
    },
    "0dd41fef37114f7a996059deba01a23f": {
     "views": []
    },
    "0df0d62cf4784df589c4830ee96a3539": {
     "views": []
    },
    "0e051be2e1a84c32a9d99add6892b0da": {
     "views": []
    },
    "0e6de2ecd52d4d4f872d6833d441b04d": {
     "views": []
    },
    "0e9adf928aa546159d13a1fb601ddf0d": {
     "views": []
    },
    "0f08eaf27fa7459b98e3b7adf9cf2d78": {
     "views": []
    },
    "0f4a5bd618d04392bd0efb64dda2ff74": {
     "views": []
    },
    "0f6b604d7b96470dad4352c8c467d0fa": {
     "views": []
    },
    "0f6d237784234531bbf70ccd8a3bdb39": {
     "views": []
    },
    "0f93ad5b641041158e73d47d8d2e0c15": {
     "views": []
    },
    "0fb167740629439f90be945050d48049": {
     "views": []
    },
    "100e739610c546f8b3623ec5cf120288": {
     "views": []
    },
    "1011e7b5ad014a0c82fb7ceb5c5b6e99": {
     "views": []
    },
    "107530f2fa27472ea0077a983c0106ed": {
     "views": []
    },
    "1080c9edf3be41fe9ebcf88bb33697b1": {
     "views": []
    },
    "10ae5e96737d403591d86e884e46da95": {
     "views": []
    },
    "110127dd2d2a4b689c1569863f772a19": {
     "views": []
    },
    "11656aa60fda4d13800ed098dd8e03db": {
     "views": []
    },
    "11a0e9caf7514728946cd55ea7233d69": {
     "views": []
    },
    "11a3b62ed1fd46a080612d54b0d77611": {
     "views": []
    },
    "11d407651103430bb79c0c74f67a4337": {
     "views": []
    },
    "1242c70baa87465c878cb7a417aee815": {
     "views": []
    },
    "1311fc25d41e43eda6a66e2fb3287df5": {
     "views": []
    },
    "13c5bcc535e349e888f48e8ee91ed85f": {
     "views": []
    },
    "1423b0702f0d490988d038090f6a20ee": {
     "views": []
    },
    "158187a3217145428544d1309bab5dbb": {
     "views": []
    },
    "1628222c1f7342c1846647ba1d13f290": {
     "views": []
    },
    "165b056c32954c93821a890ec4f6c111": {
     "views": []
    },
    "16b7cb9e8fea4dda872b4bcfc75dc593": {
     "views": []
    },
    "16dff2e0df764f41a14ff8f3d31257c3": {
     "views": []
    },
    "1776db5aa3984175b53362793bf4efde": {
     "views": []
    },
    "17edf62af26946d088f4c2c7addf1613": {
     "views": []
    },
    "18021320f7ef4de18253881e401f923c": {
     "views": []
    },
    "182ecb6285bd46a68f91d3bf023d7209": {
     "views": []
    },
    "187e4a3fd0ed4ed8bfd9b39ce82bbfe0": {
     "views": []
    },
    "18b2b8e135104359979f3f328bbb3c76": {
     "views": []
    },
    "18c9d1a558d1476f9e840d0129158167": {
     "views": []
    },
    "193e2160327d4306b612098cd0391045": {
     "views": []
    },
    "1a10872c6a194a029565b9ff820eb078": {
     "views": []
    },
    "1a3de72ddb93479c90ef4465ea4e0a96": {
     "views": []
    },
    "1aeae30d4dc34c81a4bc60cd0b31631f": {
     "views": []
    },
    "1afbb8ce3e664286acb91e780d90ea65": {
     "views": []
    },
    "1b6f8cb2cbf047019d1df05416e3659d": {
     "views": []
    },
    "1b6fec3b51224d818ad2311b7e526dec": {
     "views": []
    },
    "1babbc0d2ff14762b87e286e67920d55": {
     "views": []
    },
    "1be35fd0a38e4e72a93e11906c143fa2": {
     "views": []
    },
    "1beeefb1432941a68ca5bb2283cbface": {
     "views": []
    },
    "1c2a22a4ae6d421aa872b562a60d11ca": {
     "views": []
    },
    "1c3dabee08fa43ea9b8999cf5b117487": {
     "views": []
    },
    "1c7012a3baef4cd2aab1ef7e6b19e2b2": {
     "views": []
    },
    "1cc304d3217846bc9b6683710816c5e7": {
     "views": []
    },
    "1cfd66f6688946c9b339ce68c699347c": {
     "views": []
    },
    "1d313b8801ff4e8e83029c3d0a9fe88a": {
     "views": []
    },
    "1d5d5d037d794284851c1522c57c324c": {
     "views": []
    },
    "1dcb8fb4f9a44351b109b6e0ee560272": {
     "views": []
    },
    "1e033c2577154cd48b4b4946bdcec632": {
     "views": []
    },
    "1e532ff6a6244b91862961371379f7bc": {
     "views": []
    },
    "1f326c56aea4483593398f45ce92d0ef": {
     "views": []
    },
    "1f358c26ebd64723bb8ca18f1450dd36": {
     "views": []
    },
    "20f5fd5866a248ecbad444d5bbf666dd": {
     "views": []
    },
    "21116f6e2fcc439c9ccba93c07c0ce4e": {
     "views": []
    },
    "21232d57399b48a4990e11138436ec97": {
     "views": []
    },
    "21330e965ad64f55ab32c35a78a14cc9": {
     "views": []
    },
    "213972d681c2405781ae760313f94198": {
     "views": []
    },
    "21d5dc369bf94201b5ef4f028dbdad8f": {
     "views": []
    },
    "220942379b3c45a0beae6dff44d33d37": {
     "views": []
    },
    "2244231d9c2d4b9e87dc5e2961b3b609": {
     "views": []
    },
    "22c0191dfb0c4be88ef57eb6720af23c": {
     "views": []
    },
    "23144da1a0a542b3a90e0488f49191a2": {
     "views": []
    },
    "2380949f4b2a49b5b4016e357d0fcf99": {
     "views": []
    },
    "23bc7f65e75e4b03a3c3b879f3d0d184": {
     "views": []
    },
    "23ce5355cdaa4a68a1f33743aa4bb972": {
     "views": []
    },
    "23f4ab72c9e741b691a7e49d7245d143": {
     "views": []
    },
    "24276fce79214756bda7f6a5886a8679": {
     "views": []
    },
    "24319f680f9840179a70d98147e9ddd2": {
     "views": []
    },
    "246dc0c793cf4e0e8587e9d00399713c": {
     "views": []
    },
    "24845fcfa9224d1eb7d73ab5a057c535": {
     "views": []
    },
    "24e08ac0d3f3426c9ede155081697694": {
     "views": []
    },
    "24e1defb78a64609b43f8973dd541dcf": {
     "views": []
    },
    "2517cffe5bd541549d14f73771e20976": {
     "views": []
    },
    "255edee380154bed950e39fdd3e9b2ab": {
     "views": []
    },
    "256cca73fdf643d4a9407d0668b8cb04": {
     "views": []
    },
    "2663b7b1c7884a199afdcce3d1de1828": {
     "views": []
    },
    "26a57fa5d5084325bd74e68c88ed56cb": {
     "views": []
    },
    "2744b882587b42c993181fa76ee8dd7a": {
     "views": []
    },
    "277276937fd742328424319fecc9b8a7": {
     "views": []
    },
    "2812124cedd1490db8398ed963e8e3ef": {
     "views": []
    },
    "285d05ed045c4b57a49529f87780b670": {
     "views": []
    },
    "298e6000fddd443caba97dcc0da1b5cf": {
     "views": []
    },
    "2a008b1a02e54b1f9d928d9507a6aa4d": {
     "views": []
    },
    "2a90950fafbe4ba3a65f466b3eee3a68": {
     "views": []
    },
    "2b0e7dfbdc524e7cb0fddb5c36501269": {
     "views": []
    },
    "2b35440ece874921b1d83a0a6e547db5": {
     "views": []
    },
    "2b3c12b154f24c84b95bc48d4676ce5f": {
     "views": []
    },
    "2bc204d6221b4a52a2fbf1eb3b7fd510": {
     "views": []
    },
    "2bcf5801b6e1440cacd787237dca6b73": {
     "views": []
    },
    "2c02c7a379804ac596ccebb8239d199b": {
     "views": []
    },
    "2c70765373e94acdb27e955173878fb6": {
     "views": []
    },
    "2cb2510ab9aa4085afa8824ee6dc12b9": {
     "views": []
    },
    "2ce30ebb7038459c962334f507b28dea": {
     "views": []
    },
    "2d3bfbea14304672a01e4d509c47e971": {
     "views": []
    },
    "2e17b739fac14610970876d72605bf83": {
     "views": []
    },
    "2e8fddf3617540d582ec88bd292d3a24": {
     "views": []
    },
    "2ebd803bcf9b4861b1e88931f2b31b6c": {
     "views": []
    },
    "2f8e58df2e80451b8246dee37e8add29": {
     "views": []
    },
    "2faf6b4e8c3d4ef6ba7b72a1191b4b15": {
     "views": []
    },
    "30191140317240c8ac955be933462e5b": {
     "views": []
    },
    "30613db9a61c40d39bedf544dd98e0e6": {
     "views": []
    },
    "308814d14ca043eb806ff305cc198472": {
     "views": []
    },
    "3106915b6bd94e0a8f363177cc12bd70": {
     "views": []
    },
    "310e13bc063b472494347899c16abb39": {
     "views": []
    },
    "312d6bd566284ba89ebc802146d51d87": {
     "views": []
    },
    "31870206f54f41efb6595c518feb73bb": {
     "views": []
    },
    "318b4c002f20436c9af564c80801c5aa": {
     "views": []
    },
    "32783dc20ab64c3696d8cfb375ad9a70": {
     "views": []
    },
    "329644ffbb7c4372b26ca3bf9a099940": {
     "views": []
    },
    "33a62f167c824f63ae0fafbfa3eb7881": {
     "views": []
    },
    "33ebb3daad974ebeba62b2c52aef2d12": {
     "views": []
    },
    "33ec9f748e1b485d9d33744931667776": {
     "views": []
    },
    "352e55f3695f4c4d96de3b9277ac01bd": {
     "views": []
    },
    "355abbfc83d5474da44ffc4215a8238d": {
     "views": []
    },
    "35ac8b91ec014ba1b431e34261de3bf9": {
     "views": []
    },
    "35e4863308c34578a68e54841a4a9af1": {
     "views": []
    },
    "36e339bc305f43afa6cdc38b315b70a8": {
     "views": []
    },
    "376b2a0fb8c649dc9781a676150f4ab4": {
     "views": []
    },
    "3833283338334ab6bf9b6bd6b801645e": {
     "views": []
    },
    "3907c2550481486ca135568d4d6e6c2e": {
     "views": []
    },
    "39a1e5cfa99a4ef78775f6d293cdb41e": {
     "views": []
    },
    "39b90004174441d98c554edf07ea4022": {
     "views": []
    },
    "3a4cb990583d4cfcb2616062e062d578": {
     "views": []
    },
    "3b621f20c3d4464eb12a1001ce2839c8": {
     "views": []
    },
    "3b90727675ca4aed8c0a66a802e7beaa": {
     "views": []
    },
    "3bc9cc8196124024b34baaaa4b47b238": {
     "views": []
    },
    "3d01d395339647f1acbb42cf13c9f397": {
     "views": []
    },
    "3d268f352fb744738d8020fe8d0ec61a": {
     "views": []
    },
    "3d2bf21fde7241de97fed2e45d512755": {
     "views": []
    },
    "3d3ea579f8444d7c8d41d79bbd2ac896": {
     "views": []
    },
    "3d6f652515244f598b6d50ce771c81a3": {
     "views": []
    },
    "3d7405077d5e490686ac35a92751c1f9": {
     "views": []
    },
    "3d765514e32e4906aa6d85594c7a7fdd": {
     "views": []
    },
    "3d7a43bb920d4b03adbadf37d1d70c65": {
     "views": []
    },
    "3d883334d5c94881b645cf45d23b1996": {
     "views": []
    },
    "3dd6aedf7aea4b209087ac33eac71985": {
     "views": []
    },
    "3dd8317d5bb545a2aac0a9ba5c14f525": {
     "views": []
    },
    "3deaadd35a6d4680baf631b8a4ad4eb4": {
     "views": []
    },
    "3e2fb5d25dfc40f8b7cd7b1baa2202a7": {
     "views": []
    },
    "3e7ca8de380643cdb609b193b2313339": {
     "views": []
    },
    "3f2b56e10a5347bf87827e3520b1404a": {
     "views": []
    },
    "3f79918d9fdd4380b22782d8bef08cc4": {
     "views": []
    },
    "4088b7eeaf384d6aad4e5187d8b17ceb": {
     "views": []
    },
    "40918cc157d94d20a214227a6b55b717": {
     "views": []
    },
    "40b9efe7d5204c13af37efe0d896a072": {
     "views": []
    },
    "40cc9104013c45b69ae8ac3b2efa19a0": {
     "views": []
    },
    "40debc1f24b3434cb60052e8e6ec822a": {
     "views": []
    },
    "4127b40276e54181a6dff6abb46d7e6e": {
     "views": []
    },
    "412d081af11744e4b5037c7b2068fc1d": {
     "views": []
    },
    "41b30d6594944a9c8cf46d7cee9ae23e": {
     "views": []
    },
    "41dfa232535e4081a12689273304bc4f": {
     "views": []
    },
    "41fe59111e1146b28a1bdc238a37b93c": {
     "views": []
    },
    "426b997c2c0c4efb862a049b94806fbd": {
     "views": []
    },
    "42b9629efbae46f7bf91f141572d4975": {
     "views": []
    },
    "42e9db0001dd4678b7bfc2264570977f": {
     "views": []
    },
    "42fff963764f4f2bb6bd26b4abf5c72e": {
     "views": []
    },
    "431960731a114d529d6105f3b7bae555": {
     "views": []
    },
    "4326355339144a03940f1263286b704d": {
     "views": []
    },
    "43289fe0c7fe40499a8c86d3d7a1aa31": {
     "views": []
    },
    "4351c372dd9f4692adb9db526e2aa3c6": {
     "views": []
    },
    "43800201ecae4b51bf778b34126610b8": {
     "views": []
    },
    "438fd60ba85f4b00a7303d8ec9464825": {
     "views": []
    },
    "43d36c95f64b49e98acd5904ab0f80d8": {
     "views": []
    },
    "4613a687a29042eb80db34a887191578": {
     "views": []
    },
    "47250b961a894c54bb089b0224d732cd": {
     "views": []
    },
    "474f3b58d62c454bbe6da62518398197": {
     "views": []
    },
    "476c3b17c62f4bb6b199479dc0723371": {
     "views": []
    },
    "47d3660d0e054707abe0e51139b9a58e": {
     "views": []
    },
    "47ed1c036f99450083d3f7449ce9cbb5": {
     "views": []
    },
    "484beef304694147ae83e7985fec07df": {
     "views": []
    },
    "48b1166172cd49358d9c0972f70831b5": {
     "views": []
    },
    "490b1ef93644427bab769ebb7efcac74": {
     "views": []
    },
    "492f3219dcf14058887433df97dad7aa": {
     "views": []
    },
    "494194bf32e040b09e8d21571900b354": {
     "views": []
    },
    "49ac6ef1c6b74401953ea9ef1e8af996": {
     "views": []
    },
    "4a0256f4802642d3840409004ede20a0": {
     "views": []
    },
    "4a550ed7d56f4fa78f29e10b054c3813": {
     "views": []
    },
    "4a96f066c98241b6b5441126b5aef6f6": {
     "views": []
    },
    "4af2c869f6ee4670a1ec75f00f603ae6": {
     "views": []
    },
    "4afcbeed82ed4072ba68619717b74ed9": {
     "views": []
    },
    "4b2c5ff608144427b83104d728f854e6": {
     "views": []
    },
    "4badf6223bb049288fa4695a2686f482": {
     "views": []
    },
    "4bb2e7f508fe4b14aaf9dcd94e265a60": {
     "views": []
    },
    "4bce3360dc2c43a285ec69f2d94e5064": {
     "views": []
    },
    "4c22465f4d0045b5955d6c9f366f9c74": {
     "views": []
    },
    "4cdc9e47e2a5466685336da6dd442bb0": {
     "views": []
    },
    "4d3e0e3522844775ae18a65e704290e9": {
     "views": []
    },
    "4d7ae7894e1e47c19de2f2b120742c86": {
     "views": []
    },
    "4da893e3d10b486eb3d98cb935ddf990": {
     "views": []
    },
    "4deeeaeb566549e6b7c0e8cacca49829": {
     "views": []
    },
    "4defca8dcd4a4ded865e7f3ee42046e8": {
     "views": []
    },
    "4df69c26e9ab4b5ab88ff2df1347dad5": {
     "views": []
    },
    "4e3c8054135e4bbc9c9c66b6f86c06e8": {
     "views": []
    },
    "4e75ef603b574332b6a7e2668f0a4a39": {
     "views": []
    },
    "4e7f4766368a477cb81ef9af292273ab": {
     "views": []
    },
    "4e7fad762531405abca0cfc25c62473e": {
     "views": []
    },
    "4f100a0356ff46ad8ae47865184ae0e8": {
     "views": []
    },
    "4f4be80e57ec4abc8c4a021545a215ae": {
     "views": []
    },
    "4faf48c6cbd94af597dec453f1d89390": {
     "views": []
    },
    "5004adcf65b64aadbfcefdb3a8627d44": {
     "views": []
    },
    "502088fabc544ac8a3ac3a2138dc353d": {
     "views": []
    },
    "508e4745eb04499c8a86e814231420a0": {
     "views": []
    },
    "511746fce99c4b64909758729171f36b": {
     "views": []
    },
    "51646e0be1754d6fac84366636768b75": {
     "views": []
    },
    "51d245cbe11e4869ac0b0b519b540690": {
     "views": []
    },
    "51e89614f1dc45f8ac240f305ed38397": {
     "views": []
    },
    "52794ac7a6944cfaabd07f0fde4c515a": {
     "views": []
    },
    "52946087e0304badbc74d9fbe5cf9b08": {
     "views": []
    },
    "52f8409acd4447529cd7c0a85b9d9a43": {
     "views": []
    },
    "53ad552aa7504a4b8c7f936826088c48": {
     "views": []
    },
    "53b7e04a297242e59a7092677a30b583": {
     "views": []
    },
    "53c9f01278704171b4d141ae11558c5a": {
     "views": []
    },
    "53cca97d27e4427794f143b44983c98c": {
     "views": []
    },
    "540298ffbd8d47428b79463bb846debb": {
     "views": []
    },
    "5417f7e2159d4773a7d7523af9588476": {
     "views": []
    },
    "54cd8f39c11645a4b9bd752a0b7ad41b": {
     "views": []
    },
    "55449fec9c4545bc85784a45d0f1c379": {
     "views": []
    },
    "55a4d9dab6c844bfab44e6fa8aa92b60": {
     "views": []
    },
    "55d65a6405e741449c496b6b9458ff55": {
     "views": []
    },
    "56d83ce46f3e4b51abc8c16eee2c561d": {
     "views": []
    },
    "57909c72c1f74a3c928784624091a612": {
     "views": []
    },
    "579b33d8061541fe87828534946000d6": {
     "views": []
    },
    "580150768c9048db8edd9e5367bde4c5": {
     "views": []
    },
    "5819c64e7daa4e2289e656d783ae0c81": {
     "views": []
    },
    "582daf4cdd1b432fad243e249730bb44": {
     "views": []
    },
    "584c591890a946ebb013b119869978b5": {
     "views": []
    },
    "5922178b9d3740e38481ff2eeb5e2574": {
     "views": []
    },
    "5944bb0bccc844d8997011caccd4547e": {
     "views": []
    },
    "5964d7245fbb4225941b3afc7ce5f6b9": {
     "views": []
    },
    "59dd4ef9186e4515a66d23322ea050a3": {
     "views": []
    },
    "59fd005557cf452a91c72aa7d5d6b82c": {
     "views": []
    },
    "5a62d86a4df6422487ed310cffd624e7": {
     "views": []
    },
    "5a9a1a6d12644ef68687aa027f090b39": {
     "views": []
    },
    "5ab629a177ed43fcbd91fc57cf89d017": {
     "views": []
    },
    "5b047be14d7246d58b5ac9075a39aadc": {
     "views": []
    },
    "5b18bca3eab44a2da21ea653605a5cff": {
     "views": []
    },
    "5b5fe2b9aa2d4ff9a977b8ac29e42537": {
     "views": []
    },
    "5b7798e50270422bb7f7594a8f8c4239": {
     "views": []
    },
    "5b79c08818424bf48cec74041eeeb551": {
     "views": []
    },
    "5b7fedc90ce747cab0645251789e1b31": {
     "views": []
    },
    "5b989f06609641e685545ab1f21427e6": {
     "views": []
    },
    "5badc5ebabb3495fa9abda06184b037e": {
     "views": []
    },
    "5cc76f71f3074f54b14c39fcdb331002": {
     "views": []
    },
    "5cd8a3a56b2446089541454a5294bcf2": {
     "views": []
    },
    "5d4f94e37c7f4379ac67f24b5a87dea8": {
     "views": []
    },
    "5d8dcc8901e84d9cb32c303884874278": {
     "views": []
    },
    "5dd58775bad0405ba7f76e66d41a5f0e": {
     "views": []
    },
    "5e855b6906a540bdb1b2d01904a474bf": {
     "views": []
    },
    "5ee6a7d3aebe4ab491822f67e0ee0b9b": {
     "views": []
    },
    "5ef78b722ba049fba34d97f1b7263b49": {
     "views": []
    },
    "5f3d81f4232c4d9eb23570787d3cc707": {
     "views": []
    },
    "5f4f2e5fd650470c9dbf29c509e3d300": {
     "views": []
    },
    "5f567670e28748a5b9349069ec61ab95": {
     "views": []
    },
    "5f6be491673e41a98d5f456d6a4f0ec1": {
     "views": []
    },
    "5f996e3fd6d74c41961113d84520df15": {
     "views": []
    },
    "5fcce7aedc4044f3988095a4f6c2a1b0": {
     "views": []
    },
    "5fcf40b8949c4f599e595da4522ce16b": {
     "views": []
    },
    "601f6f6c1f8741c9aa928d3e9edcc6f6": {
     "views": []
    },
    "6138636029314270b704a5130806474f": {
     "views": []
    },
    "61b3abf1d6cb42a88fe13fdebeddb85e": {
     "views": []
    },
    "622ece3efebb418094c04de5098a5f54": {
     "views": []
    },
    "62334677bfea4c67819b5df7549b9331": {
     "views": []
    },
    "6245d03c71df4098a9adfa7be3cf9369": {
     "views": []
    },
    "62577c0c0a914517bbeb0c5d37441fea": {
     "views": []
    },
    "62ec507b72a84290b9ee82a84c08ff61": {
     "views": []
    },
    "63556bb0db3f461eba201db4573b5202": {
     "views": []
    },
    "642f7bad98ea442cbc09ea5a9b9dacf0": {
     "views": []
    },
    "644c54df8ce54a38b81eb51da136447c": {
     "views": []
    },
    "6456c02b868a4bcc921465834fd18f71": {
     "views": []
    },
    "64951aaf382248ef9534ea5f8062af3f": {
     "views": []
    },
    "64ac8b3462614e65910d17783a70af87": {
     "views": []
    },
    "651d5353343a49d687e081fd02b15e0d": {
     "views": []
    },
    "65af026f8319477b87df834c1230da39": {
     "views": []
    },
    "66209d575c9c4f58b504bd79dfc97ccd": {
     "views": []
    },
    "6627adde471642fc84f8505d1265f91b": {
     "views": []
    },
    "66803c81d3884104b8ca1e657be42604": {
     "views": []
    },
    "66999a0431ab4549a315f3e17e80e218": {
     "views": []
    },
    "675136db38bd44b582da5adb294e641e": {
     "views": []
    },
    "677b484d9d2841e3a7e68f05943a869f": {
     "views": []
    },
    "679001f96daa4b71894ade9721f30e31": {
     "views": []
    },
    "67ca84b7d6304189b2e5c3f306f7861a": {
     "views": []
    },
    "68123afad1f9456e9bae4e0e8d8a22fb": {
     "views": []
    },
    "681e0961b3344e5499f21b29a1803fbc": {
     "views": []
    },
    "6838e1a54e254e3086ca41541984a9c2": {
     "views": []
    },
    "6869fdf4619d455db76ec67221e86229": {
     "views": []
    },
    "68bc39781117480eb91e4a530b90ba62": {
     "views": []
    },
    "69cbc37c1d5c4cfa9aa27b7be58bb920": {
     "views": []
    },
    "69d3943ccb2643388cfb5eaa28bcdb9a": {
     "views": []
    },
    "69e64a79248d44b09abd24815bb1a69d": {
     "views": []
    },
    "69e8aa7a3a2743348c31046ab96911a9": {
     "views": []
    },
    "69ed9d82c31c42e48a4fed5eafe3e811": {
     "views": []
    },
    "6aacb02d1a6f4fe6ac5c3c7f3d3355b5": {
     "views": []
    },
    "6ae33a2a37be41258713953c713067c7": {
     "views": []
    },
    "6b08d375f28c433fabd54b16c3cb70c8": {
     "views": []
    },
    "6b3cbe2d653b4f0ca57aa6bfc091be38": {
     "views": []
    },
    "6b4ad630c04d40d4beac218449196df0": {
     "views": []
    },
    "6ba2905c778a4cc29e44dd884cb81792": {
     "views": []
    },
    "6c18808b05764f9e933bf8b5ea016d95": {
     "views": []
    },
    "6d1fc53ad5924f0298fc8642ba2f669a": {
     "views": []
    },
    "6d3ab72b83e04cfdbb080a5f3be46b95": {
     "views": []
    },
    "6d46d67da5c64e699abdf172ea2b3815": {
     "views": []
    },
    "6da560c6d27d401599ed9bea815bb0a4": {
     "views": []
    },
    "6e0ee6c99b354e04829fdea9be6c4d68": {
     "views": []
    },
    "6e29666230ba45969da3ceb2cc2b14e3": {
     "views": []
    },
    "6f17ca4a9edf437892b1f98ecedd6534": {
     "views": []
    },
    "6f5df4071dd548f1afbda6dc53510f63": {
     "views": []
    },
    "6f9e71ab7b0f40beb6b7421ab98c9414": {
     "views": []
    },
    "70b133058de041d1a959b6a4ab10aa55": {
     "views": []
    },
    "70c37bf4a69f4b24afccdd922a09610b": {
     "views": []
    },
    "710a8b11f7574612a936f2f97f02b052": {
     "views": []
    },
    "71377b23992a49019e82df379942a29c": {
     "views": []
    },
    "715f2f1e6b2543b4b203431ea44961ab": {
     "views": []
    },
    "71e0b6b892364ce4b99fe3257b8f3e7a": {
     "views": []
    },
    "72f989877192476daae260f43a361098": {
     "views": []
    },
    "7366b3a6e66e467d9ca635315930b790": {
     "views": []
    },
    "7405d3099bdb4bc08b416f72bc6cb530": {
     "views": []
    },
    "740c47846f404c24af5941c292c86782": {
     "views": []
    },
    "750d8cc4f1b94d4e8ccf5adb27e7a43d": {
     "views": []
    },
    "7558bc59f5e34894a4d779d5aaa30942": {
     "views": []
    },
    "761cc1725a3e4dc0a5ae6852142f5800": {
     "views": []
    },
    "76b47aa4aa19483e8f3b0d5388e0fe6b": {
     "views": []
    },
    "76cf7b1ece2d41b49666be024ee9b42d": {
     "views": []
    },
    "770d96a5d5464bb5a5faa5b9e863fdf3": {
     "views": []
    },
    "77575ac8b8fe4bc7bcbdceb7221c3708": {
     "views": []
    },
    "77c35ff63a314921ba9a7a5ef59c0c6b": {
     "views": []
    },
    "77dc8a9e78634e4ca16abd4dbb21a667": {
     "views": []
    },
    "77e05d5a43394b9f96e071560c43612f": {
     "views": []
    },
    "780da277e29c4fe29f14131f9be77076": {
     "views": []
    },
    "7835a8754ddf4f5e85ba6bf267acd6ca": {
     "views": []
    },
    "78b06491b6d74436b61224092dc405c4": {
     "views": []
    },
    "7987b0a38d6046f3be301475d2f072f0": {
     "views": []
    },
    "7aa37f9f754141dbbe2e3cb2f17bcb30": {
     "views": []
    },
    "7ae642b552784cfbb34f47c94baefc5b": {
     "views": []
    },
    "7b9990a16c1946e7bbf6714eaeeea319": {
     "views": []
    },
    "7cb7be0cc7e244da8b0c45c82d00e61a": {
     "views": []
    },
    "7dabd239ad2a424d8e40e92294bc1333": {
     "views": []
    },
    "7db74012469f4755b465a3691b4cde85": {
     "views": []
    },
    "7e35e5ac48b348bf8c14c4cbb4648581": {
     "views": []
    },
    "7e6aab6d7bca4849801f09aca4077d43": {
     "views": []
    },
    "7ec4af3c69e843eab925d09d1e9b7e18": {
     "views": []
    },
    "7ecc856f2d0e47ef81895f991e77b2f2": {
     "views": []
    },
    "7f08635c7e0643f39f396007d266739b": {
     "views": []
    },
    "7f35e3f44f6b4a1e837fe69f9ce8d8c9": {
     "views": []
    },
    "7f4772bc346045f690392e3c2d29435c": {
     "views": []
    },
    "7fc441cdeb90457cb0b0ee69b1b69416": {
     "views": []
    },
    "80093db60ee2466d9bbc47b9781e390f": {
     "views": []
    },
    "8012e681347641519787e85ed26c6ba1": {
     "views": []
    },
    "80e68e0dc28b428b9d694962911f1c9d": {
     "views": []
    },
    "81918648d49e45adb28588967a69a565": {
     "views": []
    },
    "81964f63db2e4508b4212dc410114a0e": {
     "views": []
    },
    "8240dccab78d42b6badc334997badaaf": {
     "views": []
    },
    "82b724258ecb40e88d90f7e9326fc7b0": {
     "views": []
    },
    "82d24b036e2f4c3e928f80e1d287c49d": {
     "views": []
    },
    "84799510e5964169b25179142bb42025": {
     "views": []
    },
    "8489701a98064ad4a34e32381d72c18f": {
     "views": []
    },
    "84934239a8104ee1a4a7abcb9d8b8a3c": {
     "views": []
    },
    "8503560528914ae58f96b15da6ed7aea": {
     "views": []
    },
    "8539a1467f024887a70eddcb8ded7824": {
     "views": []
    },
    "85b66a2398b74375bc1018ce86752d3c": {
     "views": []
    },
    "85d41c428f254a70b4b85e6c441812b3": {
     "views": []
    },
    "86cf2f03e6ff4a8a893524dd36a20309": {
     "views": []
    },
    "86eebe8bf4454cf2b588c4839010d15d": {
     "views": []
    },
    "87232c3a97a1455fa77103e70c9d182e": {
     "views": []
    },
    "87961b730ff349e0bd64f196f3b17f44": {
     "views": []
    },
    "881d35e77d6d441dbabf8fb69787f36a": {
     "views": []
    },
    "887d4c613d064f0084af7683ee30fef8": {
     "views": []
    },
    "88ca7d94741e425a988b23aca40f8d51": {
     "views": []
    },
    "88f92bfde9ef4bbfb9fa94516b022a49": {
     "views": []
    },
    "898765cf9f6d41be89dd18d0c1b38918": {
     "views": []
    },
    "8abe51aa70b84f808367c132156faf00": {
     "views": []
    },
    "8aed332532b843b99d8c4b1c0424ce9b": {
     "views": []
    },
    "8b114a70157940019bc5594bbed5697f": {
     "views": []
    },
    "8bc9273fcde3468fa692c5e4ec11b7af": {
     "views": []
    },
    "8c10df8f9d44482185aa9a919680934c": {
     "views": []
    },
    "8c8822f67f854aee8ad2f638958ef220": {
     "views": []
    },
    "8c8fefd12f9e4cd4872d535fc18d5152": {
     "views": []
    },
    "8de1db71ee8b43108e2b163bf6cb3d88": {
     "views": []
    },
    "8df61100720a49628dcea307afba0e55": {
     "views": []
    },
    "8ef9e6a3ca5349bc876d7cce31ca37ad": {
     "views": []
    },
    "8f182b38a6d34e5fb79b69c8d5322e96": {
     "views": []
    },
    "8f236b11ec324b529d97cc1a98705763": {
     "views": []
    },
    "900a0f42b1dd4459af187993d1756232": {
     "views": []
    },
    "902dc710b7f44ff2abd8cf5b19d9c262": {
     "views": []
    },
    "91875a82ab7a426397b533ff19078429": {
     "views": []
    },
    "91b7915e34f44a78850c8480d7fbe9b6": {
     "views": []
    },
    "91c917874d8b4d85814a429e692cb8f5": {
     "views": []
    },
    "92b23170aecc49d3bbe4843efa877bc0": {
     "views": []
    },
    "92c331d705e94151be909961e8596889": {
     "views": []
    },
    "92fed99385fa4ea6b779dbf8f198ea96": {
     "views": []
    },
    "9300b9967cbd49eb880eddfb63645d28": {
     "views": []
    },
    "9344c7ba3de944be9d856ccd1cdb3ebf": {
     "views": []
    },
    "93d9fce29ae34e8c819e2ca44e4d2994": {
     "views": []
    },
    "93ea2d4f36004927bf40a1a98e053242": {
     "views": []
    },
    "943a246bd1e74389b259238ae0e17432": {
     "views": []
    },
    "947bf9f16985465fb3204ac97a5a8f3e": {
     "views": []
    },
    "94c7576c80dc4ff7b72e7dfe54c4f610": {
     "views": []
    },
    "9520f3e4210a4f1a9725394262141acb": {
     "views": []
    },
    "958503a1df9c4501bb8fb591b924b8ed": {
     "views": []
    },
    "958a5edad8094760a951e38b0b2751c9": {
     "views": []
    },
    "9596145d0e7c4723a5a370d455a074c0": {
     "views": []
    },
    "95a0384de1234aa48ed2834fe6376dc1": {
     "views": []
    },
    "95a4bd649a824d0f8700d6e72521e570": {
     "views": []
    },
    "95e0a1ed761a4ad3af824e50d097768f": {
     "views": []
    },
    "95e5bd12a6a64e7da855904f2f533ed8": {
     "views": []
    },
    "95f5c39cfe434e78af5bdcd00925f935": {
     "views": []
    },
    "963f81a8760b4668b79ea949ee7cba1a": {
     "views": []
    },
    "96af5cd9b3de4f3f8ff0b237dd7f2fab": {
     "views": []
    },
    "96d8a878f9e848c389e8bdd3594700cc": {
     "views": []
    },
    "96e7108ed7744ca1aa207b682ce770d7": {
     "views": []
    },
    "96f65a3e743e42f6ae05b3caa6ce2f5c": {
     "views": []
    },
    "976e1278423448ccb275eb5865774a42": {
     "views": []
    },
    "97d2817e600e42b8ac050a7966cb5f64": {
     "views": []
    },
    "97dcbe685ce5441094ac038809cdc255": {
     "views": []
    },
    "9822e329e57548a29f3685f01ea4148a": {
     "views": []
    },
    "9848a544f8ed4f6ab6dcbfde42ba9f68": {
     "views": []
    },
    "9853f6f50dcd4899a4f02e61e607270b": {
     "views": []
    },
    "98956305771a4fdd859eb2770d58db2d": {
     "views": []
    },
    "98bdef4f37344dda860b73340def5b26": {
     "views": []
    },
    "98dac210dc1e4a5384213ca96f14407c": {
     "views": []
    },
    "99036f308f2f4605bd15b9550ce29d4e": {
     "views": []
    },
    "9975d581e2ea4f8fa5b726c9d96153aa": {
     "views": []
    },
    "99b7c08558c24bb1ba7cc17c55540636": {
     "views": []
    },
    "99bd7ce6b2ad4b809c4515579f8a47e0": {
     "views": []
    },
    "99f1e176f5544432b8a6dad508977c3d": {
     "views": []
    },
    "9a5caa02425543ca98e557a1a982fd1c": {
     "views": []
    },
    "9a827bf4bd3a453e9a6a69b4f9c81d88": {
     "views": []
    },
    "9b396027c1d64aaeabf09ebdc40e4591": {
     "views": []
    },
    "9b3d9e8fcec44db7b64ab335c2a43957": {
     "views": []
    },
    "9baa3aa65d22437e9b80e04f435bb763": {
     "views": []
    },
    "9cb0463a0458450bb4d1111e34ac590c": {
     "views": []
    },
    "9cf90b6722cb4a7799cf73098182a3e0": {
     "views": []
    },
    "9d45875951464eadbf6e58fc0864e799": {
     "views": []
    },
    "9d54155f5b484e4eadeeead9096ffd87": {
     "views": []
    },
    "9dba2b53b2604e1ca815c66b80366def": {
     "views": []
    },
    "9e2a89ef69804418b108fb2be01fd8b5": {
     "views": []
    },
    "9e4cf8bb91a04514aca3238fa3d34c28": {
     "views": []
    },
    "9f5f6f3d908a4710938055138ec89195": {
     "views": []
    },
    "9fad69fd382c419aa80b16224768a71f": {
     "views": []
    },
    "a041509300ab4880b7f3e27e33b5f872": {
     "views": []
    },
    "a059a4d70a684de595d060ae1693fc3c": {
     "views": []
    },
    "a0d863ba2b1049f39aeb391b344f4bdf": {
     "views": []
    },
    "a0f9d25979584f96a1c4590f53edf42c": {
     "views": []
    },
    "a1ed118ae2f34e50812866d798c0665d": {
     "views": []
    },
    "a1fd934b17a44e859a022e986846c5d6": {
     "views": []
    },
    "a2928a5c92d3408b839369ff1c4095ad": {
     "views": []
    },
    "a2c3d429d2c24a56ad4bf984d59317db": {
     "views": []
    },
    "a2d221b50695499185e69b0f3cf2cb57": {
     "views": []
    },
    "a2e40568d59948cda9c4f078c1b22652": {
     "views": []
    },
    "a38d5bb8982e47aaaf55f89852d63749": {
     "views": []
    },
    "a3ab920ed0e34ce3815d57daa23ac42b": {
     "views": []
    },
    "a41cc455d64244988e952d9b49ed8946": {
     "views": []
    },
    "a45fd7f354e44a68b44c0e22f0408a38": {
     "views": []
    },
    "a499816b76bf4d2fb75265c46445ac85": {
     "views": []
    },
    "a49b216175014adbb413c8c5e6748ecc": {
     "views": []
    },
    "a4d42ec47dd94ff6816e44f0701d26fa": {
     "views": []
    },
    "a588369aea0a4f4ca69ba0d3cac216e0": {
     "views": []
    },
    "a6684c41209d43f28663ebdcb71ed6fa": {
     "views": []
    },
    "a6eee8212cd84ceaa04c8716bedd9500": {
     "views": []
    },
    "a74c16ee7f6a46fd9a24f00358dd7ee1": {
     "views": []
    },
    "a87a57a5b6324739b7670161e445cba6": {
     "views": []
    },
    "a885c4274da6441b9097b977a907afad": {
     "views": []
    },
    "a8f8e2d8fce64c5dab7583422b02c6ab": {
     "views": []
    },
    "a9847d7c73604ed18da0c4fa1c47529d": {
     "views": []
    },
    "a9c4ef8fd01341d2a3ffa0dd3ccf5711": {
     "views": []
    },
    "aa07db3e26004b6187dda11502c8542b": {
     "views": []
    },
    "ab2d8ebf8e694db3987e24d86e718d66": {
     "views": []
    },
    "ab67bea1f93c4b6f8242ac32b32b068e": {
     "views": []
    },
    "ac3b3fd1a1534c06ab3f35386f985bfd": {
     "views": []
    },
    "ac81d2b87e634dfab63ce472a04a570e": {
     "views": []
    },
    "acba1b1a1e1b4e4ebe830ed427f48ee0": {
     "views": []
    },
    "acd09d3fc2cc4a99b06f37dcadc2f77e": {
     "views": []
    },
    "ace02e20ed9a475eab1baea6b81e236f": {
     "views": []
    },
    "ad7250a6a11642c6a23d43ce67fef43d": {
     "views": []
    },
    "ad7ef2fe04be4e9f9a9dc36659d5b3f0": {
     "views": []
    },
    "adae7a2995884af6bd95f209447be4f8": {
     "views": []
    },
    "ade5242e37dc4cefb5ea9961b0095bc9": {
     "views": []
    },
    "ae85bd08d0d54354a561e226fde4c3bf": {
     "views": []
    },
    "af8a687d58164f2fadf3b15315b7f1e2": {
     "views": []
    },
    "afe5b921efec4abc9a132487551325ab": {
     "views": []
    },
    "afef662887cd4674a7bcbfdf8f7d7e63": {
     "views": []
    },
    "b0324186723b429fb3c21fae9501bcea": {
     "views": []
    },
    "b08551865cf3499597df15e2a39edd6e": {
     "views": []
    },
    "b13bbe42e52c4ede89ed5c7e4e578d08": {
     "views": []
    },
    "b181ef14588a46999a9a89179e9037a6": {
     "views": []
    },
    "b1d0a1b2875d4a3cbb949a44dd01d118": {
     "views": []
    },
    "b23a7544a4304995bbb6d7107ab4b001": {
     "views": []
    },
    "b2c63c6ce86f4509b9dd44d49cf79966": {
     "views": []
    },
    "b36b71abd5bd48d4a59f67722cbb0e18": {
     "views": []
    },
    "b47252bb00934a89aa4fc33b176d8feb": {
     "views": []
    },
    "b4da1f9abb04436ba7364173d1469a92": {
     "views": []
    },
    "b4ee9d2c030043b59afee956d38907f0": {
     "views": []
    },
    "b5a1c605e0d84649873024e0a6f18c90": {
     "views": []
    },
    "b5d014b7302344eb8f6d8ce73ae3e661": {
     "views": []
    },
    "b61aca57e15e49379366b9f68d3c45d1": {
     "views": []
    },
    "b65f4c014665421688a0aaf73ba97c7a": {
     "views": []
    },
    "b6f0d92edb5b43e69043a78f136f14ec": {
     "views": []
    },
    "b723cc732d70412eb495a3ba9a5cb8cc": {
     "views": []
    },
    "b740079c2e4c487d9ce3ab185773e2ae": {
     "views": []
    },
    "b77be6b09ba04e05817cdfe6b0c6f02d": {
     "views": []
    },
    "b7b85072f04446da92f7263c0fa03734": {
     "views": []
    },
    "b7c81cfd87484baca60371ce97c8236e": {
     "views": []
    },
    "b8a8665c3dca4678bd33cd172d881ebf": {
     "views": []
    },
    "b8b809c36e044368bad21e52740e155b": {
     "views": []
    },
    "ba0e1bc2748c420ebfaaa86ee46f4691": {
     "views": []
    },
    "ba11e3ca05684fce829b716f327b66a3": {
     "views": []
    },
    "ba202be8ba8742dbb144e7943b644ed6": {
     "views": []
    },
    "bae19f7f0c8041a9b994a5a25a6bdec9": {
     "views": []
    },
    "baebf7a3e4de4675963f367116ce2f3c": {
     "views": []
    },
    "bbec5dba45b84c6d82d6e23d7135e5f0": {
     "views": []
    },
    "bca3c4cc07894c34bb10e4cf797c7c6f": {
     "views": []
    },
    "bd29774612964208a931242a040900f2": {
     "views": []
    },
    "bd7a0293f6cb421081ddfcaeadb58baa": {
     "views": []
    },
    "be493ae420894901a5000ad713b67a37": {
     "views": []
    },
    "bed5ac7871034bd4b1adedfc1e9c15b1": {
     "views": []
    },
    "bf04ca4c81684b83a31f98bc9a81c8d4": {
     "views": []
    },
    "bf5b90a5789b4c9a945dd57043b67062": {
     "views": []
    },
    "bf883b55e8e14359ae9ae35939d3988c": {
     "views": []
    },
    "c0003b69405b4c4192bf105a3c862a1d": {
     "views": []
    },
    "c07f1d5d42d94ca4bb73f2b69c5574d6": {
     "views": []
    },
    "c0cbfe4d3c094780abe65e9fdbf7276a": {
     "views": []
    },
    "c11c44eb25344686ba792f891fa113a2": {
     "views": []
    },
    "c124f155d12b4c0cb6e26c86e2ac90e0": {
     "views": []
    },
    "c12e359b6f6f4cebb8845948cae9bb28": {
     "views": []
    },
    "c131c7cdf140496da499e723332d112d": {
     "views": []
    },
    "c19c5dc8aeba4b50831a766109721340": {
     "views": []
    },
    "c1b1daeeff854508a3a0c86c528c664a": {
     "views": []
    },
    "c1e2aee8f2724872ad9c26da21dc7562": {
     "views": []
    },
    "c1fb061e84954cf48b32268c086f49e3": {
     "views": []
    },
    "c2488467e6574b6499d66228e3fd9278": {
     "views": []
    },
    "c28e0b31c37b4c42aaf6f16529f76e65": {
     "views": []
    },
    "c327e1846f38434fa37dd0ead205d003": {
     "views": []
    },
    "c3c2ce9e9f124448a0cd6774616a90b6": {
     "views": []
    },
    "c4cbb254a0414cf18306f1a9d892cb39": {
     "views": []
    },
    "c4ecf83f58df49369852b8cb5b12630e": {
     "views": []
    },
    "c53fd8e0b2d04c12825c81173fd03fc9": {
     "views": []
    },
    "c634204a3dd64f82a6827b64049fb309": {
     "views": []
    },
    "c643407ab9a74ebeb683c8c5b5793a74": {
     "views": []
    },
    "c684fee800e247d9895a919e606b6f31": {
     "views": []
    },
    "c74edc2e02ab4b6e81fe2f5f52c63c75": {
     "views": []
    },
    "c7ac456c23f345229f4a58131d1c5c48": {
     "views": []
    },
    "c8335038bf184e91b0b4ab7b6165252c": {
     "views": []
    },
    "c90028992b4d42d884b631e2a4ed73d0": {
     "views": []
    },
    "c922d48664014932a8ab3c7fd7a593ac": {
     "views": []
    },
    "c93b746990fb4f9498793a2e4b57bcd3": {
     "views": []
    },
    "c94b86bd0cde4d86b1f297a50a2fe9b5": {
     "views": []
    },
    "c96730a42b9241adad333823e45a22cf": {
     "views": []
    },
    "c99be1a85da14c01b1f66de4a4e1982f": {
     "views": []
    },
    "c9ea8224165c49c49a20b14dc2b3090c": {
     "views": []
    },
    "c9ec0a65250e45e4bf3f39230c9fa9f4": {
     "views": []
    },
    "ca4db7231c8b45888b458410a61a5804": {
     "views": []
    },
    "cad7a982575948d0b83f8433e9e60fe0": {
     "views": []
    },
    "cb069db32b6444eb82d906ff2065a879": {
     "views": []
    },
    "cb43d845d4344c1ca82b9996a1f409f4": {
     "views": []
    },
    "cb7096eee36d4d94a9b2cddf8b123f48": {
     "views": []
    },
    "cbd537973e2f4eeb82794c34a5d2b413": {
     "views": []
    },
    "cbfa1f9049af4a5787e0538e02c1903e": {
     "views": []
    },
    "cc4ad25a986c4b48810828ef56a93ae7": {
     "views": []
    },
    "cdd0d52571574190a1fab1b28a3bc9a5": {
     "views": []
    },
    "cdd179549dc14bae83dea7305340f061": {
     "views": []
    },
    "ce21f24b4fea493a8c1952ec9ddd0674": {
     "views": []
    },
    "ce81d3123d74443189d9db7e799dea1d": {
     "views": []
    },
    "cef1095a8e694a478d3db05e93f3e157": {
     "views": []
    },
    "cf2a8fc84ebc4e4f91ea9c2b4b5f0c35": {
     "views": []
    },
    "cfa28117489a49b1bd7860469396dd85": {
     "views": []
    },
    "cfb29a140b9c4ccf9c7161afa655553b": {
     "views": []
    },
    "d0031d2f2d0c47869dd8c984b84bf58e": {
     "views": []
    },
    "d0070f24b48c425fbb93085dd539e063": {
     "views": []
    },
    "d073b52fbc404690aabcd13cb72b340c": {
     "views": []
    },
    "d088778dd8a9406a89e6c012b96149e8": {
     "views": []
    },
    "d0ee6a236f7c46b2a7e6077abb36a8ba": {
     "views": []
    },
    "d194ee13d75b400cbe7a6e791d79cd51": {
     "views": []
    },
    "d1c4c928b57e4525b497298af4b7c865": {
     "views": []
    },
    "d1ea9bc245614e30acdf8aefdabcff94": {
     "views": []
    },
    "d2030a1e4a1d4fb5a1f7205b2ea80f74": {
     "views": []
    },
    "d22a3d140ee24b87a2456a27cc57e77e": {
     "views": []
    },
    "d24a56250532483bb46a72401ccdda0b": {
     "views": []
    },
    "d31626e382ce44abb5d972ca27441b77": {
     "views": []
    },
    "d4414d7ca5e54795be2504d2836c6f05": {
     "views": []
    },
    "d45bcc99db314d91affbc3ff5a08b6b0": {
     "views": []
    },
    "d46781c2a3c7417ba50031cab819dd5a": {
     "views": []
    },
    "d4f8f3d52a1d4018b88b177024ec5334": {
     "views": []
    },
    "d55098efef53460eba5476ba31e90104": {
     "views": []
    },
    "d56b9f7cc7cc4446bcd18b6122a55cfd": {
     "views": []
    },
    "d5a7b2b83bad4e65a170ae60c3710f80": {
     "views": []
    },
    "d5b7c003e5fc40da9940cf60f24012b2": {
     "views": []
    },
    "d619e88feb554b9db19a3c24e760058b": {
     "views": []
    },
    "d6a4a70f72e446aa931c0aaef55f71dd": {
     "views": []
    },
    "d6c8185dd7a3474492852d27843901f3": {
     "views": []
    },
    "d74fe21ad21349de92ba5008d69b9a90": {
     "views": []
    },
    "d80d533c03034ff085480999b78c6f19": {
     "views": []
    },
    "d82503f2784c4c9cb81fdcb690029b17": {
     "views": []
    },
    "d85e363b54ae4eb6ae89b5d27bfdb008": {
     "views": []
    },
    "d89907e2ad24467ea7770eedc022165e": {
     "views": []
    },
    "d8e4425971574e1e8f11af35d2a9742e": {
     "views": []
    },
    "d9909d6d22f64fd287fb1df4613b0551": {
     "views": []
    },
    "d9f3f23eefe4466c95d203d417087b5b": {
     "views": []
    },
    "da3ca653da18434298ff4c5a65d62611": {
     "views": []
    },
    "da5da8d491a341bbb0a1ce351309b16f": {
     "views": []
    },
    "db045e0773a543b986b741aae4196cdc": {
     "views": []
    },
    "db3265c8d91c4d1fb0575cb87755dd51": {
     "views": []
    },
    "db4f743763f74ac1bea11ae5c7718145": {
     "views": []
    },
    "dbdc722ae40a41e7b4418cdf74c0b950": {
     "views": []
    },
    "dbe5ab0a2d2343fa92fddd108495e803": {
     "views": []
    },
    "dc23cdb0bc514f2da8f1a5164f210dfb": {
     "views": []
    },
    "dc3f49668d14451db86b6b376bca0263": {
     "views": []
    },
    "dd0c8a68238842cc9d2f048ba63a974e": {
     "views": []
    },
    "dd0d97daf6864c1691deae107d0be115": {
     "views": []
    },
    "dd5b7a9af6c047c78615f4ff1422363e": {
     "views": []
    },
    "dd9906b0ad2e41999e128bbafd00887c": {
     "views": []
    },
    "ddae317e69ae43a29fe05fc9791cf9e5": {
     "views": []
    },
    "de523d959184481d8297201a555ff642": {
     "views": []
    },
    "de9f837c36eb4020b64a1001d218e204": {
     "views": []
    },
    "dee97cd8fa2a4d30b4fe56a5aab5cf7f": {
     "views": []
    },
    "df0169da7b3448809a02ba60274f717c": {
     "views": []
    },
    "df29de5b05054ef39196925a54f61a7a": {
     "views": []
    },
    "df305889a5bb451ba6957e4049fedd7d": {
     "views": []
    },
    "df33c36af77d44288ccd3e766f902d02": {
     "views": []
    },
    "df3966ff5f7947ba83c55e3e26fc5961": {
     "views": []
    },
    "df5356985d1f46c5afd46b0f8c8ffb7d": {
     "views": []
    },
    "df85c11542ad44ce91653d75fbf03cb7": {
     "views": []
    },
    "dfbe55211f1f4f3486495c13d9bcbee0": {
     "views": []
    },
    "dfe0362bd6584a2788da4cdc17b8f240": {
     "views": []
    },
    "e017fc7636fa4d3f957eef6bb9514784": {
     "views": []
    },
    "e01ddc2fa6d24a2aa93521dc5f120643": {
     "views": []
    },
    "e08aff57ea564ab2971b6b0de057f181": {
     "views": []
    },
    "e130a18184444bd5a80e04e47cd77ab7": {
     "views": []
    },
    "e15cfad14ff34c0684d56a5593473171": {
     "views": []
    },
    "e1890851cbf74786bc19d4d878552f9d": {
     "views": []
    },
    "e1c8a4955fd441dc8df5b53c453db044": {
     "views": []
    },
    "e2141965055140718bfd2427febdd756": {
     "views": []
    },
    "e3288fddbb0f4f438487a9174854ee1c": {
     "views": []
    },
    "e3b11c02b92949dda3a9fc5086edbe3a": {
     "views": []
    },
    "e40772ef289d4697a8682fa99750eee4": {
     "views": []
    },
    "e525571dd1194e4c8ad2b079026f7742": {
     "views": []
    },
    "e5ae17431898484590f5db9ef96fc05c": {
     "views": []
    },
    "e5fb8d1884c5456397932dcd668fe02e": {
     "views": []
    },
    "e651032a1ae34a76b34f0e3caafc4045": {
     "views": []
    },
    "e6a322de178442ce92a1897e86da6695": {
     "views": []
    },
    "e735faeca759470198f57a2c902e2f10": {
     "views": []
    },
    "e81c380da406413a972b2438bd24c1b2": {
     "views": []
    },
    "e88421aafd2c48a3af9cd953851724d7": {
     "views": []
    },
    "e88ef3ac417a45d7ab9b869892959cb7": {
     "views": []
    },
    "e92946a566bb4d57a9511ac9556ccfa9": {
     "views": []
    },
    "e94a4666441a4c9c995c4c273d4855cf": {
     "views": []
    },
    "e955b8cb27144c1e804e2b07c207fe20": {
     "views": []
    },
    "e9c746ec66d2488c942a6d167ef9a617": {
     "views": []
    },
    "ea44e138de514633b2a192aec2aad8cd": {
     "views": []
    },
    "ea744430035b4950814a438129626174": {
     "views": []
    },
    "eab5795ddc4d4fcc89ad477fab523ae2": {
     "views": []
    },
    "eb4b02fddaac4b56a7edcc4aa3eb5296": {
     "views": []
    },
    "ebad99c034ca4d7c8704b17b11bf45d5": {
     "views": []
    },
    "ebca7507f4364ff3a84487a0428ae812": {
     "views": []
    },
    "ec1145599a6f4faca704cb714b871253": {
     "views": []
    },
    "ec41e28f433b4bf4987782226dc775db": {
     "views": []
    },
    "ec58e36d640140c0bc7d1d1cb9914258": {
     "views": []
    },
    "ec9130af6d5241d3b25a39fb0485f700": {
     "views": []
    },
    "ec9c7414086c4084a0703bf539ca6aba": {
     "views": []
    },
    "ecb20c68b4034ddf87b162155b867304": {
     "views": []
    },
    "ecb9506c34f54d76a89b869c4de05728": {
     "views": []
    },
    "ed6634017b454a07a69e9a34251f7f9d": {
     "views": []
    },
    "ed8929e0824e416abd7febcd16dfed16": {
     "views": []
    },
    "edcb7314e6c8406fac041aa546ac1c57": {
     "views": []
    },
    "eeed7b3a4fa649b1a04f27c0ff9b6d60": {
     "views": []
    },
    "ef14b9f9d45f4f4eb4084ced0b7791a4": {
     "views": []
    },
    "ef7cdab47b8c4410be03f9622e18f9b6": {
     "views": []
    },
    "f05cf921090b40eba8b41ef8b0a653ea": {
     "views": []
    },
    "f0828db19d804ad4836bfb09513d483e": {
     "views": []
    },
    "f112a85a52a7416ebf60516e0150643e": {
     "views": []
    },
    "f130a789718c4db58cf9a40b7a5adf8b": {
     "views": []
    },
    "f2a97f9af6bf4e718043a5c11c8d86d1": {
     "views": []
    },
    "f2fa5e0c27214a28bbabf17b54c68fcd": {
     "views": []
    },
    "f315f772be724e34842797aa43d53be6": {
     "views": []
    },
    "f3dc94e471744c3fa4cc511aa9d6964c": {
     "views": []
    },
    "f42afbf66bdf45f0890bc17e9b1fa45b": {
     "views": []
    },
    "f4450ad5c14642299ed35ebcb6714e1e": {
     "views": []
    },
    "f48ee5550f0d4fa499d761d22e27d0ce": {
     "views": []
    },
    "f5b955963b6445089da66d51482fc7bc": {
     "views": []
    },
    "f5eb2cb8f1d541069bec9046d2eb95b5": {
     "views": []
    },
    "f77e659cd2ad471e9aba0db5d6451b6b": {
     "views": []
    },
    "f7ea8474f7894b56bd6650c2fda4b77c": {
     "views": []
    },
    "f889cc2fabf543ca85ea40c7cd0083e1": {
     "views": []
    },
    "f8a36760c0b24e84962381aa7e78f8be": {
     "views": []
    },
    "f977907bbe054708a6cbdcb9372f54fb": {
     "views": []
    },
    "f981fbbd8d244d8ca215b854d8313058": {
     "views": []
    },
    "fa08f30c313a402d98428564a2a6bc8a": {
     "views": []
    },
    "fa233338f4ac4a709c0c04dd1eccfe23": {
     "views": []
    },
    "fa3cb662d06b4067a80d0d84e27d077f": {
     "views": []
    },
    "fad0e965d6db4931b83127fc7dac7c17": {
     "views": []
    },
    "fb26340b979c430c8fdbb29f85770c98": {
     "views": []
    },
    "fb30b969ba4f479d8396215c2c8b527f": {
     "views": []
    },
    "fbf511f441314c8797722f8642bf76cc": {
     "views": []
    },
    "fbf5d0083ae643d299a678795941c2e0": {
     "views": []
    },
    "fc938b969e684143ad68842dc10fc32e": {
     "views": []
    },
    "fd7dc9a3d68742178c52418408ce496e": {
     "views": []
    },
    "fd93a14833164573839f022302c3798d": {
     "views": []
    },
    "fda2f6b8e4a648a9af117430b4309e3b": {
     "views": []
    },
    "fdf10a76ae0c4225aec3ee91af5233e4": {
     "views": []
    },
    "fe0253c2cd3646f2aa0848ee3ce28290": {
     "views": []
    },
    "fe35753cc15e46449ff93a7bab452840": {
     "views": []
    },
    "fe81a29f756a41f5ab3d865f43cf9778": {
     "views": []
    },
    "feec18a86de24d5db3ca0346e90e46c7": {
     "views": []
    },
    "ff28f254395347ab97bd6205c70cf86f": {
     "views": []
    },
    "ff2c8c7556f54b4191d5773d5624667c": {
     "views": []
    },
    "ff5261db8dee4a3f9ad02a6095d57477": {
     "views": []
    },
    "ff6604126f90484bba086d5c127c254e": {
     "views": []
    },
    "ff6fcce32b3f43a4918e0df363241c9f": {
     "views": []
    }
   },
   "version": "1.1.1"
  }
 },
 "nbformat": 4,
 "nbformat_minor": 0
}
