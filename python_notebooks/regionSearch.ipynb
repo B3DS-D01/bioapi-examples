{
 "cells": [
  {
   "cell_type": "markdown",
   "metadata": {},
   "source": [
    "### Initialize the client\n",
    "\n",
    "As seen in the \"1kg.ipynb\" example, we take the following steps to create the client object that will be used to obtain the information we desire and query the server. Plotting tools are also imported here."
   ]
  },
  {
   "cell_type": "code",
   "execution_count": 1,
   "metadata": {
    "collapsed": false
   },
   "outputs": [],
   "source": [
    "import ga4gh.client as client\n",
    "c = client.HttpClient(\"http://1kgenomes.ga4gh.org\")\n",
    "\n",
    "import sys\n",
    "import collections\n",
    "import math\n",
    "%matplotlib inline\n",
    "import matplotlib\n",
    "import numpy as np\n",
    "import matplotlib.pyplot as plt\n",
    "\n",
    "from __future__ import print_function\n",
    "from ipywidgets import interact, interactive, fixed\n",
    "from IPython.display import display\n",
    "import ipywidgets as widgets"
   ]
  },
  {
   "cell_type": "markdown",
   "metadata": {},
   "source": [
    "### Acquiring annotation set\n",
    "\n",
    "We query the server for the dataset, which is the 1k-genomes dataset. The dataset has a unique ID that can be used to acquire each variant set within the dataset. \n",
    "\n",
    "To access the different kinds of annotations, we access the annotation set using the unique variant set ID."
   ]
  },
  {
   "cell_type": "code",
   "execution_count": 2,
   "metadata": {
    "collapsed": false
   },
   "outputs": [],
   "source": [
    "dataset = c.searchDatasets().next()\n",
    "\n",
    "for variantSet in c.searchVariantSets(dataset.id):\n",
    "    if variantSet.name == \"functional-annotation\":\n",
    "        annotation = variantSet\n",
    "\n",
    "annotationSet = c.searchVariantAnnotationSets(variantSetId=annotation.id).next()"
   ]
  },
  {
   "cell_type": "markdown",
   "metadata": {},
   "source": [
    "### Running Search\n",
    "\n",
    "runSearch is called below using ipywidgets. Some global variables are initialized for other functions to use and the start and end points are set based on how many buckets the user wants. The function then searches for the transcript effects, given the transcript effect the user is looking for."
   ]
  },
  {
   "cell_type": "code",
   "execution_count": 3,
   "metadata": {
    "collapsed": false
   },
   "outputs": [],
   "source": [
    "def runSearch(startPos, endPos, chromosome, searchTerms, buckets):\n",
    "    \n",
    "    global formatSearch \n",
    "    formatSearch = []\n",
    "    \n",
    "    for i in range(0,len(searchTerms)):\n",
    "        formatSearch.append({\"id\":searchTerms[i]})\n",
    "    \n",
    "    global windowCount\n",
    "    windowCount = int(buckets)\n",
    "    \n",
    "    global initStart\n",
    "    global initEnd\n",
    "    initStart = startPos\n",
    "    initEnd = endPos\n",
    "    startPoint = int(startPos)\n",
    "    endPoint = (int(startPos)+(int(endPos)-int(startPos))/int(buckets))\n",
    "    \n",
    "    global yList\n",
    "    global xTickList\n",
    "    yList=[]\n",
    "    xTickList=[]\n",
    "    \n",
    "    for i in range(0,windowCount):\n",
    "        \n",
    "        searchedVarAnns=c.searchVariantAnnotations(variantAnnotationSetId=annotationSet.id, start=startPoint, end=endPoint, referenceName=chromosome, effects=formatSearch)\n",
    "    \n",
    "        idList = []\n",
    "        startEndList = []\n",
    "        \n",
    "        for annotation in searchedVarAnns:\n",
    "            #print(annotation)\n",
    "            idList.append(annotation.variant_id)\n",
    "    \n",
    "        for ids in idList:\n",
    "            important = c.getVariant(ids)\n",
    "            startEndList.append(important.start)\n",
    "            startEndList.append(important.end)\n",
    "        countingStats(seVals=startEndList, windowValue=windowCount, yValList=yList, startPos=startPoint, endPos=endPoint)\n",
    "        \n",
    "        startPoint+=(int(endPos)-int(startPos))/int(buckets)\n",
    "        endPoint+=(int(endPos)-int(startPos))/int(buckets)\n",
    "        del idList[:]\n",
    "        del startEndList[:]\n",
    "    "
   ]
  },
  {
   "cell_type": "markdown",
   "metadata": {},
   "source": [
    "### Counting Statistics\n",
    "\n",
    "countingStats arranges the data in a way that will work nicely with matplotlib. The values are then passed onto the plotting function."
   ]
  },
  {
   "cell_type": "code",
   "execution_count": 4,
   "metadata": {
    "collapsed": false
   },
   "outputs": [],
   "source": [
    "def countingStats(seVals, windowValue, yValList,startPos, endPos):\n",
    "    values = np.empty([int(len(seVals))/2,2], dtype=np.int32)\n",
    "    \n",
    "    j=0\n",
    "    k=1\n",
    "    for i in range(0,int(len(seVals))/2):\n",
    "        values[i][0] = seVals[j]\n",
    "        values[i][1] = seVals[k]\n",
    "        j+=2\n",
    "        k+=2\n",
    "    \n",
    "    yList.append(len(values))\n",
    "    \n",
    "    xTickList.append(values)\n",
    "    \n",
    "    if len(yList)==windowValue:\n",
    "        plotWindowHistogram(xTickList, yList, windowValue, startPos, endPos)"
   ]
  },
  {
   "cell_type": "markdown",
   "metadata": {},
   "source": [
    "### Plotting\n",
    "\n",
    "All the statistics are gathered and then graphed. The function creates different graph titles depending on what effects and regions the user searches."
   ]
  },
  {
   "cell_type": "code",
   "execution_count": 5,
   "metadata": {
    "collapsed": false
   },
   "outputs": [],
   "source": [
    "def plotWindowHistogram(xAxisTicks, yAxisValues, windowVals, startPos, endPos):\n",
    "    \n",
    "    fig, ax = plt.subplots()\n",
    "    \n",
    "    endValues = np.empty([1,2], dtype=np.int32)\n",
    "\n",
    "    endValues[0][0] = startPos\n",
    "    endValues[0][1] = endPos\n",
    "    \n",
    "    ax.set_xticklabels(endValues, rotation=90)\n",
    "    \n",
    "    for i in range(0,windowVals):\n",
    "        plt.bar(i, yAxisValues[i], width=1, color=['maroon'])\n",
    "    \n",
    "    #h = plt.bar(xrange(len(xAxisTicks)), yAxisValues, label=xAxisTicks)\n",
    "    #xticks_pos = [0.50*patch.get_width() + patch.get_xy()[0] for patch in h]\n",
    "    #plt.xticks(xticks_pos, xAxisTicks,  ha='right', rotation=45)\n",
    "    \n",
    "    # title and graph size formatting\n",
    "    title=\"\"\n",
    "    if len(formatSearch)==1:\n",
    "        ax.set_title(str(formatSearch[0]['id'])+\" from \"+str(initStart)+\" to \"+str(initEnd))\n",
    "    else:\n",
    "        for i in range(0,len(formatSearch)):\n",
    "            if i!=(len(formatSearch)-1):\n",
    "                title+=str(formatSearch[i]['id'])+\", \"\n",
    "            else:\n",
    "                title+=\"and \"+str(formatSearch[i]['id'])+\" \"\n",
    "        ax.set_title(title+\"from \"+str(initStart)+\" to \"+str(initEnd))\n",
    "        \n",
    "    ax.set_ylim([0,int(math.ceil(max(yAxisValues)/5.0))*5])\n",
    "    ax.set_xticklabels([endValues])\n",
    "    plt.rcParams[\"figure.figsize\"] = [10,10]\n",
    "    \n",
    "    plt.show()"
   ]
  },
  {
   "cell_type": "markdown",
   "metadata": {},
   "source": [
    "### Interact Widgets\n",
    "\n",
    "A dictionary of transcript effects and their search ontology ID's is made so that the user doesn't have to remember the ID's. runSearch is then called and the interact function gives\" runSearch all of the necessary parameters based on what the user has chosen."
   ]
  },
  {
   "cell_type": "code",
   "execution_count": 6,
   "metadata": {
    "collapsed": false,
    "scrolled": false
   },
   "outputs": [
    {
     "data": {
      "image/png": "[encoded data removed]",
      "text/plain": [
       "<matplotlib.figure.Figure at 0x104bddd10>"
      ]
     },
     "metadata": {},
     "output_type": "display_data"
    }
   ],
   "source": [
    "searchOntologyDict = {'transcript_ablation' : 'SO:0001893', 'splice_acceptor_variant' : 'SO:0001574', 'splice_donor_variant' : 'SO:0001575', 'stop_gained' : 'SO:0001587', 'frameshift_variant' : 'SO:0001589', 'stop_lost' : 'SO:0001578', 'start_lost' : 'SO:0002012', 'transcript_amplification' : 'SO:0001889', 'inframe_insertion' : 'SO:0001821', 'inframe_deletion' : 'SO:0001822', 'missense_variant' : 'SO:0001583', 'protein_altering_variant' : 'SO:0001818', 'splice_region_variant' : 'SO:0001630', 'incomplete_terminal_codon_variant' : 'SO:0001626', 'stop_retained_variant' : 'SO:0001567', 'synonymous_variant' : 'SO:0001819', 'coding_sequence_variant' : 'SO:0001580', 'mature_miRNA_variant' : 'SO:0001620', '5_prime_UTR_variant' : 'SO:0001623', '3_prime_UTR_variant' : 'SO:0001624', 'non_coding_transcript_exon_variant' : 'SO:0001792', 'intron_variant' : 'SO:0001627', 'NMD_transcript_variant' : 'SO:0001621', 'non_coding_transcript_variant' : 'SO:0001619', 'upstream_gene_variant' : 'SO:0001631', 'downstream_gene_variant' : 'SO:0001632', 'TFBS_ablation' : 'SO:0001892', 'TFBS_amplification' : 'SO:0001892', 'TF_binding_site_variant' : 'SO:0001782', 'regulatory_region_ablation' : 'SO:0001894', 'regulatory_region_amplification' : 'SO:0001891', 'feature_elongation' : 'SO:0001907', 'regulatory_region_variant' : 'SO:0001566', 'feature_truncation' : 'SO:0001906', 'intergenic_variant' : 'SO:0001628'}\n",
    "shortDict = {'intron_variant' : 'SO:0001627', 'feature_truncation' : 'SO:0001906' , 'non_coding_transcript_exon_variant' : 'SO:0001792' , 'non_coding_transcript_variant' : 'SO:0001619', 'transcript_ablation' : 'SO:0001893'}\n",
    "chromList = ('1','2','3','4','5','6','7','8','9','10','11','12','13','14','15','16','17','18')\n",
    "\n",
    "\n",
    "multiSelect = widgets.SelectMultiple(\n",
    "    description=\"Transcript Effects\",\n",
    "    options=shortDict\n",
    ")\n",
    "\n",
    "interact(runSearch,\n",
    "         startPos=\"13000\",\n",
    "         endPos=\"13300\",\n",
    "         chromosome=chromList,\n",
    "         searchTerms=multiSelect,\n",
    "         buckets=\"10\",\n",
    "         __manual=\"True\"\n",
    "         )"
   ]
  },
  {
   "cell_type": "code",
   "execution_count": null,
   "metadata": {
    "collapsed": true
   },
   "outputs": [],
   "source": []
  }
 ],
 "metadata": {
  "kernelspec": {
   "display_name": "Python 2",
   "language": "python",
   "name": "python2"
  },
  "language_info": {
   "codemirror_mode": {
    "name": "ipython",
    "version": 2
   },
   "file_extension": ".py",
   "mimetype": "text/x-python",
   "name": "python",
   "nbconvert_exporter": "python",
   "pygments_lexer": "ipython2",
   "version": "2.7.11"
  },
  "widgets": {
   "state": {
    "14c08569e5ea4a6284e2ab3e6666668b": {
     "views": []
    },
    "2a4a3cc56c99415fbea4e33cb982f8c1": {
     "views": []
    },
    "40aebff675cb41a083bb6caf1918a1f2": {
     "views": []
    },
    "42042b5e406246ce8e9e6ba56dcf6cd0": {
     "views": []
    },
    "719b43c7ed234848b74fb11a7ab5ba7a": {
     "views": []
    },
    "8ffda50a9f0645c4810d5170f11ad4e6": {
     "views": []
    },
    "a81a8807b13f4e5cb7674a256529bca4": {
     "views": []
    },
    "a9fd96fa0def4ee78ffe1d94dc82fab5": {
     "views": []
    },
    "ade627bdf1dd45139def15f20dcdf77b": {
     "views": []
    },
    "bbe7b7930e024ecfac79ae12d80512d2": {
     "views": []
    },
    "c2e00b4e3858409da71671e6cfd792cb": {
     "views": []
    },
    "d49341c1b2a1476495af00cf53a709ed": {
     "views": []
    },
    "e57c64152e9749df9f2a37919b0f89ff": {
     "views": [
      {
       "cell_index": 11
      }
     ]
    },
    "f1c5d96921ea436183eda5817497ba26": {
     "views": []
    }
   },
   "version": "1.1.1"
  }
 },
 "nbformat": 4,
 "nbformat_minor": 0
}
