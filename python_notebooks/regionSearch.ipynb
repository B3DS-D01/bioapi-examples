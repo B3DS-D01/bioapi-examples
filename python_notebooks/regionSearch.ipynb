{
 "cells": [
  {
   "cell_type": "markdown",
   "metadata": {},
   "source": [
    "### Initialize the client\n",
    "\n",
    "As seen in the \"1kg.ipynb\" example, we take the following steps to create the client object that will be used to obtain the information we desire and query the server. Plotting tools are also imported here."
   ]
  },
  {
   "cell_type": "code",
   "execution_count": 7,
   "metadata": {
    "collapsed": false
   },
   "outputs": [],
   "source": [
    "import ga4gh.client as client\n",
    "c = client.HttpClient(\"http://1kgenomes.ga4gh.org\")\n",
    "\n",
    "import collections\n",
    "%matplotlib inline\n",
    "import matplotlib\n",
    "import numpy as np\n",
    "import matplotlib.pyplot as plt\n",
    "\n",
    "from __future__ import print_function\n",
    "from ipywidgets import interact, interactive, fixed\n",
    "import ipywidgets as widgets"
   ]
  },
  {
   "cell_type": "markdown",
   "metadata": {},
   "source": [
    "### Acquiring annotation set\n",
    "\n",
    "We query the server for the dataset, which is the 1k-genomes dataset. The dataset has a unique ID that can be used to acquire each variant set within the dataset. \n",
    "\n",
    "To access the different kinds of annotations, we access the annotation set using the unique variant set ID."
   ]
  },
  {
   "cell_type": "code",
   "execution_count": 8,
   "metadata": {
    "collapsed": false
   },
   "outputs": [],
   "source": [
    "dataset = c.searchDatasets().next()\n",
    "\n",
    "for variantSet in c.searchVariantSets(dataset.id):\n",
    "    if variantSet.name == \"functional-annotation\":\n",
    "        annotation = variantSet\n",
    "\n",
    "annotationSet = c.searchVariantAnnotationSets(variantSetId=annotation.id).next()"
   ]
  },
  {
   "cell_type": "code",
   "execution_count": 9,
   "metadata": {
    "collapsed": false
   },
   "outputs": [],
   "source": [
    "def doThings(startPos, endPos, chromosome, searchTerm, window):\n",
    "    \n",
    "    windowCount = ((int(endPos)-int(startPos))/int(window))\n",
    "    print(\"windowCount = \",windowCount)\n",
    "    \n",
    "    abc=c.searchVariantAnnotations(variantAnnotationSetId=annotationSet.id, start=int(startPos), end=int(startPos)+int(window), referenceName=chromosome, effects=[{\"id\": searchTerm}])\n",
    "    idList = []\n",
    "    startEndList = []\n",
    "    \n",
    "    for annotation in abc:\n",
    "        idList.append(annotation.variant_id)\n",
    "    \n",
    "    i=0\n",
    "    for ids in idList:\n",
    "        important = c.getVariant(ids)\n",
    "   \n",
    "        i+=1\n",
    "        \n",
    "        startEndList.append(important.start)\n",
    "        startEndList.append(important.end)\n",
    "        \n",
    "    countingStats(seVals=startEndList, windowValue=windowCount)\n",
    "    "
   ]
  },
  {
   "cell_type": "code",
   "execution_count": 10,
   "metadata": {
    "collapsed": false
   },
   "outputs": [],
   "source": [
    "def countingStats(seVals, windowValue):\n",
    "    values = np.empty([int(len(seVals))/2,2], dtype=np.int32)\n",
    "    \n",
    "    \n",
    "    j=0\n",
    "    k=1\n",
    "    for i in range(0,int(len(seVals))/2):\n",
    "        values[i][0] = seVals[j]\n",
    "        values[i][1] = seVals[k]\n",
    "        j+=2\n",
    "        k+=2\n",
    "    \n",
    "    print(values)\n",
    "    print(len(values))    \n",
    "   \n",
    "    plotHistogram(values, np.arange(1,len(values)+1))\n"
   ]
  },
  {
   "cell_type": "code",
   "execution_count": 11,
   "metadata": {
    "collapsed": true
   },
   "outputs": [],
   "source": [
    "def plotHistogram(xAxisTicks,yAxisValues):\n",
    "    \n",
    "    fig, ax = plt.subplots()\n",
    "    \n",
    "    xRange = np.arange(len(xAxisTicks))\n",
    "\n",
    "    ax.set_xticklabels(xAxisTicks, rotation=45)\n",
    "    ax.set_xticks(xRange)\n",
    "    plt.bar(xRange,yAxisValues,color=['green'],edgecolor=\"none\")\n",
    "\n",
    "    plt.show()"
   ]
  },
  {
   "cell_type": "code",
   "execution_count": 13,
   "metadata": {
    "collapsed": false,
    "scrolled": false
   },
   "outputs": [
    {
     "name": "stdout",
     "output_type": "stream",
     "text": [
      "windowCount =  1\n",
      "[[13010 13011]\n",
      " [13109 13110]\n",
      " [13115 13116]\n",
      " [13117 13118]\n",
      " [13155 13156]]\n",
      "5\n"
     ]
    },
    {
     "data": {
      "image/png": "[encoded data removed]",
      "text/plain": [
       "<matplotlib.figure.Figure at 0x10d766290>"
      ]
     },
     "metadata": {},
     "output_type": "display_data"
    }
   ],
   "source": [
    "searchOntologyDict = {'transcript_ablation' : 'SO:0001893', 'splice_acceptor_variant' : 'SO:0001574', 'splice_donor_variant' : 'SO:0001575', 'stop_gained' : 'SO:0001587', 'frameshift_variant' : 'SO:0001589', 'stop_lost' : 'SO:0001578', 'start_lost' : 'SO:0002012', 'transcript_amplification' : 'SO:0001889', 'inframe_insertion' : 'SO:0001821', 'inframe_deletion' : 'SO:0001822', 'missense_variant' : 'SO:0001583', 'protein_altering_variant' : 'SO:0001818', 'splice_region_variant' : 'SO:0001630', 'incomplete_terminal_codon_variant' : 'SO:0001626', 'stop_retained_variant' : 'SO:0001567', 'synonymous_variant' : 'SO:0001819', 'coding_sequence_variant' : 'SO:0001580', 'mature_miRNA_variant' : 'SO:0001620', '5_prime_UTR_variant' : 'SO:0001623', '3_prime_UTR_variant' : 'SO:0001624', 'non_coding_transcript_exon_variant' : 'SO:0001792', 'intron_variant' : 'SO:0001627', 'NMD_transcript_variant' : 'SO:0001621', 'non_coding_transcript_variant' : 'SO:0001619', 'upstream_gene_variant' : 'SO:0001631', 'downstream_gene_variant' : 'SO:0001632', 'TFBS_ablation' : 'SO:0001892', 'TFBS_amplification' : 'SO:0001892', 'TF_binding_site_variant' : 'SO:0001782', 'regulatory_region_ablation' : 'SO:0001894', 'regulatory_region_amplification' : 'SO:0001891', 'feature_elongation' : 'SO:0001907', 'regulatory_region_variant' : 'SO:0001566', 'feature_truncation' : 'SO:0001906', 'intergenic_variant' : 'SO:0001628'}\n",
    "shortDict = {'intron_variant' : 'SO:0001627', 'feature_truncation' : 'SO:0001906' , 'non_coding_transcript_exon_variant' : 'SO:0001792' , 'non_coding_transcript_variant' : 'SO:0001619', 'transcript_ablation' : 'SO:0001893'}\n",
    "chromList = ('1','2','3','4','5','6','7','8','9','10','11','12','13','14','15','16','17','18')\n",
    "\n",
    "elements = interact(doThings,\n",
    "           startPos=\"12000\",\n",
    "           endPos=\"14200\",\n",
    "           chromosome=chromList,\n",
    "           searchTerm=shortDict,\n",
    "           window=\"2200\");"
   ]
  },
  {
   "cell_type": "code",
   "execution_count": null,
   "metadata": {
    "collapsed": true
   },
   "outputs": [],
   "source": []
  }
 ],
 "metadata": {
  "kernelspec": {
   "display_name": "Python 2",
   "language": "python",
   "name": "python2"
  },
  "language_info": {
   "codemirror_mode": {
    "name": "ipython",
    "version": 2
   },
   "file_extension": ".py",
   "mimetype": "text/x-python",
   "name": "python",
   "nbconvert_exporter": "python",
   "pygments_lexer": "ipython2",
   "version": "2.7.11"
  },
  "widgets": {
   "state": {
    "089e9c36a56345608d70d4e4dd9a3432": {
     "views": []
    },
    "0c177151fffa47f29d95e35f48da30ed": {
     "views": []
    },
    "1cbd923184494a67b604baee6ec7f3fe": {
     "views": []
    },
    "23744478d43a477cac5be5756cf7fd2d": {
     "views": []
    },
    "2c999b56758f45ff8215eaf3def6ae46": {
     "views": []
    },
    "2f41500eee834aa497eca6bc0dfa2fc0": {
     "views": []
    },
    "3a96360852e04173b3560c242784f26a": {
     "views": []
    },
    "4327f7c55ee7475ba74300108c33daed": {
     "views": []
    },
    "44db1d69752643af9c452a1d724cbdcd": {
     "views": []
    },
    "4c3fb2baebcb4f19b6d52d06a91d5ac5": {
     "views": []
    },
    "5544966bc7ef4ae683001277dca86b5f": {
     "views": []
    },
    "6a071eb9986e49648b7e6782389a8fcb": {
     "views": []
    },
    "75dd233723b446a48e76b169fda3969a": {
     "views": []
    },
    "827bdf10f0fc48d59ee6ced3d8a59176": {
     "views": []
    },
    "8725e0bb3c5c48a3908ef2dbd02d0c0a": {
     "views": []
    },
    "8afcfa73ae99412d95c37299d10d299d": {
     "views": []
    },
    "8be494cda6df4a929bd078ffdaa1e457": {
     "views": []
    },
    "8c5d8395c28b468595a7f3e355a946bf": {
     "views": []
    },
    "99ad8c87e7b34f2f87d71c72efad70a6": {
     "views": []
    },
    "99b3f9a50ff14d778fade0d116432fd3": {
     "views": []
    },
    "ade8d08233ae44a5a27929376fb0765d": {
     "views": []
    },
    "b990655ca64346c8bee689d175d51d0d": {
     "views": []
    },
    "bc5a99f4a9ba491aa7c0bffc24b862f6": {
     "views": []
    },
    "c446e316f3f74302a036236d214beda8": {
     "views": []
    },
    "cad0e62ab3954427b6bfabbb5c8f137f": {
     "views": []
    },
    "d1bb020b5ef948f493fea75289c279e9": {
     "views": []
    },
    "d3dc8a57462f49df8c2fd7cf02c737b0": {
     "views": []
    },
    "d44e5760497b447b9edbbd880a03a930": {
     "views": []
    },
    "d68ef9baabdf4ee888d5884397f7432d": {
     "views": []
    },
    "d9886cea9ac54bc89f720b75c943ecf8": {
     "views": []
    },
    "dbe68b06ada14eed9b3c13a70e12b88f": {
     "views": []
    },
    "df74a0e1c8134e52b5e1c97b25bcb352": {
     "views": []
    },
    "e3b59faea0a24a7bb7e5de47f226b857": {
     "views": []
    },
    "efc13ee02c9f42a9aa13e9dfafb79d28": {
     "views": []
    },
    "f5d94e53fae941a1a310f65be1526a3f": {
     "views": [
      {
       "cell_index": 7
      }
     ]
    },
    "f627e988debc4313ab2d8772dd7b5859": {
     "views": []
    }
   },
   "version": "1.1.1"
  }
 },
 "nbformat": 4,
 "nbformat_minor": 0
}
