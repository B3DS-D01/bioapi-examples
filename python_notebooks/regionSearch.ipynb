{
 "cells": [
  {
   "cell_type": "markdown",
   "metadata": {},
   "source": [
    "### Initialize the client\n",
    "\n",
    "As seen in the \"1kg.ipynb\" example, we take the following steps to create the client object that will be used to obtain the information we desire and query the server. Plotting tools are also imported here."
   ]
  },
  {
   "cell_type": "code",
   "execution_count": 101,
   "metadata": {
    "collapsed": false
   },
   "outputs": [],
   "source": [
    "import ga4gh.client as client\n",
    "c = client.HttpClient(\"http://1kgenomes.ga4gh.org\")\n",
    "\n",
    "import sys\n",
    "import collections\n",
    "import math\n",
    "%matplotlib inline\n",
    "import matplotlib\n",
    "import numpy as np\n",
    "import matplotlib.pyplot as plt\n",
    "\n",
    "#from __future__ import print_function\n",
    "from ipywidgets import interact, interactive, fixed\n",
    "from IPython.display import display\n",
    "import ipywidgets as widgets"
   ]
  },
  {
   "cell_type": "markdown",
   "metadata": {},
   "source": [
    "### Acquiring annotation set\n",
    "\n",
    "We query the server for the dataset, which is the 1k-genomes dataset. The dataset has a unique ID that can be used to acquire each variant set within the dataset. \n",
    "\n",
    "To access the different kinds of annotations, we access the annotation set using the unique variant set ID."
   ]
  },
  {
   "cell_type": "code",
   "execution_count": 102,
   "metadata": {
    "collapsed": false
   },
   "outputs": [],
   "source": [
    "dataset = c.searchDatasets().next()\n",
    "\n",
    "for variantSet in c.searchVariantSets(dataset.id):\n",
    "    if variantSet.name == \"functional-annotation\":\n",
    "        annotation = variantSet\n",
    "\n",
    "annotationSet = c.searchVariantAnnotationSets(variantSetId=annotation.id).next()"
   ]
  },
  {
   "cell_type": "markdown",
   "metadata": {},
   "source": [
    "### Running Search\n",
    "\n",
    "runSearch is called below using ipywidgets. Global variables are initialized for other functions to use and the start and end points are set based on how many buckets the user wants. The function then searches for the transcript effects, given the transcript effect the user is looking for.\n",
    "\n",
    "The function consists of a loop that is used to separate the search into the amount of buckets, or windowCount, the user wants to find. This makes it easier to visualize large portions of data in a succinct way\n",
    "\n",
    "The results are sent to countingStatistics for further processing."
   ]
  },
  {
   "cell_type": "code",
   "execution_count": 107,
   "metadata": {
    "collapsed": false
   },
   "outputs": [],
   "source": [
    "def runSearch(startPos, endPos, chromosome, searchTerms, buckets):\n",
    "    \n",
    "    global formatSearch\n",
    "    formatSearch = []\n",
    "    \n",
    "    for i in range(0,len(searchTerms)):\n",
    "        formatSearch.append({\"id\":searchTerms[i]})\n",
    "       \n",
    "    global searchOntologyDict\n",
    "    searchOntologyDict = {\n",
    "                            'stop_retained_variant' : 'SO:0001567',\n",
    "                            'regulatory_region_variant' : 'SO:0001566',\n",
    "                            'splice_acceptor_variant' : 'SO:0001574',\n",
    "                            'splice_donor_variant' : 'SO:0001575',\n",
    "                            'missense_variant' : 'SO:0001583',\n",
    "                            'stop_gained' : 'SO:0001587',\n",
    "                            'stop_lost' : 'SO:0001578',\n",
    "                            'frameshift_variant' : 'SO:0001589',\n",
    "                            'coding_sequence_variant' : 'SO:0001580',\n",
    "                            'non_coding_transcript_variant' : 'SO:0001619',\n",
    "                            'mature_miRNA_variant' : 'SO:0001620',\n",
    "                            'NMD_transcript_variant' : 'SO:0001621',\n",
    "                            '5_prime_UTR_variant' : 'SO:0001623',\n",
    "                            '3_prime_UTR_variant' : 'SO:0001624',\n",
    "                            'incomplete_terminal_codon_variant' : 'SO:0001626',\n",
    "                            'intron_variant' : 'SO:0001627',\n",
    "                            'intergenic_variant' : 'SO:0001628',\n",
    "                            'splice_region_variant' : 'SO:0001630',\n",
    "                            'upstream_gene_variant' : 'SO:0001631',\n",
    "                            'downstream_gene_variant' : 'SO:0001632',\n",
    "                            'TF_binding_site_variant' : 'SO:0001782',\n",
    "                            'non_coding_transcript_exon_variant' : 'SO:0001792',\n",
    "                            'protein_altering_variant' : 'SO:0001818',\n",
    "                            'synonymous_variant' : 'SO:0001819',\n",
    "                            'inframe_insertion' : 'SO:0001821',\n",
    "                            'inframe_deletion' : 'SO:0001822',\n",
    "                            'transcript_amplification' : 'SO:0001889',\n",
    "                            'regulatory_region_amplification' : 'SO:0001891',\n",
    "                            'TFBS_ablation' : 'SO:0001892',\n",
    "                            'TFBS_amplification' : 'SO:0001892',\n",
    "                            'regulatory_region_ablation' : 'SO:0001894',\n",
    "                            'feature_truncation' : 'SO:0001906',\n",
    "                            'feature_elongation' : 'SO:0001907',\n",
    "                            'start_lost' : 'SO:0002012',\n",
    "                        }\n",
    "    \n",
    "    global windowCount\n",
    "    windowCount = int(buckets)\n",
    "    \n",
    "    global initStart\n",
    "    global initEnd\n",
    "    initStart = startPos\n",
    "    initEnd = endPos\n",
    "    \n",
    "    global startPoint\n",
    "    global endPoint\n",
    "    startPoint = int(startPos)\n",
    "    endPoint = (int(startPos)+(int(endPos)-int(startPos))/int(buckets))\n",
    "    \n",
    "    global yList\n",
    "    global xTickList\n",
    "    yList=[]\n",
    "    xTickList=[]\n",
    "    \n",
    "    global allGraphData\n",
    "    allGraphData = []\n",
    "    \n",
    "    global count\n",
    "    count=0\n",
    "    \n",
    "    # formatSearch loop breaks up the search by different search terms\n",
    "    for soTerms in formatSearch:\n",
    "        #print(soTerms)\n",
    "        # windowCount/bucket loop breaks up the search into multiple smaller searches from region to region\n",
    "        for i in range(0,windowCount):\n",
    "            \n",
    "            searchedVarAnns=c.searchVariantAnnotations(variantAnnotationSetId=annotationSet.id, start=startPoint, end=endPoint, referenceName=chromosome, effects=[soTerms])\n",
    "\n",
    "            idList = []\n",
    "            startEndList = []\n",
    "\n",
    "            for annotation in searchedVarAnns:\n",
    "                idList.append(annotation.variant_id)\n",
    "\n",
    "            for ids in idList:\n",
    "                important = c.getVariant(ids)\n",
    "                startEndList.append(important.start)\n",
    "                startEndList.append(important.end)\n",
    "\n",
    "            countingStats(startEndValues=startEndList, windowValue=windowCount, yValList=yList, startPos=startPoint, endPos=endPoint)\n",
    "\n",
    "            startPoint+=(int(endPos)-int(startPos))/int(buckets)\n",
    "            endPoint+=(int(endPos)-int(startPos))/int(buckets)\n",
    "            \n",
    "            del idList[:]\n",
    "            del startEndList[:]"
   ]
  },
  {
   "cell_type": "markdown",
   "metadata": {},
   "source": [
    "### Counting Statistics\n",
    "\n",
    "countingStats arranges the data in a way that will work nicely with matplotlib. The values are then passed onto the plotting function."
   ]
  },
  {
   "cell_type": "code",
   "execution_count": 108,
   "metadata": {
    "collapsed": false
   },
   "outputs": [
    {
     "name": "stderr",
     "output_type": "stream",
     "text": [
      "<ipython-input-108-5d0764d411ab>:28: SyntaxWarning: name 'count' is used prior to global declaration\n",
      "  global count\n"
     ]
    }
   ],
   "source": [
    "def countingStats(startEndValues, windowValue, yValList,startPos, endPos):\n",
    "    values = np.empty([int(len(startEndValues))/2,2], dtype=np.int32)\n",
    "       \n",
    "    j=0\n",
    "    k=1\n",
    "    for i in range(0,int(len(startEndValues))/2):\n",
    "        values[i][0] = startEndValues[j]\n",
    "        values[i][1] = startEndValues[k]\n",
    "        j+=2\n",
    "        k+=2\n",
    "    \n",
    "   \n",
    "    xTickList.append(values)\n",
    "\n",
    "\n",
    "    if len(yList)==0:\n",
    "        yList.append([])\n",
    "    \n",
    "    yList[count].append(len(values))\n",
    "    \n",
    "    if len(yList[count])==windowValue:\n",
    "        global startPoint\n",
    "        startPoint = int(initStart)-(int(initEnd)-int(initStart))/windowCount\n",
    "    \n",
    "        global endPoint\n",
    "        endPoint = (int(initStart)+(int(initEnd)-int(initStart))/windowCount)-(int(initEnd)-int(initStart))/windowCount\n",
    "        \n",
    "        global count\n",
    "        count+=1\n",
    "    \n",
    "        if count!=len(formatSearch):\n",
    "            yList.append([])\n",
    "    \n",
    "    if len(yList)==len(formatSearch) and len(yList[count-1])==windowValue and count==len(formatSearch):\n",
    "        plotWindowHistogram(xTickList, yList, windowValue, startPos, endPos)"
   ]
  },
  {
   "cell_type": "markdown",
   "metadata": {},
   "source": [
    "### Plotting\n",
    "\n",
    "All the statistics are gathered and then graphed. The function also sets the appropriate title, x-axis labels, and different bar colors depending on the search results."
   ]
  },
  {
   "cell_type": "code",
   "execution_count": 109,
   "metadata": {
    "collapsed": false
   },
   "outputs": [],
   "source": [
    "def plotWindowHistogram(xAxisTicks, yAxisValues, windowVals, startPos, endPos):\n",
    "\n",
    "    fig, ax = plt.subplots()\n",
    "    \n",
    "    endValues = np.empty([1,2], dtype=np.int32)\n",
    "\n",
    "    endValues[0][0] = startPos\n",
    "    endValues[0][1] = endPos\n",
    "    \n",
    "    # Set labels here#####\n",
    "    #ax.set_xticklabels(endValues, rotation=90)\n",
    "    \n",
    "    colors = [str]*20\n",
    "    colors[0] = '#8B0000'\n",
    "    colors[1] = '#FF8C00'\n",
    "    colors[2] = '#8B008B'\n",
    "    colors[3] = '#556B2F'\n",
    "    colors[4] = '#006400'\n",
    "    colors[5] = '#9932CC'\n",
    "    colors[6] = '#BDB76B'\n",
    "        \n",
    "    #h = plt.bar(xrange(len(xAxisTicks)), yAxisValues, label=xAxisTicks)\n",
    "    #xticks_pos = [0.50*patch.get_width() + patch.get_xy()[0] for patch in h]\n",
    "    #plt.xticks(xticks_pos, xAxisTicks,  ha='right', rotation=45) \n",
    "    \n",
    "    #print(yAxisValues)\n",
    "  \n",
    "\n",
    "    # title and graph size formatting\n",
    "    titleEffects=[]\n",
    "    for key, value in searchOntologyDict.iteritems():\n",
    "        for i in range(len(formatSearch)):\n",
    "            if searchOntologyDict[key]==formatSearch[i]['id']:\n",
    "                #print(key)\n",
    "                titleEffects.append(key)\n",
    "\n",
    "\n",
    "\n",
    "    index=0\n",
    "    for j in range(0,len(yAxisValues[index])):\n",
    "        for i in range(0,count):\n",
    "            if j==0:\n",
    "                plt.bar(index, yAxisValues[i][j], width=1, color=colors[i], label=titleEffects[i])\n",
    "            else:\n",
    "                plt.bar(index, yAxisValues[i][j], width=1, color=colors[i])\n",
    "            index+=1\n",
    "    \n",
    "                \n",
    "    #print(titleEffects)\n",
    "\n",
    "    title=\"\"\n",
    "    if len(titleEffects)==1:\n",
    "        ax.set_title(titleEffects[0]+\"s\"+\" from \"+str(initStart)+\" to \"+str(initEnd))\n",
    "    else:\n",
    "        if len(formatSearch)==2:\n",
    "            title+=titleEffects[0]+\"s\"+\" and \"+titleEffects[1]+\"s\"+\" \"\n",
    "        else:\n",
    "            for i in range(0,len(titleEffects)):\n",
    "                if i!=(len(titleEffects)-1):\n",
    "                    title+=titleEffects[i]+\"s\"+\", \"\n",
    "                else:\n",
    "                    title+=\"and \"+titleEffects[i]+\"s\"+\" \"\n",
    "        ax.set_title(title+\"from \"+str(initStart)+\" to \"+str(initEnd))\n",
    "\n",
    "        \n",
    "    plt.legend(loc='upper right')\n",
    "        \n",
    "    #ax.set_ylim([0,int(math.ceil(max(yAxisValues)/5.0))*5])\n",
    "    \n",
    "\n",
    "    \n",
    "    # Set labels here#####\n",
    "    #ax.set_xticklabels(xTickList)\n",
    "    plt.rcParams[\"figure.figsize\"] = [15,15]\n",
    "        \n",
    "    plt.show()"
   ]
  },
  {
   "cell_type": "markdown",
   "metadata": {},
   "source": [
    "### Interact Widgets\n",
    "\n",
    "A dictionary of transcript effects and their search ontology ID's is made so that the user doesn't have to remember the ID's. runSearch is then called and the interact function gives\" runSearch all of the necessary parameters based on what the user has chosen."
   ]
  },
  {
   "cell_type": "code",
   "execution_count": 110,
   "metadata": {
    "collapsed": false,
    "scrolled": false
   },
   "outputs": [
    {
     "data": {
      "image/png": "[encoded data removed]",
      "text/plain": [
       "<matplotlib.figure.Figure at 0x1113fc610>"
      ]
     },
     "metadata": {},
     "output_type": "display_data"
    }
   ],
   "source": [
    "shortDict = {'intron_variant' : 'SO:0001627', 'feature_truncation' : 'SO:0001906' , 'non_coding_transcript_exon_variant' : 'SO:0001792' , 'non_coding_transcript_variant' : 'SO:0001619', 'transcript_ablation' : 'SO:0001893'}\n",
    "chromList = ('1','2','3','4','5','6','7','8','9','10','11','12','13','14','15','16','17','18')\n",
    "\n",
    "global searchOntologyDict\n",
    "\n",
    "multiSelect = widgets.SelectMultiple(\n",
    "    description=\"Transcript Effects\",\n",
    "    options=searchOntologyDict\n",
    ")\n",
    "\n",
    "interact(runSearch,\n",
    "         startPos=\"0\",\n",
    "         endPos=\"50000\",\n",
    "         chromosome=chromList,\n",
    "         searchTerms=multiSelect,\n",
    "         buckets=\"5\",\n",
    "         __manual=\"True\"\n",
    "         )"
   ]
  },
  {
   "cell_type": "code",
   "execution_count": null,
   "metadata": {
    "collapsed": true
   },
   "outputs": [],
   "source": []
  },
  {
   "cell_type": "code",
   "execution_count": null,
   "metadata": {
    "collapsed": true
   },
   "outputs": [],
   "source": []
  }
 ],
 "metadata": {
  "kernelspec": {
   "display_name": "Python 2",
   "language": "python",
   "name": "python2"
  },
  "language_info": {
   "codemirror_mode": {
    "name": "ipython",
    "version": 2
   },
   "file_extension": ".py",
   "mimetype": "text/x-python",
   "name": "python",
   "nbconvert_exporter": "python",
   "pygments_lexer": "ipython2",
   "version": "2.7.11"
  },
  "widgets": {
   "state": {
    "007346d05ee2491b8aea5fff0edabfa3": {
     "views": []
    },
    "00836a5306b741e5a69b8532af41615e": {
     "views": []
    },
    "01367f32ab5846fca7b56c655a708ace": {
     "views": []
    },
    "021cc4ab06724a36b7b713c49e5dc0b5": {
     "views": []
    },
    "028bbb815e5b423eb5665a09e32db6f8": {
     "views": []
    },
    "02d41d94393b41289bfac3bc6963b784": {
     "views": []
    },
    "0320479f7db146d383e1ae207afd2d2c": {
     "views": []
    },
    "03c09cabed754a0b971156c440f33b0f": {
     "views": []
    },
    "040e5dad2df64604ae9bad436b4569bb": {
     "views": []
    },
    "04c78e4e93bd44cf93ad00eaceea6805": {
     "views": []
    },
    "059d941eb32c4efd90b22836304ab8ff": {
     "views": []
    },
    "05d5349ea710489bbe14d8f2483a6206": {
     "views": []
    },
    "066443bd2c0e4282901cc19b519c2ee5": {
     "views": []
    },
    "0729b8b3b5114fee8a58406f038e8107": {
     "views": []
    },
    "07c66674e669457a8822cbf31eb2212a": {
     "views": []
    },
    "08cfa0ad7e744ad28945edd52efbaae6": {
     "views": []
    },
    "08ebccdfe4234571be5ab26114e7c027": {
     "views": []
    },
    "09ac94ea99d444fa92531da9bef5d3de": {
     "views": []
    },
    "09ed73d8b16e4c3ea6347f5597a07349": {
     "views": []
    },
    "0a75d71bd3d74c1b9efd2a4c07f258e4": {
     "views": []
    },
    "0aef8ff1ffdf495f8b13dc91adf7c30e": {
     "views": []
    },
    "0af897bb52fa472c8a45c1b5ded10f90": {
     "views": []
    },
    "0b2ae561c46b4679adef0252c8673220": {
     "views": []
    },
    "0bb64a176fd44e3f8009fd0a7f5f568c": {
     "views": []
    },
    "0bf697f1efca4f4ca7e5c8cdcd6309ce": {
     "views": []
    },
    "0d627b5cc8ac4f24b5cb74fc9770e822": {
     "views": []
    },
    "0ffab91bd113483db5e26d677ed621d0": {
     "views": []
    },
    "1001aeb3054c445da60fe3cd4b069ba1": {
     "views": []
    },
    "10bba6865fcd45c7be348d8fc14ea81a": {
     "views": []
    },
    "11562b14ed6d4c5f8afaa661982aadc0": {
     "views": []
    },
    "12443de1c6da483d93297a6eeca69503": {
     "views": []
    },
    "129a743106104f6abbdd3571bcd71f6e": {
     "views": []
    },
    "12e7aa652f9f429d9033ee1c75067c44": {
     "views": []
    },
    "12f84145edba4cba8e8be019ad21ac1d": {
     "views": []
    },
    "13a7a0d87fea4d638c04efe9a7f22040": {
     "views": []
    },
    "15343ef1918548199dcd38cd60982ed6": {
     "views": []
    },
    "15db0968c1824387a39ca722154eff69": {
     "views": []
    },
    "1658acfb94e04b35a9b8bf43bedd92b4": {
     "views": []
    },
    "166b1cc9c80b4f199c85448cc3c82fbd": {
     "views": []
    },
    "16b7dac2de314b4f9dcdcb6eb462352b": {
     "views": []
    },
    "16c2733691c84e749d376076f79c9aa8": {
     "views": []
    },
    "16e36931aa4d4c4a83695ee53ecae4b5": {
     "views": []
    },
    "179030b568fb412f9560208bcdcf3fa1": {
     "views": []
    },
    "187b8709334e4f7ca526e8c087264fd0": {
     "views": []
    },
    "188ae34f5220456a8d54d0c655f6b536": {
     "views": []
    },
    "198af80bde2b45868f157f3906db202c": {
     "views": []
    },
    "19b9ca3250fd431f91e4418c834f8fcf": {
     "views": []
    },
    "19d348ad5d8f4b5d914e64811b3d800f": {
     "views": []
    },
    "1a4c90d4c1774287b9328fb9da78136e": {
     "views": []
    },
    "1a5c7d9fd4144a7780679847905abcee": {
     "views": []
    },
    "1a7874e552d749d6aa3cd86a3cf36e6e": {
     "views": []
    },
    "1a8d2012b2b3453da60142d6e5f82b25": {
     "views": []
    },
    "1be6a0f7480249d39bbb04fee6bc6772": {
     "views": []
    },
    "1c1c017cad2c47cbbcdd5d2483854708": {
     "views": []
    },
    "1cec704d19324a5db268cbfe25abb9ae": {
     "views": []
    },
    "1e6e7894506840048189f84742ee4723": {
     "views": []
    },
    "1ecfb1ca46f744fdb82bfb737e41f21b": {
     "views": []
    },
    "1f702e31f35846fe8ea09ef8acd23a51": {
     "views": []
    },
    "1fa347a941324870b46f37331abd2b1d": {
     "views": []
    },
    "1fbf32b90d96444a95892aa605d99cc6": {
     "views": []
    },
    "20a3d2b83cd2488bad8be1ce43f5687f": {
     "views": []
    },
    "21340759b3d44833889eb7e6313bd851": {
     "views": []
    },
    "21fa8eb4c2c14047a901f7b7ab5ee5b6": {
     "views": []
    },
    "2236351e88c347b48c7ecdb424a6a8bd": {
     "views": []
    },
    "2266a7b3c86340c18a9a0afcd4596a1f": {
     "views": []
    },
    "230613b81bb245498f88fe872e741db3": {
     "views": []
    },
    "242091604d4f4a75b6f0ac5d89686b43": {
     "views": []
    },
    "2498e240fbdc4dfc92ddb5ebb3781988": {
     "views": []
    },
    "24ab563b220449f39a09e5956b24e884": {
     "views": []
    },
    "2556397da71340609e53d177f38c9713": {
     "views": []
    },
    "2589f3466cdc4bb98e8f4f593efa6b0d": {
     "views": []
    },
    "26fe5e18967744d8a9e5213f9228b1a5": {
     "views": []
    },
    "27c956c88a3e42018169d0e17d52f6a0": {
     "views": []
    },
    "28747f419f9d46ce8d1fbdd2a3acfc5a": {
     "views": []
    },
    "28844549f0594f4cb7144f13f6a7ff30": {
     "views": []
    },
    "28c857419c014fecae8000773d29e485": {
     "views": []
    },
    "28e169a4a3a04748b5114b4b073e173b": {
     "views": []
    },
    "29643b9740bc4d38bb157e8a5bb1c37b": {
     "views": []
    },
    "298f4a94869746bf81aeea695c17dda9": {
     "views": []
    },
    "299edbff82804545ba534310271c2645": {
     "views": []
    },
    "29ed82514102403da70f0936cd282ff0": {
     "views": []
    },
    "2a767ece739e47249e5de72654924232": {
     "views": []
    },
    "2a882b668422460b8892131e3153e604": {
     "views": []
    },
    "2c5a4061ee7246fcb11c6dd076d007e8": {
     "views": []
    },
    "2cb63bd1a0fc4f569d7e943dc49a3350": {
     "views": []
    },
    "2d5f965cdebc4452bff90abf102b488c": {
     "views": []
    },
    "2e843c9c55c046b2879ed4522dc5a225": {
     "views": []
    },
    "2fcaca250dec45bfb6099c6084c6b829": {
     "views": []
    },
    "3026be6ad07c430290d504ca9237fe91": {
     "views": []
    },
    "307d5847140c43b0be674627105d6526": {
     "views": []
    },
    "30899616a2694113ba927e32f884d589": {
     "views": []
    },
    "3156e4e5e0044e808cfdb2a439b4a237": {
     "views": []
    },
    "3187b48d62124944bd0ca097b693d242": {
     "views": []
    },
    "32517e25438d454d8b73cb37e28b8c88": {
     "views": []
    },
    "327adf784b0f4e489f76074a20360a16": {
     "views": []
    },
    "32d29aa0ddf34a41ae254e42faeb0b21": {
     "views": []
    },
    "33b344f40dfd43bd9a2b0a7c40242f4f": {
     "views": []
    },
    "3409fa0ee4d44787aa96e85d81e1c770": {
     "views": []
    },
    "340fee31fa9040b1a024fd5aa5daa096": {
     "views": []
    },
    "34ca744129c944dca57e134fd04e08f5": {
     "views": []
    },
    "3570b99c1f9d46d5860000e9d3f10f68": {
     "views": []
    },
    "35b27b006dbb40ad8f0fb0612beea299": {
     "views": []
    },
    "35f97bd6f09842ec80d728b6e9f4f35c": {
     "views": []
    },
    "36c1bcb5c90e41fd9139637dadc3d5cd": {
     "views": []
    },
    "3848f78af3da493fb52fb43d0708e2c4": {
     "views": []
    },
    "3868146efff447df94a5c174e7987394": {
     "views": []
    },
    "3924c635bcce4457949583b8c717cc62": {
     "views": []
    },
    "3978fb25c3d54cd5b6db108dab9f2847": {
     "views": []
    },
    "39f434794c8c426cb25bb51300ef6428": {
     "views": []
    },
    "3a040a8c548d44d09cecff421a468920": {
     "views": [
      {
       "cell_index": 11
      }
     ]
    },
    "3a8bca8f2bea4db5a95f3d15350554c1": {
     "views": []
    },
    "3cb718f9af1e4d56bc257d3f2e66ecad": {
     "views": []
    },
    "3e67dbdc9df84b15bf914ed706c7b8fe": {
     "views": []
    },
    "3e8c8449a9f94772a26012e893957263": {
     "views": []
    },
    "3edac0ba41db4072aa3382b34fd045c5": {
     "views": []
    },
    "3f501fa47ff74df8983cdfe64f6bd538": {
     "views": []
    },
    "3f7e007f12694fbb8ff0a4f383d2b405": {
     "views": []
    },
    "3feed78a72a84281b662c955753791a4": {
     "views": []
    },
    "426b71fd73cf4c0f8c3ecb1adc53aca6": {
     "views": []
    },
    "42916a88715746d483ca13902ac22882": {
     "views": []
    },
    "42977ece70584d38a9d759d931007a0e": {
     "views": []
    },
    "4305985f207a4338994ae1fb53a5f629": {
     "views": []
    },
    "4312c39ab77d452abaa33c4691f70f49": {
     "views": []
    },
    "440b445d9acd475a8c40a772a506384a": {
     "views": []
    },
    "4435732fe2df44edb784246a8206e909": {
     "views": []
    },
    "44a27f80a84c4ab3ae54f4da49105817": {
     "views": []
    },
    "44b429e7fbb14214abebf66f7e1eed59": {
     "views": []
    },
    "4507c3b40bf340ee8ac202e9ccc81046": {
     "views": []
    },
    "4569a6ffce1445afb3acdd9df108cd3d": {
     "views": []
    },
    "457fb1467c9145279d7f0fc43bd59b65": {
     "views": []
    },
    "47bec46a94dc4ae2868507886ddf0ba2": {
     "views": []
    },
    "482ac76089a144a598e899b2b95ee912": {
     "views": []
    },
    "486be826c0184372a6a5aab13baf9bb7": {
     "views": []
    },
    "48e4b0800e2e406580d48fd9f22d4816": {
     "views": []
    },
    "4a243fc188d4487d9657c557015943b6": {
     "views": []
    },
    "4a70503ff5a348b89dcaf29be69bf493": {
     "views": []
    },
    "4b35268976304916b4abced326598046": {
     "views": []
    },
    "4c29fb7c64184ab1b307b355bc7d77ad": {
     "views": []
    },
    "4c4f2ce296a046809745a92b5c87f75b": {
     "views": []
    },
    "4d38d23af6db44c1a53512a68950c6d5": {
     "views": []
    },
    "4e1aef96fba44886a7d5fd01501f8bdb": {
     "views": []
    },
    "4e85338a5d594b76a3656601c0a37e32": {
     "views": []
    },
    "4f902e2c96e544bba85ef629b8002215": {
     "views": []
    },
    "5151b8eac81d42248e06fe620b0a5153": {
     "views": []
    },
    "5177b21637084a68bb25a727ded39285": {
     "views": []
    },
    "518db63df8c94e0f9603912e27a3e2f8": {
     "views": []
    },
    "522ac6e409824799b35c07828a88adda": {
     "views": []
    },
    "529d940df26d48de8e2e38ee99d6c675": {
     "views": []
    },
    "52af69e6189243a386338d2c58c5f5b5": {
     "views": []
    },
    "52b4bb0851634296bd226b9b03572ea8": {
     "views": []
    },
    "53b016c3029c474fa943595d4ce6eebf": {
     "views": []
    },
    "53f87468266d425f8078c83b89ce196a": {
     "views": []
    },
    "54cf8442f60c43fb875e4698f3f651bf": {
     "views": []
    },
    "551f3511666c4263b7f2a28a6d35499d": {
     "views": []
    },
    "55f7c07e0b014b5288ea6bba22bc8ece": {
     "views": []
    },
    "561d8f2abfe74447aacf4b1b4355c594": {
     "views": []
    },
    "56e3f455ae98465eb11bb62d9f5592bc": {
     "views": []
    },
    "57e53b7ac15b4598aef858ff43d17b91": {
     "views": []
    },
    "590837da88bb4c41bce344837d1459fa": {
     "views": []
    },
    "5979810d54374ca9ad709291bb450041": {
     "views": []
    },
    "59f0f9ffa4624db48023ffc14565697f": {
     "views": []
    },
    "5a3bbb856f9d4da68ed2397ee3823045": {
     "views": []
    },
    "5a3e2681a55d4f0fbe128613a9682208": {
     "views": []
    },
    "5a889d2f8ca84986813e31c71e7ca214": {
     "views": []
    },
    "5b4aaa4b6bf34296bad7cf6117056fd9": {
     "views": []
    },
    "5bb9bfb6482a41d08c4634969d12245c": {
     "views": []
    },
    "5c462bbd8dd442b1afdfedae02488132": {
     "views": []
    },
    "5de03be5c39347caa58d8a55221f2923": {
     "views": []
    },
    "5e466d76cd8049309542618e731af284": {
     "views": []
    },
    "5ebac4e5f47c45549889ecfc6212685c": {
     "views": []
    },
    "5edda8b8fc9d4e60afc3e25f00a3bd68": {
     "views": []
    },
    "5efd2f02877f48e8bc9608e08c5a41da": {
     "views": []
    },
    "5f5641187b5f440f841ffa7ffc80dce6": {
     "views": []
    },
    "618682373f684769a39ad8b715f6f9f5": {
     "views": []
    },
    "61b50b17c7bc45928abb3bd350287892": {
     "views": []
    },
    "62779fc01ef64fc9b2a21d026a410f31": {
     "views": []
    },
    "62f4a4d94ce6470d9341f8233e840690": {
     "views": []
    },
    "636adb442a5841da9b916eac3b377963": {
     "views": []
    },
    "641023bc0d5347fc8719106c6840c3d6": {
     "views": []
    },
    "6420f5e28932430593537583375b76fc": {
     "views": []
    },
    "6483345a00c64d9999f2525120fdda38": {
     "views": []
    },
    "658c4b8796aa4b7986f28ab32c2c64db": {
     "views": []
    },
    "65f80d4ba0fd490aa650946a3cc436d4": {
     "views": []
    },
    "662d8c6fd26540d1b06616e7d2ae14a7": {
     "views": []
    },
    "69c2498964534b39a31ffb569bcba37c": {
     "views": []
    },
    "6a67c4cd8d2640098a42563b55fef739": {
     "views": []
    },
    "6b362bcf84724a408b0a4f232e807874": {
     "views": []
    },
    "6b6b5eeb20194007a30b1d025bc41c94": {
     "views": []
    },
    "6c6a2896b7d8446b8ec70a1f8b199fcb": {
     "views": []
    },
    "6c894a30cf954236944206f122e1722c": {
     "views": []
    },
    "6c9d56f8e09b425cb51b7ad2007ffdd9": {
     "views": []
    },
    "6dd66bcf899448d7977c29be11fdc8d6": {
     "views": []
    },
    "6e74741aa9c14eb491aba161f396aa3d": {
     "views": []
    },
    "6f0da424b2b24316ad46b531692794db": {
     "views": []
    },
    "6f0f1ade6cb84c84bcaa25ee91cf32b9": {
     "views": []
    },
    "6f50cdbcc4bb48fdb6297c8bcf208992": {
     "views": []
    },
    "6ff249b99a7440be95a938c86985d1f8": {
     "views": []
    },
    "7002ed53cbd44114aabc4753b8806f7d": {
     "views": []
    },
    "70104c52cb55460b944e84a740a1d50c": {
     "views": []
    },
    "7155a8696567428bb466911c9c068e93": {
     "views": []
    },
    "721c8e78375a46938980a5a82e1f91a2": {
     "views": []
    },
    "724bb79c62344ec097f5042b86d24cc8": {
     "views": []
    },
    "725b97212a6f44749648e616e9d3e902": {
     "views": []
    },
    "731cd060ec864dd7927c7337e9a043e0": {
     "views": []
    },
    "73b0fab3a78041d7ad794e86be71fa38": {
     "views": []
    },
    "740aaffea92d436c9bd32188e6d36e83": {
     "views": []
    },
    "744d0e5269d5487d80f782d72244590f": {
     "views": []
    },
    "772f45546cbf424798bbcffb606fc3d0": {
     "views": []
    },
    "777c336f6c1e42d18d6e17b27a86adbc": {
     "views": []
    },
    "77ca80f6835646f0a55a63ae3e3cafd4": {
     "views": []
    },
    "782d41cafee74c3fb517be6aef0f7ea3": {
     "views": []
    },
    "787fe334f3f2425994fa0d0447dc111d": {
     "views": []
    },
    "788c2fc586864df2b158ef222e74a8e1": {
     "views": []
    },
    "7894b4c19f394d81aff0c5abf44d203e": {
     "views": []
    },
    "78a0fc20133f47939548c87b7831abe2": {
     "views": []
    },
    "790e616097e0492baac164a08afd7c82": {
     "views": []
    },
    "7926f3bb387147caaf449b7d78a389b4": {
     "views": []
    },
    "79617669914d465c8e61927496154c5a": {
     "views": []
    },
    "79d2ec8c781946549587430e5c1f8646": {
     "views": []
    },
    "7a1daf5bde624509849264073d4a7ca8": {
     "views": []
    },
    "7ad034acec44417ebdf2baec5d9f63e2": {
     "views": []
    },
    "7ae29f2d1a79462e99888b839c397531": {
     "views": []
    },
    "7bd394e072b74dda89c9c922628c56c2": {
     "views": []
    },
    "7c00b0952edb40f1923df8929358e809": {
     "views": []
    },
    "7c5b49aa137b49618b9b41e0b7893707": {
     "views": []
    },
    "7cb2e29e70314e399a2f02ab21527224": {
     "views": []
    },
    "7e0a1f2169c9454f89375925fba14d52": {
     "views": []
    },
    "7e0b288761b84ec58cd912c598ee3461": {
     "views": []
    },
    "7e0f0d7d96ad4717b5c9601db088c9da": {
     "views": []
    },
    "7e428c603305433eb76ad7fb937da984": {
     "views": []
    },
    "7e511721090e4b2b9c7d7a38c6c4e631": {
     "views": []
    },
    "7e52a9a96000430aafc7a5b050e70ed7": {
     "views": []
    },
    "7e86dae45aec421db4e46c4e923092f6": {
     "views": []
    },
    "7ecf76a8e20c458db6db3d6deea4a67b": {
     "views": []
    },
    "7ee8f42be4f84704b2d157fce3ca39fc": {
     "views": []
    },
    "7ef5caba1ca946efb46e8ba1974d969f": {
     "views": []
    },
    "7f90b9131a5a43248db129600917716b": {
     "views": []
    },
    "80a0728fd80e4ccbbaf2111642bbae59": {
     "views": []
    },
    "815a024fc5774ef59cf4a1d7b731d788": {
     "views": []
    },
    "81e5215504ba45d5b738151fd4f3c383": {
     "views": []
    },
    "825afe5e53bb4c35bbae248e25c8157d": {
     "views": []
    },
    "84614b1eeac948d9b07fca4ab91ab30f": {
     "views": []
    },
    "8526fb97b7724671af0a4a53502b094a": {
     "views": []
    },
    "85aa1efcad674ed981c21f2e48e5e5f4": {
     "views": []
    },
    "8769810c401b4ea7b73404eede073165": {
     "views": []
    },
    "89c7e4d5a60c4b0db4aca34690f48b82": {
     "views": []
    },
    "8a0ce536419249ecb9c6ed95bc6a414a": {
     "views": []
    },
    "8a6df7f814b14524ad5274ea1b36138d": {
     "views": []
    },
    "8c0992b847b54019995bac3caa6f82a9": {
     "views": []
    },
    "8d9052b9cda143e7b4e4aab3dd37ffc8": {
     "views": []
    },
    "8e36171269284c028d9e15299b709819": {
     "views": []
    },
    "8ecc34d8b7b04058992812e5eb9bcbaa": {
     "views": []
    },
    "8f7cc5040a92490daedcf868e40bdfe4": {
     "views": []
    },
    "8f8a7218453546e4a25e06649068651f": {
     "views": []
    },
    "900b696982b74eaa8c4d5299ccb0701a": {
     "views": []
    },
    "90182ef5ce9b4308b329de0c0322d1c9": {
     "views": []
    },
    "90f749612fbd44dfac8f03d1935fc2a3": {
     "views": []
    },
    "92184ba167db42b3943c69e0a6297796": {
     "views": []
    },
    "922e268942944ab7ae068609fb168f83": {
     "views": []
    },
    "928825e285cf401da14e46a9ddccdaab": {
     "views": []
    },
    "93d5971d49ba4d6a81f1f0d634244361": {
     "views": []
    },
    "942bdfb7f8a84dbea2207f9e0497a682": {
     "views": []
    },
    "94cbea312b894177bfc58afe4858434d": {
     "views": []
    },
    "953675cb21df49fc9065ec5fcc1838cf": {
     "views": []
    },
    "9570d8b7b7044b0485cade57df709708": {
     "views": []
    },
    "95bbfc480e01400dabc74a53cd8bb47f": {
     "views": []
    },
    "964d39ca2c8844ada05551ade0cd46b6": {
     "views": []
    },
    "96e745cd04b44f80ba4e987e5595f280": {
     "views": []
    },
    "970e267e558b49d49d5a97985b80219f": {
     "views": []
    },
    "97c56eb61f7e4d739ad60ce869246711": {
     "views": []
    },
    "9818e8c020cd4056b63ea59dcbb69325": {
     "views": []
    },
    "986df0b5087842108e4a2cf9de483050": {
     "views": []
    },
    "990e80b27b1d404694c3a5bae3d88111": {
     "views": []
    },
    "9938382f25dd4608a89d181fad7c61ec": {
     "views": []
    },
    "99661fe0ff624ad39d3243ac3410325f": {
     "views": []
    },
    "997866a0b19c41629d3141317209e4d5": {
     "views": []
    },
    "998d9d7e802141c280c1abe0f9feb015": {
     "views": []
    },
    "99a6f0d0eeba46febc0ccc8236330f30": {
     "views": []
    },
    "99e537630df34a0c996ed8917071668f": {
     "views": []
    },
    "9aa1e92522e84a008dc900c151ee02d8": {
     "views": []
    },
    "9b1832397b524ed090e2a956da1ba28f": {
     "views": []
    },
    "9b2c9d3dffa644ecacd88c7898470454": {
     "views": []
    },
    "9b45c1b298e241258d9d7bbd3ffcbe1c": {
     "views": []
    },
    "9bb96c99a4ae400db5fc43765dc76165": {
     "views": []
    },
    "9bce5969b0ff46ffa1eae18aeb6e00c5": {
     "views": []
    },
    "9d6a42909b1045359f7131b3d7b2d014": {
     "views": []
    },
    "9de76e0ac02f46de9617f5af8284dae4": {
     "views": []
    },
    "9e5d0870b4774800a42d47b9a122af9a": {
     "views": []
    },
    "9e8e74a5b25745f0947966f39cefa43d": {
     "views": []
    },
    "9fa69ddc10c749ffb74c1b55190a35ec": {
     "views": []
    },
    "a0a01e8c6bad43668b4ac84a33af189e": {
     "views": []
    },
    "a30c8fbb367b48ba87136800bf0b9815": {
     "views": []
    },
    "a4d6d76fcedb41da85318fc707c8d381": {
     "views": []
    },
    "a672e1dfc9144d1bafddf15cfe75d5e4": {
     "views": []
    },
    "a6914d9f94194a279fb0b4f7f7033ea3": {
     "views": []
    },
    "a83c1a384e284f3c8e7839017c9f1547": {
     "views": []
    },
    "a854198885c94cff95462a2bd235204c": {
     "views": []
    },
    "a8d1a521417f47f79f6256fa2ff2b219": {
     "views": []
    },
    "aa6f23b865804963b22531dea87a777d": {
     "views": []
    },
    "aaefd2d39aa549afad72a927ddbc7aa3": {
     "views": []
    },
    "ab03f90d35964f55af4c7632f123729c": {
     "views": []
    },
    "ab07a603751f403ea5d68cc48f888b68": {
     "views": []
    },
    "ab4d84578a644af8836ae5dd37e3f4b3": {
     "views": []
    },
    "ac466485ddf049a6b9c4ebb675c7afee": {
     "views": []
    },
    "ac6368040296489cb6077d6fef26834b": {
     "views": []
    },
    "adc1bb830500471a8a15886fca165f25": {
     "views": []
    },
    "ae055e03da724958a04e925305f692a8": {
     "views": []
    },
    "ae9b8898c8914089a2c0639a5f9129de": {
     "views": []
    },
    "aebbde3b990a40ef903c090ebcf20dc9": {
     "views": []
    },
    "aeced4257ccf4d4a88459ebd7c749b2e": {
     "views": []
    },
    "aefb5a25b7654dcf9a96e0dc92cb3ad6": {
     "views": []
    },
    "afa250ce6e17492793945d36c59103ff": {
     "views": []
    },
    "b05e8cab90eb46aeb3f0d75934124276": {
     "views": []
    },
    "b0707bc0d7cb41c49f8c0ebc0db2fc6d": {
     "views": []
    },
    "b2837dda663a40128b0b39a73d38ecb2": {
     "views": []
    },
    "b29f5f6065f84bba9bba6d3c4f02c64a": {
     "views": []
    },
    "b2ba4838305c4bbfa766cf49f5001582": {
     "views": []
    },
    "b3ab87d2b4254524bc6ce7ce1a3a647b": {
     "views": []
    },
    "b434f8d6b5954d8e82c946b04addb326": {
     "views": []
    },
    "b46a8a3ae12249cd815889f1e25b54b4": {
     "views": []
    },
    "b4d16a5402074360ad092101b8216adf": {
     "views": []
    },
    "b587e99da2704ce88066619e0db6ad07": {
     "views": []
    },
    "b59e32f785d8415aaa95efe7aa7acf02": {
     "views": []
    },
    "b6bfa41c314645629648c48f72fcfba2": {
     "views": []
    },
    "b78eccbddcd04f24a3173ee66be75c30": {
     "views": []
    },
    "b819eb1e69a647ea97df647452af0389": {
     "views": []
    },
    "b842e9f1ab3c40428772845619eb34ac": {
     "views": []
    },
    "b845270c323b4f4b909f07f98eb7bb82": {
     "views": []
    },
    "b90dc6c905a541dc97856d746cbe758d": {
     "views": []
    },
    "b97633c571934317a2a41dd4aa7defb7": {
     "views": []
    },
    "b9aabe98908c4a8eb0193ff4e94ec3b0": {
     "views": []
    },
    "b9c376da52fd416fb8c2880fee52a383": {
     "views": []
    },
    "ba3b513079a540c6ab3ee747b8a2fd52": {
     "views": []
    },
    "baa8741722be4a4b9787b4686035ed3c": {
     "views": []
    },
    "bae1a75984f940aeb5fd2e284ce1a5db": {
     "views": []
    },
    "bb9ef45ae458440e9bd553b5c32bb3fd": {
     "views": []
    },
    "bbbc46af08ee4109af1bda9281b87a82": {
     "views": []
    },
    "bc1e06a829c44e87afa79d2c03e5bf2b": {
     "views": []
    },
    "bd0a097a608546bfa0fbf750e45bb26f": {
     "views": []
    },
    "bd0ff14d76464a2fb5feba270666bea7": {
     "views": []
    },
    "bd1e0da369464bed88a53d04b683619e": {
     "views": []
    },
    "be64d81a16d34984bdbd7c718ff60018": {
     "views": []
    },
    "bebc892ff0e34a1ca69d5481253fb1a0": {
     "views": []
    },
    "bf0e383e311e491ab477e6094b6f2879": {
     "views": []
    },
    "bf19aa17953e41349d54c5e51edd27f7": {
     "views": []
    },
    "bf2a277d66594d29a89b1c16617d4526": {
     "views": []
    },
    "bf33f9b718a24d4b840884cdbc39c63f": {
     "views": []
    },
    "bf365933356f4ad090afda65f12b5059": {
     "views": []
    },
    "bf3c3463b2bf4d9fa16c1500b7910155": {
     "views": []
    },
    "bf74235782784e4ca4e2ac560e16d12a": {
     "views": []
    },
    "c07c4893c0434570afe88adfa7815690": {
     "views": []
    },
    "c102dbe480f046bdb88ce8114fbccd81": {
     "views": []
    },
    "c11a490ba19647e7ba2e6cabf6aa6b2a": {
     "views": []
    },
    "c12cfce3518e41869e77fcd9582fe2d3": {
     "views": []
    },
    "c23969fb61e84cbb988c67e85d975cf2": {
     "views": []
    },
    "c2641683937843fda310b90c5c17c1a7": {
     "views": []
    },
    "c3493fc618bc41a787999db883a38d32": {
     "views": []
    },
    "c44e30967bb54ff4bfe535aa13dbb889": {
     "views": []
    },
    "c478e4972e044ad997cda9e16209c9e6": {
     "views": []
    },
    "c4c26c6ef72d4dc1aaeda7c0005c6a52": {
     "views": []
    },
    "c5098680445b4a619ee05a17a3ff4868": {
     "views": []
    },
    "c528122b77c34082a4a3cf95d2fb7b05": {
     "views": []
    },
    "c52b769a54cf4651b25d856aba1a0612": {
     "views": []
    },
    "c5448c9a5cb746c49db2c5aa4086f309": {
     "views": []
    },
    "c5a435f42d454915a69a1d91271d05d4": {
     "views": []
    },
    "c5aa85d1d555463b990530d85caa116e": {
     "views": []
    },
    "c5cb25acb7f64084a06acf0860bad5dd": {
     "views": []
    },
    "c60e9e8b30ea49a1a7bf2c874b8ff7e4": {
     "views": []
    },
    "c65f18a386584418bfa7f73cbb076d58": {
     "views": []
    },
    "c6a0a2e182bc4d07a3488b4d00c2fccf": {
     "views": []
    },
    "c6a9a555f1384f3b83d2e4332ce63a61": {
     "views": []
    },
    "c70b439fdfe24018931f705a59335083": {
     "views": []
    },
    "c71b8e34321c410c9f70451bddcf6614": {
     "views": []
    },
    "c7af8adfcf264271b79f4ddaeb256827": {
     "views": []
    },
    "c7d9e633093e4c28a8413200a91fab35": {
     "views": []
    },
    "c7eeec7fbde342ac91dffc4512b6aea5": {
     "views": []
    },
    "c8d91e63597a4a37a986008635ea0c09": {
     "views": []
    },
    "c995f1735c3b4a808a32156d50c1cf40": {
     "views": []
    },
    "ca22a84832554a7d97aad781871f731d": {
     "views": []
    },
    "ca239ba495ea47f897380580342e1460": {
     "views": []
    },
    "ca81d3d8d5d54f39bedea2f66c9d8321": {
     "views": []
    },
    "caf9a704d03641bd9959136df6edb5f7": {
     "views": []
    },
    "cb2abf52805f440dbe9719f11f4c574a": {
     "views": []
    },
    "cb557f9d4eae4a8cb41a09fbc957a7f9": {
     "views": []
    },
    "cb8a1959086e477c9dc46f2482d91489": {
     "views": []
    },
    "cbb9dbf9cc3f4e7e89def8bca1b5086c": {
     "views": []
    },
    "cd76afca80924cf9b2ba8c33099eb6cb": {
     "views": []
    },
    "ce38b78d109f482182f5303366f9c92f": {
     "views": []
    },
    "ceef46c47a96412f9595eb4e28bfe77b": {
     "views": []
    },
    "cf7daaba29dc450fbf1e2ef150aeb9e1": {
     "views": []
    },
    "d02e90a0ebd9454ab3c9e50ed355a542": {
     "views": []
    },
    "d05fe67665354fe6a5a2c107b036bf46": {
     "views": []
    },
    "d0604e80ee8141b68231f0bcaa5ba29a": {
     "views": []
    },
    "d06b25a3c59d42c59f6c39cca504a0d1": {
     "views": []
    },
    "d076988096b346e0a7e6a952efe08bb9": {
     "views": []
    },
    "d0da503e958842769cad22832d574ec1": {
     "views": []
    },
    "d1108aeaa22941fd9c1d3da11244839d": {
     "views": []
    },
    "d39a610e21014ad29ab70e99a9019c25": {
     "views": []
    },
    "d4636ad0895c4292a1184af200f1d6af": {
     "views": []
    },
    "d4cab0845f32490cacacdc4cddf9d11b": {
     "views": []
    },
    "d525cc413b2d40098554474f8e5a4ff1": {
     "views": []
    },
    "d5bbe249df4b459ca971a091b50a976d": {
     "views": []
    },
    "d63a168260c84afda0b4ee150842fb74": {
     "views": []
    },
    "d6d67d9da51e4f4592e97cfe56a6a646": {
     "views": []
    },
    "d736ff6b846b4f6ca328b16ba35618cc": {
     "views": []
    },
    "d737633bd22845b0936a3669c1d84512": {
     "views": []
    },
    "d75fcb9bcb634fffa1fb2ffdd3f24d24": {
     "views": []
    },
    "d7a3bec077c94ad99a10ff30e79a5510": {
     "views": []
    },
    "d86156986fb0456f8daaf92d31a9d97a": {
     "views": []
    },
    "d9d5b62ff719434b929458ebea4f9ca0": {
     "views": []
    },
    "db9147b9abea4f8c9dbba2f7a9da58bd": {
     "views": []
    },
    "dcbf2bc7e7b04fb698c7176e472be1c6": {
     "views": []
    },
    "dcc9a23a22f24cf08741e41b5dfe951e": {
     "views": []
    },
    "dce57efad70541e98796a8cd82590fae": {
     "views": []
    },
    "dd01b7859cc9454d944754e0d871f100": {
     "views": []
    },
    "dd3ad5b559164ff18f2b577b4af360a0": {
     "views": []
    },
    "dddbbd0174e54015b95c1ded7b0cc4e8": {
     "views": []
    },
    "ddecd23d5d0544179f6cee2f41df9855": {
     "views": []
    },
    "df5e4fc3564447d79751bfb15491eba9": {
     "views": []
    },
    "df76830bcf2149749c356bb8492ed472": {
     "views": []
    },
    "dfaae248a3294e45845a87f4b69e35a8": {
     "views": []
    },
    "dfd64faa7e4e45a8b498b0d9ead65760": {
     "views": []
    },
    "e104ac876ecd4b75b532acc8dcfc4198": {
     "views": []
    },
    "e140817af2804f6a9e10256f75775a09": {
     "views": []
    },
    "e21e7c4bd5b64c2c83b194db82a4bc10": {
     "views": []
    },
    "e27e836b57ba463eabc61cd6c07b1ec1": {
     "views": []
    },
    "e29f960d34f94c43bf086e4f46dc9fb4": {
     "views": []
    },
    "e2c7676f0edd49b98adf39e27c012bce": {
     "views": []
    },
    "e2f61744149b45dcb01783b5ab472cba": {
     "views": []
    },
    "e2fb624136a64cd6aabdb7c1099e52e9": {
     "views": []
    },
    "e307386a27604afd8d6b45aecc4e4a28": {
     "views": []
    },
    "e317a7d6eab54187b44b5308135c239b": {
     "views": []
    },
    "e344315e2e324b9fb182ff974dc736f4": {
     "views": []
    },
    "e38eee659f27447fa79d9380f8ffb714": {
     "views": []
    },
    "e3ee4288fb9b4ff3ae79b910e4252c18": {
     "views": []
    },
    "e3effa702ee3415f973825a1e49782eb": {
     "views": []
    },
    "e407e075bc724493887ead9bbb045360": {
     "views": []
    },
    "e4c7fcfd25ab425196845a098ac4c793": {
     "views": []
    },
    "e66eb23cfd6c4f0f9c537314e17aaae7": {
     "views": []
    },
    "e68481fb2fda409b8b76ff3a6370cbad": {
     "views": []
    },
    "e6b3d6f1182b478b98556a8cf2fb4828": {
     "views": []
    },
    "e82251c54a974b5ca3fb828fa7d5ba44": {
     "views": []
    },
    "ea6206b8115646958c6a69b9aeecb7c0": {
     "views": []
    },
    "ea973a38fe04477fab3c57246e16e080": {
     "views": []
    },
    "eb5eed188c4146c29316ae9a3b99ab2d": {
     "views": []
    },
    "eb91c94b350a4df2a2df86bec7a3d66b": {
     "views": []
    },
    "ebfc483b7ce14e149c6cfcff416d68e2": {
     "views": []
    },
    "ec0105c8bbe3497caf292437bd36f727": {
     "views": []
    },
    "ed412d4de91d4c6fafe06de6299be54c": {
     "views": []
    },
    "ed7889e2442343749cb4ee04b12cfaee": {
     "views": []
    },
    "ed9f0460a67f4e79b5b0cd7ae487c1be": {
     "views": []
    },
    "ee2ab42f5d0b4ff096ee573d0513f3b3": {
     "views": []
    },
    "f072b322a4ba4be19473fbdf9c6afd7b": {
     "views": []
    },
    "f1eb617c1d3d4230a6cdc17bed3d507f": {
     "views": []
    },
    "f2d1099103134d13bc20e567d4a7e6a8": {
     "views": []
    },
    "f4fa2815f7ae4ef4898991a2f98e802e": {
     "views": []
    },
    "f50da149b1fe4ffeaacb8507e94e9da5": {
     "views": []
    },
    "f5abf55d2535429a85130b32dc3fb085": {
     "views": []
    },
    "f69f3a28333d40e0a7f70d9f3576946a": {
     "views": []
    },
    "f6d7139609ed4cc0a888bf9888d468cb": {
     "views": []
    },
    "f6da32727bd54e46b58886768c8b818e": {
     "views": []
    },
    "f7f2f3bda1834116afc7d110667633ce": {
     "views": []
    },
    "f8cd66eb7fc2430485d7e91b7d97b92a": {
     "views": []
    },
    "f8face90b5c64013afb2c97a6f94179f": {
     "views": []
    },
    "f96f7731ddc04a7e93b266ce16076e98": {
     "views": []
    },
    "f99104d806c14786bdf8b00f5230f5b1": {
     "views": []
    },
    "fa1fe03754114479811954dc28a09042": {
     "views": []
    },
    "fa3882f4b3254fe39c5c43800e2ee8ef": {
     "views": []
    },
    "fad1dc7ed69540b59dccf9eaa5a05367": {
     "views": []
    },
    "fb9e4d8a5df5454a83faa868c48e0a1d": {
     "views": []
    },
    "fcbb8761d6624d5d8d1f0309d5db782c": {
     "views": []
    },
    "fd1c9effb3934d68b98e90f43a61aadb": {
     "views": []
    },
    "feeda64c0c054531b5af3b3c7ce84b31": {
     "views": []
    },
    "ff984815de1140698e227c880baa1d48": {
     "views": []
    },
    "ffc6278198a8446cb295bf97dbaaf44c": {
     "views": []
    },
    "fff94bf539a94f8fb2180f07c205ac18": {
     "views": []
    }
   },
   "version": "1.1.1"
  }
 },
 "nbformat": 4,
 "nbformat_minor": 0
}
