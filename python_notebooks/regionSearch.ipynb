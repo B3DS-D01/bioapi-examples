{
 "cells": [
  {
   "cell_type": "markdown",
   "metadata": {},
   "source": [
    "### Initialize the client\n",
    "\n",
    "As seen in the \"1kg.ipynb\" example, we take the following steps to create the client object that will be used to obtain the information we desire and query the server. Plotting tools are also imported here."
   ]
  },
  {
   "cell_type": "code",
   "execution_count": 1,
   "metadata": {
    "collapsed": false
   },
   "outputs": [],
   "source": [
    "import ga4gh.client as client\n",
    "c = client.HttpClient(\"http://1kgenomes.ga4gh.org\")\n",
    "\n",
    "import sys\n",
    "import collections\n",
    "import math\n",
    "%matplotlib inline\n",
    "import matplotlib\n",
    "import numpy as np\n",
    "import matplotlib.pyplot as plt\n",
    "\n",
    "#from __future__ import print_function\n",
    "from ipywidgets import interact, interactive, fixed\n",
    "from IPython.display import display\n",
    "import ipywidgets as widgets"
   ]
  },
  {
   "cell_type": "markdown",
   "metadata": {},
   "source": [
    "### Acquiring annotation set\n",
    "\n",
    "We query the server for the dataset, which is the 1k-genomes dataset. The dataset has a unique ID that can be used to acquire each variant set within the dataset. \n",
    "\n",
    "To access the different kinds of annotations, we access the annotation set using the unique variant set ID."
   ]
  },
  {
   "cell_type": "code",
   "execution_count": 2,
   "metadata": {
    "collapsed": false
   },
   "outputs": [],
   "source": [
    "dataset = c.searchDatasets().next()\n",
    "\n",
    "for variantSet in c.searchVariantSets(dataset.id):\n",
    "    if variantSet.name == \"functional-annotation\":\n",
    "        annotation = variantSet\n",
    "\n",
    "annotationSet = c.searchVariantAnnotationSets(variantSetId=annotation.id).next()"
   ]
  },
  {
   "cell_type": "markdown",
   "metadata": {},
   "source": [
    "### Running Search\n",
    "\n",
    "runSearch is called below using ipywidgets. Global variables are initialized for other functions to use and the start and end points are set based on how many buckets the user wants. The function then searches for the transcript effects, given the transcript effect the user is looking for.\n",
    "\n",
    "The function consists of a loop that is used to separate the search into the amount of buckets, or windowCount, the user wants to find. This makes it easier to visualize large portions of data in a succinct way\n",
    "\n",
    "The results are sent to countingStatistics for further processing."
   ]
  },
  {
   "cell_type": "code",
   "execution_count": 3,
   "metadata": {
    "collapsed": false
   },
   "outputs": [],
   "source": [
    "def runSearch(startPos, endPos, chromosome, searchTerms, buckets):\n",
    "    \n",
    "    global formatSearch\n",
    "    formatSearch = []\n",
    "    \n",
    "    #print(searchTerms)\n",
    "    for i in range(0,len(searchTerms)):\n",
    "        formatSearch.append({\"id\":searchTerms[i]})\n",
    "       \n",
    "    global searchOntologyDict\n",
    "    searchOntologyDict = {'transcript_ablation' : 'SO:0001893', 'splice_acceptor_variant' : 'SO:0001574',\n",
    "                          'splice_donor_variant' : 'SO:0001575', 'stop_gained' : 'SO:0001587', \n",
    "                          'frameshift_variant' : 'SO:0001589', 'stop_lost' : 'SO:0001578', 'start_lost' : 'SO:0002012',\n",
    "                          'transcript_amplification' : 'SO:0001889', 'inframe_insertion' : 'SO:0001821',\n",
    "                          'inframe_deletion' : 'SO:0001822', 'missense_variant' : 'SO:0001583',\n",
    "                          'protein_altering_variant' : 'SO:0001818', 'splice_region_variant' : 'SO:0001630',\n",
    "                          'incomplete_terminal_codon_variant' : 'SO:0001626', 'stop_retained_variant' : 'SO:0001567',\n",
    "                          'synonymous_variant' : 'SO:0001819', 'coding_sequence_variant' : 'SO:0001580',\n",
    "                          'mature_miRNA_variant' : 'SO:0001620', '5_prime_UTR_variant' : 'SO:0001623',\n",
    "                          '3_prime_UTR_variant' : 'SO:0001624', 'non_coding_transcript_exon_variant' : 'SO:0001792',\n",
    "                          'intron_variant' : 'SO:0001627', 'NMD_transcript_variant' : 'SO:0001621',\n",
    "                          'non_coding_transcript_variant' : 'SO:0001619', 'upstream_gene_variant' : 'SO:0001631',\n",
    "                          'downstream_gene_variant' : 'SO:0001632', 'TFBS_ablation' : 'SO:0001892',\n",
    "                          'TFBS_amplification' : 'SO:0001892', 'TF_binding_site_variant' : 'SO:0001782',\n",
    "                          'regulatory_region_ablation' : 'SO:0001894', 'regulatory_region_amplification' : 'SO:0001891',\n",
    "                          'feature_elongation' : 'SO:0001907', 'regulatory_region_variant' : 'SO:0001566',\n",
    "                          'feature_truncation' : 'SO:0001906', 'intergenic_variant' : 'SO:0001628'}\n",
    "    \n",
    "    global windowCount\n",
    "    windowCount = int(buckets)\n",
    "    \n",
    "    global initStart\n",
    "    global initEnd\n",
    "    initStart = startPos\n",
    "    initEnd = endPos\n",
    "    \n",
    "    global startPoint\n",
    "    global endPoint\n",
    "    startPoint = int(startPos)\n",
    "    endPoint = (int(startPos)+(int(endPos)-int(startPos))/int(buckets))\n",
    "    \n",
    "    global yList\n",
    "    global xTickList\n",
    "    yList=[]\n",
    "    xTickList=[]\n",
    "    \n",
    "    global annList\n",
    "    annList=[]\n",
    "    \n",
    "    global allGraphData\n",
    "    allGraphData = []\n",
    "    \n",
    "    global count\n",
    "    count=0\n",
    "    \n",
    "    # formatSearch loop breaks up the search by different search terms\n",
    "    for soTerms in formatSearch:\n",
    "        print(soTerms)\n",
    "        # windowCount/bucket loop breaks up the search into multiple smaller searches from region to region\n",
    "        for i in range(0,windowCount):\n",
    "\n",
    "            #print(startPoint,endPoint)\n",
    "            \n",
    "            searchedVarAnns=c.searchVariantAnnotations(variantAnnotationSetId=annotationSet.id, start=startPoint, end=endPoint, referenceName=chromosome, effects=[soTerms])\n",
    "\n",
    "            idList = []\n",
    "            startEndList = []\n",
    "\n",
    "            for annotation in searchedVarAnns:\n",
    "                annList.append(annotation.transcript_effects[0].effects[0].id)\n",
    "                idList.append(annotation.variant_id)\n",
    "\n",
    "            for ids in idList:\n",
    "                important = c.getVariant(ids)\n",
    "                startEndList.append(important.start)\n",
    "                startEndList.append(important.end)\n",
    "\n",
    "            countingStats(startEndValues=startEndList, windowValue=windowCount, yValList=yList, startPos=startPoint, endPos=endPoint)\n",
    "\n",
    "            startPoint+=(int(endPos)-int(startPos))/int(buckets)\n",
    "            endPoint+=(int(endPos)-int(startPos))/int(buckets)\n",
    "            \n",
    "            del idList[:]\n",
    "            del startEndList[:]"
   ]
  },
  {
   "cell_type": "markdown",
   "metadata": {},
   "source": [
    "### Counting Statistics\n",
    "\n",
    "countingStats arranges the data in a way that will work nicely with matplotlib. The values are then passed onto the plotting function."
   ]
  },
  {
   "cell_type": "code",
   "execution_count": 4,
   "metadata": {
    "collapsed": false
   },
   "outputs": [
    {
     "name": "stderr",
     "output_type": "stream",
     "text": [
      "<ipython-input-4-f7240a9d6c77>:28: SyntaxWarning: name 'count' is used prior to global declaration\n",
      "  global count\n"
     ]
    }
   ],
   "source": [
    "def countingStats(startEndValues, windowValue, yValList,startPos, endPos):\n",
    "    values = np.empty([int(len(startEndValues))/2,2], dtype=np.int32)\n",
    "       \n",
    "    j=0\n",
    "    k=1\n",
    "    for i in range(0,int(len(startEndValues))/2):\n",
    "        values[i][0] = startEndValues[j]\n",
    "        values[i][1] = startEndValues[k]\n",
    "        j+=2\n",
    "        k+=2\n",
    "    \n",
    "   \n",
    "    xTickList.append(values)\n",
    "\n",
    "\n",
    "    if len(yList)==0:\n",
    "        yList.append([])\n",
    "    \n",
    "    yList[count].append(len(values))\n",
    "    \n",
    "    if len(yList[count])==windowValue:\n",
    "        global startPoint\n",
    "        startPoint = int(initStart)-(int(initEnd)-int(initStart))/windowCount\n",
    "    \n",
    "        global endPoint\n",
    "        endPoint = (int(initStart)+(int(initEnd)-int(initStart))/windowCount)-(int(initEnd)-int(initStart))/windowCount\n",
    "        \n",
    "        global count\n",
    "        count+=1\n",
    "        #print(\"count\",count)\n",
    "    \n",
    "        if count!=len(formatSearch):\n",
    "            yList.append([])\n",
    "    \n",
    "    #print(\"big len\",len(yList))\n",
    "    #print(\"0th index len\",len(yList[0]))\n",
    "    \n",
    "    if len(yList)==len(formatSearch) and len(yList[count-1])==windowValue and count==len(formatSearch):\n",
    "        plotWindowHistogram(xTickList, yList, windowValue, startPos, endPos)"
   ]
  },
  {
   "cell_type": "markdown",
   "metadata": {},
   "source": [
    "### Plotting\n",
    "\n",
    "All the statistics are gathered and then graphed. The function also sets the appropriate title, x-axis labels, and different bar colors depending on the search results."
   ]
  },
  {
   "cell_type": "code",
   "execution_count": 5,
   "metadata": {
    "collapsed": false
   },
   "outputs": [],
   "source": [
    "def plotWindowHistogram(xAxisTicks, yAxisValues, windowVals, startPos, endPos):\n",
    "    \n",
    "    #print(\"in plot\")\n",
    "    fig, ax = plt.subplots()\n",
    "    \n",
    "    endValues = np.empty([1,2], dtype=np.int32)\n",
    "\n",
    "    endValues[0][0] = startPos\n",
    "    endValues[0][1] = endPos\n",
    "    \n",
    "    # Set labels here#####\n",
    "    #ax.set_xticklabels(endValues, rotation=90)\n",
    "    \n",
    "    colors = [str]*20\n",
    "    colors[0] = '#8B0000'\n",
    "    colors[1] = '#FF8C00'\n",
    "    colors[2] = '#8B008B'\n",
    "    colors[3] = '#556B2F'\n",
    "    colors[4] = '#006400'\n",
    "    colors[5] = '#9932CC'\n",
    "    colors[6] = '#BDB76B'\n",
    "        \n",
    "    #h = plt.bar(xrange(len(xAxisTicks)), yAxisValues, label=xAxisTicks)\n",
    "    #xticks_pos = [0.50*patch.get_width() + patch.get_xy()[0] for patch in h]\n",
    "    #plt.xticks(xticks_pos, xAxisTicks,  ha='right', rotation=45) \n",
    "    \n",
    "    #print(\"incrementing count\")\n",
    "    #global count\n",
    "    #count+=1\n",
    "    \n",
    "    #print(count,len(formatSearch))\n",
    "\n",
    "    \"\"\"\n",
    "    for i in range(0,windowVals):\n",
    "        for j in range(0,len(yAxisValues[i])):\n",
    "            plt.bar(i, yAxisValues[count-1][i], width=1, color=\"gr\")\n",
    "\n",
    "            \n",
    "            \n",
    "            \n",
    "    nextX = 0       \n",
    "    for i in range(0, count):\n",
    "        for j in range(0,len(yAxisValues[i])):\n",
    "            plt.bar(nextX, yAxisValues[i][j], width=1, color=\"gr\")\n",
    "            nextX+=1\n",
    "     \"\"\"\n",
    "    \n",
    "    print(yAxisValues)\n",
    "    \n",
    "    index=0\n",
    "    for j in range(0,len(yAxisValues[index])):\n",
    "        for i in range(0,count):\n",
    "            plt.bar(index, yAxisValues[i][j], width=1, color=colors[i])\n",
    "            index+=1\n",
    "    \n",
    "\n",
    "\n",
    "    \n",
    "    # title and graph size formatting\n",
    "    titleEffects=[]\n",
    "    for key, value in searchOntologyDict.iteritems():\n",
    "        for i in range(len(formatSearch)):\n",
    "            if searchOntologyDict[key]==formatSearch[i]['id']:\n",
    "                titleEffects.append(key)\n",
    "\n",
    "    title=\"\"\n",
    "    if len(titleEffects)==1:\n",
    "        ax.set_title(titleEffects[0]+\"s\"+\" from \"+str(initStart)+\" to \"+str(initEnd))\n",
    "    else:\n",
    "        if len(formatSearch)==2:\n",
    "            title+=titleEffects[0]+\"s\"+\" and \"+titleEffects[1]+\"s\"+\" \"\n",
    "        else:\n",
    "            for i in range(0,len(titleEffects)):\n",
    "                if i!=(len(titleEffects)-1):\n",
    "                    title+=titleEffects[i]+\"s\"+\", \"\n",
    "                else:\n",
    "                    title+=\"and \"+titleEffects[i]+\"s\"+\" \"\n",
    "        ax.set_title(title+\"from \"+str(initStart)+\" to \"+str(initEnd))\n",
    "\n",
    "    #ax.set_ylim([0,int(math.ceil(max(yAxisValues)/5.0))*5])\n",
    "    \n",
    "\n",
    "    \n",
    "    # Set labels here#####\n",
    "    #ax.set_xticklabels([endValues])\n",
    "    plt.rcParams[\"figure.figsize\"] = [10,10]\n",
    "        \n",
    "    plt.show()"
   ]
  },
  {
   "cell_type": "markdown",
   "metadata": {},
   "source": [
    "### Interact Widgets\n",
    "\n",
    "A dictionary of transcript effects and their search ontology ID's is made so that the user doesn't have to remember the ID's. runSearch is then called and the interact function gives\" runSearch all of the necessary parameters based on what the user has chosen."
   ]
  },
  {
   "cell_type": "code",
   "execution_count": 6,
   "metadata": {
    "collapsed": false,
    "scrolled": false
   },
   "outputs": [
    {
     "name": "stdout",
     "output_type": "stream",
     "text": [
      "{'id': 'SO:0001627'}\n",
      "{'id': 'SO:0001906'}\n",
      "{'id': 'SO:0001792'}\n",
      "[[0, 0, 2, 5, 7, 8, 4, 6, 4, 1, 0, 3, 2, 0, 0, 1, 1, 1, 0, 0], [0, 0, 0, 0, 0, 0, 0, 0, 0, 1, 0, 0, 0, 0, 0, 0, 0, 0, 0, 0], [0, 4, 5, 2, 0, 0, 6, 0, 0, 3, 1, 0, 5, 1, 0, 0, 0, 0, 0, 0]]\n"
     ]
    },
    {
     "data": {
      "image/png": "[encoded data removed]",
      "text/plain": [
       "<matplotlib.figure.Figure at 0x10b65e690>"
      ]
     },
     "metadata": {},
     "output_type": "display_data"
    }
   ],
   "source": [
    "shortDict = {'intron_variant' : 'SO:0001627', 'feature_truncation' : 'SO:0001906' , 'non_coding_transcript_exon_variant' : 'SO:0001792' , 'non_coding_transcript_variant' : 'SO:0001619', 'transcript_ablation' : 'SO:0001893'}\n",
    "chromList = ('1','2','3','4','5','6','7','8','9','10','11','12','13','14','15','16','17','18')\n",
    "\n",
    "multiSelect = widgets.SelectMultiple(\n",
    "    description=\"Transcript Effects\",\n",
    "    options=shortDict\n",
    ")\n",
    "\n",
    "interact(runSearch,\n",
    "         startPos=\"14000\",\n",
    "         endPos=\"20000\",\n",
    "         chromosome=chromList,\n",
    "         searchTerms=multiSelect,\n",
    "         buckets=\"5\",\n",
    "         __manual=\"True\"\n",
    "         )"
   ]
  },
  {
   "cell_type": "code",
   "execution_count": null,
   "metadata": {
    "collapsed": true
   },
   "outputs": [],
   "source": []
  }
 ],
 "metadata": {
  "kernelspec": {
   "display_name": "Python 2",
   "language": "python",
   "name": "python2"
  },
  "language_info": {
   "codemirror_mode": {
    "name": "ipython",
    "version": 2
   },
   "file_extension": ".py",
   "mimetype": "text/x-python",
   "name": "python",
   "nbconvert_exporter": "python",
   "pygments_lexer": "ipython2",
   "version": "2.7.11"
  },
  "widgets": {
   "state": {
    "00f4bc400f944bcb85c8a28991d43a8b": {
     "views": []
    },
    "011d348728164730930fef8217897fe2": {
     "views": [
      {
       "cell_index": 11
      }
     ]
    },
    "11d98609dd234765afec30311c81cbaf": {
     "views": []
    },
    "1c249bc3d7694f42b39dd166dabf88a5": {
     "views": []
    },
    "45ea6b08de4547518d2337ee57548ff5": {
     "views": []
    },
    "5533afd2f97c4062b27f23cc2bf045ba": {
     "views": []
    },
    "6d6589efcc1d4e9ab040109bffb8fdfe": {
     "views": []
    },
    "8000ddca93fb4adaada3912e7a1796f4": {
     "views": []
    },
    "92fdf59101ee4ade9f92bbd157da501b": {
     "views": []
    },
    "aee8b23f50684298889790bd4471b547": {
     "views": []
    },
    "b7034cf92c6847e1b3aabb1b765b66ce": {
     "views": []
    },
    "da6d3f08adea4c269815caa7440a3796": {
     "views": []
    },
    "db83288413f949d5a1110b84c291fbf6": {
     "views": []
    },
    "ee1b580cdf944c9a82a04da9fa4b213f": {
     "views": []
    }
   },
   "version": "1.1.1"
  }
 },
 "nbformat": 4,
 "nbformat_minor": 0
}
