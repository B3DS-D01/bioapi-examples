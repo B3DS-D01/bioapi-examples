{
 "cells": [
  {
   "cell_type": "markdown",
   "metadata": {},
   "source": [
    "### Program Overview\n",
    "\n",
    "This program allows the user to see how many transcript effects are present in a specific location of the genome. Large regions of the genome can be queried using the \"bucket\" feature, which takes the count of effects and condenses it into one bar so that the user can see more information. This information could be very helpful in a clinical setting.\n",
    "__________________________________________________________________________"
   ]
  },
  {
   "cell_type": "markdown",
   "metadata": {},
   "source": [
    "### Initialize the client\n",
    "\n",
    "As seen in the \"1kg.ipynb\" example, we take the following steps to create the client object that will be used to obtain the information we desire and query the server. Plotting tools are also imported here."
   ]
  },
  {
   "cell_type": "code",
   "execution_count": 1,
   "metadata": {
    "collapsed": false
   },
   "outputs": [],
   "source": [
    "import ga4gh.client as client\n",
    "c = client.HttpClient(\"http://1kgenomes.ga4gh.org\")\n",
    "\n",
    "import sys\n",
    "import collections\n",
    "import math\n",
    "%matplotlib inline\n",
    "import matplotlib\n",
    "import numpy as np\n",
    "import matplotlib.pyplot as plt\n",
    "\n",
    "#from __future__ import print_function\n",
    "from ipywidgets import interact, interactive, fixed\n",
    "from IPython.display import display\n",
    "import ipywidgets as widgets"
   ]
  },
  {
   "cell_type": "markdown",
   "metadata": {},
   "source": [
    "### Acquiring annotation set\n",
    "\n",
    "We query the server for the dataset, which is the 1k-genomes dataset. The dataset has a unique ID that can be used to acquire each variant set within the dataset. \n",
    "\n",
    "To access the different kinds of annotations, we access the annotation set using the unique variant set ID."
   ]
  },
  {
   "cell_type": "code",
   "execution_count": 2,
   "metadata": {
    "collapsed": false
   },
   "outputs": [],
   "source": [
    "dataset = c.search_datasets().next()\n",
    "\n",
    "for variantSet in c.search_variant_sets(dataset.id):\n",
    "    if variantSet.name == \"functional-annotation\":\n",
    "        annotation = variantSet\n",
    "\n",
    "annotationSet = c.search_variant_annotation_sets(variant_set_id=annotation.id).next()"
   ]
  },
  {
   "cell_type": "markdown",
   "metadata": {},
   "source": [
    "### Running Search\n",
    "\n",
    "runSearch is called below using ipywidgets. Global variables are initialized for other functions to use and the start and end points are set based on how many buckets the user wants. The function then searches for the transcript effects, given the transcript effect the user is looking for.\n",
    "\n",
    "The function consists of a loop that is used to separate the search into the amount of buckets, or windowCount, the user wants to find. This makes it easier to visualize large portions of data in a succinct way\n",
    "\n",
    "The results are sent to countingStatistics for further processing."
   ]
  },
  {
   "cell_type": "code",
   "execution_count": 3,
   "metadata": {
    "collapsed": false
   },
   "outputs": [],
   "source": [
    "def runSearch(startPos, endPos, chromosome, searchTerms, buckets):\n",
    "    \n",
    "    global formatSearch\n",
    "    formatSearch = []\n",
    "    \n",
    "    for i in range(0,len(searchTerms)):\n",
    "        formatSearch.append({\"id\":searchTerms[i]})\n",
    "           \n",
    "    global windowCount\n",
    "    windowCount = int(buckets)\n",
    "    \n",
    "    global initStart\n",
    "    global initEnd\n",
    "    initStart = startPos\n",
    "    initEnd = endPos\n",
    "    \n",
    "    global startPoint\n",
    "    global endPoint\n",
    "    startPoint = int(startPos)\n",
    "    endPoint = (int(startPos)+(int(endPos)-int(startPos))/int(buckets))\n",
    "    \n",
    "    global yList\n",
    "    global xTickList\n",
    "    yList=[]\n",
    "    xTickList=[]\n",
    "    \n",
    "    global allGraphData\n",
    "    allGraphData = []\n",
    "    \n",
    "    global count\n",
    "    count=0\n",
    "    \n",
    "    # formatSearch loop breaks up the search by different search terms\n",
    "    for soTerms in formatSearch:\n",
    "        # windowCount/bucket loop breaks up the search into multiple smaller searches from region to region\n",
    "        for i in range(0,windowCount):\n",
    "            #print(soTerms)\n",
    "            searchedVarAnns=c.search_variant_annotations(variant_annotation_set_id=annotationSet.id, start=startPoint, end=endPoint, reference_name=chromosome, effects=[soTerms])\n",
    "\n",
    "            idList = []\n",
    "            startEndList = []\n",
    "\n",
    "            for annotation in searchedVarAnns:\n",
    "                idList.append(annotation.variant_id)\n",
    "\n",
    "            countingStats(idList=idList, windowValue=windowCount, yValList=yList, startPos=startPoint, endPos=endPoint)\n",
    "\n",
    "            startPoint+=(int(endPos)-int(startPos))/int(buckets)\n",
    "            endPoint+=(int(endPos)-int(startPos))/int(buckets)\n",
    "            \n",
    "            del idList[:]"
   ]
  },
  {
   "cell_type": "markdown",
   "metadata": {},
   "source": [
    "### Counting Statistics\n",
    "\n",
    "countingStats arranges the data in a way that will work nicely with matplotlib. The values are then passed onto the plotting function."
   ]
  },
  {
   "cell_type": "code",
   "execution_count": 4,
   "metadata": {
    "collapsed": false
   },
   "outputs": [
    {
     "name": "stderr",
     "output_type": "stream",
     "text": [
      "<ipython-input-4-4912ead13a62>:15: SyntaxWarning: name 'count' is used prior to global declaration\n",
      "  global count\n"
     ]
    }
   ],
   "source": [
    "def countingStats(idList, windowValue, yValList,startPos, endPos):\n",
    "\n",
    "    if len(yList)==0:\n",
    "        yList.append([])\n",
    "    \n",
    "    yList[count].append(len(idList))\n",
    "    \n",
    "    if len(yList[count])==windowValue:\n",
    "        global startPoint\n",
    "        startPoint = int(initStart)-(int(initEnd)-int(initStart))/windowCount\n",
    "    \n",
    "        global endPoint\n",
    "        endPoint = (int(initStart)+(int(initEnd)-int(initStart))/windowCount)-(int(initEnd)-int(initStart))/windowCount\n",
    "        \n",
    "        global count\n",
    "        count+=1\n",
    "    \n",
    "        if count!=len(formatSearch):\n",
    "            yList.append([])\n",
    "    \n",
    "    if len(yList)==len(formatSearch) and len(yList[count-1])==windowValue and count==len(formatSearch):\n",
    "        plotWindowHistogram(xTickList, yList, windowValue, startPos, endPos)"
   ]
  },
  {
   "cell_type": "markdown",
   "metadata": {},
   "source": [
    "### Plotting\n",
    "\n",
    "All the statistics are gathered and then graphed. The function also sets the appropriate title, x-axis labels, and different bar colors depending on the search results."
   ]
  },
  {
   "cell_type": "code",
   "execution_count": 5,
   "metadata": {
    "collapsed": false
   },
   "outputs": [],
   "source": [
    "def plotWindowHistogram(xAxisTicks, yAxisValues, windowVals, startPos, endPos):\n",
    "\n",
    "    fig, ax = plt.subplots()\n",
    "    \n",
    "    endValues = np.empty([1,2], dtype=np.int32)\n",
    "\n",
    "    endValues[0][0] = startPos\n",
    "    endValues[0][1] = endPos\n",
    "    \n",
    "    # Set labels here#####\n",
    "    #ax.set_xticklabels(endValues, rotation=90)\n",
    "    \n",
    "    colors = [str]*20\n",
    "    colors[0] = '#8B0000'\n",
    "    colors[1] = '#FF8C00'\n",
    "    colors[2] = '#8B008B'\n",
    "    colors[3] = '#556B2F'\n",
    "    colors[4] = '#006400'\n",
    "    colors[5] = '#9932CC'\n",
    "    colors[6] = '#BDB76B'\n",
    "        \n",
    "    #h = plt.bar(xrange(len(xAxisTicks)), yAxisValues, label=xAxisTicks)\n",
    "    #xticks_pos = [0.50*patch.get_width() + patch.get_xy()[0] for patch in h]\n",
    "    #plt.xticks(xticks_pos, xAxisTicks,  ha='right', rotation=45) \n",
    "    \n",
    "    #print(yAxisValues)\n",
    "  \n",
    "\n",
    "    # title and graph size formatting\n",
    "    titleEffects=[]\n",
    "    for key, value in searchOntologyDict.iteritems():\n",
    "        for i in range(len(formatSearch)):\n",
    "            if searchOntologyDict[key]==formatSearch[i]['id']:\n",
    "                titleEffects.append(key)\n",
    "\n",
    "\n",
    "    index=0\n",
    "    for j in range(0,len(yAxisValues[index])):\n",
    "        for i in range(0,count):\n",
    "            if j==0:\n",
    "                plt.bar(index, yAxisValues[i][j], width=1, color=colors[i], label=titleEffects[i])\n",
    "            else:\n",
    "                plt.bar(index, yAxisValues[i][j], width=1, color=colors[i])\n",
    "            index+=1\n",
    "            \n",
    "\n",
    "    title=\"\"\n",
    "    if len(titleEffects)==1:\n",
    "        ax.set_title(titleEffects[0]+\"s\"+\" from \"+str(initStart)+\" to \"+str(initEnd))\n",
    "    else:\n",
    "        if len(formatSearch)==2:\n",
    "            title+=titleEffects[0]+\"s\"+\" and \"+titleEffects[1]+\"s\"+\" \"\n",
    "        else:\n",
    "            for i in range(0,len(titleEffects)):\n",
    "                if i!=(len(titleEffects)-1):\n",
    "                    title+=titleEffects[i]+\"s\"+\", \"\n",
    "                else:\n",
    "                    title+=\"and \"+titleEffects[i]+\"s\"+\" \"\n",
    "        ax.set_title(title+\"from \"+str(initStart)+\" to \"+str(initEnd))\n",
    "\n",
    "        \n",
    "    plt.legend(loc='upper right')\n",
    "        \n",
    "    #ax.set_ylim([0,int(math.ceil(max(yAxisValues)/5.0))*5])\n",
    "    \n",
    "\n",
    "    \n",
    "    # Set labels here#####\n",
    "    #ax.set_xticklabels(xTickList)\n",
    "    plt.rcParams[\"figure.figsize\"] = [15,15]\n",
    "        \n",
    "    plt.show()"
   ]
  },
  {
   "cell_type": "markdown",
   "metadata": {},
   "source": [
    "### Interact Widgets\n",
    "\n",
    "A dictionary of transcript effects and their search ontology ID's is made so that the user doesn't have to remember the ID's. runSearch is then called and the interact function gives\" runSearch all of the necessary parameters based on what the user has chosen."
   ]
  },
  {
   "cell_type": "code",
   "execution_count": 6,
   "metadata": {
    "collapsed": false,
    "scrolled": false
   },
   "outputs": [
    {
     "data": {
      "image/png": "[encoded data removed]",
      "text/plain": [
       "<matplotlib.figure.Figure at 0x110042b10>"
      ]
     },
     "metadata": {},
     "output_type": "display_data"
    }
   ],
   "source": [
    "shortDict = {'intron_variant' : 'SO:0001627', 'feature_truncation' : 'SO:0001906' , 'non_coding_transcript_exon_variant' : 'SO:0001792' , 'non_coding_transcript_variant' : 'SO:0001619', 'transcript_ablation' : 'SO:0001893'}\n",
    "chromList = ('1','2','3','4','5','6','7','8','9','10','11','12','13','14','15','16','17','18')\n",
    "\n",
    "global searchOntologyDict\n",
    "searchOntologyDict = {\n",
    "    'stop_retained_variant' :              'SO:0001567',\n",
    "    'regulatory_region_variant' :          'SO:0001566',\n",
    "    'splice_acceptor_variant' :            'SO:0001574',\n",
    "    'splice_donor_variant' :               'SO:0001575',\n",
    "    'missense_variant' :                   'SO:0001583',\n",
    "    'stop_gained' :                        'SO:0001587',\n",
    "    'stop_lost' :                          'SO:0001578',\n",
    "    'frameshift_variant' :                 'SO:0001589',\n",
    "    'coding_sequence_variant' :            'SO:0001580',\n",
    "    'non_coding_transcript_variant' :      'SO:0001619',\n",
    "    'mature_miRNA_variant' :               'SO:0001620',\n",
    "    'NMD_transcript_variant' :             'SO:0001621',\n",
    "    '5_prime_UTR_variant' :                'SO:0001623',\n",
    "    '3_prime_UTR_variant' :                'SO:0001624',\n",
    "    'incomplete_terminal_codon_variant' :  'SO:0001626',\n",
    "    'intron_variant' :                     'SO:0001627',\n",
    "    'intergenic_variant' :                 'SO:0001628',\n",
    "    'splice_region_variant' :              'SO:0001630',\n",
    "    'upstream_gene_variant' :              'SO:0001631',\n",
    "    'downstream_gene_variant' :            'SO:0001632',\n",
    "    'TF_binding_site_variant' :            'SO:0001782',\n",
    "    'non_coding_transcript_exon_variant' : 'SO:0001792',\n",
    "    'protein_altering_variant' :           'SO:0001818',\n",
    "    'synonymous_variant' :                 'SO:0001819',\n",
    "    'inframe_insertion' :                  'SO:0001821',\n",
    "    'inframe_deletion' :                   'SO:0001822',\n",
    "    'transcript_amplification' :           'SO:0001889',\n",
    "    'regulatory_region_amplification' :    'SO:0001891',\n",
    "    'TFBS_ablation' :                      'SO:0001892',\n",
    "    'TFBS_amplification' :                 'SO:0001892',\n",
    "    'regulatory_region_ablation' :         'SO:0001894',\n",
    "    'feature_truncation' :                 'SO:0001906',\n",
    "    'feature_elongation' :                 'SO:0001907',\n",
    "    'start_lost' :                         'SO:0002012',\n",
    "}\n",
    "\n",
    "multiSelect = widgets.SelectMultiple(\n",
    "    description=\"Transcript Effects\",\n",
    "    options=searchOntologyDict\n",
    ")\n",
    "\n",
    "interact(runSearch,\n",
    "         startPos=\"0\",\n",
    "         endPos=\"100000\",\n",
    "         chromosome=chromList,\n",
    "         searchTerms=multiSelect,\n",
    "         buckets=\"20\",\n",
    "         __manual=\"True\"\n",
    "         )"
   ]
  },
  {
   "cell_type": "code",
   "execution_count": null,
   "metadata": {
    "collapsed": true
   },
   "outputs": [],
   "source": []
  },
  {
   "cell_type": "code",
   "execution_count": null,
   "metadata": {
    "collapsed": true
   },
   "outputs": [],
   "source": []
  }
 ],
 "metadata": {
  "kernelspec": {
   "display_name": "Python 2",
   "language": "python",
   "name": "python2"
  },
  "language_info": {
   "codemirror_mode": {
    "name": "ipython",
    "version": 2
   },
   "file_extension": ".py",
   "mimetype": "text/x-python",
   "name": "python",
   "nbconvert_exporter": "python",
   "pygments_lexer": "ipython2",
   "version": "2.7.11"
  },
  "widgets": {
   "state": {
    "05993880b18e4452bb54b5652da392c0": {
     "views": []
    },
    "0a6ea2dbde084db98facee767d25af62": {
     "views": []
    },
    "2470f9f673e24e528dfd0396a817b25b": {
     "views": []
    },
    "38d847b8e21345f88867c749494e35db": {
     "views": [
      {
       "cell_index": 12
      }
     ]
    },
    "5d9f060a89314bcfbedfb8b1cc9b0cee": {
     "views": []
    },
    "65f995c303464c5fad85c1822284d066": {
     "views": []
    },
    "7c03239a8d984134a77abbb30955ad71": {
     "views": []
    },
    "7d383de8d3e94e73881576e62a9f2734": {
     "views": []
    },
    "b12b6b36167c49b28839e7576d8c07d4": {
     "views": []
    },
    "cabc37a9c0fe455a9c28fab54690b126": {
     "views": []
    },
    "d231a670336e4efeab65d3be64fc7d8a": {
     "views": []
    },
    "e2295c3f565244d28ad926067e8ed8ac": {
     "views": []
    },
    "e3eceadc6c7642daa6f963349d26e730": {
     "views": []
    },
    "e4ecc7c013a34c84b68b5d52bdaa4327": {
     "views": []
    }
   },
   "version": "1.1.1"
  }
 },
 "nbformat": 4,
 "nbformat_minor": 0
}
