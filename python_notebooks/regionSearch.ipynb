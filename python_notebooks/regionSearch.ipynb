{
 "cells": [
  {
   "cell_type": "markdown",
   "metadata": {},
   "source": [
    "### Program Overview\n",
    "\n",
    "Put things about the program here\n",
    "__________________________________________________________________________"
   ]
  },
  {
   "cell_type": "markdown",
   "metadata": {},
   "source": [
    "### Initialize the client\n",
    "\n",
    "As seen in the \"1kg.ipynb\" example, we take the following steps to create the client object that will be used to obtain the information we desire and query the server. Plotting tools are also imported here."
   ]
  },
  {
   "cell_type": "code",
   "execution_count": 1,
   "metadata": {
    "collapsed": false
   },
   "outputs": [],
   "source": [
    "import ga4gh.client as client\n",
    "c = client.HttpClient(\"http://1kgenomes.ga4gh.org\")\n",
    "\n",
    "import sys\n",
    "import collections\n",
    "import math\n",
    "%matplotlib inline\n",
    "import matplotlib\n",
    "import numpy as np\n",
    "import matplotlib.pyplot as plt\n",
    "\n",
    "#from __future__ import print_function\n",
    "from ipywidgets import interact, interactive, fixed\n",
    "from IPython.display import display\n",
    "import ipywidgets as widgets"
   ]
  },
  {
   "cell_type": "markdown",
   "metadata": {},
   "source": [
    "### Acquiring annotation set\n",
    "\n",
    "We query the server for the dataset, which is the 1k-genomes dataset. The dataset has a unique ID that can be used to acquire each variant set within the dataset. \n",
    "\n",
    "To access the different kinds of annotations, we access the annotation set using the unique variant set ID."
   ]
  },
  {
   "cell_type": "code",
   "execution_count": 2,
   "metadata": {
    "collapsed": false
   },
   "outputs": [],
   "source": [
    "dataset = c.search_datasets().next()\n",
    "\n",
    "for variantSet in c.search_variant_sets(dataset.id):\n",
    "    if variantSet.name == \"functional-annotation\":\n",
    "        annotation = variantSet\n",
    "\n",
    "annotationSet = c.search_variant_annotation_sets(variant_set_id=annotation.id).next()"
   ]
  },
  {
   "cell_type": "markdown",
   "metadata": {},
   "source": [
    "### Running Search\n",
    "\n",
    "runSearch is called below using ipywidgets. Global variables are initialized for other functions to use and the start and end points are set based on how many buckets the user wants. The function then searches for the transcript effects, given the transcript effect the user is looking for.\n",
    "\n",
    "The function consists of a loop that is used to separate the search into the amount of buckets, or windowCount, the user wants to find. This makes it easier to visualize large portions of data in a succinct way\n",
    "\n",
    "The results are sent to countingStatistics for further processing."
   ]
  },
  {
   "cell_type": "code",
   "execution_count": 15,
   "metadata": {
    "collapsed": false
   },
   "outputs": [],
   "source": [
    "def runSearch(startPos, endPos, chromosome, searchTerms, buckets):\n",
    "    \n",
    "    global formatSearch\n",
    "    formatSearch = []\n",
    "    \n",
    "    for i in range(0,len(searchTerms)):\n",
    "        formatSearch.append({\"id\":searchTerms[i]})\n",
    "           \n",
    "    global windowCount\n",
    "    windowCount = int(buckets)\n",
    "    \n",
    "    global initStart\n",
    "    global initEnd\n",
    "    initStart = startPos\n",
    "    initEnd = endPos\n",
    "    \n",
    "    global startPoint\n",
    "    global endPoint\n",
    "    startPoint = int(startPos)\n",
    "    endPoint = (int(startPos)+(int(endPos)-int(startPos))/int(buckets))\n",
    "    \n",
    "    global yList\n",
    "    global xTickList\n",
    "    yList=[]\n",
    "    xTickList=[]\n",
    "    \n",
    "    global allGraphData\n",
    "    allGraphData = []\n",
    "    \n",
    "    global count\n",
    "    count=0\n",
    "    \n",
    "    # formatSearch loop breaks up the search by different search terms\n",
    "    for soTerms in formatSearch:\n",
    "        # windowCount/bucket loop breaks up the search into multiple smaller searches from region to region\n",
    "        for i in range(0,windowCount):\n",
    "            #print(soTerms)\n",
    "            searchedVarAnns=c.search_variant_annotations(variant_annotation_set_id=annotationSet.id, start=startPoint, end=endPoint, reference_name=chromosome, effects=[soTerms])\n",
    "\n",
    "            idList = []\n",
    "            startEndList = []\n",
    "\n",
    "            for annotation in searchedVarAnns:\n",
    "                idList.append(annotation.variant_id)\n",
    "\n",
    "            countingStats(idList=idList, windowValue=windowCount, yValList=yList, startPos=startPoint, endPos=endPoint)\n",
    "\n",
    "            startPoint+=(int(endPos)-int(startPos))/int(buckets)\n",
    "            endPoint+=(int(endPos)-int(startPos))/int(buckets)\n",
    "            \n",
    "            del idList[:]"
   ]
  },
  {
   "cell_type": "markdown",
   "metadata": {},
   "source": [
    "### Counting Statistics\n",
    "\n",
    "countingStats arranges the data in a way that will work nicely with matplotlib. The values are then passed onto the plotting function."
   ]
  },
  {
   "cell_type": "code",
   "execution_count": 16,
   "metadata": {
    "collapsed": false
   },
   "outputs": [
    {
     "name": "stderr",
     "output_type": "stream",
     "text": [
      "<ipython-input-16-4912ead13a62>:15: SyntaxWarning: name 'count' is used prior to global declaration\n",
      "  global count\n"
     ]
    }
   ],
   "source": [
    "def countingStats(idList, windowValue, yValList,startPos, endPos):\n",
    "\n",
    "    if len(yList)==0:\n",
    "        yList.append([])\n",
    "    \n",
    "    yList[count].append(len(idList))\n",
    "    \n",
    "    if len(yList[count])==windowValue:\n",
    "        global startPoint\n",
    "        startPoint = int(initStart)-(int(initEnd)-int(initStart))/windowCount\n",
    "    \n",
    "        global endPoint\n",
    "        endPoint = (int(initStart)+(int(initEnd)-int(initStart))/windowCount)-(int(initEnd)-int(initStart))/windowCount\n",
    "        \n",
    "        global count\n",
    "        count+=1\n",
    "    \n",
    "        if count!=len(formatSearch):\n",
    "            yList.append([])\n",
    "    \n",
    "    if len(yList)==len(formatSearch) and len(yList[count-1])==windowValue and count==len(formatSearch):\n",
    "        plotWindowHistogram(xTickList, yList, windowValue, startPos, endPos)"
   ]
  },
  {
   "cell_type": "markdown",
   "metadata": {},
   "source": [
    "### Plotting\n",
    "\n",
    "All the statistics are gathered and then graphed. The function also sets the appropriate title, x-axis labels, and different bar colors depending on the search results."
   ]
  },
  {
   "cell_type": "code",
   "execution_count": 17,
   "metadata": {
    "collapsed": false
   },
   "outputs": [],
   "source": [
    "def plotWindowHistogram(xAxisTicks, yAxisValues, windowVals, startPos, endPos):\n",
    "\n",
    "    fig, ax = plt.subplots()\n",
    "    \n",
    "    endValues = np.empty([1,2], dtype=np.int32)\n",
    "\n",
    "    endValues[0][0] = startPos\n",
    "    endValues[0][1] = endPos\n",
    "    \n",
    "    # Set labels here#####\n",
    "    #ax.set_xticklabels(endValues, rotation=90)\n",
    "    \n",
    "    colors = [str]*20\n",
    "    colors[0] = '#8B0000'\n",
    "    colors[1] = '#FF8C00'\n",
    "    colors[2] = '#8B008B'\n",
    "    colors[3] = '#556B2F'\n",
    "    colors[4] = '#006400'\n",
    "    colors[5] = '#9932CC'\n",
    "    colors[6] = '#BDB76B'\n",
    "        \n",
    "    #h = plt.bar(xrange(len(xAxisTicks)), yAxisValues, label=xAxisTicks)\n",
    "    #xticks_pos = [0.50*patch.get_width() + patch.get_xy()[0] for patch in h]\n",
    "    #plt.xticks(xticks_pos, xAxisTicks,  ha='right', rotation=45) \n",
    "    \n",
    "    #print(yAxisValues)\n",
    "  \n",
    "\n",
    "    # title and graph size formatting\n",
    "    titleEffects=[]\n",
    "    for key, value in searchOntologyDict.iteritems():\n",
    "        for i in range(len(formatSearch)):\n",
    "            if searchOntologyDict[key]==formatSearch[i]['id']:\n",
    "                titleEffects.append(key)\n",
    "\n",
    "\n",
    "    index=0\n",
    "    for j in range(0,len(yAxisValues[index])):\n",
    "        for i in range(0,count):\n",
    "            if j==0:\n",
    "                plt.bar(index, yAxisValues[i][j], width=1, color=colors[i], label=titleEffects[i])\n",
    "            else:\n",
    "                plt.bar(index, yAxisValues[i][j], width=1, color=colors[i])\n",
    "            index+=1\n",
    "            \n",
    "\n",
    "    title=\"\"\n",
    "    if len(titleEffects)==1:\n",
    "        ax.set_title(titleEffects[0]+\"s\"+\" from \"+str(initStart)+\" to \"+str(initEnd))\n",
    "    else:\n",
    "        if len(formatSearch)==2:\n",
    "            title+=titleEffects[0]+\"s\"+\" and \"+titleEffects[1]+\"s\"+\" \"\n",
    "        else:\n",
    "            for i in range(0,len(titleEffects)):\n",
    "                if i!=(len(titleEffects)-1):\n",
    "                    title+=titleEffects[i]+\"s\"+\", \"\n",
    "                else:\n",
    "                    title+=\"and \"+titleEffects[i]+\"s\"+\" \"\n",
    "        ax.set_title(title+\"from \"+str(initStart)+\" to \"+str(initEnd))\n",
    "\n",
    "        \n",
    "    plt.legend(loc='upper right')\n",
    "        \n",
    "    #ax.set_ylim([0,int(math.ceil(max(yAxisValues)/5.0))*5])\n",
    "    \n",
    "\n",
    "    \n",
    "    # Set labels here#####\n",
    "    #ax.set_xticklabels(xTickList)\n",
    "    plt.rcParams[\"figure.figsize\"] = [15,15]\n",
    "        \n",
    "    plt.show()"
   ]
  },
  {
   "cell_type": "markdown",
   "metadata": {},
   "source": [
    "### Interact Widgets\n",
    "\n",
    "A dictionary of transcript effects and their search ontology ID's is made so that the user doesn't have to remember the ID's. runSearch is then called and the interact function gives\" runSearch all of the necessary parameters based on what the user has chosen."
   ]
  },
  {
   "cell_type": "code",
   "execution_count": 20,
   "metadata": {
    "collapsed": false,
    "scrolled": false
   },
   "outputs": [
    {
     "data": {
      "image/png": "[encoded data removed]",
      "text/plain": [
       "<matplotlib.figure.Figure at 0x1058f29d0>"
      ]
     },
     "metadata": {},
     "output_type": "display_data"
    }
   ],
   "source": [
    "shortDict = {'intron_variant' : 'SO:0001627', 'feature_truncation' : 'SO:0001906' , 'non_coding_transcript_exon_variant' : 'SO:0001792' , 'non_coding_transcript_variant' : 'SO:0001619', 'transcript_ablation' : 'SO:0001893'}\n",
    "chromList = ('1','2','3','4','5','6','7','8','9','10','11','12','13','14','15','16','17','18')\n",
    "\n",
    "global searchOntologyDict\n",
    "searchOntologyDict = {\n",
    "    'stop_retained_variant' :              'SO:0001567',\n",
    "    'regulatory_region_variant' :          'SO:0001566',\n",
    "    'splice_acceptor_variant' :            'SO:0001574',\n",
    "    'splice_donor_variant' :               'SO:0001575',\n",
    "    'missense_variant' :                   'SO:0001583',\n",
    "    'stop_gained' :                        'SO:0001587',\n",
    "    'stop_lost' :                          'SO:0001578',\n",
    "    'frameshift_variant' :                 'SO:0001589',\n",
    "    'coding_sequence_variant' :            'SO:0001580',\n",
    "    'non_coding_transcript_variant' :      'SO:0001619',\n",
    "    'mature_miRNA_variant' :               'SO:0001620',\n",
    "    'NMD_transcript_variant' :             'SO:0001621',\n",
    "    '5_prime_UTR_variant' :                'SO:0001623',\n",
    "    '3_prime_UTR_variant' :                'SO:0001624',\n",
    "    'incomplete_terminal_codon_variant' :  'SO:0001626',\n",
    "    'intron_variant' :                     'SO:0001627',\n",
    "    'intergenic_variant' :                 'SO:0001628',\n",
    "    'splice_region_variant' :              'SO:0001630',\n",
    "    'upstream_gene_variant' :              'SO:0001631',\n",
    "    'downstream_gene_variant' :            'SO:0001632',\n",
    "    'TF_binding_site_variant' :            'SO:0001782',\n",
    "    'non_coding_transcript_exon_variant' : 'SO:0001792',\n",
    "    'protein_altering_variant' :           'SO:0001818',\n",
    "    'synonymous_variant' :                 'SO:0001819',\n",
    "    'inframe_insertion' :                  'SO:0001821',\n",
    "    'inframe_deletion' :                   'SO:0001822',\n",
    "    'transcript_amplification' :           'SO:0001889',\n",
    "    'regulatory_region_amplification' :    'SO:0001891',\n",
    "    'TFBS_ablation' :                      'SO:0001892',\n",
    "    'TFBS_amplification' :                 'SO:0001892',\n",
    "    'regulatory_region_ablation' :         'SO:0001894',\n",
    "    'feature_truncation' :                 'SO:0001906',\n",
    "    'feature_elongation' :                 'SO:0001907',\n",
    "    'start_lost' :                         'SO:0002012',\n",
    "}\n",
    "\n",
    "multiSelect = widgets.SelectMultiple(\n",
    "    description=\"Transcript Effects\",\n",
    "    options=searchOntologyDict\n",
    ")\n",
    "\n",
    "interact(runSearch,\n",
    "         startPos=\"0\",\n",
    "         endPos=\"100000\",\n",
    "         chromosome=chromList,\n",
    "         searchTerms=multiSelect,\n",
    "         buckets=\"20\",\n",
    "         __manual=\"True\"\n",
    "         )"
   ]
  },
  {
   "cell_type": "code",
   "execution_count": null,
   "metadata": {
    "collapsed": true
   },
   "outputs": [],
   "source": []
  },
  {
   "cell_type": "code",
   "execution_count": null,
   "metadata": {
    "collapsed": true
   },
   "outputs": [],
   "source": []
  }
 ],
 "metadata": {
  "kernelspec": {
   "display_name": "Python 2",
   "language": "python",
   "name": "python2"
  },
  "language_info": {
   "codemirror_mode": {
    "name": "ipython",
    "version": 2
   },
   "file_extension": ".py",
   "mimetype": "text/x-python",
   "name": "python",
   "nbconvert_exporter": "python",
   "pygments_lexer": "ipython2",
   "version": "2.7.11"
  },
  "widgets": {
   "state": {
    "03c6ec0864fc4c288d4056a73084706f": {
     "views": []
    },
    "08583873db644b14a56a625c1e4e6aab": {
     "views": []
    },
    "0900574767194dbf8ecfd4d3d70bc7fa": {
     "views": []
    },
    "14bc935bb910420c9f3d4c45270b5042": {
     "views": []
    },
    "166afb45d7bd4e37bc9b226da3899b49": {
     "views": []
    },
    "17b93f2f0dca496abd73fee797b08ffe": {
     "views": []
    },
    "1d3c566772524081b9540f71e98d564c": {
     "views": []
    },
    "1de35708b3834c8ca1475176199cb400": {
     "views": []
    },
    "232300b4cffc40b99f99fc584bedc018": {
     "views": []
    },
    "2485f5e0fcf74d969048c61264a505ae": {
     "views": []
    },
    "2895ca4afb3a41728d88494ce97104bd": {
     "views": []
    },
    "2a4d60998cae4aaf9c9eb2ce39ad2f48": {
     "views": []
    },
    "302d1648880a431b9a4160fbf594c5a4": {
     "views": []
    },
    "345b867c538a437bbb83d84d1c295e02": {
     "views": []
    },
    "357a7eba666a48dba92797e1548368d5": {
     "views": []
    },
    "35919842e0234109b978a00187e46f16": {
     "views": []
    },
    "3c149f373de5416bb6474d12b9bfd2b4": {
     "views": []
    },
    "3c31df005d384715a30810c88928224e": {
     "views": []
    },
    "3e2360c331044dbf968d3d2834194ca3": {
     "views": []
    },
    "3e5ab9f871264e64b1c155eead19d146": {
     "views": []
    },
    "4203140a0fbc43aca484b5a2b3b331f8": {
     "views": []
    },
    "43cda92d2c55412088d3662c2c45e95a": {
     "views": []
    },
    "45ccae7e33d44351a0f0ef181bbf2efb": {
     "views": []
    },
    "4bb97ece1f8e43b0b351575af1e4e525": {
     "views": []
    },
    "517c37ed122b4f8bbf843168d2cbcea9": {
     "views": []
    },
    "51dbd4502fdf4661a0b969a2e4a2dd58": {
     "views": []
    },
    "53289a7ba5af4be6a9d4f05ea50862e5": {
     "views": []
    },
    "5a63cc1008934744a598f16e006d4d2a": {
     "views": []
    },
    "5b9687850bec4cbda9cf45e032be1e33": {
     "views": []
    },
    "5c6e89f74f854b319c27b847635c8018": {
     "views": []
    },
    "5cbd876546844d07a6ef8c4f194007ab": {
     "views": []
    },
    "6014c9973f044906a9a4578157f12010": {
     "views": []
    },
    "61f3b84a201b4f86b0dda0435b3e19e8": {
     "views": []
    },
    "69d5dcbd57384958b9afa825f283ccb1": {
     "views": []
    },
    "6c6c235477e24a15b25ae246abce61c3": {
     "views": []
    },
    "6da7377d36004fa7a61545fc67ff7773": {
     "views": []
    },
    "6f8c66f54a15446f8ff61803ae891090": {
     "views": []
    },
    "7316095f1a8943288228542c350f8a74": {
     "views": []
    },
    "74a49f132b8343348258a5245d0b606b": {
     "views": [
      {
       "cell_index": 12
      }
     ]
    },
    "7652cf470ff54d508fe076a0d55f5506": {
     "views": []
    },
    "77110965926d4110956f2930c646e3f1": {
     "views": []
    },
    "77c76eb4687c469b9e8511b0f6dafb6a": {
     "views": []
    },
    "79f7197084f745058f71f9d933704479": {
     "views": []
    },
    "89bfbd8a60d8410a82901e694f56840e": {
     "views": []
    },
    "8c099c0633ce46bb85e1c61e1e98b15b": {
     "views": []
    },
    "8d0b646090ae47c4a8f068906dc9a347": {
     "views": []
    },
    "8e6c23771c874d14916d0bc72e8eaff2": {
     "views": []
    },
    "8e76f77c94b840edb6a5699868fba8a5": {
     "views": []
    },
    "8ea31678163445e98b40ee493491d9da": {
     "views": []
    },
    "90746201b9e346d8b6709490d2b56514": {
     "views": []
    },
    "91393d1d72b141f7b40c719a961493b7": {
     "views": []
    },
    "923a4d2cbc354d0e9e55747b7773974e": {
     "views": []
    },
    "94f5989f89ae47b6802db65cf14d377a": {
     "views": []
    },
    "9757830979fc4ecabb15771dd1ab1cb1": {
     "views": []
    },
    "9821efb3501e4bf693a93f184c882597": {
     "views": []
    },
    "9c468d4483ba4017bb41804ddcaddb87": {
     "views": []
    },
    "9f64fc47ad144b7cbfa6b82448fd5dc3": {
     "views": []
    },
    "a4858395f3c04fb88c168b5c0a0ddf54": {
     "views": []
    },
    "aba1dcfd22c9476f8a054353196e47c7": {
     "views": []
    },
    "ad738d1bc51940f9ab3c0ae6c132ae03": {
     "views": []
    },
    "ae281bfcc58e4231959a2f0072e203cd": {
     "views": []
    },
    "b37062b9762d4b9584661c8fe7de48ae": {
     "views": []
    },
    "b73d3593991c489fbe8965f1da9f17e6": {
     "views": []
    },
    "c1053a1f92a948f8bbf934606859ebaa": {
     "views": []
    },
    "c6fb53c8c2c34741a42f5bb679107f9d": {
     "views": []
    },
    "c8c4593b16db43df82d833c92d15ce92": {
     "views": []
    },
    "cbd0c3fb6d244c9abfebb6da862df06a": {
     "views": []
    },
    "cf84a94fbb074e53bb6775c37be6900e": {
     "views": []
    },
    "d60797f0bd944756ab73e47e1813261f": {
     "views": []
    },
    "d83bf558e3af4aa7b1ba881771e6b3dd": {
     "views": []
    },
    "dea0f11e4232483db9279227975870f1": {
     "views": []
    },
    "e14eb4402b004573a7fd1a339f337ebb": {
     "views": []
    },
    "e79453e6b7ed4b4984ef59faea85e679": {
     "views": []
    },
    "e808f7f06d274e5290802562ab1c561f": {
     "views": []
    },
    "e809ab8910694acfacaae2bb6433b542": {
     "views": []
    },
    "e97efab333b64eb8a1d79d1ff71916eb": {
     "views": []
    },
    "ec1dc401f0144095ab72e0e2a267e09d": {
     "views": []
    },
    "ec87b656fd6c419990c7eda54ce58fb9": {
     "views": []
    },
    "ec9e096b82324aca9e2431c2dec2ea02": {
     "views": []
    },
    "f01bbae82aa74c25b049ab952b8f713e": {
     "views": []
    },
    "f4384f45b0f947cd950439d323102dee": {
     "views": []
    },
    "f4bcd2f0f2de4a4fbeeecf41a9f9033c": {
     "views": []
    },
    "f98269e220b347118fbc8674d9fc942c": {
     "views": []
    },
    "ff5869dbd96046ceb703c969c9a8bb3c": {
     "views": []
    }
   },
   "version": "1.1.1"
  }
 },
 "nbformat": 4,
 "nbformat_minor": 0
}
