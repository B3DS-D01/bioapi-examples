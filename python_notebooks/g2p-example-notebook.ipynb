{
 "cells": [
  {
   "cell_type": "markdown",
   "metadata": {},
   "source": [
    "# G2P Genotype to Phenotype example notebook.\n",
    "\n",
    "This example illustrates how to access the GA4GH Genotype to Phenotype service.\n",
    "The GA4GH G2P allows the researcher to query features, phenotypes and their associated evidence.\n",
    "\n",
    "The examples are based on the compliance server data set with a full complement of [G2P data](https://github.com/ohsu-computational-biology/ohsu-server-util/blob/master/cgd-08-09-2016.ttl) from the Monarch project.\n"
   ]
  },
  {
   "cell_type": "markdown",
   "metadata": {},
   "source": [
    "## Initialize the client\n",
    "In this step we create a client object which will be used to communicate with the server. It is initialized using the URL."
   ]
  },
  {
   "cell_type": "code",
   "execution_count": 1,
   "metadata": {
    "collapsed": true
   },
   "outputs": [],
   "source": [
    "import ga4gh_client.client as client\n",
    "ga4gh_endpoint = \"http://1kgenomes.ga4gh.org\"\n",
    "c = client.HttpClient(ga4gh_endpoint)"
   ]
  },
  {
   "cell_type": "markdown",
   "metadata": {},
   "source": [
    "## Search for feature set and phenotype association set identifiers\n",
    "This call returns phenotype association sets hosted by the API. Observe that we are querying all datasets hosted in the endpoint.  The identifiers for the featureset and phenotype association set are used by all subsequent API calls."
   ]
  },
  {
   "cell_type": "code",
   "execution_count": 2,
   "metadata": {
    "collapsed": false
   },
   "outputs": [
    {
     "name": "stdout",
     "output_type": "stream",
     "text": [
      "Found G2P phenotype_association_set: WyIxa2dlbm9tZXMiLCJjZ2QiXQ cgd\n",
      "Found G2P feature_set: WyIxa2dlbm9tZXMiLCJjZ2QiXQ\n"
     ]
    }
   ],
   "source": [
    "datasets = c.search_datasets()\n",
    "phenotype_association_set_id = None\n",
    "phenotype_association_set_name = None\n",
    "for  dataset in datasets:\n",
    "  phenotype_association_sets = c.search_phenotype_association_sets(dataset_id=dataset.id)\n",
    "  for phenotype_association_set in phenotype_association_sets:\n",
    "    phenotype_association_set_id = phenotype_association_set.id\n",
    "    phenotype_association_set_name = phenotype_association_set.name\n",
    "    print 'Found G2P phenotype_association_set:', phenotype_association_set.id, phenotype_association_set.name\n",
    "\n",
    "assert phenotype_association_set_id\n",
    "assert phenotype_association_set_name\n",
    "\n",
    "feature_set_id = None\n",
    "datasets = c.search_datasets()\n",
    "for  dataset in datasets:\n",
    "  featuresets = c.search_feature_sets(dataset_id=dataset.id)\n",
    "  for featureset in featuresets:\n",
    "    if phenotype_association_set_name in featureset.name:\n",
    "      feature_set_id = featureset.id\n",
    "      print 'Found G2P feature_set:', feature_set_id\n",
    "assert feature_set_id"
   ]
  },
  {
   "cell_type": "markdown",
   "metadata": {
    "collapsed": true
   },
   "source": [
    "## Search for genomic Features  by location\n",
    "\n",
    "Using the feature set id returned above, the following request returns a list of features that exactly match a location\n"
   ]
  },
  {
   "cell_type": "code",
   "execution_count": 3,
   "metadata": {
    "collapsed": false
   },
   "outputs": [
    {
     "name": "stdout",
     "output_type": "stream",
     "text": [
      "Found 1 features in G2P feature_set WyIxa2dlbm9tZXMiLCJjZ2QiXQ\n",
      "[u'EGFR S768I missense mutation', u'COSM6241', u'chr7', 55249005L, 55249006L]\n"
     ]
    }
   ],
   "source": [
    "feature_generator = c.search_features(feature_set_id=feature_set_id,\n",
    "                        reference_name=\"chr7\",\n",
    "                        start=55249005,\n",
    "                        end=55249006\n",
    "                    )\n",
    "\n",
    "features = list(feature_generator)\n",
    "assert len(features) == 1\n",
    "print \"Found {} features in G2P feature_set {}\".format(len(features),feature_set_id)\n",
    "feature = features[0]\n",
    "print [feature.name,feature.gene_symbol,feature.reference_name,feature.start,feature.end]\n"
   ]
  },
  {
   "cell_type": "markdown",
   "metadata": {},
   "source": [
    "## Search features by name\n",
    "\n",
    "If the location is not known, we can query using the name of the feature.  Using the feature set id returned above, the following request returns a list of features that exactly match a given name - `'EGFR S768I missense mutation'`.\n"
   ]
  },
  {
   "cell_type": "code",
   "execution_count": 4,
   "metadata": {
    "collapsed": false
   },
   "outputs": [
    {
     "name": "stdout",
     "output_type": "stream",
     "text": [
      "Found 1 features in G2P feature_set WyIxa2dlbm9tZXMiLCJjZ2QiXQ\n",
      "[u'EGFR S768I missense mutation', u'COSM6241', u'chr7', 55249005L, 55249006L]\n"
     ]
    }
   ],
   "source": [
    "\n",
    "feature_generator = c.search_features(feature_set_id=feature_set_id, name='EGFR S768I missense mutation')\n",
    "features = list(feature_generator)\n",
    "assert len(features) == 1\n",
    "print \"Found {} features in G2P feature_set {}\".format(len(features),feature_set_id)\n",
    "feature = features[0]\n",
    "print [feature.name,feature.gene_symbol,feature.reference_name,feature.start,feature.end]\n",
    "\n"
   ]
  },
  {
   "cell_type": "markdown",
   "metadata": {},
   "source": [
    "## Get evidence associated with that feature.\n",
    "Once we have looked up the feature, we can then search for all evidence associated with that feature.\n"
   ]
  },
  {
   "cell_type": "code",
   "execution_count": 5,
   "metadata": {
    "collapsed": false
   },
   "outputs": [
    {
     "name": "stdout",
     "output_type": "stream",
     "text": [
      "There are 2 associations\n",
      "Association: genotype:[EGFR S768I missense mutation] phenotype:[Adenosquamous carcinoma with response to therapy] environment:[irreversible EGFR TKIs] evidence:[response] publications:[http://www.ncbi.nlm.nih.gov/pubmed/22753918|http://www.ncbi.nlm.nih.gov/pubmed/22753918]\n",
      "Association: genotype:[EGFR S768I missense mutation] phenotype:[Adenosquamous carcinoma with sensitivity to therapy] environment:[MEK inhibitors] evidence:[sensitivity] publications:[http://www.ncbi.nlm.nih.gov/pubmed/23102728|http://www.ncbi.nlm.nih.gov/pubmed/23102728]\n"
     ]
    }
   ],
   "source": [
    "feature_phenotype_associations =  c.search_genotype_phenotype(\n",
    "                                    phenotype_association_set_id=phenotype_association_set_id,\n",
    "                                    feature_ids=[f.id  for f in features])\n",
    "associations = list(feature_phenotype_associations)\n",
    "assert len(associations) >= len(features)\n",
    "print \"There are {} associations\".format(len(associations))\n",
    "print \"\\n\".join([a.description for a in associations])\n"
   ]
  },
  {
   "cell_type": "markdown",
   "metadata": {},
   "source": [
    "## Search a phenotype\n",
    "Alternatively, a researcher can query for a phenotype.  In this case by the phenotype's description matching `'Adenosquamous carcinoma .*'`\n"
   ]
  },
  {
   "cell_type": "code",
   "execution_count": 6,
   "metadata": {
    "collapsed": false
   },
   "outputs": [
    {
     "name": "stdout",
     "output_type": "stream",
     "text": [
      "Adenosquamous carcinoma with response to therapy\n",
      "Adenosquamous carcinoma with decreased sensitivity to therapy\n",
      "Adenosquamous carcinoma with sensitivity to therapy\n"
     ]
    }
   ],
   "source": [
    "phenotypes_generator = c.search_phenotype(\n",
    "                phenotype_association_set_id=phenotype_association_set_id,\n",
    "                description=\"Adenosquamous carcinoma .*\"\n",
    "                )\n",
    "phenotypes = list(phenotypes_generator)\n",
    "\n",
    "assert len(phenotypes) >= 0\n",
    "print \"\\n\".join(set([p.description for p in phenotypes])) \n"
   ]
  },
  {
   "cell_type": "markdown",
   "metadata": {},
   "source": [
    "## Get evidence associated with those phenotypes.\n",
    "The researcher can use those phenotype identifiers to query for evidence associations.\n"
   ]
  },
  {
   "cell_type": "code",
   "execution_count": 7,
   "metadata": {
    "collapsed": false
   },
   "outputs": [
    {
     "name": "stdout",
     "output_type": "stream",
     "text": [
      "There are 38 associations\n"
     ]
    }
   ],
   "source": [
    "feature_phenotype_associations =  c.search_genotype_phenotype(\n",
    "                                    phenotype_association_set_id=phenotype_association_set_id,\n",
    "                                    phenotype_ids=[p.id for p in phenotypes])\n",
    "associations = list(feature_phenotype_associations)\n",
    "assert len(associations) >= len(phenotypes)\n",
    "print \"There are {} associations\".format(len(associations))\n"
   ]
  },
  {
   "cell_type": "markdown",
   "metadata": {},
   "source": [
    "## Further constrain associations with environment\n",
    "The researcher can limit the associations returned by introducing the evironment contraint "
   ]
  },
  {
   "cell_type": "code",
   "execution_count": 8,
   "metadata": {
    "collapsed": false
   },
   "outputs": [
    {
     "name": "stdout",
     "output_type": "stream",
     "text": [
      "There are 13 associations\n",
      "Association: genotype:[COSM6213] phenotype:[Adenosquamous carcinoma with sensitivity to therapy] environment:[MEK inhibitors] evidence:[sensitivity] publications:[http://www.ncbi.nlm.nih.gov/pubmed/23102728|http://www.ncbi.nlm.nih.gov/pubmed/23102728]\n",
      "Association: genotype:[EGFR G719D missense mutation] phenotype:[Adenosquamous carcinoma with sensitivity to therapy] environment:[MEK inhibitors] evidence:[sensitivity] publications:[http://www.ncbi.nlm.nih.gov/pubmed/23102728]\n",
      "Association: genotype:[EGFR T790M missense mutation] phenotype:[Adenosquamous carcinoma with sensitivity to therapy] environment:[MEK inhibitors] evidence:[sensitivity] publications:[http://www.ncbi.nlm.nih.gov/pubmed/23102728|http://www.ncbi.nlm.nih.gov/pubmed/23102728]\n",
      "Association: genotype:[EGFR exon 19 p.729-761 deletion mutation] phenotype:[Adenosquamous carcinoma with sensitivity to therapy] environment:[MEK inhibitors] evidence:[sensitivity] publications:[http://www.ncbi.nlm.nih.gov/pubmed/23102728]\n",
      "Association: genotype:[COSM6252] phenotype:[Adenosquamous carcinoma with sensitivity to therapy] environment:[MEK inhibitors] evidence:[sensitivity] publications:[http://www.ncbi.nlm.nih.gov/pubmed/23102728|http://www.ncbi.nlm.nih.gov/pubmed/23102728]\n",
      "Association: genotype:[COSM6224] phenotype:[Adenosquamous carcinoma with sensitivity to therapy] environment:[MEK inhibitors] evidence:[sensitivity] publications:[http://www.ncbi.nlm.nih.gov/pubmed/23102728|http://www.ncbi.nlm.nih.gov/pubmed/23102728]\n",
      "Association: genotype:[EGFR L747S missense mutation] phenotype:[Adenosquamous carcinoma with sensitivity to therapy] environment:[MEK inhibitors] evidence:[sensitivity] publications:[http://www.ncbi.nlm.nih.gov/pubmed/23102728]\n",
      "Association: genotype:[EGFR G719A missense mutation] phenotype:[Adenosquamous carcinoma with sensitivity to therapy] environment:[MEK inhibitors] evidence:[sensitivity] publications:[http://www.ncbi.nlm.nih.gov/pubmed/23102728]\n",
      "Association: genotype:[EGFR L861P missense mutation] phenotype:[Adenosquamous carcinoma with sensitivity to therapy] environment:[MEK inhibitors] evidence:[sensitivity] publications:[http://www.ncbi.nlm.nih.gov/pubmed/23102728]\n",
      "Association: genotype:[EGFR G719C missense mutation] phenotype:[Adenosquamous carcinoma with sensitivity to therapy] environment:[MEK inhibitors] evidence:[sensitivity] publications:[http://www.ncbi.nlm.nih.gov/pubmed/23102728]\n",
      "Association: genotype:[EGFR S768I missense mutation] phenotype:[Adenosquamous carcinoma with sensitivity to therapy] environment:[MEK inhibitors] evidence:[sensitivity] publications:[http://www.ncbi.nlm.nih.gov/pubmed/23102728|http://www.ncbi.nlm.nih.gov/pubmed/23102728]\n",
      "Association: genotype:[EGFR L861R missense mutation] phenotype:[Adenosquamous carcinoma with sensitivity to therapy] environment:[MEK inhibitors] evidence:[sensitivity] publications:[http://www.ncbi.nlm.nih.gov/pubmed/23102728]\n",
      "Association: genotype:[EGFR exon 19 p.729-761 insertion mutation] phenotype:[Adenosquamous carcinoma with sensitivity to therapy] environment:[MEK inhibitors] evidence:[sensitivity] publications:[http://www.ncbi.nlm.nih.gov/pubmed/23102728]\n"
     ]
    }
   ],
   "source": [
    "import ga4gh_client.protocol as protocol\n",
    "evidence = protocol.EvidenceQuery()\n",
    "evidence.description = \"MEK inhibitors\"\n",
    "    \n",
    "feature_phenotype_associations =  c.search_genotype_phenotype(\n",
    "                                    phenotype_association_set_id=phenotype_association_set_id,\n",
    "                                    phenotype_ids=[p.id for p in phenotypes],\n",
    "                                    evidence = [evidence]\n",
    "                                    )\n",
    "associations = list(feature_phenotype_associations)\n",
    "print \"There are {} associations\".format(len(associations))\n",
    "print \"\\n\".join([a.description for a in associations])"
   ]
  },
  {
   "cell_type": "markdown",
   "metadata": {},
   "source": [
    "## Plotting associations\n",
    "The `bokeh` package should be installed for graphing.\n",
    "First, we collect a set of features."
   ]
  },
  {
   "cell_type": "code",
   "execution_count": 9,
   "metadata": {
    "collapsed": false
   },
   "outputs": [
    {
     "name": "stdout",
     "output_type": "stream",
     "text": [
      "Found 69 features in G2P feature_set WyIxa2dlbm9tZXMiLCJjZ2QiXQ\n"
     ]
    }
   ],
   "source": [
    "feature_generator = c.search_features(feature_set_id=feature_set_id, name='.*KIT.*')\n",
    "features = list(feature_generator)\n",
    "assert len(features) > 0\n",
    "print \"Found {} features in G2P feature_set {}\".format(len(features),feature_set_id)\n"
   ]
  },
  {
   "cell_type": "markdown",
   "metadata": {},
   "source": [
    "## Get all associations \n",
    "Then, we select all the associations for those features."
   ]
  },
  {
   "cell_type": "code",
   "execution_count": 10,
   "metadata": {
    "collapsed": false
   },
   "outputs": [
    {
     "name": "stdout",
     "output_type": "stream",
     "text": [
      "There are 52 associations\n"
     ]
    }
   ],
   "source": [
    "feature_phenotype_associations =  c.search_genotype_phenotype(\n",
    "                                    phenotype_association_set_id=phenotype_association_set_id,\n",
    "                                    feature_ids=[f.id  for f in features])\n",
    "associations = list(feature_phenotype_associations)\n",
    "print \"There are {} associations\".format(len(associations))"
   ]
  },
  {
   "cell_type": "markdown",
   "metadata": {},
   "source": [
    "## Association Heatmap\n",
    "Developers can use the G2P package to create researcher friendly applications."
   ]
  },
  {
   "cell_type": "code",
   "execution_count": 11,
   "metadata": {
    "collapsed": false
   },
   "outputs": [
    {
     "ename": "KeyError",
     "evalue": "u'http://ohsu.edu/cgd/06afc30f'",
     "output_type": "error",
     "traceback": [
      "\u001b[0;31m---------------------------------------------------------------------------\u001b[0m",
      "\u001b[0;31mKeyError\u001b[0m                                  Traceback (most recent call last)",
      "\u001b[0;32m<ipython-input-11-2c9298a3f51a>\u001b[0m in \u001b[0;36m<module>\u001b[0;34m()\u001b[0m\n\u001b[1;32m     19\u001b[0m     \u001b[0;32mfor\u001b[0m \u001b[0mfeature_id\u001b[0m \u001b[0;32min\u001b[0m \u001b[0massociation\u001b[0m\u001b[0;34m.\u001b[0m\u001b[0mfeature_ids\u001b[0m\u001b[0;34m:\u001b[0m\u001b[0;34m\u001b[0m\u001b[0m\n\u001b[1;32m     20\u001b[0m         \u001b[0mphenotype_descriptions\u001b[0m\u001b[0;34m.\u001b[0m\u001b[0mappend\u001b[0m\u001b[0;34m(\u001b[0m\u001b[0massociation\u001b[0m\u001b[0;34m.\u001b[0m\u001b[0mphenotype\u001b[0m\u001b[0;34m.\u001b[0m\u001b[0mdescription\u001b[0m\u001b[0;34m)\u001b[0m\u001b[0;34m\u001b[0m\u001b[0m\n\u001b[0;32m---> 21\u001b[0;31m         \u001b[0mfeature_names\u001b[0m\u001b[0;34m.\u001b[0m\u001b[0mappend\u001b[0m\u001b[0;34m(\u001b[0m\u001b[0mfeature_ids\u001b[0m\u001b[0;34m[\u001b[0m\u001b[0mfeature_id\u001b[0m\u001b[0;34m]\u001b[0m\u001b[0;34m)\u001b[0m\u001b[0;34m\u001b[0m\u001b[0m\n\u001b[0m\u001b[1;32m     22\u001b[0m         \u001b[0massociation_count\u001b[0m\u001b[0;34m.\u001b[0m\u001b[0mappend\u001b[0m\u001b[0;34m(\u001b[0m\u001b[0;36m1\u001b[0m\u001b[0;34m)\u001b[0m\u001b[0;34m\u001b[0m\u001b[0m\n\u001b[1;32m     23\u001b[0m         \u001b[0massociation_descriptions\u001b[0m\u001b[0;34m.\u001b[0m\u001b[0mappend\u001b[0m\u001b[0;34m(\u001b[0m\u001b[0massociation\u001b[0m\u001b[0;34m.\u001b[0m\u001b[0mdescription\u001b[0m\u001b[0;34m)\u001b[0m\u001b[0;34m\u001b[0m\u001b[0m\n",
      "\u001b[0;31mKeyError\u001b[0m: u'http://ohsu.edu/cgd/06afc30f'"
     ]
    }
   ],
   "source": [
    "from bokeh.charts import HeatMap, output_notebook, show \n",
    "\n",
    "from bokeh.layouts import column\n",
    "from bokeh.models import ColumnDataSource\n",
    "from bokeh.models.widgets import DataTable,   TableColumn\n",
    "from bokeh.models import HoverTool\n",
    "\n",
    "\n",
    "feature_ids = {}\n",
    "for feature in features:\n",
    "    feature_ids[feature.id]=feature.name\n",
    "\n",
    "phenotype_descriptions = []\n",
    "feature_names = []\n",
    "association_count = [] \n",
    "association_descriptions = []\n",
    "\n",
    "for association in associations:\n",
    "    for feature_id in association.feature_ids:\n",
    "        phenotype_descriptions.append(association.phenotype.description)\n",
    "        feature_names.append(feature_ids[feature_id])\n",
    "        association_count.append(1)\n",
    "        association_descriptions.append(association.description)\n",
    "\n",
    "output_notebook()\n",
    "  \n",
    "data = {'feature': feature_names  ,\n",
    "        'association_count': association_count,\n",
    "        'phenotype': phenotype_descriptions,\n",
    "        'association_descriptions': association_descriptions\n",
    "        }\n",
    "\n",
    "hover = HoverTool(\n",
    "        tooltips=[\n",
    "            (\"associations\", \"@values\")\n",
    "        ]\n",
    "    )\n",
    "\n",
    "hm = HeatMap(data, x='feature', y='phenotype', values='association_count',\n",
    "             title='G2P Associations for KIT', stat='sum',\n",
    "             legend=False,width=1024,\n",
    "             tools=[hover], #\"hover,pan,wheel_zoom,box_zoom,reset,tap\",\n",
    "             toolbar_location=\"above\")\n",
    "\n",
    "source = ColumnDataSource(data)\n",
    "columns = [\n",
    "        TableColumn(field=\"association_descriptions\", title=\"Description\"),\n",
    "    ]\n",
    "data_table = DataTable(source=source, columns=columns,width=1024 )\n",
    "\n",
    "show( column(hm,data_table)  )\n"
   ]
  },
  {
   "cell_type": "code",
   "execution_count": null,
   "metadata": {
    "collapsed": true
   },
   "outputs": [],
   "source": []
  }
 ],
 "metadata": {
  "kernelspec": {
   "display_name": "Python 2",
   "language": "python",
   "name": "python2"
  },
  "language_info": {
   "codemirror_mode": {
    "name": "ipython",
    "version": 2
   },
   "file_extension": ".py",
   "mimetype": "text/x-python",
   "name": "python",
   "nbconvert_exporter": "python",
   "pygments_lexer": "ipython2",
   "version": "2.7.11"
  }
 },
 "nbformat": 4,
 "nbformat_minor": 1
}
