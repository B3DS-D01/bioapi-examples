{
 "cells": [
  {
   "cell_type": "markdown",
   "metadata": {},
   "source": [
    "# G2P Genotype to Phenotype example notebook.\n",
    "\n",
    "This example illustrates how to access the GA4GH Genotype to Phenotype service.\n",
    "The GA4GH G2P allows the researcher to query features, phenotypes and their associated evidence.\n",
    "\n",
    "The examples are based on the compliance server data set with a full complement of [G2P data](https://github.com/ohsu-computational-biology/ohsu-server-util/blob/master/cgd-08-09-2016.ttl) from the Monarch project.\n"
   ]
  },
  {
   "cell_type": "markdown",
   "metadata": {},
   "source": [
    "## Initialize the client\n",
    "In this step we create a client object which will be used to communicate with the server. It is initialized using the URL."
   ]
  },
  {
   "cell_type": "code",
   "execution_count": 34,
   "metadata": {
    "collapsed": true
   },
   "outputs": [],
   "source": [
    "import ga4gh_client.client as client\n",
    "ga4gh_endpoint = \"http://1kgenomes.ga4gh.org\"\n",
    "c = client.HttpClient(ga4gh_endpoint)"
   ]
  },
  {
   "cell_type": "markdown",
   "metadata": {},
   "source": [
    "## Search for feature set and phenotype association set identifiers\n",
    "This call returns phenotype association sets hosted by the API. Observe that we are querying all datasets hosted in the endpoint.  The identifiers for the featureset and phenotype association set are used by all subsequent API calls."
   ]
  },
  {
   "cell_type": "code",
   "execution_count": 35,
   "metadata": {
    "collapsed": false
   },
   "outputs": [
    {
     "name": "stdout",
     "output_type": "stream",
     "text": [
      "Found G2P phenotype_association_set: WyIxa2dlbm9tZXMiLCJjZ2QiXQ cgd\n",
      "Found G2P feature_set: WyIxa2dlbm9tZXMiLCJjZ2QiXQ\n"
     ]
    }
   ],
   "source": [
    "datasets = c.search_datasets()\n",
    "phenotype_association_set_id = None\n",
    "phenotype_association_set_name = None\n",
    "for  dataset in datasets:\n",
    "  phenotype_association_sets = c.search_phenotype_association_sets(dataset_id=dataset.id)\n",
    "  for phenotype_association_set in phenotype_association_sets:\n",
    "    phenotype_association_set_id = phenotype_association_set.id\n",
    "    phenotype_association_set_name = phenotype_association_set.name\n",
    "    print 'Found G2P phenotype_association_set:', phenotype_association_set.id, phenotype_association_set.name\n",
    "\n",
    "assert phenotype_association_set_id\n",
    "assert phenotype_association_set_name\n",
    "\n",
    "feature_set_id = None\n",
    "datasets = c.search_datasets()\n",
    "for  dataset in datasets:\n",
    "  featuresets = c.search_feature_sets(dataset_id=dataset.id)\n",
    "  for featureset in featuresets:\n",
    "    if phenotype_association_set_name in featureset.name:\n",
    "      feature_set_id = featureset.id\n",
    "      print 'Found G2P feature_set:', feature_set_id\n",
    "assert feature_set_id"
   ]
  },
  {
   "cell_type": "markdown",
   "metadata": {
    "collapsed": true
   },
   "source": [
    "## Search for genomic Features  by location\n",
    "\n",
    "Using the feature set id returned above, the following request returns a list of features that exactly match a location\n"
   ]
  },
  {
   "cell_type": "code",
   "execution_count": 36,
   "metadata": {
    "collapsed": false
   },
   "outputs": [
    {
     "name": "stdout",
     "output_type": "stream",
     "text": [
      "Found 1 features in G2P feature_set WyIxa2dlbm9tZXMiLCJjZ2QiXQ\n",
      "[u'EGFR S768I missense mutation', u'COSM6241', u'chr7', 55249005L, 55249006L]\n"
     ]
    }
   ],
   "source": [
    "feature_generator = c.search_features(feature_set_id=feature_set_id,\n",
    "                        reference_name=\"chr7\",\n",
    "                        start=55249005,\n",
    "                        end=55249006\n",
    "                    )\n",
    "\n",
    "features = list(feature_generator)\n",
    "assert len(features) == 1\n",
    "print \"Found {} features in G2P feature_set {}\".format(len(features),feature_set_id)\n",
    "feature = features[0]\n",
    "print [feature.name,feature.gene_symbol,feature.reference_name,feature.start,feature.end]\n"
   ]
  },
  {
   "cell_type": "markdown",
   "metadata": {},
   "source": [
    "## Search features by name\n",
    "\n",
    "If the location is not known, we can query using the name of the feature.  Using the feature set id returned above, the following request returns a list of features that exactly match a given name - `'EGFR S768I missense mutation'`.\n"
   ]
  },
  {
   "cell_type": "code",
   "execution_count": 37,
   "metadata": {
    "collapsed": false
   },
   "outputs": [
    {
     "name": "stdout",
     "output_type": "stream",
     "text": [
      "Found 1 features in G2P feature_set WyIxa2dlbm9tZXMiLCJjZ2QiXQ\n",
      "[u'EGFR S768I missense mutation', u'COSM6241', u'chr7', 55249005L, 55249006L]\n"
     ]
    }
   ],
   "source": [
    "\n",
    "feature_generator = c.search_features(feature_set_id=feature_set_id, name='EGFR S768I missense mutation')\n",
    "features = list(feature_generator)\n",
    "assert len(features) == 1\n",
    "print \"Found {} features in G2P feature_set {}\".format(len(features),feature_set_id)\n",
    "feature = features[0]\n",
    "print [feature.name,feature.gene_symbol,feature.reference_name,feature.start,feature.end]\n",
    "\n"
   ]
  },
  {
   "cell_type": "markdown",
   "metadata": {},
   "source": [
    "## Get evidence associated with that feature.\n",
    "Once we have looked up the feature, we can then search for all evidence associated with that feature.\n"
   ]
  },
  {
   "cell_type": "code",
   "execution_count": 38,
   "metadata": {
    "collapsed": false
   },
   "outputs": [
    {
     "name": "stdout",
     "output_type": "stream",
     "text": [
      "There are 2 associations\n",
      "Association: genotype:[EGFR S768I missense mutation] phenotype:[Adenosquamous carcinoma with response to therapy] environment:[irreversible EGFR TKIs] evidence:[response] publications:[http://www.ncbi.nlm.nih.gov/pubmed/22753918|http://www.ncbi.nlm.nih.gov/pubmed/22753918]\n",
      "Association: genotype:[EGFR S768I missense mutation] phenotype:[Adenosquamous carcinoma with sensitivity to therapy] environment:[MEK inhibitors] evidence:[sensitivity] publications:[http://www.ncbi.nlm.nih.gov/pubmed/23102728|http://www.ncbi.nlm.nih.gov/pubmed/23102728]\n"
     ]
    }
   ],
   "source": [
    "feature_phenotype_associations =  c.search_genotype_phenotype(\n",
    "                                    phenotype_association_set_id=phenotype_association_set_id,\n",
    "                                    feature_ids=[f.id  for f in features])\n",
    "associations = list(feature_phenotype_associations)\n",
    "assert len(associations) >= len(features)\n",
    "print \"There are {} associations\".format(len(associations))\n",
    "print \"\\n\".join([a.description for a in associations])\n"
   ]
  },
  {
   "cell_type": "markdown",
   "metadata": {},
   "source": [
    "## Search a phenotype\n",
    "Alternatively, a researcher can query for a phenotype.  In this case by the phenotype's description matching `'Adenosquamous carcinoma .*'`\n"
   ]
  },
  {
   "cell_type": "code",
   "execution_count": 39,
   "metadata": {
    "collapsed": false
   },
   "outputs": [
    {
     "name": "stdout",
     "output_type": "stream",
     "text": [
      "Adenosquamous carcinoma with response to therapy\n",
      "Adenosquamous carcinoma with decreased sensitivity to therapy\n",
      "Adenosquamous carcinoma with sensitivity to therapy\n"
     ]
    }
   ],
   "source": [
    "phenotypes_generator = c.search_phenotype(\n",
    "                phenotype_association_set_id=phenotype_association_set_id,\n",
    "                description=\"Adenosquamous carcinoma .*\"\n",
    "                )\n",
    "phenotypes = list(phenotypes_generator)\n",
    "\n",
    "assert len(phenotypes) >= 0\n",
    "print \"\\n\".join(set([p.description for p in phenotypes])) \n"
   ]
  },
  {
   "cell_type": "markdown",
   "metadata": {},
   "source": [
    "## Get evidence associated with those phenotypes.\n",
    "The researcher can use those phenotype identifiers to query for evidence associations.\n"
   ]
  },
  {
   "cell_type": "code",
   "execution_count": 40,
   "metadata": {
    "collapsed": false
   },
   "outputs": [
    {
     "name": "stdout",
     "output_type": "stream",
     "text": [
      "There are 38 associations\n"
     ]
    }
   ],
   "source": [
    "feature_phenotype_associations =  c.search_genotype_phenotype(\n",
    "                                    phenotype_association_set_id=phenotype_association_set_id,\n",
    "                                    phenotype_ids=[p.id for p in phenotypes])\n",
    "associations = list(feature_phenotype_associations)\n",
    "assert len(associations) >= len(phenotypes)\n",
    "print \"There are {} associations\".format(len(associations))\n"
   ]
  },
  {
   "cell_type": "markdown",
   "metadata": {},
   "source": [
    "## Further constrain associations with environment\n",
    "The researcher can limit the associations returned by introducing the evironment contraint "
   ]
  },
  {
   "cell_type": "code",
   "execution_count": 30,
   "metadata": {
    "collapsed": false
   },
   "outputs": [
    {
     "name": "stdout",
     "output_type": "stream",
     "text": [
      "There are 13 associations\n",
      "Association: genotype:[EGFR L861Q missense mutation] phenotype:[Adenosquamous carcinoma with sensitivity to therapy] environment:[MEK inhibitors] evidence:[sensitivity] publications:[http://www.ncbi.nlm.nih.gov/pubmed/23102728|http://www.ncbi.nlm.nih.gov/pubmed/23102728]\n",
      "Association: genotype:[EGFR G719D missense mutation] phenotype:[Adenosquamous carcinoma with sensitivity to therapy] environment:[MEK inhibitors] evidence:[sensitivity] publications:[http://www.ncbi.nlm.nih.gov/pubmed/23102728]\n",
      "Association: genotype:[EGFR T790M missense mutation] phenotype:[Adenosquamous carcinoma with sensitivity to therapy] environment:[MEK inhibitors] evidence:[sensitivity] publications:[http://www.ncbi.nlm.nih.gov/pubmed/23102728|http://www.ncbi.nlm.nih.gov/pubmed/23102728]\n",
      "Association: genotype:[EGFR exon 19 p.729-761 deletion mutation] phenotype:[Adenosquamous carcinoma with sensitivity to therapy] environment:[MEK inhibitors] evidence:[sensitivity] publications:[http://www.ncbi.nlm.nih.gov/pubmed/23102728]\n",
      "Association: genotype:[COSM6252] phenotype:[Adenosquamous carcinoma with sensitivity to therapy] environment:[MEK inhibitors] evidence:[sensitivity] publications:[http://www.ncbi.nlm.nih.gov/pubmed/23102728|http://www.ncbi.nlm.nih.gov/pubmed/23102728]\n",
      "Association: genotype:[COSM6224] phenotype:[Adenosquamous carcinoma with sensitivity to therapy] environment:[MEK inhibitors] evidence:[sensitivity] publications:[http://www.ncbi.nlm.nih.gov/pubmed/23102728|http://www.ncbi.nlm.nih.gov/pubmed/23102728]\n",
      "Association: genotype:[EGFR L747S missense mutation] phenotype:[Adenosquamous carcinoma with sensitivity to therapy] environment:[MEK inhibitors] evidence:[sensitivity] publications:[http://www.ncbi.nlm.nih.gov/pubmed/23102728]\n",
      "Association: genotype:[EGFR G719A missense mutation] phenotype:[Adenosquamous carcinoma with sensitivity to therapy] environment:[MEK inhibitors] evidence:[sensitivity] publications:[http://www.ncbi.nlm.nih.gov/pubmed/23102728]\n",
      "Association: genotype:[EGFR L861P missense mutation] phenotype:[Adenosquamous carcinoma with sensitivity to therapy] environment:[MEK inhibitors] evidence:[sensitivity] publications:[http://www.ncbi.nlm.nih.gov/pubmed/23102728]\n",
      "Association: genotype:[EGFR G719C missense mutation] phenotype:[Adenosquamous carcinoma with sensitivity to therapy] environment:[MEK inhibitors] evidence:[sensitivity] publications:[http://www.ncbi.nlm.nih.gov/pubmed/23102728]\n",
      "Association: genotype:[EGFR S768I missense mutation] phenotype:[Adenosquamous carcinoma with sensitivity to therapy] environment:[MEK inhibitors] evidence:[sensitivity] publications:[http://www.ncbi.nlm.nih.gov/pubmed/23102728|http://www.ncbi.nlm.nih.gov/pubmed/23102728]\n",
      "Association: genotype:[EGFR L861R missense mutation] phenotype:[Adenosquamous carcinoma with sensitivity to therapy] environment:[MEK inhibitors] evidence:[sensitivity] publications:[http://www.ncbi.nlm.nih.gov/pubmed/23102728]\n",
      "Association: genotype:[EGFR exon 19 p.729-761 insertion mutation] phenotype:[Adenosquamous carcinoma with sensitivity to therapy] environment:[MEK inhibitors] evidence:[sensitivity] publications:[http://www.ncbi.nlm.nih.gov/pubmed/23102728]\n"
     ]
    }
   ],
   "source": [
    "import ga4gh_client.protocol as protocol\n",
    "evidence = protocol.EvidenceQuery()\n",
    "evidence.description = \"MEK inhibitors\"\n",
    "    \n",
    "feature_phenotype_associations =  c.search_genotype_phenotype(\n",
    "                                    phenotype_association_set_id=phenotype_association_set_id,\n",
    "                                    phenotype_ids=[p.id for p in phenotypes],\n",
    "                                    evidence = [evidence]\n",
    "                                    )\n",
    "associations = list(feature_phenotype_associations)\n",
    "print \"There are {} associations\".format(len(associations))\n",
    "print \"\\n\".join([a.description for a in associations])"
   ]
  },
  {
   "cell_type": "markdown",
   "metadata": {},
   "source": [
    "## Plotting associations\n",
    "The `bokeh` package should be installed for graphing.\n",
    "First, we collect a set of features."
   ]
  },
  {
   "cell_type": "code",
   "execution_count": 31,
   "metadata": {
    "collapsed": false
   },
   "outputs": [
    {
     "name": "stdout",
     "output_type": "stream",
     "text": [
      "Found 69 features in G2P feature_set WyIxa2dlbm9tZXMiLCJjZ2QiXQ\n"
     ]
    }
   ],
   "source": [
    "feature_generator = c.search_features(feature_set_id=feature_set_id, name='.*KIT.*')\n",
    "features = list(feature_generator)\n",
    "assert len(features) > 0\n",
    "print \"Found {} features in G2P feature_set {}\".format(len(features),feature_set_id)\n"
   ]
  },
  {
   "cell_type": "markdown",
   "metadata": {},
   "source": [
    "## Get all associations \n",
    "Then, we select all the associations for those features."
   ]
  },
  {
   "cell_type": "code",
   "execution_count": 32,
   "metadata": {
    "collapsed": false
   },
   "outputs": [
    {
     "name": "stdout",
     "output_type": "stream",
     "text": [
      "There are 52 associations\n"
     ]
    }
   ],
   "source": [
    "feature_phenotype_associations =  c.search_genotype_phenotype(\n",
    "                                    phenotype_association_set_id=phenotype_association_set_id,\n",
    "                                    feature_ids=[f.id  for f in features])\n",
    "associations = list(feature_phenotype_associations)\n",
    "print \"There are {} associations\".format(len(associations))"
   ]
  },
  {
   "cell_type": "markdown",
   "metadata": {},
   "source": [
    "## Association Heatmap\n",
    "Developers can use the G2P package to create researcher friendly applications."
   ]
  },
  {
   "cell_type": "code",
   "execution_count": 33,
   "metadata": {
    "collapsed": false
   },
   "outputs": [
    {
     "data": {
      "text/html": [
       "\n",
       "    <div class=\"bk-root\">\n",
       "        <a href=\"http://bokeh.pydata.org\" target=\"_blank\" class=\"bk-logo bk-logo-small bk-logo-notebook\"></a>\n",
       "        <span id=\"64e0f627-d353-4967-a93e-cf5a62aca6fb\">Loading BokehJS ...</span>\n",
       "    </div>"
      ]
     },
     "metadata": {},
     "output_type": "display_data"
    },
    {
     "data": {
      "application/javascript": [
       "\n",
       "(function(global) {\n",
       "  function now() {\n",
       "    return new Date();\n",
       "  }\n",
       "\n",
       "  var force = \"1\";\n",
       "\n",
       "  if (typeof (window._bokeh_onload_callbacks) === \"undefined\" || force !== \"\") {\n",
       "    window._bokeh_onload_callbacks = [];\n",
       "    window._bokeh_is_loading = undefined;\n",
       "  }\n",
       "\n",
       "\n",
       "  \n",
       "  if (typeof (window._bokeh_timeout) === \"undefined\" || force !== \"\") {\n",
       "    window._bokeh_timeout = Date.now() + 5000;\n",
       "    window._bokeh_failed_load = false;\n",
       "  }\n",
       "\n",
       "  var NB_LOAD_WARNING = {'data': {'text/html':\n",
       "     \"<div style='background-color: #fdd'>\\n\"+\n",
       "     \"<p>\\n\"+\n",
       "     \"BokehJS does not appear to have successfully loaded. If loading BokehJS from CDN, this \\n\"+\n",
       "     \"may be due to a slow or bad network connection. Possible fixes:\\n\"+\n",
       "     \"</p>\\n\"+\n",
       "     \"<ul>\\n\"+\n",
       "     \"<li>re-rerun `output_notebook()` to attempt to load from CDN again, or</li>\\n\"+\n",
       "     \"<li>use INLINE resources instead, as so:</li>\\n\"+\n",
       "     \"</ul>\\n\"+\n",
       "     \"<code>\\n\"+\n",
       "     \"from bokeh.resources import INLINE\\n\"+\n",
       "     \"output_notebook(resources=INLINE)\\n\"+\n",
       "     \"</code>\\n\"+\n",
       "     \"</div>\"}};\n",
       "\n",
       "  function display_loaded() {\n",
       "    if (window.Bokeh !== undefined) {\n",
       "      Bokeh.$(\"#64e0f627-d353-4967-a93e-cf5a62aca6fb\").text(\"BokehJS successfully loaded.\");\n",
       "    } else if (Date.now() < window._bokeh_timeout) {\n",
       "      setTimeout(display_loaded, 100)\n",
       "    }\n",
       "  }\n",
       "\n",
       "  function run_callbacks() {\n",
       "    window._bokeh_onload_callbacks.forEach(function(callback) { callback() });\n",
       "    delete window._bokeh_onload_callbacks\n",
       "    console.info(\"Bokeh: all callbacks have finished\");\n",
       "  }\n",
       "\n",
       "  function load_libs(js_urls, callback) {\n",
       "    window._bokeh_onload_callbacks.push(callback);\n",
       "    if (window._bokeh_is_loading > 0) {\n",
       "      console.log(\"Bokeh: BokehJS is being loaded, scheduling callback at\", now());\n",
       "      return null;\n",
       "    }\n",
       "    if (js_urls == null || js_urls.length === 0) {\n",
       "      run_callbacks();\n",
       "      return null;\n",
       "    }\n",
       "    console.log(\"Bokeh: BokehJS not loaded, scheduling load and callback at\", now());\n",
       "    window._bokeh_is_loading = js_urls.length;\n",
       "    for (var i = 0; i < js_urls.length; i++) {\n",
       "      var url = js_urls[i];\n",
       "      var s = document.createElement('script');\n",
       "      s.src = url;\n",
       "      s.async = false;\n",
       "      s.onreadystatechange = s.onload = function() {\n",
       "        window._bokeh_is_loading--;\n",
       "        if (window._bokeh_is_loading === 0) {\n",
       "          console.log(\"Bokeh: all BokehJS libraries loaded\");\n",
       "          run_callbacks()\n",
       "        }\n",
       "      };\n",
       "      s.onerror = function() {\n",
       "        console.warn(\"failed to load library \" + url);\n",
       "      };\n",
       "      console.log(\"Bokeh: injecting script tag for BokehJS library: \", url);\n",
       "      document.getElementsByTagName(\"head\")[0].appendChild(s);\n",
       "    }\n",
       "  };var element = document.getElementById(\"64e0f627-d353-4967-a93e-cf5a62aca6fb\");\n",
       "  if (element == null) {\n",
       "    console.log(\"Bokeh: ERROR: autoload.js configured with elementid '64e0f627-d353-4967-a93e-cf5a62aca6fb' but no matching script tag was found. \")\n",
       "    return false;\n",
       "  }\n",
       "\n",
       "  var js_urls = ['https://cdn.pydata.org/bokeh/release/bokeh-0.12.3.min.js', 'https://cdn.pydata.org/bokeh/release/bokeh-widgets-0.12.3.min.js'];\n",
       "\n",
       "  var inline_js = [\n",
       "    function(Bokeh) {\n",
       "      Bokeh.set_log_level(\"info\");\n",
       "    },\n",
       "    \n",
       "    function(Bokeh) {\n",
       "      \n",
       "      Bokeh.$(\"#64e0f627-d353-4967-a93e-cf5a62aca6fb\").text(\"BokehJS is loading...\");\n",
       "    },\n",
       "    function(Bokeh) {\n",
       "      console.log(\"Bokeh: injecting CSS: https://cdn.pydata.org/bokeh/release/bokeh-0.12.3.min.css\");\n",
       "      Bokeh.embed.inject_css(\"https://cdn.pydata.org/bokeh/release/bokeh-0.12.3.min.css\");\n",
       "      console.log(\"Bokeh: injecting CSS: https://cdn.pydata.org/bokeh/release/bokeh-widgets-0.12.3.min.css\");\n",
       "      Bokeh.embed.inject_css(\"https://cdn.pydata.org/bokeh/release/bokeh-widgets-0.12.3.min.css\");\n",
       "    }\n",
       "  ];\n",
       "\n",
       "  function run_inline_js() {\n",
       "    \n",
       "    if ((window.Bokeh !== undefined) || (force === \"1\")) {\n",
       "      for (var i = 0; i < inline_js.length; i++) {\n",
       "        inline_js[i](window.Bokeh);\n",
       "      }if (force === \"1\") {\n",
       "        display_loaded();\n",
       "      }} else if (Date.now() < window._bokeh_timeout) {\n",
       "      setTimeout(run_inline_js, 100);\n",
       "    } else if (!window._bokeh_failed_load) {\n",
       "      console.log(\"Bokeh: BokehJS failed to load within specified timeout.\");\n",
       "      window._bokeh_failed_load = true;\n",
       "    } else if (!force) {\n",
       "      var cell = $(\"#64e0f627-d353-4967-a93e-cf5a62aca6fb\").parents('.cell').data().cell;\n",
       "      cell.output_area.append_execute_result(NB_LOAD_WARNING)\n",
       "    }\n",
       "\n",
       "  }\n",
       "\n",
       "  if (window._bokeh_is_loading === 0) {\n",
       "    console.log(\"Bokeh: BokehJS loaded, going straight to plotting\");\n",
       "    run_inline_js();\n",
       "  } else {\n",
       "    load_libs(js_urls, function() {\n",
       "      console.log(\"Bokeh: BokehJS plotting callback run at\", now());\n",
       "      run_inline_js();\n",
       "    });\n",
       "  }\n",
       "}(this));"
      ]
     },
     "metadata": {},
     "output_type": "display_data"
    },
    {
     "data": {
      "text/html": [
       "\n",
       "\n",
       "    <div class=\"bk-root\">\n",
       "        <div class=\"plotdiv\" id=\"52cc281e-a597-46a3-89f5-67ebe014ad85\"></div>\n",
       "    </div>\n",
       "<script type=\"text/javascript\">\n",
       "  \n",
       "  (function(global) {\n",
       "    function now() {\n",
       "      return new Date();\n",
       "    }\n",
       "  \n",
       "    var force = \"\";\n",
       "  \n",
       "    if (typeof (window._bokeh_onload_callbacks) === \"undefined\" || force !== \"\") {\n",
       "      window._bokeh_onload_callbacks = [];\n",
       "      window._bokeh_is_loading = undefined;\n",
       "    }\n",
       "  \n",
       "  \n",
       "    \n",
       "    if (typeof (window._bokeh_timeout) === \"undefined\" || force !== \"\") {\n",
       "      window._bokeh_timeout = Date.now() + 0;\n",
       "      window._bokeh_failed_load = false;\n",
       "    }\n",
       "  \n",
       "    var NB_LOAD_WARNING = {'data': {'text/html':\n",
       "       \"<div style='background-color: #fdd'>\\n\"+\n",
       "       \"<p>\\n\"+\n",
       "       \"BokehJS does not appear to have successfully loaded. If loading BokehJS from CDN, this \\n\"+\n",
       "       \"may be due to a slow or bad network connection. Possible fixes:\\n\"+\n",
       "       \"</p>\\n\"+\n",
       "       \"<ul>\\n\"+\n",
       "       \"<li>re-rerun `output_notebook()` to attempt to load from CDN again, or</li>\\n\"+\n",
       "       \"<li>use INLINE resources instead, as so:</li>\\n\"+\n",
       "       \"</ul>\\n\"+\n",
       "       \"<code>\\n\"+\n",
       "       \"from bokeh.resources import INLINE\\n\"+\n",
       "       \"output_notebook(resources=INLINE)\\n\"+\n",
       "       \"</code>\\n\"+\n",
       "       \"</div>\"}};\n",
       "  \n",
       "    function display_loaded() {\n",
       "      if (window.Bokeh !== undefined) {\n",
       "        Bokeh.$(\"#52cc281e-a597-46a3-89f5-67ebe014ad85\").text(\"BokehJS successfully loaded.\");\n",
       "      } else if (Date.now() < window._bokeh_timeout) {\n",
       "        setTimeout(display_loaded, 100)\n",
       "      }\n",
       "    }\n",
       "  \n",
       "    function run_callbacks() {\n",
       "      window._bokeh_onload_callbacks.forEach(function(callback) { callback() });\n",
       "      delete window._bokeh_onload_callbacks\n",
       "      console.info(\"Bokeh: all callbacks have finished\");\n",
       "    }\n",
       "  \n",
       "    function load_libs(js_urls, callback) {\n",
       "      window._bokeh_onload_callbacks.push(callback);\n",
       "      if (window._bokeh_is_loading > 0) {\n",
       "        console.log(\"Bokeh: BokehJS is being loaded, scheduling callback at\", now());\n",
       "        return null;\n",
       "      }\n",
       "      if (js_urls == null || js_urls.length === 0) {\n",
       "        run_callbacks();\n",
       "        return null;\n",
       "      }\n",
       "      console.log(\"Bokeh: BokehJS not loaded, scheduling load and callback at\", now());\n",
       "      window._bokeh_is_loading = js_urls.length;\n",
       "      for (var i = 0; i < js_urls.length; i++) {\n",
       "        var url = js_urls[i];\n",
       "        var s = document.createElement('script');\n",
       "        s.src = url;\n",
       "        s.async = false;\n",
       "        s.onreadystatechange = s.onload = function() {\n",
       "          window._bokeh_is_loading--;\n",
       "          if (window._bokeh_is_loading === 0) {\n",
       "            console.log(\"Bokeh: all BokehJS libraries loaded\");\n",
       "            run_callbacks()\n",
       "          }\n",
       "        };\n",
       "        s.onerror = function() {\n",
       "          console.warn(\"failed to load library \" + url);\n",
       "        };\n",
       "        console.log(\"Bokeh: injecting script tag for BokehJS library: \", url);\n",
       "        document.getElementsByTagName(\"head\")[0].appendChild(s);\n",
       "      }\n",
       "    };var element = document.getElementById(\"52cc281e-a597-46a3-89f5-67ebe014ad85\");\n",
       "    if (element == null) {\n",
       "      console.log(\"Bokeh: ERROR: autoload.js configured with elementid '52cc281e-a597-46a3-89f5-67ebe014ad85' but no matching script tag was found. \")\n",
       "      return false;\n",
       "    }\n",
       "  \n",
       "    var js_urls = [];\n",
       "  \n",
       "    var inline_js = [\n",
       "      function(Bokeh) {\n",
       "        Bokeh.$(function() {\n",
       "            var docs_json = {\"1d696a7a-fbb5-4355-a366-a473df197359\":{\"roots\":{\"references\":[{\"attributes\":{},\"id\":\"40fb30aa-659b-415d-9093-cf1742eebe56\",\"type\":\"StringFormatter\"},{\"attributes\":{\"editor\":{\"id\":\"6ebda05c-521f-4f68-a15e-fe248ba6cee3\",\"type\":\"StringEditor\"},\"field\":\"association_descriptions\",\"formatter\":{\"id\":\"40fb30aa-659b-415d-9093-cf1742eebe56\",\"type\":\"StringFormatter\"},\"title\":\"Description\"},\"id\":\"4c0f6f90-e392-45bb-99d2-6ebb03bf5621\",\"type\":\"TableColumn\"},{\"attributes\":{\"data_source\":{\"id\":\"7c108720-1195-41c5-a056-fc874bf9dbb2\",\"type\":\"ColumnDataSource\"},\"glyph\":{\"id\":\"ad7f836f-52d4-445d-b12e-edb95ed6b903\",\"type\":\"Rect\"},\"hover_glyph\":null,\"nonselection_glyph\":null,\"selection_glyph\":null},\"id\":\"f602c086-8bb8-4e58-aaf4-ad0540c4e4d1\",\"type\":\"GlyphRenderer\"},{\"attributes\":{\"axis_label\":\"phenotype\",\"formatter\":{\"id\":\"0cd9b6e6-0c76-4b1b-9a70-4e70f744cd33\",\"type\":\"CategoricalTickFormatter\"},\"major_label_orientation\":0.7853981633974483,\"plot\":{\"id\":\"bcdccc09-f3d6-4817-b2f5-10c074bf0dc6\",\"subtype\":\"Chart\",\"type\":\"Plot\"},\"ticker\":{\"id\":\"b6ea9c87-4048-4893-9372-05b61c273182\",\"type\":\"CategoricalTicker\"}},\"id\":\"0df64eeb-e1c7-4ec9-b89f-f36d7ea46d5b\",\"type\":\"CategoricalAxis\"},{\"attributes\":{\"data_source\":{\"id\":\"1465d4aa-ef62-48ac-be61-e09c7560fa41\",\"type\":\"ColumnDataSource\"},\"glyph\":{\"id\":\"7ac90de4-0957-443f-954f-fa6f86a6c856\",\"type\":\"Rect\"},\"hover_glyph\":null,\"nonselection_glyph\":null,\"selection_glyph\":null},\"id\":\"bb9a19c7-8e7f-436f-80d2-dc848ca897cb\",\"type\":\"GlyphRenderer\"},{\"attributes\":{},\"id\":\"0cd9b6e6-0c76-4b1b-9a70-4e70f744cd33\",\"type\":\"CategoricalTickFormatter\"},{\"attributes\":{\"callback\":null,\"factors\":[\"GIST with response to therapy\",\"ACUTE MYELOID LEUKAEMIA (AML) AND RELATED PRECURSOR NEOPLASMS with sensitivity to therapy\",\"GIST with resistance to therapy\",\"GIST with decreased sensitivity to therapy\",\"Melanoma, NOS with response to therapy\",\"Mastocytosis with response to therapy\",\"Thymic carcinoma with response to therapy\",\"Thymic carcinoma with sensitivity to therapy\",\"ACUTE MYELOID LEUKAEMIA (AML) AND RELATED PRECURSOR NEOPLASMS with response to therapy\",\"Melanoma, NOS with resistance to therapy\",\"GIST with sensitivity to therapy\",\"Melanoma, NOS with no response to therapy\"]},\"id\":\"0fc6018a-ac74-4b17-baed-9ae12ea4a0e0\",\"type\":\"FactorRange\"},{\"attributes\":{\"callback\":null,\"column_names\":[\"y\",\"x\",\"values\"],\"data\":{\"association_count_Sum\":[\"(8.5, 10]\"],\"chart_index\":[{\"association_count_Sum\":\"(8.5, 10]\"}],\"values\":[10],\"x\":[\"KIT exon 11 p.550-592, exon 13 p.627-664   any mutation  \"],\"y\":[\"Melanoma, NOS with response to therapy\"]}},\"id\":\"1465d4aa-ef62-48ac-be61-e09c7560fa41\",\"type\":\"ColumnDataSource\"},{\"attributes\":{\"dilate\":true,\"fill_color\":{\"value\":\"#9ecae1\"},\"height\":{\"units\":\"data\",\"value\":0.95},\"line_color\":{\"value\":\"#9ecae1\"},\"width\":{\"units\":\"data\",\"value\":0.95},\"x\":{\"field\":\"x\"},\"y\":{\"field\":\"y\"}},\"id\":\"ad7f836f-52d4-445d-b12e-edb95ed6b903\",\"type\":\"Rect\"},{\"attributes\":{\"below\":[{\"id\":\"5824049a-9482-43d7-adf4-02b05970687b\",\"type\":\"CategoricalAxis\"}],\"left\":[{\"id\":\"0df64eeb-e1c7-4ec9-b89f-f36d7ea46d5b\",\"type\":\"CategoricalAxis\"}],\"renderers\":[{\"id\":\"bb9a19c7-8e7f-436f-80d2-dc848ca897cb\",\"type\":\"GlyphRenderer\"},{\"id\":\"b0d51c8e-07ce-428f-a837-ec42b9a938af\",\"type\":\"GlyphRenderer\"},{\"id\":\"770ced67-801e-448d-9610-308be358c79f\",\"type\":\"GlyphRenderer\"},{\"id\":\"f602c086-8bb8-4e58-aaf4-ad0540c4e4d1\",\"type\":\"GlyphRenderer\"},{\"id\":\"5824049a-9482-43d7-adf4-02b05970687b\",\"type\":\"CategoricalAxis\"},{\"id\":\"0df64eeb-e1c7-4ec9-b89f-f36d7ea46d5b\",\"type\":\"CategoricalAxis\"}],\"title\":{\"id\":\"f9bba621-d305-4508-a418-36c60468817c\",\"type\":\"Title\"},\"tool_events\":{\"id\":\"9823f7d0-2b32-4ffb-a2de-868ca6b8245a\",\"type\":\"ToolEvents\"},\"toolbar\":{\"id\":\"55df69ea-9b00-4965-bf8e-32aa17534a19\",\"type\":\"Toolbar\"},\"toolbar_location\":\"above\",\"width\":1024,\"x_mapper_type\":\"auto\",\"x_range\":{\"id\":\"0aeb043c-d036-4ddb-b490-6d1206a07ada\",\"type\":\"FactorRange\"},\"y_mapper_type\":\"auto\",\"y_range\":{\"id\":\"0fc6018a-ac74-4b17-baed-9ae12ea4a0e0\",\"type\":\"FactorRange\"}},\"id\":\"bcdccc09-f3d6-4817-b2f5-10c074bf0dc6\",\"subtype\":\"Chart\",\"type\":\"Plot\"},{\"attributes\":{\"callback\":null,\"column_names\":[\"y\",\"x\",\"values\"],\"data\":{\"association_count_Sum\":[\"(7, 8.5]\"],\"chart_index\":[{\"association_count_Sum\":\"(7, 8.5]\"}],\"values\":[8],\"x\":[\"KIT V559I, H687Y, T670, V654A, A829P, D816, N822, Y823D missense mutation\"],\"y\":[\"GIST with resistance to therapy\"]}},\"id\":\"57421e43-de2d-4a53-96b3-50a83bca2741\",\"type\":\"ColumnDataSource\"},{\"attributes\":{\"dilate\":true,\"fill_color\":{\"value\":\"#08519c\"},\"height\":{\"units\":\"data\",\"value\":0.95},\"line_color\":{\"value\":\"#08519c\"},\"width\":{\"units\":\"data\",\"value\":0.95},\"x\":{\"field\":\"x\"},\"y\":{\"field\":\"y\"}},\"id\":\"7ac90de4-0957-443f-954f-fa6f86a6c856\",\"type\":\"Rect\"},{\"attributes\":{\"data_source\":{\"id\":\"57421e43-de2d-4a53-96b3-50a83bca2741\",\"type\":\"ColumnDataSource\"},\"glyph\":{\"id\":\"9c23a557-d4d3-488d-a500-3f4fa7155d93\",\"type\":\"Rect\"},\"hover_glyph\":null,\"nonselection_glyph\":null,\"selection_glyph\":null},\"id\":\"b0d51c8e-07ce-428f-a837-ec42b9a938af\",\"type\":\"GlyphRenderer\"},{\"attributes\":{\"children\":[{\"id\":\"bcdccc09-f3d6-4817-b2f5-10c074bf0dc6\",\"subtype\":\"Chart\",\"type\":\"Plot\"},{\"id\":\"331d18fd-bc0b-4a9d-a791-5b0855fa31f0\",\"type\":\"WidgetBox\"}]},\"id\":\"47d14d3c-9007-43a1-b715-4e6ee9e41a46\",\"type\":\"Column\"},{\"attributes\":{\"callback\":null,\"plot\":{\"id\":\"bcdccc09-f3d6-4817-b2f5-10c074bf0dc6\",\"subtype\":\"Chart\",\"type\":\"Plot\"},\"tooltips\":[[\"associations\",\"@values\"]]},\"id\":\"fce89ffd-4fbb-4278-b2d9-d99009c6bf0b\",\"type\":\"HoverTool\"},{\"attributes\":{\"callback\":null,\"column_names\":[\"association_descriptions\",\"association_count\",\"feature\",\"phenotype\"],\"data\":{\"association_count\":[1,1,1,1,1,1,1,1,1,1,1,1,1,1,1,1,1,1,1,1,1,1,1,1,1,1,1,1,1,1,1,1,1,1,1,1,1,1,1,1,1,1,1,1,1,1,1,1,1,1,1,1],\"association_descriptions\":[\"Association: genotype:[KIT exon 11 p.550-592 any mutation] phenotype:[GIST with response to therapy] environment:[HSP90 inhibitors] evidence:[response] publications:[http://www.ncbi.nlm.nih.gov/pubmed/22898035]\",\"Association: genotype:[KIT exon 8 p.416-422 indel] phenotype:[ACUTE MYELOID LEUKAEMIA (AML) AND RELATED PRECURSOR NEOPLASMS with sensitivity to therapy] environment:[imatinib] evidence:[sensitivity] publications:[http://www.ncbi.nlm.nih.gov/pubmed/15618474]\",\"Association: genotype:[KIT V559I, H687Y, T670, V654A, A829P, D816, N822, Y823D missense mutation] phenotype:[GIST with resistance to therapy] environment:[imatinib] evidence:[resistance] publications:[http://www.ncbi.nlm.nih.gov/pubmed/21689725|http://www.ncbi.nlm.nih.gov/pubmed/23582185|http://www.ncbi.nlm.nih.gov/pubmed/17259998]\",\"Association: genotype:[KIT V559I, H687Y, T670, V654A, A829P, D816, N822, Y823D missense mutation] phenotype:[GIST with resistance to therapy] environment:[imatinib] evidence:[resistance] publications:[http://www.ncbi.nlm.nih.gov/pubmed/23582185|http://www.ncbi.nlm.nih.gov/pubmed/21689725|http://www.ncbi.nlm.nih.gov/pubmed/17259998]\",\"Association: genotype:[KIT exon 9 p.449-514 any mutation] phenotype:[GIST with decreased sensitivity to therapy] environment:[imatinib] evidence:[decreased_sensitivity] publications:[http://www.ncbi.nlm.nih.gov/pubmed/18955458|http://www.ncbi.nlm.nih.gov/pubmed/16624552|http://www.ncbi.nlm.nih.gov/pubmed/18955451]\",\"Association: genotype:[KIT exon 17 p.788-828 any mutation] phenotype:[GIST with decreased sensitivity to therapy] environment:[sunitinib] evidence:[decreased_sensitivity] publications:[http://www.ncbi.nlm.nih.gov/pubmed/23840364]\",\"Association: genotype:[KIT exon 11 p.550-592, exon 13 p.627-664   any mutation  ] phenotype:[Melanoma, NOS with response to therapy] environment:[sorafenib] evidence:[response] publications:[http://www.ncbi.nlm.nih.gov/pubmed/18936790]\",\"Association: genotype:[KIT V559I, H687Y, T670, V654A, A829P, D816, N822, Y823D missense mutation] phenotype:[GIST with resistance to therapy] environment:[imatinib] evidence:[resistance] publications:[http://www.ncbi.nlm.nih.gov/pubmed/23582185|http://www.ncbi.nlm.nih.gov/pubmed/21689725|http://www.ncbi.nlm.nih.gov/pubmed/17259998]\",\"Association: genotype:[KIT N822K missense mutation] phenotype:[ACUTE MYELOID LEUKAEMIA (AML) AND RELATED PRECURSOR NEOPLASMS with sensitivity to therapy] environment:[dasatinib] evidence:[sensitivity] publications:[http://www.ncbi.nlm.nih.gov/pubmed/23149070|http://www.ncbi.nlm.nih.gov/pubmed/23149070]\",\"Association: genotype:[KIT  D816V missense mutation] phenotype:[Mastocytosis with response to therapy] environment:[dasatinib] evidence:[response] publications:[http://www.ncbi.nlm.nih.gov/pubmed/18559612|http://www.ncbi.nlm.nih.gov/pubmed/18559612|http://www.ncbi.nlm.nih.gov/pubmed/18559612]\",\"Association: genotype:[KIT exon 14 p.664-714 any mutation] phenotype:[GIST with decreased sensitivity to therapy] environment:[imatinib] evidence:[decreased_sensitivity] publications:[http://www.ncbi.nlm.nih.gov/pubmed/18955458]\",\"Association: genotype:[KIT T670I missense mutation] phenotype:[GIST with resistance to therapy] environment:[imatinib] evidence:[resistance] publications:[http://www.ncbi.nlm.nih.gov/pubmed/24687822]\",\"Association: genotype:[KIT Y553N missense mutation] phenotype:[Thymic carcinoma with response to therapy] environment:[sunitinib] evidence:[response] publications:[http://www.ncbi.nlm.nih.gov/pubmed/23375402]\",\"Association: genotype:[KIT H697Y missense mutation] phenotype:[Thymic carcinoma with sensitivity to therapy] environment:[sunitinib] evidence:[sensitivity] publications:[http://www.ncbi.nlm.nih.gov/pubmed/19861435]\",\"Association: genotype:[KIT V559I, H687Y, T670, V654A, A829P, D816, N822, Y823D missense mutation] phenotype:[GIST with resistance to therapy] environment:[imatinib] evidence:[resistance] publications:[http://www.ncbi.nlm.nih.gov/pubmed/23582185|http://www.ncbi.nlm.nih.gov/pubmed/17259998|http://www.ncbi.nlm.nih.gov/pubmed/21689725]\",\"Association: genotype:[KIT  wild type no mutation] phenotype:[GIST with decreased sensitivity to therapy] environment:[imatinib] evidence:[decreased_sensitivity] publications:[http://www.ncbi.nlm.nih.gov/pubmed/18955458]\",\"Association: genotype:[KIT V654A missense mutation] phenotype:[GIST with decreased sensitivity to therapy] environment:[imatinib] evidence:[decreased_sensitivity] publications:[http://www.ncbi.nlm.nih.gov/pubmed/16751810]\",\"Association: genotype:[KIT V559I, H687Y, T670, V654A, A829P, D816, N822, Y823D missense mutation] phenotype:[GIST with resistance to therapy] environment:[imatinib] evidence:[resistance] publications:[http://www.ncbi.nlm.nih.gov/pubmed/23582185|http://www.ncbi.nlm.nih.gov/pubmed/17259998|http://www.ncbi.nlm.nih.gov/pubmed/21689725]\",\"Association: genotype:[KIT exon 11 p.550-592, exon 13 p.627-664   any mutation  ] phenotype:[Melanoma, NOS with response to therapy] environment:[imatinib] evidence:[response] publications:[http://www.ncbi.nlm.nih.gov/pubmed/21690468|http://www.ncbi.nlm.nih.gov/pubmed/18421059|http://www.ncbi.nlm.nih.gov/pubmed/22261812|http://www.ncbi.nlm.nih.gov/pubmed/21642685]\",\"Association: genotype:[KIT exon 11 p.550-592, exon 13 p.627-664   any mutation  ] phenotype:[Melanoma, NOS with response to therapy] environment:[sorafenib] evidence:[response] publications:[http://www.ncbi.nlm.nih.gov/pubmed/18936790]\",\"Association: genotype:[KIT  D816V missense mutation] phenotype:[ACUTE MYELOID LEUKAEMIA (AML) AND RELATED PRECURSOR NEOPLASMS with response to therapy] environment:[dasatinib] evidence:[response] publications:[http://www.ncbi.nlm.nih.gov/pubmed/18986703|http://www.ncbi.nlm.nih.gov/pubmed/18986703|http://www.ncbi.nlm.nih.gov/pubmed/18986703]\",\"Association: genotype:[KIT exon 11 p.550-592, exon 13 p.627-664   any mutation  ] phenotype:[Melanoma, NOS with response to therapy] environment:[sunitinib] evidence:[response] publications:[http://www.ncbi.nlm.nih.gov/pubmed/21690468|http://www.ncbi.nlm.nih.gov/pubmed/22261812|http://www.ncbi.nlm.nih.gov/pubmed/18421059|http://www.ncbi.nlm.nih.gov/pubmed/21642685]\",\"Association: genotype:[KIT exon 9 p.449-514 any mutation] phenotype:[GIST with response to therapy] environment:[sorafenib] evidence:[response] publications:[http://www.ncbi.nlm.nih.gov/pubmed/22270258]\",\"Association: genotype:[KIT exon 11 p.550-592, exon 13 p.627-664   any mutation  ] phenotype:[Melanoma, NOS with response to therapy] environment:[imatinib] evidence:[response] publications:[http://www.ncbi.nlm.nih.gov/pubmed/22261812|http://www.ncbi.nlm.nih.gov/pubmed/21642685|http://www.ncbi.nlm.nih.gov/pubmed/21690468|http://www.ncbi.nlm.nih.gov/pubmed/18421059]\",\"Association: genotype:[KIT exon 17 p.788-828, exon 18 p.829-860 missense mutation] phenotype:[Melanoma, NOS with resistance to therapy] environment:[imatinib] evidence:[resistance] publications:[http://www.ncbi.nlm.nih.gov/pubmed/21642685|http://www.ncbi.nlm.nih.gov/pubmed/21690468]\",\"Association: genotype:[KIT  exon 13 p.627-664 any mutation] phenotype:[GIST with decreased sensitivity to therapy] environment:[imatinib] evidence:[decreased_sensitivity] publications:[http://www.ncbi.nlm.nih.gov/pubmed/18955458]\",\"Association: genotype:[KIT  wild type no mutation] phenotype:[GIST with response to therapy] environment:[sunitinib] evidence:[response] publications:[http://www.ncbi.nlm.nih.gov/pubmed/18955458]\",\"Association: genotype:[KIT V560del deletion mutation] phenotype:[Thymic carcinoma with response to therapy] environment:[imatinib] evidence:[response] publications:[http://www.ncbi.nlm.nih.gov/pubmed/15201427]\",\"Association: genotype:[KIT exon 11 p.550-592 any mutation] phenotype:[GIST with response to therapy] environment:[sorafenib] evidence:[response] publications:[http://www.ncbi.nlm.nih.gov/pubmed/22270258]\",\"Association: genotype:[KIT  wild type no mutation] phenotype:[GIST with sensitivity to therapy] environment:[dasatinib] evidence:[sensitivity] publications:[http://www.ncbi.nlm.nih.gov/pubmed/16397263]\",\"Association: genotype:[KIT exon 11 p.550-592, exon 13 p.627-664   any mutation  ] phenotype:[Melanoma, NOS with response to therapy] environment:[dasatinib] evidence:[response] publications:[http://www.ncbi.nlm.nih.gov/pubmed/19671763]\",\"Association: genotype:[KIT exon 11 p.550-592, exon 13 p.627-664   any mutation  ] phenotype:[Melanoma, NOS with response to therapy] environment:[sunitinib] evidence:[response] publications:[http://www.ncbi.nlm.nih.gov/pubmed/18421059|http://www.ncbi.nlm.nih.gov/pubmed/21690468|http://www.ncbi.nlm.nih.gov/pubmed/22261812|http://www.ncbi.nlm.nih.gov/pubmed/21642685]\",\"Association: genotype:[KIT exon 9 p.449-514 any mutation] phenotype:[GIST with sensitivity to therapy] environment:[HSP90 inhibitors] evidence:[sensitivity] publications:[http://www.ncbi.nlm.nih.gov/pubmed/21737509]\",\"Association: genotype:[KIT exon 17 p.788-828 any mutation] phenotype:[GIST with response to therapy] environment:[nilotinib] evidence:[response] publications:[http://www.ncbi.nlm.nih.gov/pubmed/21456006|http://www.ncbi.nlm.nih.gov/pubmed/22119758]\",\"Association: genotype:[KIT V559I, H687Y, T670, V654A, A829P, D816, N822, Y823D missense mutation] phenotype:[GIST with resistance to therapy] environment:[imatinib] evidence:[resistance] publications:[http://www.ncbi.nlm.nih.gov/pubmed/17259998|http://www.ncbi.nlm.nih.gov/pubmed/23582185|http://www.ncbi.nlm.nih.gov/pubmed/21689725]\",\"Association: genotype:[KIT exon 11 p.550-592 any mutation] phenotype:[GIST with response to therapy] environment:[sunitinib] evidence:[response] publications:[http://www.ncbi.nlm.nih.gov/pubmed/18955458]\",\"Association: genotype:[COSM12710] phenotype:[Melanoma, NOS with response to therapy] environment:[imatinib] evidence:[response] publications:[http://www.ncbi.nlm.nih.gov/pubmed/23775962|http://www.ncbi.nlm.nih.gov/pubmed/23775962]\",\"Association: genotype:[KIT V559I, H687Y, T670, V654A, A829P, D816, N822, Y823D missense mutation] phenotype:[GIST with resistance to therapy] environment:[imatinib] evidence:[resistance] publications:[http://www.ncbi.nlm.nih.gov/pubmed/17259998|http://www.ncbi.nlm.nih.gov/pubmed/21689725|http://www.ncbi.nlm.nih.gov/pubmed/23582185]\",\"Association: genotype:[KIT exon 17 p.788-828 any mutation] phenotype:[GIST with sensitivity to therapy] environment:[sorafenib] evidence:[sensitivity] publications:[http://www.ncbi.nlm.nih.gov/pubmed/23840364]\",\"Association: genotype:[KIT amplification copy number gain] phenotype:[Melanoma, NOS with response to therapy] environment:[imatinib] evidence:[response] publications:[http://www.ncbi.nlm.nih.gov/pubmed/21690468|http://www.ncbi.nlm.nih.gov/pubmed/21642685]\",\"Association: genotype:[KIT Y553N missense mutation] phenotype:[Thymic carcinoma with response to therapy] environment:[imatinib] evidence:[response] publications:[http://www.ncbi.nlm.nih.gov/pubmed/21969494]\",\"Association: genotype:[KIT exon 17 p.788-828 any mutation] phenotype:[GIST with sensitivity to therapy] environment:[HSP90 inhibitors] evidence:[sensitivity] publications:[http://www.ncbi.nlm.nih.gov/pubmed/21737509]\",\"Association: genotype:[KIT V559I, H687Y, T670, V654A, A829P, D816, N822, Y823D missense mutation] phenotype:[GIST with resistance to therapy] environment:[imatinib] evidence:[resistance] publications:[http://www.ncbi.nlm.nih.gov/pubmed/17259998|http://www.ncbi.nlm.nih.gov/pubmed/23582185|http://www.ncbi.nlm.nih.gov/pubmed/21689725]\",\"Association: genotype:[KIT amplification copy number gain] phenotype:[Melanoma, NOS with response to therapy] environment:[sunitinib] evidence:[response] publications:[http://www.ncbi.nlm.nih.gov/pubmed/22261812]\",\"Association: genotype:[KIT exon 11 p.550-592, exon 13 p.627-664   any mutation  ] phenotype:[Melanoma, NOS with response to therapy] environment:[nilotinib] evidence:[response] publications:[http://www.ncbi.nlm.nih.gov/pubmed/22068222]\",\"Association: genotype:[KIT exon 11 p.550-592, exon 13 p.627-664   any mutation  ] phenotype:[Melanoma, NOS with response to therapy] environment:[nilotinib] evidence:[response] publications:[http://www.ncbi.nlm.nih.gov/pubmed/22068222]\",\"Association: genotype:[KIT exon 11 p.550-592, exon 13 p.627-664   any mutation  ] phenotype:[Melanoma, NOS with response to therapy] environment:[dasatinib] evidence:[response] publications:[http://www.ncbi.nlm.nih.gov/pubmed/19671763]\",\"Association: genotype:[KIT exon 17 p.788-828, exon 18 p.829-860 missense mutation] phenotype:[Melanoma, NOS with response to therapy] environment:[sorafenib] evidence:[response] publications:[http://www.ncbi.nlm.nih.gov/pubmed/20372153]\",\"Association: genotype:[KIT exon 17 p.788-828 any mutation] phenotype:[GIST with decreased sensitivity to therapy] environment:[imatinib] evidence:[decreased_sensitivity] publications:[http://www.ncbi.nlm.nih.gov/pubmed/23840364]\",\"Association: genotype:[KIT D820E missense mutation] phenotype:[Thymic carcinoma with response to therapy] environment:[sorafenib] evidence:[response] publications:[http://www.ncbi.nlm.nih.gov/pubmed/19461405]\",\"Association: genotype:[KIT del577-578_579 deletion mutation] phenotype:[Thymic carcinoma with response to therapy] environment:[sorafenib] evidence:[response] publications:[http://www.ncbi.nlm.nih.gov/pubmed/20970876]\",\"Association: genotype:[KIT amplification copy number gain] phenotype:[Melanoma, NOS with no response to therapy] environment:[imatinib] evidence:[no_response] publications:[http://www.ncbi.nlm.nih.gov/pubmed/23775962]\"],\"feature\":[\"KIT exon 11 p.550-592 any mutation\",\"KIT exon 8 p.416-422 indel\",\"KIT V559I, H687Y, T670, V654A, A829P, D816, N822, Y823D missense mutation\",\"KIT V559I, H687Y, T670, V654A, A829P, D816, N822, Y823D missense mutation\",\"KIT exon 9 p.449-514 any mutation\",\"KIT exon 17 p.788-828 any mutation\",\"KIT exon 11 p.550-592, exon 13 p.627-664   any mutation  \",\"KIT V559I, H687Y, T670, V654A, A829P, D816, N822, Y823D missense mutation\",\"KIT N822K missense mutation\",\"KIT  D816V missense mutation\",\"KIT exon 14 p.664-714 any mutation\",\"KIT T670I missense mutation\",\"KIT Y553N missense mutation\",\"KIT H697Y missense mutation\",\"KIT V559I, H687Y, T670, V654A, A829P, D816, N822, Y823D missense mutation\",\"KIT  wild type no mutation\",\"KIT V654A missense mutation\",\"KIT V559I, H687Y, T670, V654A, A829P, D816, N822, Y823D missense mutation\",\"KIT exon 11 p.550-592, exon 13 p.627-664   any mutation  \",\"KIT exon 11 p.550-592, exon 13 p.627-664   any mutation  \",\"KIT  D816V missense mutation\",\"KIT exon 11 p.550-592, exon 13 p.627-664   any mutation  \",\"KIT exon 9 p.449-514 any mutation\",\"KIT exon 11 p.550-592, exon 13 p.627-664   any mutation  \",\"KIT exon 17 p.788-828, exon 18 p.829-860 missense mutation\",\"KIT  exon 13 p.627-664 any mutation\",\"KIT  wild type no mutation\",\"KIT V560del deletion mutation\",\"KIT exon 11 p.550-592 any mutation\",\"KIT  wild type no mutation\",\"KIT exon 11 p.550-592, exon 13 p.627-664   any mutation  \",\"KIT exon 11 p.550-592, exon 13 p.627-664   any mutation  \",\"KIT exon 9 p.449-514 any mutation\",\"KIT exon 17 p.788-828 any mutation\",\"KIT V559I, H687Y, T670, V654A, A829P, D816, N822, Y823D missense mutation\",\"KIT exon 11 p.550-592 any mutation\",\"KIT D820Y missense mutation\",\"KIT V559I, H687Y, T670, V654A, A829P, D816, N822, Y823D missense mutation\",\"KIT exon 17 p.788-828 any mutation\",\"KIT amplification copy number gain\",\"KIT Y553N missense mutation\",\"KIT exon 17 p.788-828 any mutation\",\"KIT V559I, H687Y, T670, V654A, A829P, D816, N822, Y823D missense mutation\",\"KIT amplification copy number gain\",\"KIT exon 11 p.550-592, exon 13 p.627-664   any mutation  \",\"KIT exon 11 p.550-592, exon 13 p.627-664   any mutation  \",\"KIT exon 11 p.550-592, exon 13 p.627-664   any mutation  \",\"KIT exon 17 p.788-828, exon 18 p.829-860 missense mutation\",\"KIT exon 17 p.788-828 any mutation\",\"KIT D820E missense mutation\",\"KIT del577-578_579 deletion mutation\",\"KIT amplification copy number gain\"],\"phenotype\":[\"GIST with response to therapy\",\"ACUTE MYELOID LEUKAEMIA (AML) AND RELATED PRECURSOR NEOPLASMS with sensitivity to therapy\",\"GIST with resistance to therapy\",\"GIST with resistance to therapy\",\"GIST with decreased sensitivity to therapy\",\"GIST with decreased sensitivity to therapy\",\"Melanoma, NOS with response to therapy\",\"GIST with resistance to therapy\",\"ACUTE MYELOID LEUKAEMIA (AML) AND RELATED PRECURSOR NEOPLASMS with sensitivity to therapy\",\"Mastocytosis with response to therapy\",\"GIST with decreased sensitivity to therapy\",\"GIST with resistance to therapy\",\"Thymic carcinoma with response to therapy\",\"Thymic carcinoma with sensitivity to therapy\",\"GIST with resistance to therapy\",\"GIST with decreased sensitivity to therapy\",\"GIST with decreased sensitivity to therapy\",\"GIST with resistance to therapy\",\"Melanoma, NOS with response to therapy\",\"Melanoma, NOS with response to therapy\",\"ACUTE MYELOID LEUKAEMIA (AML) AND RELATED PRECURSOR NEOPLASMS with response to therapy\",\"Melanoma, NOS with response to therapy\",\"GIST with response to therapy\",\"Melanoma, NOS with response to therapy\",\"Melanoma, NOS with resistance to therapy\",\"GIST with decreased sensitivity to therapy\",\"GIST with response to therapy\",\"Thymic carcinoma with response to therapy\",\"GIST with response to therapy\",\"GIST with sensitivity to therapy\",\"Melanoma, NOS with response to therapy\",\"Melanoma, NOS with response to therapy\",\"GIST with sensitivity to therapy\",\"GIST with response to therapy\",\"GIST with resistance to therapy\",\"GIST with response to therapy\",\"Melanoma, NOS with response to therapy\",\"GIST with resistance to therapy\",\"GIST with sensitivity to therapy\",\"Melanoma, NOS with response to therapy\",\"Thymic carcinoma with response to therapy\",\"GIST with sensitivity to therapy\",\"GIST with resistance to therapy\",\"Melanoma, NOS with response to therapy\",\"Melanoma, NOS with response to therapy\",\"Melanoma, NOS with response to therapy\",\"Melanoma, NOS with response to therapy\",\"Melanoma, NOS with response to therapy\",\"GIST with decreased sensitivity to therapy\",\"Thymic carcinoma with response to therapy\",\"Thymic carcinoma with response to therapy\",\"Melanoma, NOS with no response to therapy\"]}},\"id\":\"927f674a-5019-4222-b7d2-265b89f5f55c\",\"type\":\"ColumnDataSource\"},{\"attributes\":{},\"id\":\"dcf77bfa-2587-4311-9a33-7d7beab11897\",\"type\":\"CategoricalTickFormatter\"},{\"attributes\":{},\"id\":\"9823f7d0-2b32-4ffb-a2de-868ca6b8245a\",\"type\":\"ToolEvents\"},{\"attributes\":{},\"id\":\"6ebda05c-521f-4f68-a15e-fe248ba6cee3\",\"type\":\"StringEditor\"},{\"attributes\":{\"callback\":null,\"factors\":[\"KIT exon 11 p.550-592 any mutation\",\"KIT exon 8 p.416-422 indel\",\"KIT V559I, H687Y, T670, V654A, A829P, D816, N822, Y823D missense mutation\",\"KIT exon 9 p.449-514 any mutation\",\"KIT exon 17 p.788-828 any mutation\",\"KIT exon 11 p.550-592, exon 13 p.627-664   any mutation  \",\"KIT N822K missense mutation\",\"KIT  D816V missense mutation\",\"KIT exon 14 p.664-714 any mutation\",\"KIT T670I missense mutation\",\"KIT Y553N missense mutation\",\"KIT H697Y missense mutation\",\"KIT  wild type no mutation\",\"KIT V654A missense mutation\",\"KIT exon 17 p.788-828, exon 18 p.829-860 missense mutation\",\"KIT  exon 13 p.627-664 any mutation\",\"KIT V560del deletion mutation\",\"KIT D820Y missense mutation\",\"KIT amplification copy number gain\",\"KIT D820E missense mutation\",\"KIT del577-578_579 deletion mutation\"]},\"id\":\"0aeb043c-d036-4ddb-b490-6d1206a07ada\",\"type\":\"FactorRange\"},{\"attributes\":{\"plot\":null,\"text\":\"G2P Associations for KIT\"},\"id\":\"f9bba621-d305-4508-a418-36c60468817c\",\"type\":\"Title\"},{\"attributes\":{},\"id\":\"1357cb9d-baf4-4fe8-affe-0f175140b4b6\",\"type\":\"CategoricalTicker\"},{\"attributes\":{\"active_drag\":\"auto\",\"active_scroll\":\"auto\",\"active_tap\":\"auto\",\"tools\":[{\"id\":\"fce89ffd-4fbb-4278-b2d9-d99009c6bf0b\",\"type\":\"HoverTool\"}]},\"id\":\"55df69ea-9b00-4965-bf8e-32aa17534a19\",\"type\":\"Toolbar\"},{\"attributes\":{\"callback\":null,\"column_names\":[\"y\",\"x\",\"values\"],\"data\":{\"association_count_Sum\":[\"[1, 2.5]\",\"[1, 2.5]\",\"[1, 2.5]\",\"[1, 2.5]\",\"[1, 2.5]\",\"[1, 2.5]\",\"[1, 2.5]\",\"[1, 2.5]\",\"[1, 2.5]\",\"[1, 2.5]\",\"[1, 2.5]\",\"[1, 2.5]\",\"[1, 2.5]\",\"[1, 2.5]\",\"[1, 2.5]\",\"[1, 2.5]\",\"[1, 2.5]\",\"[1, 2.5]\",\"[1, 2.5]\",\"[1, 2.5]\",\"[1, 2.5]\",\"[1, 2.5]\",\"[1, 2.5]\",\"[1, 2.5]\",\"[1, 2.5]\",\"[1, 2.5]\",\"[1, 2.5]\"],\"chart_index\":[{\"association_count_Sum\":\"[1, 2.5]\"},{\"association_count_Sum\":\"[1, 2.5]\"},{\"association_count_Sum\":\"[1, 2.5]\"},{\"association_count_Sum\":\"[1, 2.5]\"},{\"association_count_Sum\":\"[1, 2.5]\"},{\"association_count_Sum\":\"[1, 2.5]\"},{\"association_count_Sum\":\"[1, 2.5]\"},{\"association_count_Sum\":\"[1, 2.5]\"},{\"association_count_Sum\":\"[1, 2.5]\"},{\"association_count_Sum\":\"[1, 2.5]\"},{\"association_count_Sum\":\"[1, 2.5]\"},{\"association_count_Sum\":\"[1, 2.5]\"},{\"association_count_Sum\":\"[1, 2.5]\"},{\"association_count_Sum\":\"[1, 2.5]\"},{\"association_count_Sum\":\"[1, 2.5]\"},{\"association_count_Sum\":\"[1, 2.5]\"},{\"association_count_Sum\":\"[1, 2.5]\"},{\"association_count_Sum\":\"[1, 2.5]\"},{\"association_count_Sum\":\"[1, 2.5]\"},{\"association_count_Sum\":\"[1, 2.5]\"},{\"association_count_Sum\":\"[1, 2.5]\"},{\"association_count_Sum\":\"[1, 2.5]\"},{\"association_count_Sum\":\"[1, 2.5]\"},{\"association_count_Sum\":\"[1, 2.5]\"},{\"association_count_Sum\":\"[1, 2.5]\"},{\"association_count_Sum\":\"[1, 2.5]\"},{\"association_count_Sum\":\"[1, 2.5]\"}],\"values\":[1,1,2,1,1,1,1,2,1,1,1,1,1,1,1,1,1,1,1,1,1,2,2,1,1,1,1],\"x\":[\"KIT exon 8 p.416-422 indel\",\"KIT exon 9 p.449-514 any mutation\",\"KIT exon 17 p.788-828 any mutation\",\"KIT N822K missense mutation\",\"KIT  D816V missense mutation\",\"KIT exon 14 p.664-714 any mutation\",\"KIT T670I missense mutation\",\"KIT Y553N missense mutation\",\"KIT H697Y missense mutation\",\"KIT  wild type no mutation\",\"KIT V654A missense mutation\",\"KIT  D816V missense mutation\",\"KIT exon 9 p.449-514 any mutation\",\"KIT exon 17 p.788-828, exon 18 p.829-860 missense mutation\",\"KIT  exon 13 p.627-664 any mutation\",\"KIT  wild type no mutation\",\"KIT V560del deletion mutation\",\"KIT  wild type no mutation\",\"KIT exon 9 p.449-514 any mutation\",\"KIT exon 17 p.788-828 any mutation\",\"KIT D820Y missense mutation\",\"KIT exon 17 p.788-828 any mutation\",\"KIT amplification copy number gain\",\"KIT exon 17 p.788-828, exon 18 p.829-860 missense mutation\",\"KIT D820E missense mutation\",\"KIT del577-578_579 deletion mutation\",\"KIT amplification copy number gain\"],\"y\":[\"ACUTE MYELOID LEUKAEMIA (AML) AND RELATED PRECURSOR NEOPLASMS with sensitivity to therapy\",\"GIST with decreased sensitivity to therapy\",\"GIST with decreased sensitivity to therapy\",\"ACUTE MYELOID LEUKAEMIA (AML) AND RELATED PRECURSOR NEOPLASMS with sensitivity to therapy\",\"Mastocytosis with response to therapy\",\"GIST with decreased sensitivity to therapy\",\"GIST with resistance to therapy\",\"Thymic carcinoma with response to therapy\",\"Thymic carcinoma with sensitivity to therapy\",\"GIST with decreased sensitivity to therapy\",\"GIST with decreased sensitivity to therapy\",\"ACUTE MYELOID LEUKAEMIA (AML) AND RELATED PRECURSOR NEOPLASMS with response to therapy\",\"GIST with response to therapy\",\"Melanoma, NOS with resistance to therapy\",\"GIST with decreased sensitivity to therapy\",\"GIST with response to therapy\",\"Thymic carcinoma with response to therapy\",\"GIST with sensitivity to therapy\",\"GIST with sensitivity to therapy\",\"GIST with response to therapy\",\"Melanoma, NOS with response to therapy\",\"GIST with sensitivity to therapy\",\"Melanoma, NOS with response to therapy\",\"Melanoma, NOS with response to therapy\",\"Thymic carcinoma with response to therapy\",\"Thymic carcinoma with response to therapy\",\"Melanoma, NOS with no response to therapy\"]}},\"id\":\"7c108720-1195-41c5-a056-fc874bf9dbb2\",\"type\":\"ColumnDataSource\"},{\"attributes\":{},\"id\":\"b6ea9c87-4048-4893-9372-05b61c273182\",\"type\":\"CategoricalTicker\"},{\"attributes\":{\"children\":[{\"id\":\"e024aa3e-ddc1-4c86-b8dc-59c9c13150ee\",\"type\":\"DataTable\"}],\"height\":400,\"width\":1024},\"id\":\"331d18fd-bc0b-4a9d-a791-5b0855fa31f0\",\"type\":\"WidgetBox\"},{\"attributes\":{\"dilate\":true,\"fill_color\":{\"value\":\"#6baed6\"},\"height\":{\"units\":\"data\",\"value\":0.95},\"line_color\":{\"value\":\"#6baed6\"},\"width\":{\"units\":\"data\",\"value\":0.95},\"x\":{\"field\":\"x\"},\"y\":{\"field\":\"y\"}},\"id\":\"db80c917-3e0d-4555-bebe-35df070df60a\",\"type\":\"Rect\"},{\"attributes\":{\"data_source\":{\"id\":\"db717b3d-ebb6-43ed-b87e-6b8587e8dd03\",\"type\":\"ColumnDataSource\"},\"glyph\":{\"id\":\"db80c917-3e0d-4555-bebe-35df070df60a\",\"type\":\"Rect\"},\"hover_glyph\":null,\"nonselection_glyph\":null,\"selection_glyph\":null},\"id\":\"770ced67-801e-448d-9610-308be358c79f\",\"type\":\"GlyphRenderer\"},{\"attributes\":{\"columns\":[{\"id\":\"4c0f6f90-e392-45bb-99d2-6ebb03bf5621\",\"type\":\"TableColumn\"}],\"source\":{\"id\":\"927f674a-5019-4222-b7d2-265b89f5f55c\",\"type\":\"ColumnDataSource\"},\"width\":1024},\"id\":\"e024aa3e-ddc1-4c86-b8dc-59c9c13150ee\",\"type\":\"DataTable\"},{\"attributes\":{\"dilate\":true,\"fill_color\":{\"value\":\"#3182bd\"},\"height\":{\"units\":\"data\",\"value\":0.95},\"line_color\":{\"value\":\"#3182bd\"},\"width\":{\"units\":\"data\",\"value\":0.95},\"x\":{\"field\":\"x\"},\"y\":{\"field\":\"y\"}},\"id\":\"9c23a557-d4d3-488d-a500-3f4fa7155d93\",\"type\":\"Rect\"},{\"attributes\":{\"callback\":null,\"column_names\":[\"y\",\"x\",\"values\"],\"data\":{\"association_count_Sum\":[\"(2.5, 4]\"],\"chart_index\":[{\"association_count_Sum\":\"(2.5, 4]\"}],\"values\":[3],\"x\":[\"KIT exon 11 p.550-592 any mutation\"],\"y\":[\"GIST with response to therapy\"]}},\"id\":\"db717b3d-ebb6-43ed-b87e-6b8587e8dd03\",\"type\":\"ColumnDataSource\"},{\"attributes\":{\"axis_label\":\"feature\",\"formatter\":{\"id\":\"dcf77bfa-2587-4311-9a33-7d7beab11897\",\"type\":\"CategoricalTickFormatter\"},\"major_label_orientation\":0.7853981633974483,\"plot\":{\"id\":\"bcdccc09-f3d6-4817-b2f5-10c074bf0dc6\",\"subtype\":\"Chart\",\"type\":\"Plot\"},\"ticker\":{\"id\":\"1357cb9d-baf4-4fe8-affe-0f175140b4b6\",\"type\":\"CategoricalTicker\"}},\"id\":\"5824049a-9482-43d7-adf4-02b05970687b\",\"type\":\"CategoricalAxis\"}],\"root_ids\":[\"47d14d3c-9007-43a1-b715-4e6ee9e41a46\"]},\"title\":\"Bokeh Application\",\"version\":\"0.12.3\"}};\n",
       "            var render_items = [{\"docid\":\"1d696a7a-fbb5-4355-a366-a473df197359\",\"elementid\":\"52cc281e-a597-46a3-89f5-67ebe014ad85\",\"modelid\":\"47d14d3c-9007-43a1-b715-4e6ee9e41a46\"}];\n",
       "            \n",
       "            Bokeh.embed.embed_items(docs_json, render_items);\n",
       "        });\n",
       "      },\n",
       "      function(Bokeh) {\n",
       "      }\n",
       "    ];\n",
       "  \n",
       "    function run_inline_js() {\n",
       "      \n",
       "      if ((window.Bokeh !== undefined) || (force === \"1\")) {\n",
       "        for (var i = 0; i < inline_js.length; i++) {\n",
       "          inline_js[i](window.Bokeh);\n",
       "        }if (force === \"1\") {\n",
       "          display_loaded();\n",
       "        }} else if (Date.now() < window._bokeh_timeout) {\n",
       "        setTimeout(run_inline_js, 100);\n",
       "      } else if (!window._bokeh_failed_load) {\n",
       "        console.log(\"Bokeh: BokehJS failed to load within specified timeout.\");\n",
       "        window._bokeh_failed_load = true;\n",
       "      } else if (!force) {\n",
       "        var cell = $(\"#52cc281e-a597-46a3-89f5-67ebe014ad85\").parents('.cell').data().cell;\n",
       "        cell.output_area.append_execute_result(NB_LOAD_WARNING)\n",
       "      }\n",
       "  \n",
       "    }\n",
       "  \n",
       "    if (window._bokeh_is_loading === 0) {\n",
       "      console.log(\"Bokeh: BokehJS loaded, going straight to plotting\");\n",
       "      run_inline_js();\n",
       "    } else {\n",
       "      load_libs(js_urls, function() {\n",
       "        console.log(\"Bokeh: BokehJS plotting callback run at\", now());\n",
       "        run_inline_js();\n",
       "      });\n",
       "    }\n",
       "  }(this));\n",
       "</script>"
      ]
     },
     "metadata": {},
     "output_type": "display_data"
    }
   ],
   "source": [
    "from bokeh.charts import HeatMap, output_notebook, show \n",
    "\n",
    "from bokeh.layouts import column\n",
    "from bokeh.models import ColumnDataSource\n",
    "from bokeh.models.widgets import DataTable,   TableColumn\n",
    "from bokeh.models import HoverTool\n",
    "\n",
    "\n",
    "feature_ids = {}\n",
    "for feature in features:\n",
    "    feature_ids[feature.id]=feature.name\n",
    "\n",
    "phenotype_descriptions = []\n",
    "feature_names = []\n",
    "association_count = [] \n",
    "association_descriptions = []\n",
    "\n",
    "for association in associations:\n",
    "    for feature_id in association.feature_ids:\n",
    "        phenotype_descriptions.append(association.phenotype.description)\n",
    "        feature_names.append(feature_ids[feature_id])\n",
    "        association_count.append(1)\n",
    "        association_descriptions.append(association.description)\n",
    "\n",
    "output_notebook()\n",
    "  \n",
    "data = {'feature': feature_names  ,\n",
    "        'association_count': association_count,\n",
    "        'phenotype': phenotype_descriptions,\n",
    "        'association_descriptions': association_descriptions\n",
    "        }\n",
    "\n",
    "hover = HoverTool(\n",
    "        tooltips=[\n",
    "            (\"associations\", \"@values\")\n",
    "        ]\n",
    "    )\n",
    "\n",
    "hm = HeatMap(data, x='feature', y='phenotype', values='association_count',\n",
    "             title='G2P Associations for KIT', stat='sum',\n",
    "             legend=False,width=1024,\n",
    "             tools=[hover], #\"hover,pan,wheel_zoom,box_zoom,reset,tap\",\n",
    "             toolbar_location=\"above\")\n",
    "\n",
    "source = ColumnDataSource(data)\n",
    "columns = [\n",
    "        TableColumn(field=\"association_descriptions\", title=\"Description\"),\n",
    "    ]\n",
    "data_table = DataTable(source=source, columns=columns,width=1024 )\n",
    "\n",
    "show( column(hm,data_table)  )\n"
   ]
  },
  {
   "cell_type": "code",
   "execution_count": null,
   "metadata": {
    "collapsed": true
   },
   "outputs": [],
   "source": []
  },
  {
   "cell_type": "code",
   "execution_count": null,
   "metadata": {
    "collapsed": true
   },
   "outputs": [],
   "source": []
  }
 ],
 "metadata": {
  "kernelspec": {
   "display_name": "Python 2",
   "language": "python",
   "name": "python2"
  },
  "language_info": {
   "codemirror_mode": {
    "name": "ipython",
    "version": 2
   },
   "file_extension": ".py",
   "mimetype": "text/x-python",
   "name": "python",
   "nbconvert_exporter": "python",
   "pygments_lexer": "ipython2",
   "version": "2.7.11"
  }
 },
 "nbformat": 4,
 "nbformat_minor": 1
}
