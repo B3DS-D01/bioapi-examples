{
 "cells": [
  {
   "cell_type": "code",
   "execution_count": 1,
   "metadata": {
    "collapsed": true
   },
   "outputs": [],
   "source": [
    "from ga4gh.client import client\n",
    "\n",
    "c = client.HttpClient(\"http://1kgenomes.ga4gh.org\")"
   ]
  },
  {
   "cell_type": "code",
   "execution_count": 3,
   "metadata": {
    "collapsed": false
   },
   "outputs": [
    {
     "data": {
      "text/plain": [
       "755"
      ]
     },
     "execution_count": 3,
     "metadata": {},
     "output_type": "execute_result"
    }
   ],
   "source": [
    "len(list(c.searchReads(referenceId=\"WyJOQ0JJMzciLCIxIl0\", readGroupIds=[ 'WyIxa2dlbm9tZXMiLCJyZ3MiLCJOQTE5MTAyIiwiU1JSMDIzMzAwIl0',\n",
    "  'WyIxa2dlbm9tZXMiLCJyZ3MiLCJOQTE5MTAyIiwiU1JSMDMyODU0Il0',\n",
    "  'WyIxa2dlbm9tZXMiLCJyZ3MiLCJOQTE5MTAyIiwiU1JSMDMyODU1Il0',\n",
    "  'WyIxa2dlbm9tZXMiLCJyZ3MiLCJOQTE5MTAyIiwiU1JSNzg4NjIyIl0',\n",
    "  'WyIxa2dlbm9tZXMiLCJyZ3MiLCJOQTE5MTAyIiwiU1JSNzg4NjIzIl0',\n",
    "  'WyIxa2dlbm9tZXMiLCJyZ3MiLCJOQTE5MTAyIiwiU1JSNzg4NjMyIl0',\n",
    "  'WyIxa2dlbm9tZXMiLCJyZ3MiLCJOQTE5MTAyIiwiU1JSNzg4NjQzIl0',\n",
    "  'WyIxa2dlbm9tZXMiLCJyZ3MiLCJOQTE5MTAyIiwiU1JSNzg4NjUxIl0',\n",
    "  'WyIxa2dlbm9tZXMiLCJyZ3MiLCJOQTE5MTAyIiwiU1JSNzg4NjU0Il0',\n",
    "  'WyIxa2dlbm9tZXMiLCJyZ3MiLCJOQTE5MTAyIiwiU1JSNzg4NjYwIl0',\n",
    "  'WyIxa2dlbm9tZXMiLCJyZ3MiLCJOQTE5MTAyIiwiU1JSNzg4NjYzIl0',\n",
    "  'WyIxa2dlbm9tZXMiLCJyZ3MiLCJOQTE5MTAyIiwiU1JSNzg4NjcwIl0',\n",
    "  'WyIxa2dlbm9tZXMiLCJyZ3MiLCJOQTE5MTAyIiwiU1JSNzg4NjgxIl0',\n",
    "  'WyIxa2dlbm9tZXMiLCJyZ3MiLCJOQTE5MTAyIiwiU1JSNzg4Njg0Il0',\n",
    "  'WyIxa2dlbm9tZXMiLCJyZ3MiLCJOQTE5MTAyIiwiU1JSNzg4Njg2Il0',\n",
    "  'WyIxa2dlbm9tZXMiLCJyZ3MiLCJOQTE5MTAyIiwiU1JSNzg4Njg4Il0',\n",
    "  'WyIxa2dlbm9tZXMiLCJyZ3MiLCJOQTE5MTAyIiwiU1JSNzg4NjkwIl0',\n",
    "  'WyIxa2dlbm9tZXMiLCJyZ3MiLCJOQTE5MTAyIiwiU1JSNzg4Njk3Il0',\n",
    "  'WyIxa2dlbm9tZXMiLCJyZ3MiLCJOQTE5MTAyIiwiU1JSNzg4NzEwIl0' ], start=10100, end=10111)))"
   ]
  },
  {
   "cell_type": "code",
   "execution_count": 4,
   "metadata": {
    "collapsed": true
   },
   "outputs": [],
   "source": [
    "import pysam"
   ]
  },
  {
   "cell_type": "code",
   "execution_count": 5,
   "metadata": {
    "collapsed": true
   },
   "outputs": [],
   "source": [
    "url = \"http://s3.amazonaws.com/1000genomes/phase3/data/NA19102/alignment/NA19102.mapped.ILLUMINA.bwa.YRI.low_coverage.20130415.bam\""
   ]
  },
  {
   "cell_type": "code",
   "execution_count": 7,
   "metadata": {
    "collapsed": false
   },
   "outputs": [],
   "source": [
    "amazonalignments = pysam.AlignmentFile(url)"
   ]
  },
  {
   "cell_type": "code",
   "execution_count": 9,
   "metadata": {
    "collapsed": false
   },
   "outputs": [
    {
     "data": {
      "text/plain": [
       "755"
      ]
     },
     "execution_count": 9,
     "metadata": {},
     "output_type": "execute_result"
    }
   ],
   "source": [
    "len(list(amazonalignments.fetch(\"1\", 10100, 10111)))"
   ]
  },
  {
   "cell_type": "code",
   "execution_count": null,
   "metadata": {
    "collapsed": true
   },
   "outputs": [],
   "source": []
  }
 ],
 "metadata": {
  "kernelspec": {
   "display_name": "Python 2",
   "language": "python",
   "name": "python2"
  },
  "language_info": {
   "codemirror_mode": {
    "name": "ipython",
    "version": 2
   },
   "file_extension": ".py",
   "mimetype": "text/x-python",
   "name": "python",
   "nbconvert_exporter": "python",
   "pygments_lexer": "ipython2",
   "version": "2.7.11"
  },
  "widgets": {
   "state": {},
   "version": "1.1.1"
  }
 },
 "nbformat": 4,
 "nbformat_minor": 0
}
