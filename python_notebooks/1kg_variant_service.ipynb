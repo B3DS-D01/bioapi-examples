{
 "cells": [
  {
   "cell_type": "markdown",
   "metadata": {
    "collapsed": true
   },
   "source": [
    "## GA4GH 1000 Genome Variant Service Example\n",
    "This example illustrates how to access the different variant calls implemented within the variant service."
   ]
  },
  {
   "cell_type": "markdown",
   "metadata": {},
   "source": [
    "### Initialize the client\n",
    "In this step we create a client object which will be used to communicate with the server. It is initialized using the URL."
   ]
  },
  {
   "cell_type": "code",
   "execution_count": 2,
   "metadata": {
    "collapsed": true
   },
   "outputs": [],
   "source": [
    "import ga4gh.client as client\n",
    "c = client.HttpClient(\"http://1kgenomes.ga4gh.org\")"
   ]
  },
  {
   "cell_type": "markdown",
   "metadata": {},
   "source": [
    "### Search variant sets method\n",
    "This call returns variant sets hosted by the API, via the following format.\n",
    "Observe that we are using the dataset id obtained from the metadata service example."
   ]
  },
  {
   "cell_type": "code",
   "execution_count": 3,
   "metadata": {
    "collapsed": false
   },
   "outputs": [
    {
     "name": "stdout",
     "output_type": "stream",
     "text": [
      "Data Set Id: WyIxa2dlbm9tZXMiXQ,\n",
      "Variant Set Name: phase3-release,\tReference Set Id: WyJOQ0JJMzciXQ,\n",
      "Variant Id: WyIxa2dlbm9tZXMiLCJ2cyIsInBoYXNlMy1yZWxlYXNlIl0\n",
      "\n",
      "Data Set Id: WyIxa2dlbm9tZXMiXQ,\n",
      "Variant Set Name: functional-annotation,\tReference Set Id: WyJOQ0JJMzciXQ,\n",
      "Variant Id: WyIxa2dlbm9tZXMiLCJ2cyIsImZ1bmN0aW9uYWwtYW5ub3RhdGlvbiJd\n",
      "\n"
     ]
    }
   ],
   "source": [
    "for variant_sets in c.search_variant_sets(dataset_id=\"WyIxa2dlbm9tZXMiXQ\"):\n",
    "    print \"Data Set Id: {},\\nVariant Set Name: {},\\tReference Set Id: {},\\nVariant Id: {}\\n\".format(\n",
    "        variant_sets.dataset_id, variant_sets.name, variant_sets.reference_set_id, variant_sets.id)"
   ]
  },
  {
   "cell_type": "markdown",
   "metadata": {},
   "source": [
    "###### Note: \n",
    "    In the previous call, not all the elements returned are illustrated, only the descriptive parameters which belong to each of the variant sets contained. But they will be shown in the next, get by id call."
   ]
  },
  {
   "cell_type": "markdown",
   "metadata": {},
   "source": [
    "### Get variant set by id method\n",
    "The following request, returns a single element from the variant sets, when the id of the variant set is provided"
   ]
  },
  {
   "cell_type": "code",
   "execution_count": 15,
   "metadata": {
    "collapsed": false
   },
   "outputs": [
    {
     "name": "stdout",
     "output_type": "stream",
     "text": [
      "Name: phase3-release,\tData Id: WyIxa2dlbm9tZXMiXQ,\tReference Set Id: WyJOQ0JJMzciXQ,\n",
      "Variant Id: WyIxa2dlbm9tZXMiLCJ2cyIsInBoYXNlMy1yZWxlYXNlIl0\n",
      "\n",
      "\tMetadata Key: version,\tValue: VCFv4.1,\tType: String\n",
      "\tDescription: \n",
      "\n",
      "\tMetadata Key: INFO.CIEND,\tValue: ,\tType: Integer\n",
      "\tDescription: Confidence interval around END for imprecise variants\n",
      "\n",
      "\tMetadata Key: INFO.CIPOS,\tValue: ,\tType: Integer\n",
      "\tDescription: Confidence interval around POS for imprecise variants\n",
      "\n",
      "\tMetadata Key: INFO.CS,\tValue: ,\tType: String\n",
      "\tDescription: Source call set.\n",
      "\n",
      "\tMetadata Key: INFO.END,\tValue: ,\tType: Integer\n",
      "\tDescription: End coordinate of this variant\n",
      "\n",
      "\tMetadata Key: INFO.IMPRECISE,\tValue: ,\tType: Flag\n",
      "\tDescription: Imprecise structural variation\n",
      "\n",
      "\tMetadata Key: INFO.MC,\tValue: ,\tType: String\n",
      "\tDescription: Merged calls.\n",
      "\n",
      "\tMetadata Key: INFO.MEINFO,\tValue: ,\tType: String\n",
      "\tDescription: Mobile element info of the form NAME,START,END<POLARITY; If there is only 5' OR 3' support for this call, will be NULL NULL for START and END\n",
      "\n",
      "\tMetadata Key: INFO.MEND,\tValue: ,\tType: Integer\n",
      "\tDescription: Mitochondrial end coordinate of inserted sequence\n",
      "\n",
      "\tMetadata Key: INFO.MLEN,\tValue: ,\tType: Integer\n",
      "\tDescription: Estimated length of mitochondrial insert\n",
      "\n",
      "\tMetadata Key: INFO.MSTART,\tValue: ,\tType: Integer\n",
      "\tDescription: Mitochondrial start coordinate of inserted sequence\n",
      "\n",
      "\tMetadata Key: INFO.SVLEN,\tValue: ,\tType: Integer\n",
      "\tDescription: SV length. It is only calculated for structural variation MEIs. For other types of SVs; one may calculate the SV length by INFO:END-START+1, or by finding the difference between lengthes of REF and ALT alleles\n",
      "\n",
      "\tMetadata Key: INFO.SVTYPE,\tValue: ,\tType: String\n",
      "\tDescription: Type of structural variant\n",
      "\n",
      "\tMetadata Key: INFO.TSD,\tValue: ,\tType: String\n",
      "\tDescription: Precise Target Site Duplication for bases, if unknown, value will be NULL\n",
      "\n",
      "\tMetadata Key: INFO.AC,\tValue: ,\tType: Integer\n",
      "\tDescription: Total number of alternate alleles in called genotypes\n",
      "\n",
      "\tMetadata Key: INFO.AF,\tValue: ,\tType: Float\n",
      "\tDescription: Estimated allele frequency in the range (0,1)\n",
      "\n",
      "\tMetadata Key: INFO.NS,\tValue: ,\tType: Integer\n",
      "\tDescription: Number of samples with data\n",
      "\n",
      "\tMetadata Key: INFO.AN,\tValue: ,\tType: Integer\n",
      "\tDescription: Total number of alleles in called genotypes\n",
      "\n",
      "\tMetadata Key: INFO.EAS_AF,\tValue: ,\tType: Float\n",
      "\tDescription: Allele frequency in the EAS populations calculated from AC and AN, in the range (0,1)\n",
      "\n",
      "\tMetadata Key: INFO.EUR_AF,\tValue: ,\tType: Float\n",
      "\tDescription: Allele frequency in the EUR populations calculated from AC and AN, in the range (0,1)\n",
      "\n",
      "\tMetadata Key: INFO.AFR_AF,\tValue: ,\tType: Float\n",
      "\tDescription: Allele frequency in the AFR populations calculated from AC and AN, in the range (0,1)\n",
      "\n",
      "\tMetadata Key: INFO.AMR_AF,\tValue: ,\tType: Float\n",
      "\tDescription: Allele frequency in the AMR populations calculated from AC and AN, in the range (0,1)\n",
      "\n",
      "\tMetadata Key: INFO.SAS_AF,\tValue: ,\tType: Float\n",
      "\tDescription: Allele frequency in the SAS populations calculated from AC and AN, in the range (0,1)\n",
      "\n",
      "\tMetadata Key: INFO.DP,\tValue: ,\tType: Integer\n",
      "\tDescription: Total read depth; only low coverage data were counted towards the DP, exome data were not used\n",
      "\n",
      "\tMetadata Key: INFO.AA,\tValue: ,\tType: String\n",
      "\tDescription: Ancestral Allele. Format: AA|REF|ALT|IndelType. AA: Ancestral allele, REF:Reference Allele, ALT:Alternate Allele, IndelType:Type of Indel (REF, ALT and IndelType are only defined for indels)\n",
      "\n",
      "\tMetadata Key: INFO.VT,\tValue: ,\tType: String\n",
      "\tDescription: indicates what type of variant the line represents\n",
      "\n",
      "\tMetadata Key: INFO.EX_TARGET,\tValue: ,\tType: Flag\n",
      "\tDescription: indicates whether a variant is within the exon pull down target boundaries\n",
      "\n",
      "\tMetadata Key: INFO.MULTI_ALLELIC,\tValue: ,\tType: Flag\n",
      "\tDescription: indicates whether a site is multi-allelic\n",
      "\n"
     ]
    }
   ],
   "source": [
    "variant_set = c.get_variant_set(variant_set_id=\"WyIxa2dlbm9tZXMiLCJ2cyIsInBoYXNlMy1yZWxlYXNlIl0\")\n",
    "print\"Name: {},\\tData Id: {},\\tReference Set Id: {},\\nVariant Id: {}\\n\".format(\n",
    "variant_set.name, variant_set.dataset_id, variant_set.reference_set_id, variant_set.id)\n",
    "for metadata in variant_set.metadata:\n",
    "    print \"\\tMetadata Key: {},\\tValue: {},\\tType: {}\\n\\tDescription: {}\\n\".format(\n",
    "    metadata.key, metadata.value, metadata.type, metadata.description)"
   ]
  },
  {
   "cell_type": "markdown",
   "metadata": {
    "collapsed": true
   },
   "source": [
    "###### Observe that in this call we have shown all of the methadata elements are illustrated. "
   ]
  },
  {
   "cell_type": "markdown",
   "metadata": {},
   "source": [
    "### Search variants method\n",
    "Using the variant set id returned in one of the previous calls we can search for variants"
   ]
  },
  {
   "cell_type": "code",
   "execution_count": 73,
   "metadata": {
    "collapsed": false
   },
   "outputs": [
    {
     "name": "stdout",
     "output_type": "stream",
     "text": [
      "Variant Id: WyIxa2dlbm9tZXMiLCJ2cyIsInBoYXNlMy1yZWxlYXNlIiwiMSIsIjEwMTc2IiwiZDAxNmM0ZTFhZGNhZDVkMWJjODljMmNhNGFkYmEzYTgiXQ\n",
      "\tVariant Set Id: WyIxa2dlbm9tZXMiLCJ2cyIsInBoYXNlMy1yZWxlYXNlIl0\n",
      "\tNames:[u'rs367896724']\tReference Chromosome: 1\n",
      "\tStart: 10176,\tEnd: 10177,\n",
      "\tReference Bases: A\tAlternate Bases: [u'AC']\n",
      "\n",
      "Variant Id: WyIxa2dlbm9tZXMiLCJ2cyIsInBoYXNlMy1yZWxlYXNlIiwiMSIsIjEwMjM0IiwiMGNlMzUwNzI0NDYxNGMzNzA1ZjVlMmFhMmQxMGFmMjUiXQ\n",
      "\tVariant Set Id: WyIxa2dlbm9tZXMiLCJ2cyIsInBoYXNlMy1yZWxlYXNlIl0\n",
      "\tNames:[u'rs540431307']\tReference Chromosome: 1\n",
      "\tStart: 10234,\tEnd: 10235,\n",
      "\tReference Bases: T\tAlternate Bases: [u'TA']\n",
      "\n",
      "Variant Id: WyIxa2dlbm9tZXMiLCJ2cyIsInBoYXNlMy1yZWxlYXNlIiwiMSIsIjEwMzUxIiwiMGNlMzUwNzI0NDYxNGMzNzA1ZjVlMmFhMmQxMGFmMjUiXQ\n",
      "\tVariant Set Id: WyIxa2dlbm9tZXMiLCJ2cyIsInBoYXNlMy1yZWxlYXNlIl0\n",
      "\tNames:[u'rs555500075']\tReference Chromosome: 1\n",
      "\tStart: 10351,\tEnd: 10352,\n",
      "\tReference Bases: T\tAlternate Bases: [u'TA']\n",
      "\n",
      "Variant Id: WyIxa2dlbm9tZXMiLCJ2cyIsInBoYXNlMy1yZWxlYXNlIiwiMSIsIjEwNTA0IiwiNGFjY2RmYjZmNjkyZjQxYzMxNGQwOTI4NTg4MmE2ODkiXQ\n",
      "\tVariant Set Id: WyIxa2dlbm9tZXMiLCJ2cyIsInBoYXNlMy1yZWxlYXNlIl0\n",
      "\tNames:[u'rs548419688']\tReference Chromosome: 1\n",
      "\tStart: 10504,\tEnd: 10505,\n",
      "\tReference Bases: A\tAlternate Bases: [u'T']\n",
      "\n",
      "Variant Id: WyIxa2dlbm9tZXMiLCJ2cyIsInBoYXNlMy1yZWxlYXNlIiwiMSIsIjEwNTA1IiwiYzYyZDBhM2E4MDIyZjgxNWRhOGY0Y2FiYTVjZWIzOGQiXQ\n",
      "\tVariant Set Id: WyIxa2dlbm9tZXMiLCJ2cyIsInBoYXNlMy1yZWxlYXNlIl0\n",
      "\tNames:[u'rs568405545']\tReference Chromosome: 1\n",
      "\tStart: 10505,\tEnd: 10506,\n",
      "\tReference Bases: C\tAlternate Bases: [u'G']\n",
      "\n",
      "Variant Id: WyIxa2dlbm9tZXMiLCJ2cyIsInBoYXNlMy1yZWxlYXNlIiwiMSIsIjEwNTEwIiwiNDVjNGNmMDZjYjVjZGFiYTg1MTJhMTYxZTczMmI1YzIiXQ\n",
      "\tVariant Set Id: WyIxa2dlbm9tZXMiLCJ2cyIsInBoYXNlMy1yZWxlYXNlIl0\n",
      "\tNames:[u'rs534229142']\tReference Chromosome: 1\n",
      "\tStart: 10510,\tEnd: 10511,\n",
      "\tReference Bases: G\tAlternate Bases: [u'A']\n",
      "\n",
      "Variant Id: WyIxa2dlbm9tZXMiLCJ2cyIsInBoYXNlMy1yZWxlYXNlIiwiMSIsIjEwNTM4IiwiMTg2ZjhiZTU3MTg2OWQ3Y2UzMmY4MDNlMGRlMjZlOTUiXQ\n",
      "\tVariant Set Id: WyIxa2dlbm9tZXMiLCJ2cyIsInBoYXNlMy1yZWxlYXNlIl0\n",
      "\tNames:[u'rs537182016']\tReference Chromosome: 1\n",
      "\tStart: 10538,\tEnd: 10539,\n",
      "\tReference Bases: C\tAlternate Bases: [u'A']\n",
      "\n",
      "Variant Id: WyIxa2dlbm9tZXMiLCJ2cyIsInBoYXNlMy1yZWxlYXNlIiwiMSIsIjEwNTQxIiwiNjhkMTU1ZjQ0Mjg2NzQ4YWI2Njg4ZWQzOTNkZmY2MzQiXQ\n",
      "\tVariant Set Id: WyIxa2dlbm9tZXMiLCJ2cyIsInBoYXNlMy1yZWxlYXNlIl0\n",
      "\tNames:[u'rs572818783']\tReference Chromosome: 1\n",
      "\tStart: 10541,\tEnd: 10542,\n",
      "\tReference Bases: C\tAlternate Bases: [u'T']\n",
      "\n",
      "Variant Id: WyIxa2dlbm9tZXMiLCJ2cyIsInBoYXNlMy1yZWxlYXNlIiwiMSIsIjEwNTc4IiwiMTg2ZjhiZTU3MTg2OWQ3Y2UzMmY4MDNlMGRlMjZlOTUiXQ\n",
      "\tVariant Set Id: WyIxa2dlbm9tZXMiLCJ2cyIsInBoYXNlMy1yZWxlYXNlIl0\n",
      "\tNames:[u'rs538322974']\tReference Chromosome: 1\n",
      "\tStart: 10578,\tEnd: 10579,\n",
      "\tReference Bases: C\tAlternate Bases: [u'A']\n",
      "\n",
      "Variant Id: WyIxa2dlbm9tZXMiLCJ2cyIsInBoYXNlMy1yZWxlYXNlIiwiMSIsIjEwNjE1IiwiMjA1ZDA2MTg2OWY1NjAzMjc4MGYxMTYwOGI4YzEzYzciXQ\n",
      "\tVariant Set Id: WyIxa2dlbm9tZXMiLCJ2cyIsInBoYXNlMy1yZWxlYXNlIl0\n",
      "\tNames:[u'rs376342519']\tReference Chromosome: 1\n",
      "\tStart: 10615,\tEnd: 10637,\n",
      "\tReference Bases: CCGCCGTTGCAAAGGCGCGCCG\tAlternate Bases: [u'C']\n",
      "\n",
      "Variant Id: WyIxa2dlbm9tZXMiLCJ2cyIsInBoYXNlMy1yZWxlYXNlIiwiMSIsIjEwNjQxIiwiNDVjNGNmMDZjYjVjZGFiYTg1MTJhMTYxZTczMmI1YzIiXQ\n",
      "\tVariant Set Id: WyIxa2dlbm9tZXMiLCJ2cyIsInBoYXNlMy1yZWxlYXNlIl0\n",
      "\tNames:[u'rs558604819']\tReference Chromosome: 1\n",
      "\tStart: 10641,\tEnd: 10642,\n",
      "\tReference Bases: G\tAlternate Bases: [u'A']\n",
      "\n",
      "Variant Id: WyIxa2dlbm9tZXMiLCJ2cyIsInBoYXNlMy1yZWxlYXNlIiwiMSIsIjExMDA3IiwiYzYyZDBhM2E4MDIyZjgxNWRhOGY0Y2FiYTVjZWIzOGQiXQ\n",
      "\tVariant Set Id: WyIxa2dlbm9tZXMiLCJ2cyIsInBoYXNlMy1yZWxlYXNlIl0\n",
      "\tNames:[u'rs575272151']\tReference Chromosome: 1\n",
      "\tStart: 11007,\tEnd: 11008,\n",
      "\tReference Bases: C\tAlternate Bases: [u'G']\n",
      "\n",
      "Variant Id: WyIxa2dlbm9tZXMiLCJ2cyIsInBoYXNlMy1yZWxlYXNlIiwiMSIsIjExMDExIiwiYzYyZDBhM2E4MDIyZjgxNWRhOGY0Y2FiYTVjZWIzOGQiXQ\n",
      "\tVariant Set Id: WyIxa2dlbm9tZXMiLCJ2cyIsInBoYXNlMy1yZWxlYXNlIl0\n",
      "\tNames:[u'rs544419019']\tReference Chromosome: 1\n",
      "\tStart: 11011,\tEnd: 11012,\n",
      "\tReference Bases: C\tAlternate Bases: [u'G']\n",
      "\n",
      "Variant Id: WyIxa2dlbm9tZXMiLCJ2cyIsInBoYXNlMy1yZWxlYXNlIiwiMSIsIjExMDYyIiwiZjQzNzcxZTFjMmI3MDhhYmYyNzhlMzg5NTlhMWU3NTYiXQ\n",
      "\tVariant Set Id: WyIxa2dlbm9tZXMiLCJ2cyIsInBoYXNlMy1yZWxlYXNlIl0\n",
      "\tNames:[u'rs561109771']\tReference Chromosome: 1\n",
      "\tStart: 11062,\tEnd: 11063,\n",
      "\tReference Bases: T\tAlternate Bases: [u'G']\n",
      "\n",
      "Variant Id: WyIxa2dlbm9tZXMiLCJ2cyIsInBoYXNlMy1yZWxlYXNlIiwiMSIsIjEzMDEwIiwiZjQzNzcxZTFjMmI3MDhhYmYyNzhlMzg5NTlhMWU3NTYiXQ\n",
      "\tVariant Set Id: WyIxa2dlbm9tZXMiLCJ2cyIsInBoYXNlMy1yZWxlYXNlIl0\n",
      "\tNames:[u'rs574746232']\tReference Chromosome: 1\n",
      "\tStart: 13010,\tEnd: 13011,\n",
      "\tReference Bases: T\tAlternate Bases: [u'G']\n",
      "\n"
     ]
    }
   ],
   "source": [
    "counter = 15\n",
    "for variant in c.search_variants(variant_set_id=\"WyIxa2dlbm9tZXMiLCJ2cyIsInBoYXNlMy1yZWxlYXNlIl0\", reference_name=\"1\", start=10176, end= 40176):\n",
    "    if counter <= 0:\n",
    "        break\n",
    "    else:\n",
    "        counter -= 1\n",
    "        print \"Variant Id: {}\\n\\tVariant Set Id: {}\\n\\tNames:{}\\tReference Chromosome: {}\\n\\tStart: {},\\tEnd: {},\\n\\tReference Bases: {}\\tAlternate Bases: {}\\n\".format(\n",
    "            variant.id, variant.variant_set_id, variant.names, variant.reference_name, variant.start, variant.end, variant.reference_bases, variant.alternate_bases)"
   ]
  },
  {
   "cell_type": "markdown",
   "metadata": {},
   "source": [
    "###### Observe that informational fields have been excluded in order to included the esential information to make an independent call for the variants listed. Note that the data returned is richer, and will be illiustrated in the following example."
   ]
  },
  {
   "cell_type": "markdown",
   "metadata": {},
   "source": [
    "### Get variant by id method\n",
    "We can get an independent variable if we know its unique identifier by making a get variant call. We can use on of the ids obtained above to make our query."
   ]
  },
  {
   "cell_type": "code",
   "execution_count": 62,
   "metadata": {
    "collapsed": false
   },
   "outputs": [
    {
     "name": "stdout",
     "output_type": "stream",
     "text": [
      "Variant Id: WyIxa2dlbm9tZXMiLCJ2cyIsInBoYXNlMy1yZWxlYXNlIiwiMSIsIjEzMTA5IiwiNDVjNGNmMDZjYjVjZGFiYTg1MTJhMTYxZTczMmI1YzIiXQ\n",
      "\tVariant Set Id: WyIxa2dlbm9tZXMiLCJ2cyIsInBoYXNlMy1yZWxlYXNlIl0\n",
      "\tNames: [u'rs540538026']\tReference Name: 1\n",
      "\tStart: 13109,\tEnd: 13110\n",
      "\tReference Bases: G,\tAlternate Bases: [u'A']\n",
      "\n",
      "\tKey: EUR_AF,\tValues: 0.0566999986768\n",
      "\tKey: SAS_AF,\tValues: 0.0439999997616\n",
      "\tKey: AC,\tValues: 134\n",
      "\tKey: AA,\tValues: g|||\n",
      "\tKey: AF,\tValues: 0.0267571993172\n",
      "\tKey: AFR_AF,\tValues: 0.00529999984428\n",
      "\tKey: AMR_AF,\tValues: 0.0359999984503\n",
      "\tKey: AN,\tValues: 5008\n",
      "\tKey: VT,\tValues: SNP\n",
      "\tKey: EAS_AF,\tValues: 0.00200000009499\n",
      "\tKey: NS,\tValues: 2504\n",
      "\tKey: DP,\tValues: 23422\n"
     ]
    }
   ],
   "source": [
    "\"\"\"variant.id is obtained from the above call, and used here to get and single variant\"\"\"\n",
    "single_variant = c.get_variant(variant_id=variant.id)\n",
    "print \"Variant Id: {}\\n\\tVariant Set Id: {}\\n\\tNames: {}\\tReference Name: {}\\n\\tStart: {},\\tEnd: {}\\n\\tReference Bases: {},\\tAlternate Bases: {}\\n\".format(\n",
    "single_variant.id, single_variant.variant_set_id, single_variant.names, single_variant.reference_name, single_variant.start, single_variant.end, single_variant.reference_bases, single_variant.alternate_bases)\n",
    "for info in single_variant.info:\n",
    "    print \"\\tKey: {},\\tValues: {}\".format(info, single_variant.info[info].values[0].string_value)"
   ]
  },
  {
   "cell_type": "markdown",
   "metadata": {},
   "source": [
    "##### Note: The data returned by the get variant method, contains other elements that will be shown at the end of this notebook. Bacause its a field that will be shown consecutevily. The `Key` and `Value` elements are informational fields contained by this call."
   ]
  },
  {
   "cell_type": "markdown",
   "metadata": {},
   "source": [
    "### Search call sets method\n",
    "Which is a list of elements which affirm or negate an individual having the variant trait"
   ]
  },
  {
   "cell_type": "code",
   "execution_count": 69,
   "metadata": {
    "collapsed": false
   },
   "outputs": [
    {
     "name": "stdout",
     "output_type": "stream",
     "text": [
      "Call Set Name: HG00096,\n",
      "Id: WyIxa2dlbm9tZXMiLCJ2cyIsInBoYXNlMy1yZWxlYXNlIiwiSEcwMDA5NiJd\n",
      "Bio Sample Id: WyIxa2dlbm9tZXMiLCJiIiwiSEcwMDA5NiJd\n",
      "Variant Set Id: [u'WyIxa2dlbm9tZXMiLCJ2cyIsInBoYXNlMy1yZWxlYXNlIl0']\n",
      "\n",
      "Call Set Name: HG00097,\n",
      "Id: WyIxa2dlbm9tZXMiLCJ2cyIsInBoYXNlMy1yZWxlYXNlIiwiSEcwMDA5NyJd\n",
      "Bio Sample Id: WyIxa2dlbm9tZXMiLCJiIiwiSEcwMDA5NyJd\n",
      "Variant Set Id: [u'WyIxa2dlbm9tZXMiLCJ2cyIsInBoYXNlMy1yZWxlYXNlIl0']\n",
      "\n",
      "Call Set Name: HG00099,\n",
      "Id: WyIxa2dlbm9tZXMiLCJ2cyIsInBoYXNlMy1yZWxlYXNlIiwiSEcwMDA5OSJd\n",
      "Bio Sample Id: WyIxa2dlbm9tZXMiLCJiIiwiSEcwMDA5OSJd\n",
      "Variant Set Id: [u'WyIxa2dlbm9tZXMiLCJ2cyIsInBoYXNlMy1yZWxlYXNlIl0']\n",
      "\n",
      "Call Set Name: HG00100,\n",
      "Id: WyIxa2dlbm9tZXMiLCJ2cyIsInBoYXNlMy1yZWxlYXNlIiwiSEcwMDEwMCJd\n",
      "Bio Sample Id: WyIxa2dlbm9tZXMiLCJiIiwiSEcwMDEwMCJd\n",
      "Variant Set Id: [u'WyIxa2dlbm9tZXMiLCJ2cyIsInBoYXNlMy1yZWxlYXNlIl0']\n",
      "\n",
      "Call Set Name: HG00101,\n",
      "Id: WyIxa2dlbm9tZXMiLCJ2cyIsInBoYXNlMy1yZWxlYXNlIiwiSEcwMDEwMSJd\n",
      "Bio Sample Id: WyIxa2dlbm9tZXMiLCJiIiwiSEcwMDEwMSJd\n",
      "Variant Set Id: [u'WyIxa2dlbm9tZXMiLCJ2cyIsInBoYXNlMy1yZWxlYXNlIl0']\n",
      "\n",
      "Call Set Name: HG00102,\n",
      "Id: WyIxa2dlbm9tZXMiLCJ2cyIsInBoYXNlMy1yZWxlYXNlIiwiSEcwMDEwMiJd\n",
      "Bio Sample Id: WyIxa2dlbm9tZXMiLCJiIiwiSEcwMDEwMiJd\n",
      "Variant Set Id: [u'WyIxa2dlbm9tZXMiLCJ2cyIsInBoYXNlMy1yZWxlYXNlIl0']\n",
      "\n",
      "Call Set Name: HG00103,\n",
      "Id: WyIxa2dlbm9tZXMiLCJ2cyIsInBoYXNlMy1yZWxlYXNlIiwiSEcwMDEwMyJd\n",
      "Bio Sample Id: WyIxa2dlbm9tZXMiLCJiIiwiSEcwMDEwMyJd\n",
      "Variant Set Id: [u'WyIxa2dlbm9tZXMiLCJ2cyIsInBoYXNlMy1yZWxlYXNlIl0']\n",
      "\n",
      "Call Set Name: HG00105,\n",
      "Id: WyIxa2dlbm9tZXMiLCJ2cyIsInBoYXNlMy1yZWxlYXNlIiwiSEcwMDEwNSJd\n",
      "Bio Sample Id: WyIxa2dlbm9tZXMiLCJiIiwiSEcwMDEwNSJd\n",
      "Variant Set Id: [u'WyIxa2dlbm9tZXMiLCJ2cyIsInBoYXNlMy1yZWxlYXNlIl0']\n",
      "\n",
      "Call Set Name: HG00106,\n",
      "Id: WyIxa2dlbm9tZXMiLCJ2cyIsInBoYXNlMy1yZWxlYXNlIiwiSEcwMDEwNiJd\n",
      "Bio Sample Id: WyIxa2dlbm9tZXMiLCJiIiwiSEcwMDEwNiJd\n",
      "Variant Set Id: [u'WyIxa2dlbm9tZXMiLCJ2cyIsInBoYXNlMy1yZWxlYXNlIl0']\n",
      "\n",
      "Call Set Name: HG00107,\n",
      "Id: WyIxa2dlbm9tZXMiLCJ2cyIsInBoYXNlMy1yZWxlYXNlIiwiSEcwMDEwNyJd\n",
      "Bio Sample Id: WyIxa2dlbm9tZXMiLCJiIiwiSEcwMDEwNyJd\n",
      "Variant Set Id: [u'WyIxa2dlbm9tZXMiLCJ2cyIsInBoYXNlMy1yZWxlYXNlIl0']\n",
      "\n",
      "Call Set Name: HG00108,\n",
      "Id: WyIxa2dlbm9tZXMiLCJ2cyIsInBoYXNlMy1yZWxlYXNlIiwiSEcwMDEwOCJd\n",
      "Bio Sample Id: WyIxa2dlbm9tZXMiLCJiIiwiSEcwMDEwOCJd\n",
      "Variant Set Id: [u'WyIxa2dlbm9tZXMiLCJ2cyIsInBoYXNlMy1yZWxlYXNlIl0']\n",
      "\n",
      "Call Set Name: HG00109,\n",
      "Id: WyIxa2dlbm9tZXMiLCJ2cyIsInBoYXNlMy1yZWxlYXNlIiwiSEcwMDEwOSJd\n",
      "Bio Sample Id: WyIxa2dlbm9tZXMiLCJiIiwiSEcwMDEwOSJd\n",
      "Variant Set Id: [u'WyIxa2dlbm9tZXMiLCJ2cyIsInBoYXNlMy1yZWxlYXNlIl0']\n",
      "\n",
      "Call Set Name: HG00110,\n",
      "Id: WyIxa2dlbm9tZXMiLCJ2cyIsInBoYXNlMy1yZWxlYXNlIiwiSEcwMDExMCJd\n",
      "Bio Sample Id: WyIxa2dlbm9tZXMiLCJiIiwiSEcwMDExMCJd\n",
      "Variant Set Id: [u'WyIxa2dlbm9tZXMiLCJ2cyIsInBoYXNlMy1yZWxlYXNlIl0']\n",
      "\n",
      "Call Set Name: HG00111,\n",
      "Id: WyIxa2dlbm9tZXMiLCJ2cyIsInBoYXNlMy1yZWxlYXNlIiwiSEcwMDExMSJd\n",
      "Bio Sample Id: WyIxa2dlbm9tZXMiLCJiIiwiSEcwMDExMSJd\n",
      "Variant Set Id: [u'WyIxa2dlbm9tZXMiLCJ2cyIsInBoYXNlMy1yZWxlYXNlIl0']\n",
      "\n",
      "Call Set Name: HG00112,\n",
      "Id: WyIxa2dlbm9tZXMiLCJ2cyIsInBoYXNlMy1yZWxlYXNlIiwiSEcwMDExMiJd\n",
      "Bio Sample Id: WyIxa2dlbm9tZXMiLCJiIiwiSEcwMDExMiJd\n",
      "Variant Set Id: [u'WyIxa2dlbm9tZXMiLCJ2cyIsInBoYXNlMy1yZWxlYXNlIl0']\n",
      "\n"
     ]
    }
   ],
   "source": [
    "counter = 15\n",
    "list_of_callset_ids = [] #Will use this list near the end\n",
    "for calls in c.search_call_sets(variant_set_id=single_variant.variant_set_id):\n",
    "    if counter <= 0:\n",
    "        break\n",
    "    else:\n",
    "        counter -= 1\n",
    "        list_of_callset_ids.append(calls.id)\n",
    "        print \"Call Set Name: {},\\nId: {}\\nBio Sample Id: {}\\nVariant Set Id: {}\\n\".format(\n",
    "            calls.name, calls.id, calls.bio_sample_id, calls.variant_set_ids)"
   ]
  },
  {
   "cell_type": "markdown",
   "metadata": {},
   "source": [
    "##### Only a small amount of elements where chosen to display, this request contains more elements. The information in them is completed by the parameters shown above."
   ]
  },
  {
   "cell_type": "markdown",
   "metadata": {},
   "source": [
    "### Get call set by id\n",
    "Using one of the ids obtained in the previous call we can get a single call set element."
   ]
  },
  {
   "cell_type": "code",
   "execution_count": 68,
   "metadata": {
    "collapsed": false
   },
   "outputs": [
    {
     "name": "stdout",
     "output_type": "stream",
     "text": [
      "id: \"WyIxa2dlbm9tZXMiLCJ2cyIsInBoYXNlMy1yZWxlYXNlIiwiSEcwMDExMyJd\"\n",
      "name: \"HG00113\"\n",
      "bio_sample_id: \"WyIxa2dlbm9tZXMiLCJiIiwiSEcwMDExMyJd\"\n",
      "variant_set_ids: \"WyIxa2dlbm9tZXMiLCJ2cyIsInBoYXNlMy1yZWxlYXNlIl0\"\n",
      "\n"
     ]
    }
   ],
   "source": [
    "call_set = c.get_call_set(call_set_id=calls.id)\n",
    "print call_set"
   ]
  },
  {
   "cell_type": "markdown",
   "metadata": {},
   "source": [
    "### Making a search variants request with callset ids\n",
    "By passing in a list of call set ids to the variants search method, we can get in return\n",
    "a set of variants with the list of calls that belong to that variant."
   ]
  },
  {
   "cell_type": "code",
   "execution_count": 81,
   "metadata": {
    "collapsed": false
   },
   "outputs": [
    {
     "name": "stdout",
     "output_type": "stream",
     "text": [
      "Variant Id: WyIxa2dlbm9tZXMiLCJ2cyIsInBoYXNlMy1yZWxlYXNlIiwiMSIsIjEwMTc2IiwiZDAxNmM0ZTFhZGNhZDVkMWJjODljMmNhNGFkYmEzYTgiXQ\n",
      "\tVariant Set Id: WyIxa2dlbm9tZXMiLCJ2cyIsInBoYXNlMy1yZWxlYXNlIl0\n",
      "\tNames:[u'rs367896724']\tReference Chromosome: 1\n",
      "\tStart: 10176,\tEnd: 10177,\n",
      "\tReference Bases: A\tAlternate Bases: [u'AC']\n",
      "\n",
      "\tCall Set Name: HG00096\tGenotype: [1, 0],\tPhaset: True\n",
      "\tCall Set Id: WyIxa2dlbm9tZXMiLCJ2cyIsInBoYXNlMy1yZWxlYXNlIiwiSEcwMDA5NiJd\n",
      "\tCall Set Name: HG00097\tGenotype: [0, 1],\tPhaset: True\n",
      "\tCall Set Id: WyIxa2dlbm9tZXMiLCJ2cyIsInBoYXNlMy1yZWxlYXNlIiwiSEcwMDA5NyJd\n",
      "\tCall Set Name: HG00099\tGenotype: [0, 1],\tPhaset: True\n",
      "\tCall Set Id: WyIxa2dlbm9tZXMiLCJ2cyIsInBoYXNlMy1yZWxlYXNlIiwiSEcwMDA5OSJd\n",
      "\tCall Set Name: HG00100\tGenotype: [1, 0],\tPhaset: True\n",
      "\tCall Set Id: WyIxa2dlbm9tZXMiLCJ2cyIsInBoYXNlMy1yZWxlYXNlIiwiSEcwMDEwMCJd\n",
      "\tCall Set Name: HG00101\tGenotype: [0, 0],\tPhaset: True\n",
      "\tCall Set Id: WyIxa2dlbm9tZXMiLCJ2cyIsInBoYXNlMy1yZWxlYXNlIiwiSEcwMDEwMSJd\n",
      "\tCall Set Name: HG00102\tGenotype: [1, 0],\tPhaset: True\n",
      "\tCall Set Id: WyIxa2dlbm9tZXMiLCJ2cyIsInBoYXNlMy1yZWxlYXNlIiwiSEcwMDEwMiJd\n",
      "\tCall Set Name: HG00103\tGenotype: [1, 0],\tPhaset: True\n",
      "\tCall Set Id: WyIxa2dlbm9tZXMiLCJ2cyIsInBoYXNlMy1yZWxlYXNlIiwiSEcwMDEwMyJd\n",
      "\tCall Set Name: HG00105\tGenotype: [1, 0],\tPhaset: True\n",
      "\tCall Set Id: WyIxa2dlbm9tZXMiLCJ2cyIsInBoYXNlMy1yZWxlYXNlIiwiSEcwMDEwNSJd\n",
      "\tCall Set Name: HG00106\tGenotype: [1, 0],\tPhaset: True\n",
      "\tCall Set Id: WyIxa2dlbm9tZXMiLCJ2cyIsInBoYXNlMy1yZWxlYXNlIiwiSEcwMDEwNiJd\n",
      "\tCall Set Name: HG00107\tGenotype: [0, 0],\tPhaset: True\n",
      "\tCall Set Id: WyIxa2dlbm9tZXMiLCJ2cyIsInBoYXNlMy1yZWxlYXNlIiwiSEcwMDEwNyJd\n",
      "\tCall Set Name: HG00108\tGenotype: [0, 0],\tPhaset: True\n",
      "\tCall Set Id: WyIxa2dlbm9tZXMiLCJ2cyIsInBoYXNlMy1yZWxlYXNlIiwiSEcwMDEwOCJd\n",
      "\tCall Set Name: HG00109\tGenotype: [0, 0],\tPhaset: True\n",
      "\tCall Set Id: WyIxa2dlbm9tZXMiLCJ2cyIsInBoYXNlMy1yZWxlYXNlIiwiSEcwMDEwOSJd\n",
      "\tCall Set Name: HG00110\tGenotype: [0, 0],\tPhaset: True\n",
      "\tCall Set Id: WyIxa2dlbm9tZXMiLCJ2cyIsInBoYXNlMy1yZWxlYXNlIiwiSEcwMDExMCJd\n",
      "\tCall Set Name: HG00111\tGenotype: [0, 0],\tPhaset: True\n",
      "\tCall Set Id: WyIxa2dlbm9tZXMiLCJ2cyIsInBoYXNlMy1yZWxlYXNlIiwiSEcwMDExMSJd\n",
      "\tCall Set Name: HG00112\tGenotype: [0, 0],\tPhaset: True\n",
      "\tCall Set Id: WyIxa2dlbm9tZXMiLCJ2cyIsInBoYXNlMy1yZWxlYXNlIiwiSEcwMDExMiJd\n",
      "Variant Id: WyIxa2dlbm9tZXMiLCJ2cyIsInBoYXNlMy1yZWxlYXNlIiwiMSIsIjEwMjM0IiwiMGNlMzUwNzI0NDYxNGMzNzA1ZjVlMmFhMmQxMGFmMjUiXQ\n",
      "\tVariant Set Id: WyIxa2dlbm9tZXMiLCJ2cyIsInBoYXNlMy1yZWxlYXNlIl0\n",
      "\tNames:[u'rs540431307']\tReference Chromosome: 1\n",
      "\tStart: 10234,\tEnd: 10235,\n",
      "\tReference Bases: T\tAlternate Bases: [u'TA']\n",
      "\n",
      "\tCall Set Name: HG00096\tGenotype: [0, 0],\tPhaset: True\n",
      "\tCall Set Id: WyIxa2dlbm9tZXMiLCJ2cyIsInBoYXNlMy1yZWxlYXNlIiwiSEcwMDA5NiJd\n",
      "\tCall Set Name: HG00097\tGenotype: [0, 0],\tPhaset: True\n",
      "\tCall Set Id: WyIxa2dlbm9tZXMiLCJ2cyIsInBoYXNlMy1yZWxlYXNlIiwiSEcwMDA5NyJd\n",
      "\tCall Set Name: HG00099\tGenotype: [0, 0],\tPhaset: True\n",
      "\tCall Set Id: WyIxa2dlbm9tZXMiLCJ2cyIsInBoYXNlMy1yZWxlYXNlIiwiSEcwMDA5OSJd\n",
      "\tCall Set Name: HG00100\tGenotype: [0, 0],\tPhaset: True\n",
      "\tCall Set Id: WyIxa2dlbm9tZXMiLCJ2cyIsInBoYXNlMy1yZWxlYXNlIiwiSEcwMDEwMCJd\n",
      "\tCall Set Name: HG00101\tGenotype: [0, 0],\tPhaset: True\n",
      "\tCall Set Id: WyIxa2dlbm9tZXMiLCJ2cyIsInBoYXNlMy1yZWxlYXNlIiwiSEcwMDEwMSJd\n",
      "\tCall Set Name: HG00102\tGenotype: [0, 0],\tPhaset: True\n",
      "\tCall Set Id: WyIxa2dlbm9tZXMiLCJ2cyIsInBoYXNlMy1yZWxlYXNlIiwiSEcwMDEwMiJd\n",
      "\tCall Set Name: HG00103\tGenotype: [0, 0],\tPhaset: True\n",
      "\tCall Set Id: WyIxa2dlbm9tZXMiLCJ2cyIsInBoYXNlMy1yZWxlYXNlIiwiSEcwMDEwMyJd\n",
      "\tCall Set Name: HG00105\tGenotype: [0, 0],\tPhaset: True\n",
      "\tCall Set Id: WyIxa2dlbm9tZXMiLCJ2cyIsInBoYXNlMy1yZWxlYXNlIiwiSEcwMDEwNSJd\n",
      "\tCall Set Name: HG00106\tGenotype: [0, 0],\tPhaset: True\n",
      "\tCall Set Id: WyIxa2dlbm9tZXMiLCJ2cyIsInBoYXNlMy1yZWxlYXNlIiwiSEcwMDEwNiJd\n",
      "\tCall Set Name: HG00107\tGenotype: [0, 0],\tPhaset: True\n",
      "\tCall Set Id: WyIxa2dlbm9tZXMiLCJ2cyIsInBoYXNlMy1yZWxlYXNlIiwiSEcwMDEwNyJd\n",
      "\tCall Set Name: HG00108\tGenotype: [0, 0],\tPhaset: True\n",
      "\tCall Set Id: WyIxa2dlbm9tZXMiLCJ2cyIsInBoYXNlMy1yZWxlYXNlIiwiSEcwMDEwOCJd\n",
      "\tCall Set Name: HG00109\tGenotype: [0, 0],\tPhaset: True\n",
      "\tCall Set Id: WyIxa2dlbm9tZXMiLCJ2cyIsInBoYXNlMy1yZWxlYXNlIiwiSEcwMDEwOSJd\n",
      "\tCall Set Name: HG00110\tGenotype: [0, 0],\tPhaset: True\n",
      "\tCall Set Id: WyIxa2dlbm9tZXMiLCJ2cyIsInBoYXNlMy1yZWxlYXNlIiwiSEcwMDExMCJd\n",
      "\tCall Set Name: HG00111\tGenotype: [0, 0],\tPhaset: True\n",
      "\tCall Set Id: WyIxa2dlbm9tZXMiLCJ2cyIsInBoYXNlMy1yZWxlYXNlIiwiSEcwMDExMSJd\n",
      "\tCall Set Name: HG00112\tGenotype: [0, 0],\tPhaset: True\n",
      "\tCall Set Id: WyIxa2dlbm9tZXMiLCJ2cyIsInBoYXNlMy1yZWxlYXNlIiwiSEcwMDExMiJd\n",
      "Variant Id: WyIxa2dlbm9tZXMiLCJ2cyIsInBoYXNlMy1yZWxlYXNlIiwiMSIsIjEwMzUxIiwiMGNlMzUwNzI0NDYxNGMzNzA1ZjVlMmFhMmQxMGFmMjUiXQ\n",
      "\tVariant Set Id: WyIxa2dlbm9tZXMiLCJ2cyIsInBoYXNlMy1yZWxlYXNlIl0\n",
      "\tNames:[u'rs555500075']\tReference Chromosome: 1\n",
      "\tStart: 10351,\tEnd: 10352,\n",
      "\tReference Bases: T\tAlternate Bases: [u'TA']\n",
      "\n",
      "\tCall Set Name: HG00096\tGenotype: [1, 0],\tPhaset: True\n",
      "\tCall Set Id: WyIxa2dlbm9tZXMiLCJ2cyIsInBoYXNlMy1yZWxlYXNlIiwiSEcwMDA5NiJd\n",
      "\tCall Set Name: HG00097\tGenotype: [1, 0],\tPhaset: True\n",
      "\tCall Set Id: WyIxa2dlbm9tZXMiLCJ2cyIsInBoYXNlMy1yZWxlYXNlIiwiSEcwMDA5NyJd\n",
      "\tCall Set Name: HG00099\tGenotype: [0, 1],\tPhaset: True\n",
      "\tCall Set Id: WyIxa2dlbm9tZXMiLCJ2cyIsInBoYXNlMy1yZWxlYXNlIiwiSEcwMDA5OSJd\n",
      "\tCall Set Name: HG00100\tGenotype: [0, 1],\tPhaset: True\n",
      "\tCall Set Id: WyIxa2dlbm9tZXMiLCJ2cyIsInBoYXNlMy1yZWxlYXNlIiwiSEcwMDEwMCJd\n",
      "\tCall Set Name: HG00101\tGenotype: [1, 0],\tPhaset: True\n",
      "\tCall Set Id: WyIxa2dlbm9tZXMiLCJ2cyIsInBoYXNlMy1yZWxlYXNlIiwiSEcwMDEwMSJd\n",
      "\tCall Set Name: HG00102\tGenotype: [1, 0],\tPhaset: True\n",
      "\tCall Set Id: WyIxa2dlbm9tZXMiLCJ2cyIsInBoYXNlMy1yZWxlYXNlIiwiSEcwMDEwMiJd\n",
      "\tCall Set Name: HG00103\tGenotype: [1, 0],\tPhaset: True\n",
      "\tCall Set Id: WyIxa2dlbm9tZXMiLCJ2cyIsInBoYXNlMy1yZWxlYXNlIiwiSEcwMDEwMyJd\n",
      "\tCall Set Name: HG00105\tGenotype: [0, 0],\tPhaset: True\n",
      "\tCall Set Id: WyIxa2dlbm9tZXMiLCJ2cyIsInBoYXNlMy1yZWxlYXNlIiwiSEcwMDEwNSJd\n",
      "\tCall Set Name: HG00106\tGenotype: [0, 1],\tPhaset: True\n",
      "\tCall Set Id: WyIxa2dlbm9tZXMiLCJ2cyIsInBoYXNlMy1yZWxlYXNlIiwiSEcwMDEwNiJd\n",
      "\tCall Set Name: HG00107\tGenotype: [0, 0],\tPhaset: True\n",
      "\tCall Set Id: WyIxa2dlbm9tZXMiLCJ2cyIsInBoYXNlMy1yZWxlYXNlIiwiSEcwMDEwNyJd\n",
      "\tCall Set Name: HG00108\tGenotype: [0, 1],\tPhaset: True\n",
      "\tCall Set Id: WyIxa2dlbm9tZXMiLCJ2cyIsInBoYXNlMy1yZWxlYXNlIiwiSEcwMDEwOCJd\n",
      "\tCall Set Name: HG00109\tGenotype: [1, 0],\tPhaset: True\n",
      "\tCall Set Id: WyIxa2dlbm9tZXMiLCJ2cyIsInBoYXNlMy1yZWxlYXNlIiwiSEcwMDEwOSJd\n",
      "\tCall Set Name: HG00110\tGenotype: [0, 1],\tPhaset: True\n",
      "\tCall Set Id: WyIxa2dlbm9tZXMiLCJ2cyIsInBoYXNlMy1yZWxlYXNlIiwiSEcwMDExMCJd\n",
      "\tCall Set Name: HG00111\tGenotype: [0, 1],\tPhaset: True\n",
      "\tCall Set Id: WyIxa2dlbm9tZXMiLCJ2cyIsInBoYXNlMy1yZWxlYXNlIiwiSEcwMDExMSJd\n",
      "\tCall Set Name: HG00112\tGenotype: [1, 0],\tPhaset: True\n",
      "\tCall Set Id: WyIxa2dlbm9tZXMiLCJ2cyIsInBoYXNlMy1yZWxlYXNlIiwiSEcwMDExMiJd\n"
     ]
    }
   ],
   "source": [
    "for variants_with_callsets in  c.search_variants(call_set_ids=list_of_callset_ids, variant_set_id=\"WyIxa2dlbm9tZXMiLCJ2cyIsInBoYXNlMy1yZWxlYXNlIl0\", reference_name=\"1\", start=10176, end= 10502):\n",
    "    print \"Variant Id: {}\\n\\tVariant Set Id: {}\\n\\tNames:{}\\tReference Chromosome: {}\\n\\tStart: {},\\tEnd: {},\\n\\tReference Bases: {}\\tAlternate Bases: {}\\n\".format(\n",
    "        variants_with_callsets.id, variants_with_callsets.variant_set_id, variants_with_callsets.names, variants_with_callsets.reference_name, variants_with_callsets.start, variants_with_callsets.end, variants_with_callsets.reference_bases, variants_with_callsets.alternate_bases)\n",
    "    for variant_calls in  variants_with_callsets.calls:\n",
    "        print\"\\tCall Set Name: {}\\tGenotype: {},\\tPhaset: {}\\n\\tCall Set Id: {}\".format(\n",
    "            variant_calls.call_set_name, variant_calls.genotype, variant_calls.phaseset, variant_calls.call_set_id)"
   ]
  },
  {
   "cell_type": "markdown",
   "metadata": {},
   "source": [
    "###### Observe that we get a set of variables with calls whose id has been provided, if the list of calls in the search was increased, more calls would have been returned in the variant search. \n",
    "##### Independent variant get method also returns this information for all the available calls. "
   ]
  },
  {
   "cell_type": "code",
   "execution_count": null,
   "metadata": {
    "collapsed": true
   },
   "outputs": [],
   "source": []
  }
 ],
 "metadata": {
  "kernelspec": {
   "display_name": "Python 2",
   "language": "python",
   "name": "python2"
  },
  "language_info": {
   "codemirror_mode": {
    "name": "ipython",
    "version": 2
   },
   "file_extension": ".py",
   "mimetype": "text/x-python",
   "name": "python",
   "nbconvert_exporter": "python",
   "pygments_lexer": "ipython2",
   "version": "2.7.11"
  },
  "widgets": {
   "state": {},
   "version": "1.1.1"
  }
 },
 "nbformat": 4,
 "nbformat_minor": 0
}
