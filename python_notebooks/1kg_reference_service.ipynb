{
 "cells": [
  {
   "cell_type": "markdown",
   "metadata": {},
   "source": [
    "### GA4GH 1000 Genome Reference Service Example¶\n",
    "This example illustrates how to access the available reference sets. "
   ]
  },
  {
   "cell_type": "markdown",
   "metadata": {},
   "source": [
    "#### Initialize the client\n",
    "In this step we create a client object which will be used to communicate with the server. It is initialized using the URL."
   ]
  },
  {
   "cell_type": "code",
   "execution_count": 37,
   "metadata": {
    "collapsed": true
   },
   "outputs": [],
   "source": [
    "import ga4gh.client as client\n",
    "c = client.HttpClient(\"http://1kgenomes.ga4gh.org\")"
   ]
  },
  {
   "cell_type": "markdown",
   "metadata": {},
   "source": [
    "### Search reference sets\n",
    "The GA4GH Genomics API provides methods for accessing references. The Thousand Genomes data presented here are mapped to GRCh37, we proceed to list the reference sets."
   ]
  },
  {
   "cell_type": "code",
   "execution_count": 2,
   "metadata": {
    "collapsed": false
   },
   "outputs": [
    {
     "name": "stdout",
     "output_type": "stream",
     "text": [
      "id: \"WyJOQ0JJMzciXQ\"\n",
      "name: \"NCBI37\"\n",
      "md5checksum: \"54e0bb53844059bb7152618fc927cfa9\"\n",
      "ncbi_taxon_id: 9606\n",
      "description: \"NCBI37 assembly of the human genome\"\n",
      "source_uri: \"ftp://ftp.1000genomes.ebi.ac.uk/vol1/ftp/technical/reference/phase2_reference_assembly_sequence/hs37d5.fa.gz\"\n",
      "\n"
     ]
    }
   ],
   "source": [
    "for reference_sets in c.search_reference_sets():\n",
    "    reference_id = reference_sets.id\n",
    "    print reference_sets"
   ]
  },
  {
   "cell_type": "markdown",
   "metadata": {},
   "source": [
    "### Obtaining individual reference sets by id\n",
    "The API can also obtain an individual reference set if the id is known. In this case, we can observe that only one is available. But in the future, more sets might be implemented."
   ]
  },
  {
   "cell_type": "code",
   "execution_count": 3,
   "metadata": {
    "collapsed": false
   },
   "outputs": [
    {
     "name": "stdout",
     "output_type": "stream",
     "text": [
      "id: \"WyJOQ0JJMzciXQ\"\n",
      "name: \"NCBI37\"\n",
      "md5checksum: \"54e0bb53844059bb7152618fc927cfa9\"\n",
      "ncbi_taxon_id: 9606\n",
      "description: \"NCBI37 assembly of the human genome\"\n",
      "source_uri: \"ftp://ftp.1000genomes.ebi.ac.uk/vol1/ftp/technical/reference/phase2_reference_assembly_sequence/hs37d5.fa.gz\"\n",
      "\n"
     ]
    }
   ],
   "source": [
    "reference_set = c.get_reference_set(reference_set_id=reference_id)\n",
    "print reference_set"
   ]
  },
  {
   "cell_type": "markdown",
   "metadata": {},
   "source": [
    "### Search References\n",
    "From the previous call, we have obtained the parameter required to obtain references which belong to `WyJOQ0JJMzciXQ` particular set. Also, because there is 86 of them, we have only chosen 5 to illustrate the format that is returned and the elements contained in it. "
   ]
  },
  {
   "cell_type": "code",
   "execution_count": 21,
   "metadata": {
    "collapsed": false
   },
   "outputs": [
    {
     "name": "stdout",
     "output_type": "stream",
     "text": [
      "Total number of results: 86, Showing: 5\n",
      "\n",
      "id: \"WyJOQ0JJMzciLCIxIl0\"\n",
      "length: 249250621\n",
      "md5checksum: \"1b22b98cdeb4a9304cb5d48026a85128\"\n",
      "name: \"1\"\n",
      "ncbi_taxon_id: 9606\n",
      "\n",
      "id: \"WyJOQ0JJMzciLCIyIl0\"\n",
      "length: 243199373\n",
      "md5checksum: \"a0d9851da00400dec1098a9255ac712e\"\n",
      "name: \"2\"\n",
      "ncbi_taxon_id: 9606\n",
      "\n",
      "id: \"WyJOQ0JJMzciLCIzIl0\"\n",
      "length: 198022430\n",
      "md5checksum: \"fdfd811849cc2fadebc929bb925902e5\"\n",
      "name: \"3\"\n",
      "ncbi_taxon_id: 9606\n",
      "\n",
      "id: \"WyJOQ0JJMzciLCI0Il0\"\n",
      "length: 191154276\n",
      "md5checksum: \"23dccd106897542ad87d2765d28a19a1\"\n",
      "name: \"4\"\n",
      "ncbi_taxon_id: 9606\n",
      "\n",
      "id: \"WyJOQ0JJMzciLCI1Il0\"\n",
      "length: 180915260\n",
      "md5checksum: \"0740173db9ffd264d728f32784845cd7\"\n",
      "name: \"5\"\n",
      "ncbi_taxon_id: 9606\n",
      "\n"
     ]
    }
   ],
   "source": [
    "reference_list = []\n",
    "counter = 0\n",
    "for references in c.search_references(reference_set_id=\"WyJOQ0JJMzciXQ\"):\n",
    "    counter += 1\n",
    "    if counter < 6:\n",
    "        reference_list.append(references)\n",
    "        \n",
    "print \"Total number of results: {}, Showing: {}\\n\".format(counter, len(reference_list))\n",
    "for i in reference_list:\n",
    "    print i"
   ]
  },
  {
   "cell_type": "markdown",
   "metadata": {},
   "source": [
    "### Get reference by id\n",
    "Observe that we use the first element and the id parameter to make the individual get request on the following example."
   ]
  },
  {
   "cell_type": "code",
   "execution_count": 24,
   "metadata": {
    "collapsed": false
   },
   "outputs": [
    {
     "name": "stdout",
     "output_type": "stream",
     "text": [
      "id: \"WyJOQ0JJMzciLCIzIl0\"\n",
      "length: 198022430\n",
      "md5checksum: \"fdfd811849cc2fadebc929bb925902e5\"\n",
      "name: \"3\"\n",
      "ncbi_taxon_id: 9606\n",
      "\n"
     ]
    }
   ],
   "source": [
    "reference = c.get_reference(reference_id=\"WyJOQ0JJMzciLCIxIl0\")\n",
    "print reference"
   ]
  },
  {
   "cell_type": "markdown",
   "metadata": {},
   "source": [
    "### List of reference bases\n",
    "Now that from the References search above, we can make a call to obtain a list of genome reference bases, also it takes as parameters starting and ending positions. "
   ]
  },
  {
   "cell_type": "code",
   "execution_count": 35,
   "metadata": {
    "collapsed": false
   },
   "outputs": [
    {
     "name": "stdout",
     "output_type": "stream",
     "text": [
      "ATCCGACATCAAGTGCCCACCTTGGCTCGTGGCTCTCACTGCAACGGGAAAGCCACAGACTGGGGTGAAGAGTTCAGTCACATGCGACCGGTGACTCCCTGTCCCCACCCCCATGACACTCCCCAGCCCTCCAAGGCCACTGTGTTTCCCAGTTAGCTCAGAGCCTCAGTCGATCCCTGACCCAGCACCGGGCACTGATGAGACAGCGGCTGTTTGAGGAGCCACCTCCCAGCCACCTCGGGGCCAGGGCCAGGGTGTGCAGCACCACTGTACAATGGGGAAACTGGCCCAGAGAGGTGAGGCAGCTTGCCTGGGGTCACAGAGCAAGGCAAAAGCAGCGCTGGGTACAAGCTCAAAACCATAGTGCCCAGGGCACTGCCGCTGCAGGCGCAGGCATCGCATCACACCAGTGTCTGCGTTCACAGCAGGCATCATCAGTAGCCTCCAGAGGCCTCAGGTCCAGTCTCTAAAAATATCTCAGGAGGCTGCAGTGGCTGACCATTGCCTTGGACCGCTCTTGGCAGTCGAAGAAGATTCTCCTGTCAGTTTGAGCTGGGTGAGCTTAGAGAGGAAAGCTCCACTATGGCTCCCAAACCAGGAAGGAGCCATAGCCCAGGCAGGAGGGCTGAGGACCTCTGGTGGCGGCCCAGGGCTTCCAGCATGTGCCCTAGGGGAAGCAGGGGCCAGCTGGCAAGAGCAGGGGGTGGGCAGAAAGCACCCGGTGGACTCAGGGCTGGAGGGGAGGAGGCGATCTTGCCCAAGGCCCTCCGACTGCAAGCTCCAGGGCCCGCTCACCTTGCTCCTGCTCCTTCTGCTGCTGCTTCTCCAGCTTTCGCTCCTTCATGCTGCGCAGCTTGGCCTTGCCGATGCCCCCAGCTTGGCGGATGGACTCTAGCAGAGTGGCCAGCCACCGGAGGGGTCAACCACTTCCCTGGGAGCTCCCTGGACTGGAGCCGGGAGGTGGGGAACAGGGCAAGGAGGAAAGGCTGCTCAGGCAGGG\n",
      "1000\n"
     ]
    }
   ],
   "source": [
    "reference_bases = c.list_reference_bases(id_=\"WyJOQ0JJMzciLCIxIl0\", start=15000, end= 16000)\n",
    "print reference_bases\n",
    "print len(reference_bases)"
   ]
  },
  {
   "cell_type": "markdown",
   "metadata": {},
   "source": [
    "##### For documentation on the service, and more information go to.\n",
    "https://ga4gh-schemas.readthedocs.io/en/latest/schemas/reference_service.proto.html"
   ]
  }
 ],
 "metadata": {
  "kernelspec": {
   "display_name": "Python 2",
   "language": "python",
   "name": "python2"
  },
  "language_info": {
   "codemirror_mode": {
    "name": "ipython",
    "version": 2
   },
   "file_extension": ".py",
   "mimetype": "text/x-python",
   "name": "python",
   "nbconvert_exporter": "python",
   "pygments_lexer": "ipython2",
   "version": "2.7.11"
  },
  "widgets": {
   "state": {},
   "version": "1.1.1"
  }
 },
 "nbformat": 4,
 "nbformat_minor": 0
}
