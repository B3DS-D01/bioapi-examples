{
 "cells": [
  {
   "cell_type": "markdown",
   "metadata": {},
   "source": [
    "## GA4GH RNA Quantification API Example\n",
    "This example illustrates the methods used to access the `rna_quantification_service`."
   ]
  },
  {
   "cell_type": "markdown",
   "metadata": {},
   "source": [
    "### Initialize client \n",
    "In this step we create a client object which will be used to communicate with the server."
   ]
  },
  {
   "cell_type": "code",
   "execution_count": 1,
   "metadata": {
    "collapsed": false
   },
   "outputs": [],
   "source": [
    "from ga4gh.client import client\n",
    "c = client.HttpClient(\"http://1kgenomes.ga4gh.org\")"
   ]
  },
  {
   "cell_type": "code",
   "execution_count": 2,
   "metadata": {
    "collapsed": true
   },
   "outputs": [],
   "source": [
    "#Obtain dataSet id REF: -> `1kg_metadata_service`\n",
    "dataset = c.search_datasets().next() "
   ]
  },
  {
   "cell_type": "markdown",
   "metadata": {},
   "source": [
    "### Search RNA Quantification Sets Method\n",
    "This instance returns a list of RNA quantification sets in a dataset.  RNA quantification sets are a way to associate a group of related RNA quantifications.  Note that we use the `dataset_id` obtained from the `1kg_metadata_service` notebook."
   ]
  },
  {
   "cell_type": "code",
   "execution_count": 3,
   "metadata": {
    "collapsed": false
   },
   "outputs": [
    {
     "name": "stdout",
     "output_type": "stream",
     "text": [
      " id: WyIxa2dlbm9tZXMiLCJFLUdFVVYtMSBSTkEgUXVhbnRpZmljYXRpb24iXQ\n",
      " dataset_id: WyIxa2dlbm9tZXMiXQ\n",
      " name: E-GEUV-1 RNA Quantification\n",
      "\n"
     ]
    }
   ],
   "source": [
    "counter = 0\n",
    "for rna_quant_set in c.search_rna_quantification_sets(dataset_id=dataset.id):\n",
    "    if counter > 5:\n",
    "        break\n",
    "    counter += 1\n",
    "    print(\" id: {}\".format(rna_quant_set.id))\n",
    "    print(\" dataset_id: {}\".format(rna_quant_set.dataset_id))\n",
    "    print(\" name: {}\\n\".format(rna_quant_set.name))"
   ]
  },
  {
   "cell_type": "markdown",
   "metadata": {},
   "source": [
    "### Get RNA Quantification Set by id method\n",
    "This method obtains an single RNA quantification set by it's unique identifier. This `id` was chosen arbitrarily from the returned results."
   ]
  },
  {
   "cell_type": "code",
   "execution_count": 4,
   "metadata": {
    "collapsed": false
   },
   "outputs": [
    {
     "name": "stdout",
     "output_type": "stream",
     "text": [
      " name: E-GEUV-1 RNA Quantification\n",
      "\n"
     ]
    }
   ],
   "source": [
    "single_rna_quant_set = c.get_rna_quantification_set(\n",
    "    rna_quantification_set_id=rna_quant_set.id)\n",
    "print(\" name: {}\\n\".format(single_rna_quant_set.name))"
   ]
  },
  {
   "cell_type": "markdown",
   "metadata": {},
   "source": [
    "### Search RNA Quantifications\n",
    "We can list all of the RNA quantifications in an RNA quantification set.  The `rna_quantification_set_id` was chosen arbitrarily from the returned results."
   ]
  },
  {
   "cell_type": "code",
   "execution_count": 5,
   "metadata": {
    "collapsed": false
   },
   "outputs": [
    {
     "name": "stdout",
     "output_type": "stream",
     "text": [
      "RNA Quantification: HG00104\n",
      " id: WyIxa2dlbm9tZXMiLCJFLUdFVVYtMSBSTkEgUXVhbnRpZmljYXRpb24iLCJIRzAwMTA0Il0\n",
      " description: RNA seq data from lymphoblastoid cell lines in the 1000 Genome Project, http://www.ebi.ac.uk/arrayexpress/experiments/E-GEUV-1/samples/\n",
      "\n",
      "RNA Quantification: HG00103\n",
      " id: WyIxa2dlbm9tZXMiLCJFLUdFVVYtMSBSTkEgUXVhbnRpZmljYXRpb24iLCJIRzAwMTAzIl0\n",
      " description: RNA seq data from lymphoblastoid cell lines in the 1000 Genome Project, http://www.ebi.ac.uk/arrayexpress/experiments/E-GEUV-1/samples/\n",
      "\n",
      "RNA Quantification: HG00102\n",
      " id: WyIxa2dlbm9tZXMiLCJFLUdFVVYtMSBSTkEgUXVhbnRpZmljYXRpb24iLCJIRzAwMTAyIl0\n",
      " description: RNA seq data from lymphoblastoid cell lines in the 1000 Genome Project, http://www.ebi.ac.uk/arrayexpress/experiments/E-GEUV-1/samples/\n",
      "\n",
      "RNA Quantification: HG00101\n",
      " id: WyIxa2dlbm9tZXMiLCJFLUdFVVYtMSBSTkEgUXVhbnRpZmljYXRpb24iLCJIRzAwMTAxIl0\n",
      " description: RNA seq data from lymphoblastoid cell lines in the 1000 Genome Project, http://www.ebi.ac.uk/arrayexpress/experiments/E-GEUV-1/samples/\n",
      "\n",
      "RNA Quantification: HG00100\n",
      " id: WyIxa2dlbm9tZXMiLCJFLUdFVVYtMSBSTkEgUXVhbnRpZmljYXRpb24iLCJIRzAwMTAwIl0\n",
      " description: RNA seq data from lymphoblastoid cell lines in the 1000 Genome Project, http://www.ebi.ac.uk/arrayexpress/experiments/E-GEUV-1/samples/\n",
      "\n",
      "RNA Quantification: HG00099\n",
      " id: WyIxa2dlbm9tZXMiLCJFLUdFVVYtMSBSTkEgUXVhbnRpZmljYXRpb24iLCJIRzAwMDk5Il0\n",
      " description: RNA seq data from lymphoblastoid cell lines in the 1000 Genome Project, http://www.ebi.ac.uk/arrayexpress/experiments/E-GEUV-1/samples/\n",
      "\n"
     ]
    }
   ],
   "source": [
    "counter = 0\n",
    "for rna_quant in c.search_rna_quantifications(\n",
    "        rna_quantification_set_id=rna_quant_set.id):\n",
    "    if counter > 5:\n",
    "        break\n",
    "    counter += 1\n",
    "    print(\"RNA Quantification: {}\".format(rna_quant.name))\n",
    "    print(\" id: {}\".format(rna_quant.id))\n",
    "    print(\" description: {}\\n\".format(rna_quant.description))\n",
    "    test_quant = rna_quant"
   ]
  },
  {
   "cell_type": "markdown",
   "metadata": {},
   "source": [
    "### Get RNA Quantification by Id\n",
    "Similar to RNA quantification sets, we can retrieve a single RNA quantification by specific id.  This `id` was chosen arbitrarily from the returned results.\n",
    "\n",
    "The RNA quantification reported contains details of the processing pipeline which include the source of the reads as well as the annotations used. "
   ]
  },
  {
   "cell_type": "code",
   "execution_count": 6,
   "metadata": {
    "collapsed": false
   },
   "outputs": [
    {
     "name": "stdout",
     "output_type": "stream",
     "text": [
      " name: HG00099\n",
      " read_ids: []\n",
      " annotations: [u'WyIxa2dlbm9tZXMiLCJnZW5jb2RlX3YyNGxpZnQzNyJd']\n",
      "\n"
     ]
    }
   ],
   "source": [
    "single_rna_quant = c.get_rna_quantification(\n",
    "    rna_quantification_id=test_quant.id)\n",
    "print(\" name: {}\".format(single_rna_quant.name))\n",
    "print(\" read_ids: {}\".format(single_rna_quant.read_group_ids))\n",
    "print(\" annotations: {}\\n\".format(single_rna_quant.feature_set_ids))"
   ]
  },
  {
   "cell_type": "markdown",
   "metadata": {},
   "source": [
    "### Search Expression Levels\n",
    "The feature level expression data for each RNA quantification is reported as a set of Expression Levels.  The `rna_quantification_service` makes it easy to search for these."
   ]
  },
  {
   "cell_type": "code",
   "execution_count": 7,
   "metadata": {
    "collapsed": false
   },
   "outputs": [
    {
     "name": "stdout",
     "output_type": "stream",
     "text": [
      "Expression Level: ENST00000619216.1\n",
      " id: WyIxa2dlbm9tZXMiLCJFLUdFVVYtMSBSTkEgUXVhbnRpZmljYXRpb24iLCJIRzAwMDk5IiwiYjUwMzc0ZDItOTVkOC00NzhmLWJjYWYtMTUzZjU3N2E4YmYxIl0\n",
      " feature: \n",
      " expression: 2.16668 TPM\n",
      " read_count: 1.75\n",
      " confidence_interval: 0.0 - 0.0\n",
      "\n",
      "Expression Level: ENST00000461467.1\n",
      " id: WyIxa2dlbm9tZXMiLCJFLUdFVVYtMSBSTkEgUXVhbnRpZmljYXRpb24iLCJIRzAwMDk5IiwiYTUwZjFmYmQtZWI0Yy00ODg2LThjYzItZTYyNTEwOTAzN2Y0Il0\n",
      " feature: WyIxa2dlbm9tZXMiLCJnZW5jb2RlX3YyNGxpZnQzNyIsIjE0MDUwOTE3MjE5OTMxMiJd\n",
      " expression: 0.33977 TPM\n",
      " read_count: 4.5671\n",
      " confidence_interval: 0.0 - 0.0\n",
      "\n",
      "Expression Level: ENST00000466430.5\n",
      " id: WyIxa2dlbm9tZXMiLCJFLUdFVVYtMSBSTkEgUXVhbnRpZmljYXRpb24iLCJIRzAwMDk5IiwiOTc4YjcwYTgtZDZmNi00MmY1LWEyYmMtZTVjZWRhNjJlY2E0Il0\n",
      " feature: WyIxa2dlbm9tZXMiLCJnZW5jb2RlX3YyNGxpZnQzNyIsIjE0MDUwOTE3MjM1NDE5MiJd\n",
      " expression: 0.140395 TPM\n",
      " read_count: 11.7305\n",
      " confidence_interval: 0.0 - 0.0\n",
      "\n",
      "Expression Level: ENST00000471248.1\n",
      " id: WyIxa2dlbm9tZXMiLCJFLUdFVVYtMSBSTkEgUXVhbnRpZmljYXRpb24iLCJIRzAwMDk5IiwiMTdjMzQ5MGMtNmNkYS00YzBlLWE0YzMtYWJiMjkxYzQ0MjU4Il0\n",
      " feature: WyIxa2dlbm9tZXMiLCJnZW5jb2RlX3YyNGxpZnQzNyIsIjE0MDUwOTE3MTk1MDY3MiJd\n",
      " expression: 0.259275 TPM\n",
      " read_count: 3.81327\n",
      " confidence_interval: 0.0 - 0.0\n",
      "\n",
      "Expression Level: ENST00000610542.1\n",
      " id: WyIxa2dlbm9tZXMiLCJFLUdFVVYtMSBSTkEgUXVhbnRpZmljYXRpb24iLCJIRzAwMDk5IiwiZTcxMWQzODQtZDMzOC00MDlkLTkzYjYtYWQ5MTM4M2QyNGUxIl0\n",
      " feature: WyIxa2dlbm9tZXMiLCJnZW5jb2RlX3YyNGxpZnQzNyIsIjE0MDUwOTE3MTk1MTQ0MCJd\n",
      " expression: 0.083744 TPM\n",
      " read_count: 1.48721\n",
      " confidence_interval: 0.0 - 0.0\n",
      "\n",
      "Expression Level: ENST00000493797.1\n",
      " id: WyIxa2dlbm9tZXMiLCJFLUdFVVYtMSBSTkEgUXVhbnRpZmljYXRpb24iLCJIRzAwMDk5IiwiODExNjMwOTgtMjdjNy00MTEwLTlmMGEtMWRkYWUyYWFlYmZjIl0\n",
      " feature: WyIxa2dlbm9tZXMiLCJnZW5jb2RlX3YyNGxpZnQzNyIsIjE0MDUwOTE3MjA4NjU0NCJd\n",
      " expression: 0.119829 TPM\n",
      " read_count: 0.589627\n",
      " confidence_interval: 0.0 - 0.0\n",
      "\n"
     ]
    }
   ],
   "source": [
    "def getUnits(unitType):\n",
    "    units = [\"\", \"FPKM\", \"TPM\"]\n",
    "    return units[unitType]\n",
    "\n",
    "\n",
    "counter = 0\n",
    "for expression in c.search_expression_levels(\n",
    "        rna_quantification_id=test_quant.id):\n",
    "    if counter > 5:\n",
    "        break\n",
    "    counter += 1\n",
    "    print(\"Expression Level: {}\".format(expression.name))\n",
    "    print(\" id: {}\".format(expression.id))\n",
    "    print(\" feature: {}\".format(expression.feature_id))\n",
    "    print(\" expression: {} {}\".format(expression.expression, getUnits(expression.units)))\n",
    "    print(\" read_count: {}\".format(expression.raw_read_count))\n",
    "    print(\" confidence_interval: {} - {}\\n\".format(\n",
    "            expression.conf_interval_low, expression.conf_interval_high))"
   ]
  },
  {
   "cell_type": "markdown",
   "metadata": {},
   "source": [
    "It is also possible to restrict the search to a specific feature or to request expression values exceeding a threshold amount."
   ]
  },
  {
   "cell_type": "code",
   "execution_count": 8,
   "metadata": {
    "collapsed": false
   },
   "outputs": [
    {
     "name": "stdout",
     "output_type": "stream",
     "text": [
      "Expression Level: ENST00000619216.1\n",
      " id: WyIxa2dlbm9tZXMiLCJFLUdFVVYtMSBSTkEgUXVhbnRpZmljYXRpb24iLCJIRzAwMDk5IiwiYjUwMzc0ZDItOTVkOC00NzhmLWJjYWYtMTUzZjU3N2E4YmYxIl0\n",
      " feature: \n",
      "\n",
      "Expression Level: ENST00000461467.1\n",
      " id: WyIxa2dlbm9tZXMiLCJFLUdFVVYtMSBSTkEgUXVhbnRpZmljYXRpb24iLCJIRzAwMDk5IiwiYTUwZjFmYmQtZWI0Yy00ODg2LThjYzItZTYyNTEwOTAzN2Y0Il0\n",
      " feature: WyIxa2dlbm9tZXMiLCJnZW5jb2RlX3YyNGxpZnQzNyIsIjE0MDUwOTE3MjE5OTMxMiJd\n",
      "\n",
      "Expression Level: ENST00000466430.5\n",
      " id: WyIxa2dlbm9tZXMiLCJFLUdFVVYtMSBSTkEgUXVhbnRpZmljYXRpb24iLCJIRzAwMDk5IiwiOTc4YjcwYTgtZDZmNi00MmY1LWEyYmMtZTVjZWRhNjJlY2E0Il0\n",
      " feature: WyIxa2dlbm9tZXMiLCJnZW5jb2RlX3YyNGxpZnQzNyIsIjE0MDUwOTE3MjM1NDE5MiJd\n",
      "\n",
      "Expression Level: ENST00000471248.1\n",
      " id: WyIxa2dlbm9tZXMiLCJFLUdFVVYtMSBSTkEgUXVhbnRpZmljYXRpb24iLCJIRzAwMDk5IiwiMTdjMzQ5MGMtNmNkYS00YzBlLWE0YzMtYWJiMjkxYzQ0MjU4Il0\n",
      " feature: WyIxa2dlbm9tZXMiLCJnZW5jb2RlX3YyNGxpZnQzNyIsIjE0MDUwOTE3MTk1MDY3MiJd\n",
      "\n",
      "Expression Level: ENST00000610542.1\n",
      " id: WyIxa2dlbm9tZXMiLCJFLUdFVVYtMSBSTkEgUXVhbnRpZmljYXRpb24iLCJIRzAwMDk5IiwiZTcxMWQzODQtZDMzOC00MDlkLTkzYjYtYWQ5MTM4M2QyNGUxIl0\n",
      " feature: WyIxa2dlbm9tZXMiLCJnZW5jb2RlX3YyNGxpZnQzNyIsIjE0MDUwOTE3MTk1MTQ0MCJd\n",
      "\n",
      "Expression Level: ENST00000493797.1\n",
      " id: WyIxa2dlbm9tZXMiLCJFLUdFVVYtMSBSTkEgUXVhbnRpZmljYXRpb24iLCJIRzAwMDk5IiwiODExNjMwOTgtMjdjNy00MTEwLTlmMGEtMWRkYWUyYWFlYmZjIl0\n",
      " feature: WyIxa2dlbm9tZXMiLCJnZW5jb2RlX3YyNGxpZnQzNyIsIjE0MDUwOTE3MjA4NjU0NCJd\n",
      "\n"
     ]
    }
   ],
   "source": [
    "counter = 0\n",
    "for expression in c.search_expression_levels(\n",
    "        rna_quantification_id=test_quant.id, feature_ids=[]):\n",
    "    if counter > 5:\n",
    "        break\n",
    "    counter += 1\n",
    "    print(\"Expression Level: {}\".format(expression.name))\n",
    "    print(\" id: {}\".format(expression.id))\n",
    "    print(\" feature: {}\\n\".format(expression.feature_id))"
   ]
  },
  {
   "cell_type": "markdown",
   "metadata": {},
   "source": [
    "Let's look for some high expressing features."
   ]
  },
  {
   "cell_type": "code",
   "execution_count": 9,
   "metadata": {
    "collapsed": false
   },
   "outputs": [
    {
     "name": "stdout",
     "output_type": "stream",
     "text": [
      "Expression Level: ENST00000234590.8\n",
      " id: WyIxa2dlbm9tZXMiLCJFLUdFVVYtMSBSTkEgUXVhbnRpZmljYXRpb24iLCJIRzAwMDk5IiwiN2I2NDkxMTctN2NhOS00ZWQ5LWJlM2MtM2RmZWI4YTdjOWRiIl0\n",
      " expression: 1754.62 TPM\n",
      "\n",
      "Expression Level: ENST00000374550.7\n",
      " id: WyIxa2dlbm9tZXMiLCJFLUdFVVYtMSBSTkEgUXVhbnRpZmljYXRpb24iLCJIRzAwMDk5IiwiN2NiNWM4ZjEtYjkzMS00MWQ4LWI3YjItZjAxNGZhZDM2YTQ5Il0\n",
      " expression: 1750.91 TPM\n",
      "\n",
      "Expression Level: ENST00000396651.7\n",
      " id: WyIxa2dlbm9tZXMiLCJFLUdFVVYtMSBSTkEgUXVhbnRpZmljYXRpb24iLCJIRzAwMDk5IiwiMmU5ODM0NWUtYjNjYy00ZDhjLWEzZDMtOWQ3MWJmZjA4NWMxIl0\n",
      " expression: 1226.12 TPM\n",
      "\n",
      "Expression Level: ENST00000370321.7\n",
      " id: WyIxa2dlbm9tZXMiLCJFLUdFVVYtMSBSTkEgUXVhbnRpZmljYXRpb24iLCJIRzAwMDk5IiwiMzkxOGU1ODEtZGM0NC00ZjFhLWE0ODMtMzI2NTdkYWZmNTQxIl0\n",
      " expression: 1116.39 TPM\n",
      "\n",
      "Expression Level: ENST00000368567.4\n",
      " id: WyIxa2dlbm9tZXMiLCJFLUdFVVYtMSBSTkEgUXVhbnRpZmljYXRpb24iLCJIRzAwMDk5IiwiZTBkMGQxOWEtODk3Zi00ZmQ4LWI1NDUtNTU4NDViZWZmNzcxIl0\n",
      " expression: 3674.61 TPM\n",
      "\n",
      "Expression Level: ENST00000372360.7\n",
      " id: WyIxa2dlbm9tZXMiLCJFLUdFVVYtMSBSTkEgUXVhbnRpZmljYXRpb24iLCJIRzAwMDk5IiwiZmYwMjE4NDYtYTljNy00ZWZlLThlNmMtY2NiNWEyMDM4ZDdlIl0\n",
      " expression: 1922.7 TPM\n",
      "\n"
     ]
    }
   ],
   "source": [
    "counter = 0\n",
    "for expression in c.search_expression_levels(\n",
    "        rna_quantification_id=test_quant.id, threshold=1000):\n",
    "    if counter > 5:\n",
    "        break\n",
    "    counter += 1\n",
    "    print(\"Expression Level: {}\".format(expression.name))\n",
    "    print(\" id: {}\".format(expression.id))\n",
    "    print(\" expression: {} {}\\n\".format(expression.expression, getUnits(expression.units)))"
   ]
  },
  {
   "cell_type": "code",
   "execution_count": null,
   "metadata": {
    "collapsed": true
   },
   "outputs": [],
   "source": []
  }
 ],
 "metadata": {
  "anaconda-cloud": {},
  "kernelspec": {
   "display_name": "Python 2",
   "language": "python",
   "name": "python2"
  },
  "language_info": {
   "codemirror_mode": {
    "name": "ipython",
    "version": 2
   },
   "file_extension": ".py",
   "mimetype": "text/x-python",
   "name": "python",
   "nbconvert_exporter": "python",
   "pygments_lexer": "ipython2",
   "version": "2.7.12+"
  },
  "widgets": {
   "state": {},
   "version": "1.1.1"
  }
 },
 "nbformat": 4,
 "nbformat_minor": 1
}
