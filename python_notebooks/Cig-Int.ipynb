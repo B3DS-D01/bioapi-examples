{
 "cells": [
  {
   "cell_type": "code",
   "execution_count": 2,
   "metadata": {
    "collapsed": true
   },
   "outputs": [],
   "source": [
    "Rea0 = \"CCTAACCCTAACCCTAACCCTAACCCAACCCTAACCCTAACCCTACCCCTAACCCTAACCCTAACCCAACCCTAACCCTACCCCTAACCGTAACCCTAAC\"\n",
    "Obs0 = 94\n",
    "Rea1 = \"ACCCCTAACCCTAACCCTAACCCTAACCCTAACCCTAACCCTAACCCTAACCCTAACCCTAACCCCAAACCCTAACCCTAACCCTAACCCTAACCCTAAC\"\n",
    "Obs1 = 68\n",
    "Rea2 = \"CCTCACCCTAACCCTAACCCTAACCCTAACCCTAACCCCCACCCTAACCCTCACCCTAACCCCCACCCTCACCCTCACCCTACCCCCCACCCTCACCCCT\"\n",
    "Obs2 = 65\n",
    "Base = \"CCTAACCCTAACCCTAACCCTAACCCAACCCTAACCCTAACCCTAACCCTAACCCTAACCCTAACCCCTAACCCTAACCCTAACCCTAACCCTAACCTAA\""
   ]
  },
  {
   "cell_type": "code",
   "execution_count": 3,
   "metadata": {
    "collapsed": false
   },
   "outputs": [],
   "source": [
    "Cig_Un0 = [{\"operation\": \"ALIGNMENT_MATCH\", \"OpLength\": 67}, {\"operation\": \"DELETE\", \"OpLength\": 2}, {\"operation\": \"ALIGNMENT_MATCH\", \"OpLength\": 26}, {\"operation\" : \"INSERT\", \"OpLength\": 1}, {\"operation\":\"ALIGNMENT_MATCH\", \"OpLength\": 6}]\n",
    "Cig_Un1 = [{'OpLength': 30, 'operation': 'CLIP_SOFT'},{'OpLength': 70, 'operation': 'ALIGNMENT_MATCH'}]\n",
    "Cig_Un2 = [{'OpLength': 39, 'operation': \"ALIGNMENT_MATCH\"},{'OpLength': 1, 'operation': \"DELETE\"},{'OpLength': 23, 'operation': \"ALIGNMENT_MATCH\"},{'OpLength': 3, 'operation': \"DELETE\"},{'OpLength': 2, 'operation': \"ALIGNMENT_MATCH\"}, {'OpLength': 2, 'operation': \"DELETE\"},{'OpLength': 17, 'operation': \"ALIGNMENT_MATCH\"}, {'OpLength': 19, 'operation': \"CLIP_SOFT\"}]"
   ]
  },
  {
   "cell_type": "code",
   "execution_count": 15,
   "metadata": {
    "collapsed": false
   },
   "outputs": [],
   "source": [
    "def Interpreter(Sequence, Cig_Un, Observed):\n",
    "    Temp = 0\n",
    "    CigarUnit = Cig_Un\n",
    "    BaseCountr = 0 \n",
    "    AligSeq = Sequence\n",
    "    Variant = ''\n",
    "    InterpArr = list([])\n",
    "    for i in range(len(CigarUnit)):\n",
    "        Length = CigarUnit[i]['OpLength']\n",
    "        \n",
    "        \n",
    "        if CigarUnit[i][\"operation\"] == \"ALIGNMENT_MATCH\":\n",
    "            InterpArr[len(InterpArr):len(InterpArr)+Length] = AligSeq[Temp : Temp+Length]\n",
    "            Temp =  Length + Temp\n",
    "            BaseCountr += Length\n",
    "            print \"\".join(InterpArr)\n",
    "             \n",
    "        elif CigarUnit[i]['operation'] == \"CLIP_SOFT\":\n",
    "            Temp =  Length + Temp\n",
    "            \n",
    "            print \"\".join(InterpArr)\n",
    "        \n",
    "        elif CigarUnit[i]['operation'] == \"DELETE\":    \n",
    "            Intern_Temp = 0\n",
    "            for i in range(Length):\n",
    "                InterpArr[len(InterpArr) : len(InterpArr)+1] = \"N\"\n",
    "                BaseCountr += 1 \n",
    "                Intern_Temp += 1 \n",
    "                if BaseCountr == Observed:\n",
    "                    print \"\".join(InterpArr)\n",
    "                    return Base[BaseCountr-Intern_Temp:BaseCountr]\n",
    "        \n",
    "        \n",
    "        \n",
    "        elif CigarUnit[i]['operation'] == \"INSERT\":\n",
    "            InterpArr[len(InterpArr):len(InterpArr)+Length] = AligSeq[Temp : Temp+Length]\n",
    "            Temp += Length\n",
    "            if ((Temp-Length) <= Observed and Observed <= Temp) and (len(InterpArr) >= Temp+Length+1):\n",
    "                Variant = \"\".join(InterpArr[Temp:Temp+Length+1])\n",
    "                print \"\".join(InterpArr)\n",
    "                return Variant\n",
    "               \n",
    "            \n",
    "        else: print \"False\"\n",
    "        "
   ]
  },
  {
   "cell_type": "code",
   "execution_count": 16,
   "metadata": {
    "collapsed": false
   },
   "outputs": [
    {
     "name": "stdout",
     "output_type": "stream",
     "text": [
      "CCTAACCCTAACCCTAACCCTAACCCAACCCTAACCCTAACCCTACCCCTAACCCTAACCCTAACCC\n",
      "CCTAACCCTAACCCTAACCCTAACCCAACCCTAACCCTAACCCTACCCCTAACCCTAACCCTAACCCNNAACCCTAACCCTACCCCTAACCGTAA\n",
      "CCTAACCCTAACCCTAACCCTAACCCAACCCTAACCCTAACCCTACCCCTAACCCTAACCCTAACCCNNAACCCTAACCCTACCCCTAACCGTAAC\n",
      "AC\n",
      "94\n",
      "CCTAACCCTAACCCTAACCCTAACCCAACCCTAACCCTAACCCTAACCCTAACCCTAACCCTAACCCCTAACCCTAACCCTAACCCTAACCCTAACCTAA\n",
      "CCTAACCCTAACCCTAACCCTAACCCAACCCTAACCCTAACCCTACCCCTAACCCTAACCCTAACCCAACCCTAACCCTACCCCTAACCGTAACCCTAAC\n"
     ]
    }
   ],
   "source": [
    "print Interpreter(Rea0, Cig_Un0, Obs0) \n",
    "print Obs0\n",
    "print Base\n",
    "print Rea0"
   ]
  },
  {
   "cell_type": "code",
   "execution_count": null,
   "metadata": {
    "collapsed": true
   },
   "outputs": [],
   "source": [
    "ACCCTCACCCTAACCCTAACCCTAACCCTAACCCTAACCCTTAACCCTAACCCAAACCCTAACCCTACCCTAACCCTAA"
   ]
  },
  {
   "cell_type": "code",
   "execution_count": null,
   "metadata": {
    "collapsed": true
   },
   "outputs": [],
   "source": []
  }
 ],
 "metadata": {
  "kernelspec": {
   "display_name": "Python 2",
   "language": "python",
   "name": "python2"
  },
  "language_info": {
   "codemirror_mode": {
    "name": "ipython",
    "version": 2
   },
   "file_extension": ".py",
   "mimetype": "text/x-python",
   "name": "python",
   "nbconvert_exporter": "python",
   "pygments_lexer": "ipython2",
   "version": "2.7.11"
  }
 },
 "nbformat": 4,
 "nbformat_minor": 0
}
