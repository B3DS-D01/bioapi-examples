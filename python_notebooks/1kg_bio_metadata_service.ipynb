{
 "cells": [
  {
   "cell_type": "markdown",
   "metadata": {},
   "source": [
    "## GA4GH 1000 Genome Bio Metadata Example\n",
    "This example illustrates the acess and methods implemented by the `bio_metadata_service` in the schemas. "
   ]
  },
  {
   "cell_type": "markdown",
   "metadata": {},
   "source": [
    "### Initialize client \n",
    "In this step we create a client object which will be used to communicate with the server. It is initialized using the 1kg URL."
   ]
  },
  {
   "cell_type": "code",
   "execution_count": 1,
   "metadata": {
    "collapsed": true
   },
   "outputs": [],
   "source": [
    "import ga4gh.client as client\n",
    "c = client.HttpClient(\"http://1kgenomes.ga4gh.org\") "
   ]
  },
  {
   "cell_type": "markdown",
   "metadata": {},
   "source": [
    "### Search individuals method\n",
    "This instance returns a list of individuals which are contained in the API. Note that we require `dataset_id` which can be obtained from the `1kg_metadata_service` notebook."
   ]
  },
  {
   "cell_type": "code",
   "execution_count": 9,
   "metadata": {
    "collapsed": false
   },
   "outputs": [
    {
     "name": "stdout",
     "output_type": "stream",
     "text": [
      "Individual Id: WyIxa2dlbm9tZXMiLCJpIiwiSEcwMDA5NiJd\n",
      "\tDataset Id: WyIxa2dlbm9tZXMiXQ\tName: HG00096\n",
      "\tDescription: GBRBritish in England and Scotlandmale,\n",
      "\tSpecies Term: Homo sapiens\tSpecies Id: NCBITaxon:9606\n",
      "\tSex Term: male genotypic sex\tSex Id: PATO:0020001\n",
      "\n",
      "Individual Id: WyIxa2dlbm9tZXMiLCJpIiwiSEcwMDA5NyJd\n",
      "\tDataset Id: WyIxa2dlbm9tZXMiXQ\tName: HG00097\n",
      "\tDescription: GBRBritish in England and Scotlandfemale,\n",
      "\tSpecies Term: Homo sapiens\tSpecies Id: NCBITaxon:9606\n",
      "\tSex Term: female genotypic sex\tSex Id: PATO:0020002\n",
      "\n",
      "Individual Id: WyIxa2dlbm9tZXMiLCJpIiwiSEcwMDA5OCJd\n",
      "\tDataset Id: WyIxa2dlbm9tZXMiXQ\tName: HG00098\n",
      "\tDescription: GBRBritish in England and Scotlandmale,\n",
      "\tSpecies Term: Homo sapiens\tSpecies Id: NCBITaxon:9606\n",
      "\tSex Term: male genotypic sex\tSex Id: PATO:0020001\n",
      "\n",
      "Individual Id: WyIxa2dlbm9tZXMiLCJpIiwiSEcwMDA5OSJd\n",
      "\tDataset Id: WyIxa2dlbm9tZXMiXQ\tName: HG00099\n",
      "\tDescription: GBRBritish in England and Scotlandfemale,\n",
      "\tSpecies Term: Homo sapiens\tSpecies Id: NCBITaxon:9606\n",
      "\tSex Term: female genotypic sex\tSex Id: PATO:0020002\n",
      "\n",
      "Individual Id: WyIxa2dlbm9tZXMiLCJpIiwiSEcwMDEwMCJd\n",
      "\tDataset Id: WyIxa2dlbm9tZXMiXQ\tName: HG00100\n",
      "\tDescription: GBRBritish in England and Scotlandfemale,\n",
      "\tSpecies Term: Homo sapiens\tSpecies Id: NCBITaxon:9606\n",
      "\tSex Term: female genotypic sex\tSex Id: PATO:0020002\n",
      "\n",
      "Individual Id: WyIxa2dlbm9tZXMiLCJpIiwiSEcwMDEwMSJd\n",
      "\tDataset Id: WyIxa2dlbm9tZXMiXQ\tName: HG00101\n",
      "\tDescription: GBRBritish in England and Scotlandmale,\n",
      "\tSpecies Term: Homo sapiens\tSpecies Id: NCBITaxon:9606\n",
      "\tSex Term: male genotypic sex\tSex Id: PATO:0020001\n",
      "\n",
      "Individual Id: WyIxa2dlbm9tZXMiLCJpIiwiSEcwMDEwMiJd\n",
      "\tDataset Id: WyIxa2dlbm9tZXMiXQ\tName: HG00102\n",
      "\tDescription: GBRBritish in England and Scotlandfemale,\n",
      "\tSpecies Term: Homo sapiens\tSpecies Id: NCBITaxon:9606\n",
      "\tSex Term: female genotypic sex\tSex Id: PATO:0020002\n",
      "\n",
      "Individual Id: WyIxa2dlbm9tZXMiLCJpIiwiSEcwMDEwMyJd\n",
      "\tDataset Id: WyIxa2dlbm9tZXMiXQ\tName: HG00103\n",
      "\tDescription: GBRBritish in England and Scotlandmale,\n",
      "\tSpecies Term: Homo sapiens\tSpecies Id: NCBITaxon:9606\n",
      "\tSex Term: male genotypic sex\tSex Id: PATO:0020001\n",
      "\n"
     ]
    }
   ],
   "source": [
    "counter = 8\n",
    "for individuals in c.search_individuals(dataset_id=\"WyIxa2dlbm9tZXMiXQ\"):\n",
    "    if counter <= 0:\n",
    "        break\n",
    "    counter -= 1\n",
    "    print \"Individual Id: {}\\n\\tDataset Id: {}\\tName: {}\\n\\tDescription: {},\\n\\tSpecies Term: {}\\tSpecies Id: {}\\n\\tSex Term: {}\\tSex Id: {}\\n\".format(\n",
    "        individuals.id, individuals.dataset_id, individuals.name, individuals.description, individuals.species.term, individuals.species.id,\n",
    "        individuals.sex.term, individuals.sex.id)"
   ]
  },
  {
   "cell_type": "markdown",
   "metadata": {},
   "source": [
    "###### Note: Only parameters that are potentiallly required by other methods are shown. The data returned by this call is richer and containes info fields that have not been illustrated, but will be in the get by id method, next."
   ]
  },
  {
   "cell_type": "markdown",
   "metadata": {},
   "source": [
    "### Get Individual by id method\n",
    "This method obtains an single individual just by its id. Note that we obtain a variety of ids from the above call."
   ]
  },
  {
   "cell_type": "code",
   "execution_count": 10,
   "metadata": {
    "collapsed": false
   },
   "outputs": [
    {
     "name": "stdout",
     "output_type": "stream",
     "text": [
      "id: \"WyIxa2dlbm9tZXMiLCJpIiwiSEcwMDEwNCJd\"\n",
      "dataset_id: \"WyIxa2dlbm9tZXMiXQ\"\n",
      "name: \"HG00104\"\n",
      "description: \"GBRBritish in England and Scotlandfemale\"\n",
      "created: \"2016-07-28T14:38:49.204497\"\n",
      "updated: \"2016-07-28T14:38:49.204500\"\n",
      "species {\n",
      "  id: \"NCBITaxon:9606\"\n",
      "  term: \"Homo sapiens\"\n",
      "  source_name: \"http://purl.obolibrary.org/obo\"\n",
      "  source_version: \"2016-02-02\"\n",
      "}\n",
      "sex {\n",
      "  id: \"PATO:0020002\"\n",
      "  term: \"female genotypic sex\"\n",
      "  source_name: \"PATO\"\n",
      "  source_version: \"2015-11-18\"\n",
      "}\n",
      "info {\n",
      "  key: \"Avuncular\"\n",
      "  value {\n",
      "    values {\n",
      "      string_value: \"\"\n",
      "    }\n",
      "  }\n",
      "}\n",
      "info {\n",
      "  key: \"Family ID\"\n",
      "  value {\n",
      "    values {\n",
      "      string_value: \"HG00104\"\n",
      "    }\n",
      "  }\n",
      "}\n",
      "info {\n",
      "  key: \"Gender\"\n",
      "  value {\n",
      "    values {\n",
      "      string_value: \"female\"\n",
      "    }\n",
      "  }\n",
      "}\n",
      "info {\n",
      "  key: \"Grandparents\"\n",
      "  value {\n",
      "    values {\n",
      "      string_value: \"\"\n",
      "    }\n",
      "  }\n",
      "}\n",
      "info {\n",
      "  key: \"Half Siblings\"\n",
      "  value {\n",
      "    values {\n",
      "      string_value: \"\"\n",
      "    }\n",
      "  }\n",
      "}\n",
      "info {\n",
      "  key: \"Non Paternity\"\n",
      "  value {\n",
      "    values {\n",
      "      string_value: \"\"\n",
      "    }\n",
      "  }\n",
      "}\n",
      "info {\n",
      "  key: \"Other Comments\"\n",
      "  value {\n",
      "    values {\n",
      "      string_value: \"\"\n",
      "    }\n",
      "  }\n",
      "}\n",
      "info {\n",
      "  key: \"Population\"\n",
      "  value {\n",
      "    values {\n",
      "      string_value: \"GBR\"\n",
      "    }\n",
      "  }\n",
      "}\n",
      "info {\n",
      "  key: \"Population Description\"\n",
      "  value {\n",
      "    values {\n",
      "      string_value: \"British in England and Scotland\"\n",
      "    }\n",
      "  }\n",
      "}\n",
      "info {\n",
      "  key: \"Relationship\"\n",
      "  value {\n",
      "    values {\n",
      "      string_value: \"\"\n",
      "    }\n",
      "  }\n",
      "}\n",
      "info {\n",
      "  key: \"Sample\"\n",
      "  value {\n",
      "    values {\n",
      "      string_value: \"HG00104\"\n",
      "    }\n",
      "  }\n",
      "}\n",
      "info {\n",
      "  key: \"Siblings\"\n",
      "  value {\n",
      "    values {\n",
      "      string_value: \"\"\n",
      "    }\n",
      "  }\n",
      "}\n",
      "info {\n",
      "  key: \"Third Order\"\n",
      "  value {\n",
      "    values {\n",
      "      string_value: \"\"\n",
      "    }\n",
      "  }\n",
      "}\n",
      "info {\n",
      "  key: \"Unexpected Parent/Child \"\n",
      "  value {\n",
      "    values {\n",
      "      string_value: \"\"\n",
      "    }\n",
      "  }\n",
      "}\n",
      "info {\n",
      "  key: \"Unknown Second Order\"\n",
      "  value {\n",
      "    values {\n",
      "      string_value: \"\"\n",
      "    }\n",
      "  }\n",
      "}\n",
      "\n"
     ]
    }
   ],
   "source": [
    "single_individual = c.get_individual(individual_id=individuals.id)\n",
    "print single_individual"
   ]
  },
  {
   "cell_type": "code",
   "execution_count": null,
   "metadata": {
    "collapsed": true
   },
   "outputs": [],
   "source": []
  }
 ],
 "metadata": {
  "kernelspec": {
   "display_name": "Python 2",
   "language": "python",
   "name": "python2"
  },
  "language_info": {
   "codemirror_mode": {
    "name": "ipython",
    "version": 2
   },
   "file_extension": ".py",
   "mimetype": "text/x-python",
   "name": "python",
   "nbconvert_exporter": "python",
   "pygments_lexer": "ipython2",
   "version": "2.7.11"
  }
 },
 "nbformat": 4,
 "nbformat_minor": 1
}
