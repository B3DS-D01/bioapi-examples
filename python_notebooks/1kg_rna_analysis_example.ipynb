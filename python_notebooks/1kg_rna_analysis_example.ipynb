{
 "cells": [
  {
   "cell_type": "markdown",
   "metadata": {},
   "source": [
    "## GA4GH RNA Quantification API Analysis Example\n",
    "This example uses the `rna_quantification_service` to retrieve data for a couple of simple analyses.\n",
    "\n",
    "TODO: Bioconductor citation/acknowledgement"
   ]
  },
  {
   "cell_type": "markdown",
   "metadata": {},
   "source": [
    "### Initialize client\n",
    "In this step we create a client object which will be used to communicate with the server.  This example uses the GA4GH 1000 Genomes server.  It will also require that `scipy` and `rpy2` be installed to do the example calculations."
   ]
  },
  {
   "cell_type": "code",
   "execution_count": null,
   "metadata": {
    "collapsed": false
   },
   "outputs": [],
   "source": [
    "import scipy.stats\n",
    "from ga4gh.client import client\n",
    "import rpy2.robjects as robjects\n",
    "import rpy2.robjects.packages as rpackages\n",
    "#c = client.HttpClient(\"http://1kgenomes.ga4gh.org\")\n",
    "c = client.HttpClient(\"http://localhost:8000\")"
   ]
  },
  {
   "cell_type": "markdown",
   "metadata": {},
   "source": [
    "### Search RNA Quantification Sets\n",
    "Begin by retrieving a list of RNA quantification sets in the dataset.  RNA quantification sets are a way to associate a group of related RNA quantifications.  Note that the `dataset_id` is obtained as described in the `1kg_metadata_service` notebook."
   ]
  },
  {
   "cell_type": "code",
   "execution_count": null,
   "metadata": {
    "collapsed": false
   },
   "outputs": [],
   "source": [
    "dataset_id = c.search_datasets().next().id\n",
    "for rna_quant_set in c.search_rna_quantification_sets(dataset_id=dataset_id):\n",
    "    rna_set_id = rna_quant_set.id\n",
    "    print(\"id: {}\".format(rna_quant_set.id))\n",
    "    print(\"name: {}\".format(rna_quant_set.name))"
   ]
  },
  {
   "cell_type": "markdown",
   "metadata": {},
   "source": [
    "### Search RNA Quantifications\n",
    "We can now list all of the RNA quantifications in the RNA quantification set."
   ]
  },
  {
   "cell_type": "code",
   "execution_count": null,
   "metadata": {
    "collapsed": false
   },
   "outputs": [],
   "source": [
    "rna_quantification_ids = []\n",
    "for rna_quant in c.search_rna_quantifications(rna_quantification_set_id=rna_set_id):\n",
    "    print(\"({}): {}\".format(rna_quant.id, rna_quant.name))\n",
    "    rna_quantification_ids.append(rna_quant.id)"
   ]
  },
  {
   "cell_type": "markdown",
   "metadata": {},
   "source": [
    "### Select RNA Quantifications\n",
    "The RNA Quantification Set contains several RNA Quantifications.  Before we move on let's verify that the RNA Quantifications to be compared were processed with the same annotation."
   ]
  },
  {
   "cell_type": "code",
   "execution_count": null,
   "metadata": {
    "collapsed": false
   },
   "outputs": [],
   "source": [
    "feature_sets = set()\n",
    "for rna_quant_id in rna_quantification_ids:\n",
    "    for feature_set_id in c.get_rna_quantification(\n",
    "            rna_quantification_id=rna_quant_id).feature_set_ids:\n",
    "        feature_sets.add(feature_set_id)\n",
    "print(\"If == 1 we don't have to cull from the list --> {}\".format(len(feature_sets)))"
   ]
  },
  {
   "cell_type": "markdown",
   "metadata": {},
   "source": [
    "### Search Expression Levels\n",
    "The feature level expression data for each RNA quantification is reported as a set of Expression Levels.  Here is an example."
   ]
  },
  {
   "cell_type": "code",
   "execution_count": null,
   "metadata": {
    "collapsed": false
   },
   "outputs": [],
   "source": [
    "def getUnits(unitType):\n",
    "    units = [\"\", \"FPKM\", \"TPM\"]\n",
    "    return units[unitType]\n",
    "\n",
    "counter = 0\n",
    "expression_levels = []\n",
    "for expression in c.search_expression_levels(rna_quantification_id=rna_quantification_ids[0]):\n",
    "    if counter > 5:\n",
    "        break\n",
    "    counter += 1\n",
    "    if expression.feature_id != \"\":\n",
    "        expression_levels.append(expression)\n",
    "    print(\"Expression Level: {}\".format(expression.name))\n",
    "    print(\" id: {}\".format(expression.id))\n",
    "    print(\" feature: {}\".format(expression.feature_id))\n",
    "    print(\" expression: {} {}\".format(expression.expression, getUnits(expression.units)))\n",
    "    print(\" read_count: {}\".format(expression.raw_read_count))\n",
    "    print(\" confidence_interval: {} - {}\\n\".format(\n",
    "            expression.conf_interval_low, expression.conf_interval_high))"
   ]
  },
  {
   "cell_type": "markdown",
   "metadata": {
    "collapsed": true
   },
   "source": [
    "### Finding Features in the other RNA Quantifications\n",
    "We can also easily examine the expression level of these features in the other RNA Quantifications by specifying the feature_id in the `expressionLevelSearch`."
   ]
  },
  {
   "cell_type": "code",
   "execution_count": null,
   "metadata": {
    "collapsed": false
   },
   "outputs": [],
   "source": [
    "feature_ids = [expression_levels[1].feature_id]\n",
    "for rna_quantification_id in rna_quantification_ids[1:]:\n",
    "    for expression in c.search_expression_levels(\n",
    "            rna_quantification_id=rna_quantification_id, feature_ids=feature_ids):\n",
    "        print(\"RNA Quantification: {}\".format(rna_quantification_id))\n",
    "        print(\"Expression Level: {}\".format(expression.name))\n",
    "        print(\" id: {}\".format(expression.id))\n",
    "        print(\" feature: {}\".format(expression.feature_id))\n",
    "        print(\" expression: {} {}\\n\".format(expression.expression, getUnits(expression.units)))\n"
   ]
  },
  {
   "cell_type": "markdown",
   "metadata": {
    "collapsed": true
   },
   "source": [
    "### Spearman Correlation\n",
    "Now that we can retrieve expression levels for the same feature for all the RNA Quantifications we can calculate the correlation between the Quantifications.  For this we will compute the Spearman Correlation using the `scipy` package.  Further, as this is just an example, we will just calculate the correlation using a small list of features instead of the entire quantification sets."
   ]
  },
  {
   "cell_type": "code",
   "execution_count": null,
   "metadata": {
    "collapsed": false
   },
   "outputs": [],
   "source": [
    "def build_expression_dict(rna_quantification_id, max_features=50):\n",
    "    counter = 0\n",
    "    expression_dict = {}\n",
    "    for expression in c.search_expression_levels(rna_quantification_id=rna_quantification_id):\n",
    "        if counter > max_features:\n",
    "            break\n",
    "        counter += 1\n",
    "        if expression.feature_id != \"\":\n",
    "            expression_dict[expression.name] = expression.expression\n",
    "    return expression_dict\n",
    "\n",
    "\n",
    "expressions_dict_1 = build_expression_dict(rna_quantification_ids[0])\n",
    "featureNames = set(expressions_dict_1.keys())\n",
    "expressions_dict_2 = build_expression_dict(rna_quantification_ids[1])\n",
    "featureNames = featureNames.intersection(set(expressions_dict_2.keys()))\n",
    "sample_1 = []\n",
    "sample_2 = []\n",
    "featureNameList = list(featureNames) # preserve feature order\n",
    "for feature_name in featureNameList:\n",
    "    sample_1.append(expressions_dict_1[feature_name])\n",
    "    sample_2.append(expressions_dict_2[feature_name])\n",
    "\n",
    "scipy.stats.spearmanr(sample_1, sample_2)"
   ]
  },
  {
   "cell_type": "markdown",
   "metadata": {},
   "source": [
    "### Differential Expression\n",
    "Another common analysis is to look at the differential expression of features between datasets.  This is accomplished by using DESeq2 which is an R package.  This first step will use the `biocLite.R` script to install Bioconductor is needed or update it if already installed."
   ]
  },
  {
   "cell_type": "code",
   "execution_count": null,
   "metadata": {
    "collapsed": false
   },
   "outputs": [],
   "source": [
    "utils = rpackages.importr('utils')\n",
    "utils.chooseBioCmirror(ind=1)\n",
    "robjects.r.source(\"https://bioconductor.org/biocLite.R\")\n",
    "robjects.r.biocLite()\n",
    "robjects.r.biocLite(\"DESeq2\")\n",
    "robjects.r.biocLite(robjects.r.c(\"RColorBrewer\", \"pheatmap\"))"
   ]
  },
  {
   "cell_type": "markdown",
   "metadata": {},
   "source": [
    "### Creating the count matrix\n",
    "DESeq2 operates on a count matrix in which each row contains a feature and each column corresponds to an RnaQuantification.  The values in the matrix are the counts for each feature for each Quantification."
   ]
  },
  {
   "cell_type": "code",
   "execution_count": null,
   "metadata": {
    "collapsed": false
   },
   "outputs": [],
   "source": [
    "def build_expression_dict(rna_quantification_id, max_features=50):\n",
    "    \"\"\"\n",
    "        We are going to rewrite this to return count as well as the quantification\n",
    "        name so that we can build the required matrix.  Also, zero count features\n",
    "        are going to be filtered out.\n",
    "    \"\"\"\n",
    "    counter = 0\n",
    "    expression_dict = {}\n",
    "    quantification = c.get_rna_quantification(rna_quantification_id=rna_quantification_id)\n",
    "    for expression in c.search_expression_levels(rna_quantification_id=rna_quantification_id):\n",
    "        if counter > max_features:\n",
    "            break\n",
    "        counter += 1\n",
    "        if expression.feature_id != \"\" and expression.raw_read_count > 0:\n",
    "            expression_dict[expression.name] = expression.raw_read_count\n",
    "    return quantification.name, expression_dict\n",
    "\n",
    "\n",
    "rna_quantifications = []\n",
    "name1, expressions_dict_1 = build_expression_dict(rna_quantification_ids[0])\n",
    "rna_quantifications.append(name1)\n",
    "featureNames = set(expressions_dict_1.keys())\n",
    "name2, expressions_dict_2 = build_expression_dict(rna_quantification_ids[1])\n",
    "rna_quantifications.append(name2)\n",
    "featureNames = featureNames.intersection(set(expressions_dict_2.keys()))\n",
    "name3, expressions_dict_3 = build_expression_dict(rna_quantification_ids[2])\n",
    "rna_quantifications.append(name3)\n",
    "featureNames = featureNames.intersection(set(expressions_dict_3.keys()))\n",
    "name4, expressions_dict_4 = build_expression_dict(rna_quantification_ids[3])\n",
    "rna_quantifications.append(name4)\n",
    "featureNames = featureNames.intersection(set(expressions_dict_4.keys()))\n",
    "name5, expressions_dict_5 = build_expression_dict(rna_quantification_ids[4])\n",
    "rna_quantifications.append(name5)\n",
    "featureNames = featureNames.intersection(set(expressions_dict_5.keys()))\n",
    "sample_1 = []\n",
    "sample_2 = []\n",
    "sample_3 = []\n",
    "sample_4 = []\n",
    "sample_5 = []\n",
    "conditions = [\"sample_1\", \"sample_2\", \"sample_3\", \"sample_4\", \"sample_5\"]\n",
    "featureNameList = list(featureNames) # preserve feature order\n",
    "for feature_name in featureNameList:\n",
    "    sample_1.append(expressions_dict_1[feature_name])\n",
    "    sample_2.append(expressions_dict_2[feature_name])\n",
    "    sample_3.append(expressions_dict_3[feature_name])\n",
    "    sample_4.append(expressions_dict_4[feature_name])\n",
    "    sample_5.append(expressions_dict_5[feature_name])\n",
    "count_m = None\n",
    "count_m = robjects.r.cbind(robjects.IntVector(sample_1), robjects.IntVector(sample_2))\n",
    "count_m = robjects.r.cbind(count_m, robjects.IntVector(sample_3))\n",
    "count_m = robjects.r.cbind(count_m, robjects.IntVector(sample_4))\n",
    "count_m = robjects.r.cbind(count_m, robjects.IntVector(sample_5))\n",
    "count_m.rownames = robjects.StrVector(featureNameList)\n",
    "count_m.colnames = robjects.StrVector(rna_quantifications)\n",
    "coldata = robjects.r.cbind(robjects.StrVector(rna_quantifications),\n",
    "                           robjects.StrVector(conditions))\n",
    "coldata.colnames = robjects.StrVector([\"library\", \"sample\"])"
   ]
  },
  {
   "cell_type": "markdown",
   "metadata": {},
   "source": [
    "### Ready for DESeq\n",
    "Now that the count matrix and metadata tables are done the next step is to create the `DESeqDataSet` and then run the pipeline."
   ]
  },
  {
   "cell_type": "code",
   "execution_count": null,
   "metadata": {
    "collapsed": false
   },
   "outputs": [],
   "source": [
    "robjects.r.library(\"DESeq2\")\n",
    "design = robjects.Formula(\"~ library\")\n",
    "ddsMat = robjects.r.DESeqDataSetFromMatrix(countData=count_m, colData=coldata, design=design)\n",
    "deseq_result = robjects.r.DESeq(ddsMat)\n",
    "# robjects.r.results shows the last result\n",
    "print(robjects.r.results(deseq_result))\n",
    "# can also look any of the results by specifying contrast:\n",
    "print(robjects.r.results(deseq_result, contrast=robjects.r.c(\"library\", name1, name2)))"
   ]
  },
  {
   "cell_type": "markdown",
   "metadata": {
    "collapsed": true
   },
   "source": [
    "### Clustering\n",
    "It is often interesting to see how samples cluster with respect to gene expression."
   ]
  },
  {
   "cell_type": "code",
   "execution_count": null,
   "metadata": {
    "collapsed": false
   },
   "outputs": [],
   "source": [
    "robjects.r.X11()\n",
    "robjects.r.library(\"pheatmap\")\n",
    "rld = robjects.r.rlog(deseq_result, blind=False)\n",
    "print(robjects.r.head(robjects.r.assay(rld), 3))\n",
    "robjects.r.pheatmap(robjects.r.assay(rld))"
   ]
  },
  {
   "cell_type": "code",
   "execution_count": null,
   "metadata": {
    "collapsed": true
   },
   "outputs": [],
   "source": []
  }
 ],
 "metadata": {
  "kernelspec": {
   "display_name": "Python 2",
   "language": "python",
   "name": "python2"
  },
  "language_info": {
   "codemirror_mode": {
    "name": "ipython",
    "version": 2
   },
   "file_extension": ".py",
   "mimetype": "text/x-python",
   "name": "python",
   "nbconvert_exporter": "python",
   "pygments_lexer": "ipython2",
   "version": "2.7.10"
  }
 },
 "nbformat": 4,
 "nbformat_minor": 1
}
