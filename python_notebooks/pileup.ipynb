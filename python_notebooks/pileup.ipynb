{
 "cells": [
  {
   "cell_type": "markdown",
   "metadata": {},
   "source": [
    "\n",
    "# Query for pile-up allignments at region \"X\"\n",
    "\n",
    "We can query the API services to obtain reads from a given readgroupset such that we are able to make a pileup for any specified region"
   ]
  },
  {
   "cell_type": "markdown",
   "metadata": {},
   "source": [
    "### NOTE: Under the \"Kernel\" tab above, do \"Restart & Run All\" then uncomment the first cell and run it individually"
   ]
  },
  {
   "cell_type": "code",
   "execution_count": 14,
   "metadata": {
    "collapsed": false,
    "scrolled": false
   },
   "outputs": [
    {
     "name": "stdout",
     "output_type": "stream",
     "text": [
      "Position: 120394, ReadGrpSet: NA19102, Chrom: 1\n",
      "NEXT PLOT VARS FUNCTION W/ PARAMS 120394, NA19102, 1\n"
     ]
    }
   ],
   "source": [
    "Widget()"
   ]
  },
  {
   "cell_type": "markdown",
   "metadata": {},
   "source": [
    "### Description:\n",
    "Note that the understanding of 3 terms allows for a complete/useful way to use this notebook. Now, the terminology is adapted to my understanding and therefore the expressions that I present might be incomplete or not strictly as defined by science. \n",
    "\n",
    "First, our input takes the \"position\" argument which it is a unique position in the genome. It is necessary to specify which position wants to be observed because when we query the server for reads, it takes a starting and an ending position to return the set of data that spans our region of interest.  \n",
    "Second, the \"Read Groupset Names\" are specific subjects which had their genome sequenced on the 1k genomes project. The data rests on the server in the form of read sets, which will be defined later on.    \n",
    "Third, the “Reference Set Name” is a group of contiguous defined regions in the genome, which I refer to as chromosomes, but according to the 1k genomes website, there is more than just the 23-regular chromosomal expressions. Therefore I can only assume that other regions or references have been defined. \n",
    "\n",
    "A set of reads is the data provided by the sequencer in the form of contiguous alleles. It is natural to observe multiple reads which overlap in a particular region, as well as reads which cover the same area. But that only adds on to the certainty of the statistics which determine the allele occurrence in a given position, that is, the purpose of Pileup. Also, variants are a set of alleles that differ from the reference bases and they are known as SNPs (Single Nucleotide Polymorphisms).\n",
    "\n",
    "Pileup is a set of functions which do inner-mutual calls to obtain the fields previously defined. After the specific set of reads that span the region of interest have been obtained, we proceed to dissect the specific position of interest. We stack them in a counter dictionary which is then passed to a function that does the frequency calculation and finishes by returning the alleles observed as well as their individualized frequency. When the functions detect that the highest frequency allele differs from the reference bases, there is a call to the variant set to obtain the name, the position at which it starts, the alternate bases, and the genotype. Finally, it is plotted in a pie chart with the proper distribution of frequency."
   ]
  },
  {
   "cell_type": "markdown",
   "metadata": {},
   "source": [
    "### Initialize the client\n",
    "\n",
    "As seen in the \"1kg.ipynb\" example, we take the following steps to create the client object that will be used to obtain the information we desire and query the serever "
   ]
  },
  {
   "cell_type": "code",
   "execution_count": 2,
   "metadata": {
    "collapsed": false
   },
   "outputs": [],
   "source": [
    "from ga4gh.client import protocol\n",
    "from ga4gh.client import client\n",
    "c = client.HttpClient(\"http://1kgenomes.ga4gh.org\")"
   ]
  },
  {
   "cell_type": "markdown",
   "metadata": {},
   "source": [
    "### Make reference to the data from the server\n",
    "\n",
    "We query the server for the dataset, which is the 1k-genomes dataset.\n",
    "We access the bases of reference, followed by listingthe reference sets."
   ]
  },
  {
   "cell_type": "code",
   "execution_count": 3,
   "metadata": {
    "collapsed": false
   },
   "outputs": [],
   "source": [
    "dataset = c.search_datasets().next()\n",
    "reference_set = c.search_reference_sets().next()\n",
    "references = [r for r in c.search_references(reference_set_id= reference_set.id)]"
   ]
  },
  {
   "cell_type": "markdown",
   "metadata": {},
   "source": [
    "### ReferenceSet Name (chromosome) & ReadGroupSet Reads\n",
    "We define our contiguous sequence with a chromosome reference, and then make a reference array for our read group sets of read groups."
   ]
  },
  {
   "cell_type": "code",
   "execution_count": 4,
   "metadata": {
    "collapsed": true
   },
   "outputs": [],
   "source": [
    "contig ={}\n",
    "for i in references:\n",
    "    contig[i.name] = str(i.id)"
   ]
  },
  {
   "cell_type": "markdown",
   "metadata": {},
   "source": [
    "### Functions to obtain ReadGroupSet ID by name. \n",
    "We can obtain a set of reads for a given Read-Group. The set of reads is returned in the 'rgs' variable below. "
   ]
  },
  {
   "cell_type": "code",
   "execution_count": 5,
   "metadata": {
    "collapsed": false
   },
   "outputs": [],
   "source": [
    "def get_reads_for_name(Name):\n",
    "    Name = str(Name)\n",
    "    if type(get_read_groups_by_read_group_set_name(Name)) == str:\n",
    "        return get_read_groups_by_read_group_set_name(Name)\n",
    "    else:\n",
    "        return [i for i in get_read_groups_by_read_group_set_name(Name)]\n",
    "    \n",
    "def read_group_set_by_name(name):\n",
    "    result = None\n",
    "    for rgs in c.search_read_group_sets(name=name, dataset_id= dataset.id):\n",
    "        return rgs\n",
    "    return result\n",
    "## [name=name, dataset_id= dataset.id]\n",
    "def get_read_groups_by_read_group_set_name(read_group_set_name):\n",
    "    if None == read_group_set_by_name(read_group_set_name):\n",
    "        return \"Sorry, bad request for {}\".format(read_group_set_name)\n",
    "    else:\n",
    "        return read_group_set_by_name(read_group_set_name).read_groups"
   ]
  },
  {
   "cell_type": "markdown",
   "metadata": {
    "collapsed": false
   },
   "source": [
    "### Function to call multiple ReferenceSets. \n",
    "Because some calls such as Variants, Reference Bases, and Reads require this field to return the region that wants to be analyzed. Also note, that it is a required input of this service.  "
   ]
  },
  {
   "cell_type": "code",
   "execution_count": 6,
   "metadata": {
    "collapsed": true
   },
   "outputs": [],
   "source": [
    "def chrfunct(chromo):\n",
    "    chr1 = filter(lambda x: x.name == str(chromo), references)[0]\n",
    "    return chr1"
   ]
  },
  {
   "cell_type": "markdown",
   "metadata": {},
   "source": [
    "### Cigar-Unit interpreter function.\n",
    "This function can be expanded in the sense that, INDELS are detected in this function. With more specifications this Pile-Up program with this function can be extended to also detect such variants. Also note that only 4 cigar operations are specified, because they were the only operations specified in the reads. \n"
   ]
  },
  {
   "cell_type": "code",
   "execution_count": 7,
   "metadata": {
    "collapsed": false
   },
   "outputs": [],
   "source": [
    "def cigar_interpreter(sequence, observe, ReferBase):\n",
    "#     print \"Sequence Val: {}\".format(sequence)\n",
    "#     print \"Observe Val: {}\".format(observe)\n",
    "#     print \"RefereBase Val: {}\".format(ReferBase)\n",
    "    Temp = 0\n",
    "    BaseCounter = 0\n",
    "    Variant = \"\"\n",
    "    AligSeq = sequence.aligned_sequence\n",
    "    InterpArr = list([])\n",
    "    Iter = 0\n",
    "    type(sequence) \n",
    "    for i in sequence.alignment.cigar:\n",
    "        Length = i.operation_length\n",
    "        if protocol.CigarUnit.Operation.Name(i.operation) == \"ALIGNMENT_MATCH\":\n",
    "            InterpArr[len(InterpArr):len(InterpArr)+Length] = AligSeq[Temp:Temp+Length]\n",
    "            Temp += Length \n",
    "            BaseCounter += Length\n",
    "            \n",
    "        elif protocol.CigarUnit.Operation.Name(i.operation) == \"CLIP_SOFT\":\n",
    "            Temp += Length\n",
    "            \n",
    "     \n",
    "        elif protocol.CigarUnit.Operation.Name(i.operation) == \"DELETE\":\n",
    "            int_iter = 0\n",
    "            for i in range(Length):\n",
    "                InterpArr[len(InterpArr) : len(InterpArr)+1] = \"N\"\n",
    "                BaseCounter += 1\n",
    "                int_iter += 1\n",
    "                if BaseCounter == observe:\n",
    "                    Variant = ReferBase[BaseCounter:BaseCounter+int_iter]\n",
    "                    return Variant\n",
    "                \n",
    "        elif protocol.CigarUnit.Operation.Name(i.operation) == \"INSERT\":\n",
    "            for i in range(Length):\n",
    "                InterpArr[len(InterpArr):len(InterpArr)+1] = AligSeq[Temp : Temp+1]\n",
    "                Temp += 1\n",
    "                if (Temp == observe) and (len(InterpArr) >= Temp+Length+1):\n",
    "                    Variant = \"\".join(InterpArr[Temp:Temp+Length+1])\n",
    "                    return Variant\n",
    "            \n",
    "        Iter += 1\n",
    "    if (Temp >= observe) and (len(sequence.alignment.cigar) == Iter) :\n",
    "            return InterpArr[observe]\n",
    "    else: \n",
    "        return \"N\"    \n",
    "    \n",
    "    \n",
    "  "
   ]
  },
  {
   "cell_type": "markdown",
   "metadata": {},
   "source": [
    "### Variant Call Function\n",
    "If the pile-up detects that the dominant allele frequency, defers from the reference bases, this function will be call and query the server for that variant."
   ]
  },
  {
   "cell_type": "code",
   "execution_count": 8,
   "metadata": {
    "collapsed": false
   },
   "outputs": [],
   "source": [
    "list_of_callset_ids =[]\n",
    "def find_variants(Start, End, RdGrpSetName, ChromoSm):\n",
    "    for variant_set in c.search_variant_sets(datasetId=dataset.id):\n",
    "        if variant_set.name == \"phase3-release\":\n",
    "            release = variant_set\n",
    "            print variant_set\n",
    "    \n",
    "    for callSet in c.search_call_sets(variant_set_id= release.id, name= str(RdGrpSetName)):\n",
    "        mycallset = callSet\n",
    "        list_of_callset_ids.append(callSet.id)\n",
    " \n",
    "    for variant in c.search_variants(release.id, reference_name=ChromoSm, start=Start, end=End, call_set_ids=list_of_callset_ids):\n",
    "        print variant\n",
    "        if len(variant.alternate_bases[0]) == 1 and len(variant.reference_bases) == 1:\n",
    "            print \"\\nA VARIANT WAS FOUND\"\n",
    "            print \"Variant Name: {}, Start: {}, End: {} \\nAlternate Bases: {} \\nGenotypes: {}\".format(str(variant.names[0]), str(variant.start), str(variant.end), str(variant.alternate_bases[0]), str(variant.calls[0].genotype))\n",
    "            return \n",
    "    return False"
   ]
  },
  {
   "cell_type": "markdown",
   "metadata": {},
   "source": [
    "### Pile up function\n",
    "This function calculates the pile up's for a given region, that is the position being observed. It takes as input the chromosome reference and the Read-Groups to obtain the needed aligned sequence. "
   ]
  },
  {
   "cell_type": "code",
   "execution_count": 9,
   "metadata": {
    "collapsed": false
   },
   "outputs": [],
   "source": [
    "def pileUp(contig, position, rgset, Chromosm):\n",
    "    alleles = []\n",
    "    rgset = get_reads_for_name(rgset)\n",
    "    if type(rgset) != str:\n",
    "        for i in rgset:\n",
    "            for sequence in c.search_reads(read_group_ids=[i.id],start = position, end = position+1, reference_id=contig):\n",
    "                if sequence.alignment != None:\n",
    "                    start = sequence.alignment.position.position\n",
    "                    observe = position - sequence.alignment.position.position\n",
    "                    end = start+len(sequence.aligned_sequence)\n",
    "                    \n",
    "                    if observe > 100 or observe < 0:\n",
    "                        continue\n",
    "                    \n",
    "                    if len(sequence.alignment.cigar) > 1:\n",
    "                        allele = cigar_interpreter(sequence, observe,c.list_reference_bases(chrfunct(Chromosm).id, start=start, end= end))      \n",
    "                    else:\n",
    "                        allele = sequence.aligned_sequence[observe]\n",
    "                        \n",
    "                    alleles.append({\"allele\": str(allele), \"readGroupId\":i.id})\n",
    "        return Calc_Freq(alleles)\n",
    "    \n",
    "    else:\n",
    "        return rgset"
   ]
  },
  {
   "cell_type": "markdown",
   "metadata": {},
   "source": [
    "### Function to calculate occurrence frequency\n",
    "The frequency is obtained from the occurrence of alleles in the observed position for all the reads which are mapped in that region. This function returns an array of occurrence alleles as well as their individualized frequency compared to all the reads detected. "
   ]
  },
  {
   "cell_type": "code",
   "execution_count": 10,
   "metadata": {
    "collapsed": false,
    "scrolled": false
   },
   "outputs": [],
   "source": [
    "def Calc_Freq(Test):\n",
    "    tot = len(Test)\n",
    "    AutCalc = {}\n",
    "    Arr = []\n",
    "    for i in range(tot):\n",
    "        if AutCalc.has_key(Test[i][\"allele\"]) == False and (Test[i]['allele'] != \"N\"):\n",
    "            AutCalc.setdefault(Test[i][\"allele\"], 1)\n",
    "            Arr.append(Test[i]['allele'])\n",
    "        else:\n",
    "            if Test[i]['allele'] == \"N\":\n",
    "                tot -= 1\n",
    "            else:\n",
    "                AutCalc[Test[i][\"allele\"]] = float(AutCalc.get(Test[i][\"allele\"]) + 1)\n",
    "    Freq = {}\n",
    "    print \"\\n{} Reads where used, to determine pile-up\".format(tot) \n",
    "    tot = float(tot)\n",
    "    for i in Arr:\n",
    "        Freq.setdefault(i,float(AutCalc.get(i)/tot))\n",
    "    return Freq"
   ]
  },
  {
   "cell_type": "markdown",
   "metadata": {},
   "source": [
    "### Precursor function\n",
    "This function prepares the Read-Group set and does the inner calls, it also calls and obtains the reference bases. Note that only if the calls are correct will the function continue to make the calculations and inner calls. "
   ]
  },
  {
   "cell_type": "code",
   "execution_count": 11,
   "metadata": {
    "collapsed": false
   },
   "outputs": [],
   "source": [
    "def Variant_Comp(Position, ReadGroupSetName, Chromosm):\n",
    "    RdGrp = get_reads_for_name(ReadGroupSetName)\n",
    "    Chrm = contig.get(Chromosm, None) \n",
    "    if (Chrm != None) and type(RdGrp) != (str) :\n",
    "        base = c.list_reference_bases(Chrm, start = Position, end = Position+1)\n",
    "        var = pileUp(Chrm, Position, ReadGroupSetName, Chromosm)\n",
    "        return (str(base), var)\n",
    "    else:\n",
    "        if RdGrp == None:\n",
    "            print\"Read Group Set '{}' is not in the API\".format(ReadGroupSetName)\n",
    "        else:\n",
    "            print\"Chromosome '{}' is not in the API\".format(Chromosm)"
   ]
  },
  {
   "cell_type": "markdown",
   "metadata": {},
   "source": [
    "### Plotting Function\n",
    "This function plots, the information obtained by the others. It obtains the reference base and denotes it. It also obtains the frequencies and plots them in a pie chart. "
   ]
  },
  {
   "cell_type": "code",
   "execution_count": 12,
   "metadata": {
    "collapsed": false
   },
   "outputs": [],
   "source": [
    "def plot_vars(Position, RdGrpName, Chromo):\n",
    "    %matplotlib inline\n",
    "    import matplotlib.pyplot as plt\n",
    "    Refer, Freqs = Variant_Comp(int(Position), str(RdGrpName),str(Chromo))\n",
    "    labels = Freqs.keys()\n",
    "    sizes = Freqs.values()\n",
    "    colors = ['yellowgreen', 'gold', 'lightskyblue', 'lightcoral']\n",
    "    Expl= {}\n",
    "    Legend = []\n",
    "    print \"Reference Bases:\", Refer\n",
    "    for i in labels:\n",
    "        if Freqs.get(i) != max(sizes):\n",
    "            find_variants(int(Position), int(Position)+1, str(RdGrpName), str(Chromo))\n",
    "            Expl.setdefault(i, .15)\n",
    "            Legend.append(\"{}: {} %\".format(i, str(Freqs.get(i)*100)[:4]))\n",
    "        elif i == Refer:\n",
    "            Expl.setdefault(i,0.8)\n",
    "            Legend.append(\"{}: {} %\".format(i, str(Freqs.get(i)*100)[:4]))\n",
    "        else:\n",
    "            Expl.setdefault(i,0.0)\n",
    "            Legend.append(\"{}: {} %\".format(i, str(Freqs.get(i)*100)[:4]))\n",
    "    explode = Expl.values()\n",
    "\n",
    "    plt.pie(sizes, explode=explode, labels=labels, colors=colors,autopct='%1.1f%%', shadow=True, startangle=0)\n",
    "    plt.axis('equal')\n",
    "    plt.legend(['%s' % str(x) for x in (Legend)])\n",
    "    plt.show()"
   ]
  },
  {
   "cell_type": "markdown",
   "metadata": {},
   "source": [
    "## Widget Interface Setup\n",
    "This function calls the previous one, and sets up the interface so that it is an active application. The following one, will begin the query and plotting process."
   ]
  },
  {
   "cell_type": "code",
   "execution_count": 13,
   "metadata": {
    "collapsed": false
   },
   "outputs": [],
   "source": [
    "def Widget():\n",
    "    from ipywidgets import widgets\n",
    "    from ipywidgets import interact\n",
    "    from IPython.display import display\n",
    "    \n",
    "    t0 = widgets.Text(value=\"Position Exaple:  '120394'\", disabled=True)\n",
    "    text0 = widgets.Text()\n",
    "    t1 = widgets.Text(value=\"ReadGroupName Example:  'NA19102'\", disabled=True)\n",
    "    text1 = widgets.Text()\n",
    "    t2 = widgets.Text(value= \"ReferenceSets Example:  '1'\", disabled=True)\n",
    "    text2 = widgets.Text()\n",
    "    display(t0, text0, t1, text1, t2, text2)\n",
    "    button = widgets.Button(description=\"Submit\")\n",
    "    exit = widgets.Button(description=\"Exit\")\n",
    "    display(button, exit)\n",
    "    \n",
    "    \n",
    "    def exitFunct(c):\n",
    "        import sys\n",
    "        sys.exit([\"Thank you, you have exited the function\"]) \n",
    "    \n",
    "    def Submit(sender):\n",
    "        Pos, RgSetNm, Chrom = text0.value, text1.value, text2.value\n",
    "        chr1 = chrfunct(Chrom)\n",
    "        print \"NEXT PLOT VARS FUNCTION W/ PARAMS {}, {}, {}\".format(Pos, RgSetNm, Chrom)\n",
    "        plot_vars(Pos, RgSetNm, Chrom)\n",
    "        \n",
    "\n",
    "    def button_clicked(b):\n",
    "        print \"Position: {}, ReadGrpSet: {}, Chrom: {}\".format(text0.value, text1.value, text2.value)\n",
    "        Submit(b)    \n",
    "\n",
    "    button.on_click(button_clicked)\n",
    "    exit.on_click(exitFunct)"
   ]
  }
 ],
 "metadata": {
  "kernelspec": {
   "display_name": "Python 2",
   "language": "python",
   "name": "python2"
  },
  "language_info": {
   "codemirror_mode": {
    "name": "ipython",
    "version": 2
   },
   "file_extension": ".py",
   "mimetype": "text/x-python",
   "name": "python",
   "nbconvert_exporter": "python",
   "pygments_lexer": "ipython2",
   "version": "2.7.11"
  },
  "widgets": {
   "state": {
    "018799f38b1b429c837fe80e106b1b6a": {
     "views": []
    },
    "0dd8768ac5d8482caa1d0d7ba76552a5": {
     "views": [
      {
       "cell_index": 2
      }
     ]
    },
    "0ebad8c10ca24c36883390f6c5342822": {
     "views": []
    },
    "22b4c9f59226456e80d3e77e24326091": {
     "views": []
    },
    "2720a122ff804e54980934fda5d13884": {
     "views": []
    },
    "27ce4ac209f74dd799a19e5255a84f1e": {
     "views": []
    },
    "2d1fd31b53964f6e8d3e44a755448ef7": {
     "views": [
      {
       "cell_index": 2
      }
     ]
    },
    "2e23fa5e2b224fcba121600980ed8c63": {
     "views": []
    },
    "2f7d42f0e59a4c4f95a1ab4a4de4e32f": {
     "views": [
      {
       "cell_index": 2
      }
     ]
    },
    "329e5ef1832d4502a0c2b85c6a9f4d88": {
     "views": []
    },
    "393350614bc9479e8f14c6d212116f83": {
     "views": [
      {
       "cell_index": 2
      }
     ]
    },
    "3ef9884f3c444cdc8df128212f6235b7": {
     "views": [
      {
       "cell_index": 2
      }
     ]
    },
    "43af197596ab43779d7f5d0fcb3a8b94": {
     "views": [
      {
       "cell_index": 2
      }
     ]
    },
    "4e9061b3ccec4197992cbffb0dd0c4bd": {
     "views": []
    },
    "4f3f7c9b5d6f496094f8bb5c531c1c5c": {
     "views": []
    },
    "532c6342791547e883b9936a0a188ddd": {
     "views": []
    },
    "5f0540f3c99e46e1adc2910f8b59eb20": {
     "views": []
    },
    "629d8c27cb2a4a0287ceb11d9eea6748": {
     "views": []
    },
    "6fe06ade7c9a4392b1bfff58ecd39639": {
     "views": []
    },
    "71e5a95cef1b4ee18420f39b18597ee9": {
     "views": [
      {
       "cell_index": 2
      }
     ]
    },
    "8213eff8e41046c98cb3f14395e33a98": {
     "views": []
    },
    "857ed1f4f68241e0a876377de87a21d2": {
     "views": []
    },
    "910c7fb6c191478a915b28eb751aad60": {
     "views": []
    },
    "94e31892dfcd467e9d8f2db2ab98c3fd": {
     "views": []
    },
    "9662f9a6aeba4f258d7126c046ad530d": {
     "views": [
      {
       "cell_index": 2
      }
     ]
    },
    "96a9623d5cdd4f1c8eca4a10582b7f29": {
     "views": [
      {
       "cell_index": 2
      }
     ]
    },
    "9e57838b5026492f9a84a1fdf1b7c3f1": {
     "views": [
      {
       "cell_index": 2
      }
     ]
    },
    "a66064510ef44f90bf1c39a467b7fbc6": {
     "views": []
    },
    "a7a0172c3f974dca85400115df6f9583": {
     "views": [
      {
       "cell_index": 2
      }
     ]
    },
    "ab33f1cce0fc4440a52069d7cca056c3": {
     "views": []
    },
    "b1e223e0249949b48c7c42963319a9c7": {
     "views": []
    },
    "b2d8bd76982a4f38b8359969eda6d3bb": {
     "views": []
    },
    "b6f0f7fa167e40f1bcf8c075eeb6582b": {
     "views": []
    },
    "b8d25a16b516412b99f926b5ce6360f6": {
     "views": []
    },
    "c00b5c1d45ce4dc39bbadc9bd77477d8": {
     "views": [
      {
       "cell_index": 2
      }
     ]
    },
    "c908465888e446d9affdcb53f73150f0": {
     "views": []
    },
    "c99b31608c144cb99b805d9fe17e185a": {
     "views": [
      {
       "cell_index": 2
      }
     ]
    },
    "cf42ba17145a4b2a9103c4e628b28543": {
     "views": []
    },
    "d2aaae0617a644afa3ff197bc7ff45c0": {
     "views": []
    },
    "d664dde163ef4e16b91b0f35892d9409": {
     "views": []
    },
    "d6ad195ffc114ff08c23b91c84c148d7": {
     "views": [
      {
       "cell_index": 2
      }
     ]
    },
    "d738b6e0c54d41689db5e452218f6782": {
     "views": []
    },
    "e0c7822c400f467380b9e3c78a6c2d48": {
     "views": []
    },
    "e10ea9964763428cac6fd52556a89208": {
     "views": []
    },
    "e37d53e58cbb4f56aec803e0f86dcd61": {
     "views": [
      {
       "cell_index": 2
      }
     ]
    },
    "e6e5cf5701d74bf3b54da1939af91672": {
     "views": [
      {
       "cell_index": 2
      }
     ]
    },
    "e897c5e338974934b655716be460b071": {
     "views": []
    },
    "faa476c3a45443d4a25caec0d37f8f4c": {
     "views": []
    }
   },
   "version": "1.1.1"
  }
 },
 "nbformat": 4,
 "nbformat_minor": 0
}
