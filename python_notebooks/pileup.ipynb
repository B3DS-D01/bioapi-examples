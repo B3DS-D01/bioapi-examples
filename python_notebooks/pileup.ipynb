{
 "cells": [
  {
   "cell_type": "markdown",
   "metadata": {},
   "source": [
    "\n",
    "# Query for pile-up allignments at region \"x\""
   ]
  },
  {
   "cell_type": "markdown",
   "metadata": {},
   "source": [
    "We can query the database to obtain a pile-up of the reads from a given readgroup."
   ]
  },
  {
   "cell_type": "markdown",
   "metadata": {},
   "source": [
    "### Initialize the client\n",
    "\n",
    "As seen in the \"1kg.ipynb\" example, we take the following steps to create the client object that will be used to obtain the information we desire and query the serever "
   ]
  },
  {
   "cell_type": "code",
   "execution_count": 199,
   "metadata": {
    "collapsed": true
   },
   "outputs": [],
   "source": [
    "import ga4gh.client as client\n",
    "c = client.HttpClient(\"http://1kgenomes.ga4gh.org\")"
   ]
  },
  {
   "cell_type": "markdown",
   "metadata": {},
   "source": [
    "### Make reference to the data from the server\n",
    "\n",
    "We query the server for the dataset, which is the 1k-genomes dataset.\n",
    "We follow to access the bases of reference. So to access it we first list the reference sets."
   ]
  },
  {
   "cell_type": "code",
   "execution_count": 200,
   "metadata": {
    "collapsed": false
   },
   "outputs": [],
   "source": [
    "dataset = c.searchDatasets().next()\n",
    "referenceSet = c.searchReferenceSets().next()\n",
    "references = [r for r in c.searchReferences(referenceSetId = referenceSet.id)]"
   ]
  },
  {
   "cell_type": "markdown",
   "metadata": {},
   "source": [
    "### Reference chromosome & read group set read groups\n",
    "We define our contigues sequence with a chromosome reference, and then make a reference array for our read group sets of read groups."
   ]
  },
  {
   "cell_type": "code",
   "execution_count": 201,
   "metadata": {
    "collapsed": true
   },
   "outputs": [],
   "source": [
    "contig ={}\n",
    "for i in references:\n",
    "    contig[i.name] = str(i.id)"
   ]
  },
  {
   "cell_type": "code",
   "execution_count": 202,
   "metadata": {
    "collapsed": true
   },
   "outputs": [],
   "source": [
    "def readGroupSetByName(name):\n",
    "    result = None\n",
    "    for rgs in c.searchReadGroupSets(name=name, datasetId=dataset.id):\n",
    "        return rgs\n",
    "    return result\n",
    "def getReadGroupsByReadGroupSetName(readGroupSetName):\n",
    "    if None == readGroupSetByName(readGroupSetName):\n",
    "        return \"Sorry, bad request for {}\".format(readGroupSetName)\n",
    "    else:\n",
    "        return readGroupSetByName(readGroupSetName).read_groups"
   ]
  },
  {
   "cell_type": "code",
   "execution_count": 203,
   "metadata": {
    "collapsed": false
   },
   "outputs": [],
   "source": [
    "VarSet = [i for i in c.searchVariantSets(dataset.id)]\n",
    "\n",
    "release = None\n",
    "functional = None\n",
    "VariantRel = []\n",
    "for variantSet in c.searchVariantSets(datasetId=dataset.id):\n",
    "    if variantSet.name == \"phase3-release\":\n",
    "        VariantRel.append(variantSet)\n",
    "        release = variantSet\n",
    "    else:\n",
    "        functional = variantSet"
   ]
  },
  {
   "cell_type": "code",
   "execution_count": 236,
   "metadata": {
    "collapsed": false
   },
   "outputs": [],
   "source": []
  },
  {
   "cell_type": "code",
   "execution_count": 237,
   "metadata": {
    "collapsed": false
   },
   "outputs": [],
   "source": [
    "def GetReadsForName(Name):\n",
    "    Name = str(Name)\n",
    "    if type(getReadGroupsByReadGroupSetName(Name)) == str:\n",
    "        return getReadGroupsByReadGroupSetName(Name)\n",
    "    else:\n",
    "        return [i for i in getReadGroupsByReadGroupSetName(Name)]\n",
    "\n"
   ]
  },
  {
   "cell_type": "markdown",
   "metadata": {},
   "source": [
    "### Function to obtain the complement of a negative strand read\n",
    "This function takes the original sequence if it is in the negative strand and then returns the compliment of the input sequence "
   ]
  },
  {
   "cell_type": "markdown",
   "metadata": {},
   "source": [
    "### Pile up function\n",
    "This function calculates the pile up's for a given region, that is the position being observed. It takes as input the chromosome reference and the readgroups to obtain the needed sequence read. "
   ]
  },
  {
   "cell_type": "code",
   "execution_count": 238,
   "metadata": {
    "collapsed": false
   },
   "outputs": [],
   "source": [
    "def Cigar_Interpreter(Sequence, observe, ReferBase):\n",
    "    Temp = 0\n",
    "    BaseCounter = 0\n",
    "    Variant = \"\"\n",
    "    AligSeq = Sequence.aligned_sequence\n",
    "    InterpArr = list([])\n",
    "    Iter = 0\n",
    "    for i in Sequence.alignment.cigar:\n",
    "        Length = i.operation_length\n",
    "        if i.Operation.Name(i.operation) == \"ALIGNMENT_MATCH\":\n",
    "            InterpArr[len(InterpArr):len(InterpArr)+Length] = AligSeq[Temp:Temp+Length]\n",
    "            Temp += Length \n",
    "            BaseCounter += Length\n",
    "            \n",
    "        elif i.Operation.Name(i.operation) == \"CLIP_SOFT\":\n",
    "            Temp += Length\n",
    "            \n",
    "     \n",
    "        elif i.Operation.Name(i.operation) == \"DELETE\":\n",
    "            int_iter = 0\n",
    "            for i in range(Length):\n",
    "                InterpArr[len(InterpArr) : len(InterpArr)+1] = \"N\"\n",
    "                BaseCounter += 1\n",
    "                int_iter += 1\n",
    "                if BaseCounter == observe:\n",
    "                    Variant = ReferBase[BaseCounter:BaseCounter+int_iter]\n",
    "                    return Variant\n",
    "                \n",
    "        elif i.Operation.Name(i.operation) == \"INSERT\":\n",
    "            for i in range(Length):\n",
    "                InterpArr[len(InterpArr):len(InterpArr)+1] = AligSeq[Temp : Temp+1]\n",
    "                Temp += 1\n",
    "                if (Temp == observe) and (len(InterpArr) >= Temp+Length+1):\n",
    "                    Variant = \"\".join(InterpArr[Temp:Temp+Length+1])\n",
    "                    return Variant\n",
    "            \n",
    "        Iter += 1\n",
    "    if (Temp >= observe) and (len(Sequence.alignment.cigar) == Iter) :\n",
    "            return InterpArr[observe]\n",
    "    else: \n",
    "        return \"N\"    \n",
    "    \n",
    "    \n",
    "  "
   ]
  },
  {
   "cell_type": "code",
   "execution_count": 247,
   "metadata": {
    "collapsed": false
   },
   "outputs": [],
   "source": [
    "def pileUp(contig, position, rgset):\n",
    "    alleles = []\n",
    "    rgset = GetReadsForName(rgset)\n",
    "    #print\"THIS ISSS WHAT WE IS LOOKING FOR ________--------------*****************'''''''''''''''''''''\",rgset\n",
    "    \n",
    "    if type(rgset) != str:\n",
    "        for i in rgset:\n",
    "            for sequence in c.searchReads(readGroupIds=[i.id],start = position, end = position+1, referenceId=contig):\n",
    "                if sequence.alignment != None:\n",
    "                    start = sequence.alignment.position.position\n",
    "                    observe = position-start\n",
    "                    end = start+len(sequence.aligned_sequence)\n",
    "                    star = sequence.alignment.position.position\n",
    "                    if len(sequence.alignment.cigar) > 1:\n",
    "                        allele = Cigar_Interpreter(sequence, observe,c.listReferenceBases(chr1.id, start=star, end= end) )\n",
    "                        \n",
    "                    else:\n",
    "                        allele = sequence.aligned_sequence[observe]\n",
    "                    alleles.append({\"allele\": str(allele), \"readGroupId\":i.id})\n",
    "        return Calc_Freq(alleles)\n",
    "    \n",
    "    else:\n",
    "        return rgset"
   ]
  },
  {
   "cell_type": "markdown",
   "metadata": {},
   "source": [
    "### Function to calculate occurrence frequency\n",
    "The frequency is obtain from the occurence of alleles in the observed position. And our function returns an array of occurances for a given instance as well as the overall frequency. "
   ]
  },
  {
   "cell_type": "code",
   "execution_count": 248,
   "metadata": {
    "collapsed": false,
    "scrolled": false
   },
   "outputs": [],
   "source": [
    "def Calc_Freq(Test):\n",
    "    tot = len(Test)\n",
    "    AutCalc = {}\n",
    "    Arr = []\n",
    "    for i in range(tot):\n",
    "        if AutCalc.has_key(Test[i][\"allele\"]) == False and (Test[i]['allele'] != \"N\"):\n",
    "            AutCalc.setdefault(Test[i][\"allele\"], 1)\n",
    "            Arr.append(Test[i]['allele'])\n",
    "        else:\n",
    "            if Test[i]['allele'] == \"N\":\n",
    "                tot -= 1\n",
    "            else:\n",
    "                AutCalc[Test[i][\"allele\"]] = float(AutCalc.get(Test[i][\"allele\"]) + 1)\n",
    "    Freq = {}\n",
    "    print \"\\n{} Reads where used, to determine pile-up\".format(tot) \n",
    "    tot = float(tot)\n",
    "    for i in Arr:\n",
    "        Freq.setdefault(i,float(AutCalc.get(i)/tot))\n",
    "    return Freq"
   ]
  },
  {
   "cell_type": "code",
   "execution_count": 249,
   "metadata": {
    "collapsed": false
   },
   "outputs": [],
   "source": [
    "def Variant_Comp(Position, ReadGroupSetName, Chromo):\n",
    "    RdGrp = GetReadsForName(ReadGroupSetName)\n",
    "    Chrom = contig.get(Chromo, None) \n",
    "    if (Chrom != None) and type(RdGrp) != (str) :\n",
    "        base = c.listReferenceBases(Chrom, start = Position, end = Position+1)\n",
    "        var = pileUp(Chrom, Position, ReadGroupSetName)\n",
    "        return (str(base), var)\n",
    "    else:\n",
    "        if RdGrp == None:\n",
    "            print\"Read Group Set '{}' is not in the API\".format(ReadGroupSetName)\n",
    "        else:\n",
    "            print\"Chromosome '{}' is not in the API\".format(Chromo)"
   ]
  },
  {
   "cell_type": "code",
   "execution_count": 250,
   "metadata": {
    "collapsed": false
   },
   "outputs": [],
   "source": [
    "def plot_vars(Position, RdGrpName, Chromo):\n",
    "    %matplotlib inline\n",
    "    import matplotlib.pyplot as plt\n",
    "    chr1 = filter(lambda x: x.name == Chromo, references)[0]\n",
    "    Refer, Freqs = Variant_Comp(int(Position), str(RdGrpName),str(Chromo))\n",
    "    labels = Freqs.keys()\n",
    "    sizes = Freqs.values()\n",
    "    colors = ['yellowgreen', 'gold', 'lightskyblue', 'lightcoral']\n",
    "    Expl= {}\n",
    "    Legend = []\n",
    "    print \"Reference base is:\", Refer\n",
    "    for i in labels:\n",
    "        if i == Refer:\n",
    "            Expl.setdefault(i,0.125)\n",
    "            Legend.append(\"{}: {} %\".format(i, str(Freqs.get(i)*100)[:4]))\n",
    "        else:\n",
    "            Expl.setdefault(i,0.0)\n",
    "            Legend.append(\"{}: {} %\".format(i, str(Freqs.get(i)*100)[:4]))\n",
    "    explode = Expl.values()\n",
    "\n",
    "    plt.pie(sizes, explode=explode, labels=labels, colors=colors,autopct='%1.1f%%', shadow=True, startangle=0)\n",
    "    plt.axis('equal')\n",
    "    plt.legend(['%s' % str(x) for x in (Legend)])\n",
    "    plt.show()"
   ]
  },
  {
   "cell_type": "code",
   "execution_count": 251,
   "metadata": {
    "collapsed": false
   },
   "outputs": [],
   "source": [
    "def Widget():\n",
    "    from ipywidgets import widgets\n",
    "    from ipywidgets import interact\n",
    "    from IPython.display import display\n",
    "\n",
    "    text = widgets.Text()\n",
    "\n",
    "    display(text)\n",
    "\n",
    "    button = widgets.Button(description=\"Submit\")\n",
    "    display(button)\n",
    "\n",
    "    def Submit(sender):\n",
    "        Pos, RgSetNm, Chrom = text.value.split(', ')\n",
    "        plot_vars(Pos, RgSetNm, Chrom)\n",
    "        print \"Position: {}, ReadGrpSet: {}, Chrom: {}\".format(Pos, RgSetNm, Chrom)\n",
    "\n",
    "    def button_clicked(b):\n",
    "        Submit(b)    \n",
    "\n",
    "    button.on_click(button_clicked)\n"
   ]
  },
  {
   "cell_type": "code",
   "execution_count": 252,
   "metadata": {
    "collapsed": false
   },
   "outputs": [
    {
     "name": "stdout",
     "output_type": "stream",
     "text": [
      "Format:\n",
      "Position, ReadGroupSetName, ReferenceSetName\n",
      "Example: 10176, NA21144, 1\n",
      "\n",
      "\n",
      "732 Reads where used, to determine pile-up\n",
      "Reference base is: C\n"
     ]
    },
    {
     "data": {
      "image/png": "[encoded data removed]",
      "text/plain": [
       "<matplotlib.figure.Figure at 0x105e25c50>"
      ]
     },
     "metadata": {},
     "output_type": "display_data"
    },
    {
     "name": "stdout",
     "output_type": "stream",
     "text": [
      "Position: 10100, ReadGrpSet: NA19102, Chrom: 1\n"
     ]
    }
   ],
   "source": [
    "print \"Format:\\nPosition, ReadGroupSetName, ReferenceSetName\\nExample: 10176, NA21144, 1\\n\"\n",
    "Widget()"
   ]
  },
  {
   "cell_type": "code",
   "execution_count": 259,
   "metadata": {
    "collapsed": false
   },
   "outputs": [],
   "source": [
    "exampleVariant = [list(c.searchVariants(variantSetId=VariantRel[0].id, start=10000, end=19000, referenceName= \"1\"))]"
   ]
  },
  {
   "cell_type": "code",
   "execution_count": 261,
   "metadata": {
    "collapsed": false
   },
   "outputs": [
    {
     "name": "stdout",
     "output_type": "stream",
     "text": [
      "id: \"WyIxa2dlbm9tZXMiLCJ2cyIsInBoYXNlMy1yZWxlYXNlIiwiMSIsIjEwMTc2IiwiZDAxNmM0ZTFhZGNhZDVkMWJjODljMmNhNGFkYmEzYTgiXQ\"\n",
      "variant_set_id: \"WyIxa2dlbm9tZXMiLCJ2cyIsInBoYXNlMy1yZWxlYXNlIl0\"\n",
      "names: \"rs367896724\"\n",
      "reference_name: \"1\"\n",
      "start: 10176\n",
      "end: 10177\n",
      "reference_bases: \"A\"\n",
      "alternate_bases: \"AC\"\n",
      "info {\n",
      "  key: \"AA\"\n",
      "  value {\n",
      "    values {\n",
      "      string_value: \"|||unknown(NO_COVERAGE)\"\n",
      "    }\n",
      "  }\n",
      "}\n",
      "info {\n",
      "  key: \"AC\"\n",
      "  value {\n",
      "    values {\n",
      "      string_value: \"2130\"\n",
      "    }\n",
      "  }\n",
      "}\n",
      "info {\n",
      "  key: \"AF\"\n",
      "  value {\n",
      "    values {\n",
      "      string_value: \"0.425318986177\"\n",
      "    }\n",
      "  }\n",
      "}\n",
      "info {\n",
      "  key: \"AFR_AF\"\n",
      "  value {\n",
      "    values {\n",
      "      string_value: \"0.490900009871\"\n",
      "    }\n",
      "  }\n",
      "}\n",
      "info {\n",
      "  key: \"AMR_AF\"\n",
      "  value {\n",
      "    values {\n",
      "      string_value: \"0.360199987888\"\n",
      "    }\n",
      "  }\n",
      "}\n",
      "info {\n",
      "  key: \"AN\"\n",
      "  value {\n",
      "    values {\n",
      "      string_value: \"5008\"\n",
      "    }\n",
      "  }\n",
      "}\n",
      "info {\n",
      "  key: \"DP\"\n",
      "  value {\n",
      "    values {\n",
      "      string_value: \"103152\"\n",
      "    }\n",
      "  }\n",
      "}\n",
      "info {\n",
      "  key: \"EAS_AF\"\n",
      "  value {\n",
      "    values {\n",
      "      string_value: \"0.336299985647\"\n",
      "    }\n",
      "  }\n",
      "}\n",
      "info {\n",
      "  key: \"EUR_AF\"\n",
      "  value {\n",
      "    values {\n",
      "      string_value: \"0.405600011349\"\n",
      "    }\n",
      "  }\n",
      "}\n",
      "info {\n",
      "  key: \"NS\"\n",
      "  value {\n",
      "    values {\n",
      "      string_value: \"2504\"\n",
      "    }\n",
      "  }\n",
      "}\n",
      "info {\n",
      "  key: \"SAS_AF\"\n",
      "  value {\n",
      "    values {\n",
      "      string_value: \"0.494899988174\"\n",
      "    }\n",
      "  }\n",
      "}\n",
      "info {\n",
      "  key: \"VT\"\n",
      "  value {\n",
      "    values {\n",
      "      string_value: \"INDEL\"\n",
      "    }\n",
      "  }\n",
      "}\n",
      "\n",
      "WyIxa2dlbm9tZXMiLCJ2cyIsInBoYXNlMy1yZWxlYXNlIl0\n",
      "1\n"
     ]
    }
   ],
   "source": [
    "print exampleVariant[0][0]\n",
    "#print exampleVariant[0].start\n",
    "print release.id\n",
    "print chr1.name"
   ]
  },
  {
   "cell_type": "code",
   "execution_count": 135,
   "metadata": {
    "collapsed": false
   },
   "outputs": [
    {
     "data": {
      "text/plain": [
       "u'WyIxa2dlbm9tZXMiLCJ2cyIsInBoYXNlMy1yZWxlYXNlIl0'"
      ]
     },
     "execution_count": 135,
     "metadata": {},
     "output_type": "execute_result"
    }
   ],
   "source": [
    "VariantRel[0].id"
   ]
  },
  {
   "cell_type": "code",
   "execution_count": 157,
   "metadata": {
    "collapsed": false
   },
   "outputs": [
    {
     "data": {
      "text/plain": [
       "u'WyJOQ0JJMzciXQ'"
      ]
     },
     "execution_count": 157,
     "metadata": {},
     "output_type": "execute_result"
    }
   ],
   "source": [
    "release.reference_set_id"
   ]
  },
  {
   "cell_type": "code",
   "execution_count": null,
   "metadata": {
    "collapsed": true
   },
   "outputs": [],
   "source": []
  },
  {
   "cell_type": "code",
   "execution_count": 224,
   "metadata": {
    "collapsed": false
   },
   "outputs": [],
   "source": [
    "release = 0\n",
    "for variantSet in c.searchVariantSets(datasetId=dataset.id):\n",
    "    if variantSet.name == \"phase3-release\":\n",
    "        release = variantSet\n",
    "    \n",
    "remo = c.searchCallSets(variantSetId= variantSet.id, name= release.dataset_id)\n",
    "\n",
    "for callSet in c.searchCallSets(variantSetId= variantSet.id, name=\"NA22144\"):\n",
    "    print callSet"
   ]
  },
  {
   "cell_type": "code",
   "execution_count": null,
   "metadata": {
    "collapsed": true
   },
   "outputs": [],
   "source": []
  }
 ],
 "metadata": {
  "kernelspec": {
   "display_name": "Python 2",
   "language": "python",
   "name": "python2"
  },
  "language_info": {
   "codemirror_mode": {
    "name": "ipython",
    "version": 2
   },
   "file_extension": ".py",
   "mimetype": "text/x-python",
   "name": "python",
   "nbconvert_exporter": "python",
   "pygments_lexer": "ipython2",
   "version": "2.7.11"
  },
  "widgets": {
   "state": {
    "02b3b9f28b1c45949da66fe3751a5014": {
     "views": []
    },
    "040d38d39e25496693587837bc8097e9": {
     "views": []
    },
    "048c845afb2e4cf1b946451cad53a2d6": {
     "views": []
    },
    "0537472b5b5f47ca88c3eb2228bb897d": {
     "views": [
      {
       "cell_index": 21
      }
     ]
    },
    "0654a1970a924f97a1c06190136443fa": {
     "views": [
      {
       "cell_index": 21
      }
     ]
    },
    "075ecaa2b80d4586af66fdef263c0f8c": {
     "views": [
      {
       "cell_index": 21
      }
     ]
    },
    "0832f530bb3f4d38a3a0499b30340804": {
     "views": []
    },
    "08b3b5de315449c4b8d43f5f3486f444": {
     "views": [
      {
       "cell_index": 21
      }
     ]
    },
    "095bcacb475645e2a78b9120e77eb7f7": {
     "views": []
    },
    "0c09e5726ae24cb88cb92acac6dffc9a": {
     "views": []
    },
    "0de4dacad06a4f2f95ad4b6797323915": {
     "views": [
      {
       "cell_index": 21
      }
     ]
    },
    "0f4d3d4511a9454cbaa6f628a1c5a5bf": {
     "views": []
    },
    "15e35de60bf5405f80976d19259905a7": {
     "views": []
    },
    "1a7b0c5f80164261a6afc843f743729d": {
     "views": []
    },
    "1c0c478cad384cc088d558c8359548fd": {
     "views": []
    },
    "1eec2c228f384c8fa2304665f75a058b": {
     "views": []
    },
    "21b8e492a49949a4998d7a80ae56b748": {
     "views": []
    },
    "227f2bb0f34b4fafa5408f165ccac85f": {
     "views": []
    },
    "24eea26b92c241eabbbe3d959335463e": {
     "views": [
      {
       "cell_index": 21
      }
     ]
    },
    "2672a8aa2ded422589bc9942876717cb": {
     "views": []
    },
    "2886898e4e8749eba33c35a97ffa51ae": {
     "views": []
    },
    "288757c4948c4c16b215050dfa4e09a6": {
     "views": [
      {
       "cell_index": 21
      }
     ]
    },
    "2971ac05a2ea49c1878302983b12d345": {
     "views": [
      {
       "cell_index": 21
      }
     ]
    },
    "2a280eeb6bb542818e8597d6bd7d7e61": {
     "views": [
      {
       "cell_index": 21
      }
     ]
    },
    "2b62c1311fee4b99936680caec356cd3": {
     "views": []
    },
    "2b6d56e23f2b49ebbb641afc707a4bd7": {
     "views": [
      {
       "cell_index": 21
      }
     ]
    },
    "2b708c49d0e74c76bb8cc98a427c08ec": {
     "views": []
    },
    "2dc220ddb56d4df4a8f56c55fb384647": {
     "views": []
    },
    "3294bfe6c7bd4c179ea92f41b8a8170f": {
     "views": [
      {
       "cell_index": 21
      }
     ]
    },
    "33051a7f226840d888333b4d5f1822d1": {
     "views": [
      {
       "cell_index": 21
      }
     ]
    },
    "3c59d06b3dee4c8b998112d6a4bd86a0": {
     "views": []
    },
    "3fa33ff9434243dd88f1fcdb6ade5f3a": {
     "views": []
    },
    "400c12dfaf264f98983d97785d45e062": {
     "views": []
    },
    "404e7435d9bb4d42b2ac2bbb0ec43b27": {
     "views": [
      {
       "cell_index": 21
      }
     ]
    },
    "436c2cf52c604fdf937f10e15057df48": {
     "views": []
    },
    "44ef70330dcb4170b6167290fd71122b": {
     "views": []
    },
    "48a2180f9cfc425dbe30a4e92ac6c6b8": {
     "views": []
    },
    "4c1dc9ef34f44202a5ea20b60a8d2db5": {
     "views": []
    },
    "4d342fb2ab81452a8866c7c34309556a": {
     "views": []
    },
    "4f636f62b6914904bb4835625719e85b": {
     "views": []
    },
    "501015b126754290a15155c1febd6d81": {
     "views": []
    },
    "509caa3498264641ad827a90e7fc8bec": {
     "views": []
    },
    "54026211c97a4b6b9c689485fb11691e": {
     "views": []
    },
    "54f9158c17354e698ecd07c6c6691a48": {
     "views": []
    },
    "56125957eaa74857a4540354b027e3ca": {
     "views": []
    },
    "580f2a2c07524e0cbd4f5ad7ca131df2": {
     "views": []
    },
    "58829ef26bec454793ebf9f0646148de": {
     "views": [
      {
       "cell_index": 21
      }
     ]
    },
    "5a073d1ff37b472d93a080b94aca848f": {
     "views": []
    },
    "5bf15df5521b4e08ba22d18ae7104732": {
     "views": [
      {
       "cell_index": 21
      }
     ]
    },
    "5cfecf56523a4cf19ff0a0386ec9dcba": {
     "views": []
    },
    "5f4fe7ba8c8546c5a8f2356323bdc689": {
     "views": []
    },
    "5fb2470b1a9f485f88ca4deb4fc664c4": {
     "views": []
    },
    "60500ad0623343bdb84fcdd82eb75814": {
     "views": []
    },
    "60b0550182564860a107d2e6c9f7e320": {
     "views": []
    },
    "661699de084f4a9f80f15b43c1a8bee9": {
     "views": [
      {
       "cell_index": 21
      }
     ]
    },
    "68bf5759f32449b6a3713e27989a17f7": {
     "views": []
    },
    "6bdebdd5030d446292529716bccc63b1": {
     "views": []
    },
    "6c1f9648f1fa411ead98b1c29eb07433": {
     "views": [
      {
       "cell_index": 21
      }
     ]
    },
    "6e03ed0bfabf49d2b9bf332db3675897": {
     "views": [
      {
       "cell_index": 21
      }
     ]
    },
    "72e1fbd2b40f45f8bc37568346fc0c37": {
     "views": []
    },
    "73049ce145924d3d8a8f44ac2dedfb62": {
     "views": []
    },
    "7357c50dca714d2db0846754eac5448f": {
     "views": []
    },
    "7388a92bdde44449a6285974f3885fb9": {
     "views": []
    },
    "74e6f9e9840145bea38ab357a6eec8cf": {
     "views": [
      {
       "cell_index": 21
      }
     ]
    },
    "776c184f67cf45bcbe64b8acbc0e2b06": {
     "views": [
      {
       "cell_index": 21
      }
     ]
    },
    "799d01f23d4a436db73612a8bb4e94bd": {
     "views": [
      {
       "cell_index": 21
      }
     ]
    },
    "7ec7f23cf09249d586f2dd2d1b4650e7": {
     "views": []
    },
    "83602eeab6d7443c98579b707246ed82": {
     "views": []
    },
    "846d44129045467584af8c506449b154": {
     "views": []
    },
    "85918c6a9d4f41c99cdf785806c08aa3": {
     "views": []
    },
    "879c9f8b4ab8405da07678e758f30f96": {
     "views": []
    },
    "87c346821bf548648ff38676738e369e": {
     "views": []
    },
    "88a0c52f52714b8aaa767bf08726abb5": {
     "views": []
    },
    "8a04f9d036d444c2ae8a12e56214bae1": {
     "views": []
    },
    "8f1262e8026c44cbbd1056c20640f5f3": {
     "views": []
    },
    "8f379f64e2f0464490d65b0dd964eb1d": {
     "views": []
    },
    "8f8235bb52c846e7ad6086d298fae60c": {
     "views": [
      {
       "cell_index": 22
      }
     ]
    },
    "9244ac1baf944ebb841ebf374f7c8b5e": {
     "views": []
    },
    "92e73f2b97b14f52a615d94253872cc5": {
     "views": []
    },
    "963acdf9e0e64abd9885bae9403a613c": {
     "views": []
    },
    "9662ba5b091e43e08e368b57d4eb20dc": {
     "views": [
      {
       "cell_index": 21
      }
     ]
    },
    "9a3a8011018d479aadc164ab7543785a": {
     "views": []
    },
    "9bc25d47b93549a0b534da2f623e9535": {
     "views": []
    },
    "9f53f7ac9bd34f4aacb386706e774d98": {
     "views": []
    },
    "a58d554a781b4ff99031273e121f9767": {
     "views": []
    },
    "a696203d57f3458ab8ca1c51623bfa2c": {
     "views": []
    },
    "a82e7b01972642d5a528f13df487f085": {
     "views": []
    },
    "a8f59e18e52d472f9e9530660d46cd8b": {
     "views": []
    },
    "aaa9ca64e74c49818816285a5be739f3": {
     "views": []
    },
    "aaeb40778f4546368772527b26258200": {
     "views": []
    },
    "ac62a689c9f844feb496074e6698a96f": {
     "views": []
    },
    "addd0562e68a41659f985bb39a540203": {
     "views": [
      {
       "cell_index": 21
      }
     ]
    },
    "af95a509aec34c4ba6b20c12d99cb7f7": {
     "views": []
    },
    "b22934d134184a6281c7412c612713ed": {
     "views": []
    },
    "b25a3098763d4601828f52db0a87ec32": {
     "views": [
      {
       "cell_index": 21
      }
     ]
    },
    "b38586d3c01c4b23a077c502ec19b6f7": {
     "views": []
    },
    "b5285ecc08984d21afbce398a90d6fe7": {
     "views": []
    },
    "b54eb17a1c97478ead6ef652ef822ffe": {
     "views": [
      {
       "cell_index": 21
      }
     ]
    },
    "bc6e3510f7424f14bbb2a6f416820a86": {
     "views": []
    },
    "be94fc7a9ce5441ebdb54c9073769d51": {
     "views": []
    },
    "c08d945c016b487e90089692867947bf": {
     "views": []
    },
    "c2f1e6f630f044e298f5032769418161": {
     "views": []
    },
    "c843a7a5cccd44ffa3e30e71652f6709": {
     "views": []
    },
    "c9c9199b2961485da8b540e79c5ad32f": {
     "views": []
    },
    "cce9bab7ec6148b382cb202eaa960ee5": {
     "views": []
    },
    "d06abc4965a9424ca727d9b7a8fcdf18": {
     "views": [
      {
       "cell_index": 21
      }
     ]
    },
    "d435ecb2d1314f4ca99909e6cbed95cf": {
     "views": [
      {
       "cell_index": 21
      }
     ]
    },
    "d6e107f95e104ff48e8d5ae6cd153dc6": {
     "views": []
    },
    "d806fc64815c4bf5bf19066b2987068a": {
     "views": []
    },
    "dad1422fe7db4ff89274dead94dbf2a8": {
     "views": []
    },
    "db7db7625930489184134f7f7617d4dd": {
     "views": []
    },
    "dbfbcce87d094bd9ba1d392b6d1c52f3": {
     "views": [
      {
       "cell_index": 21
      }
     ]
    },
    "dd7bf1a20f6440ada665725a943efad4": {
     "views": [
      {
       "cell_index": 21
      }
     ]
    },
    "ddbe1ac4c4a745f48ca1b89054dd3e5a": {
     "views": []
    },
    "de1ec94ec0374113841ab176f02b1342": {
     "views": []
    },
    "de28c7fd39c54b87828d3e2a59943717": {
     "views": [
      {
       "cell_index": 21
      }
     ]
    },
    "e09502e8040b49999802b8acf6df630b": {
     "views": []
    },
    "e4544baf95244ce2b23754b517887cb5": {
     "views": [
      {
       "cell_index": 21
      }
     ]
    },
    "e85d85cbd6d9423682ecb6089c4fdf1d": {
     "views": []
    },
    "e8ebf05e4e54464085a16ed99eb8d033": {
     "views": []
    },
    "ea105ed5e5ba43518ef099252ed7d417": {
     "views": [
      {
       "cell_index": 21
      }
     ]
    },
    "eaaaf7bb06ea4b28b6b18805cc3a867d": {
     "views": []
    },
    "eb18c202993b4d8aa0c78ec35b5e088a": {
     "views": []
    },
    "ec82df26fc9b45ed881208ee89dad287": {
     "views": []
    },
    "ecf4f2de05944dfea9c9f953a08ed517": {
     "views": []
    },
    "edc10b2985484715b9235709f36d56d6": {
     "views": [
      {
       "cell_index": 21
      }
     ]
    },
    "f098dd9dcb104a6bb4406b1b73c0b9ab": {
     "views": []
    },
    "f1a422aa3c5d4bc29c9858a645e2187b": {
     "views": []
    },
    "f1c2d6dd23b646eaabd09e0ff2d1e9aa": {
     "views": [
      {
       "cell_index": 21
      }
     ]
    },
    "f3c6c21f5aec4f498d79c37b81d73364": {
     "views": []
    },
    "f3dd5ed16af440d0a92e2444fa1f5924": {
     "views": []
    },
    "f430caec9c7a4aacbc38d3a1fa38da9d": {
     "views": []
    },
    "f6285b5af4764befabc50bf558617a94": {
     "views": []
    },
    "f6c9b29088b14a54ad4fcb164b7dfbd5": {
     "views": [
      {
       "cell_index": 21
      }
     ]
    },
    "f8e89b0397624c3f80e9a1cdbcdffa02": {
     "views": []
    },
    "fbc3664fcc0e4c1aa22b7ef9498a4ea2": {
     "views": []
    },
    "fd4c390885744999ac1c2a0cf94d18d2": {
     "views": []
    },
    "fda949c234234b50bc6c12ab268eaefc": {
     "views": []
    },
    "fdc3a343b17a4baa87d35668f0b0a4a7": {
     "views": []
    },
    "fdf9a6cb0d3f4aa195758fe49a00ed0d": {
     "views": []
    }
   },
   "version": "1.1.2"
  }
 },
 "nbformat": 4,
 "nbformat_minor": 0
}
