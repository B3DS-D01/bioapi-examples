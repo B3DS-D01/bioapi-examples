{
 "cells": [
  {
   "cell_type": "markdown",
   "metadata": {},
   "source": [
    "# Query for pile-up allignments at region \"x\""
   ]
  },
  {
   "cell_type": "markdown",
   "metadata": {},
   "source": [
    "We can query the database to obtain a pile-up of the reads from a given readgroup."
   ]
  },
  {
   "cell_type": "markdown",
   "metadata": {},
   "source": [
    "### Initialize the client\n",
    "\n",
    "As seen in the \"1kg.ipynb\" example, we take the following steps to create the client object that will be used to obtain the information we desire and query the serever "
   ]
  },
  {
   "cell_type": "code",
   "execution_count": 1,
   "metadata": {
    "collapsed": true
   },
   "outputs": [],
   "source": [
    "import ga4gh.client as client\n",
    "c = client.HttpClient(\"http://1kgenomes.ga4gh.org\")"
   ]
  },
  {
   "cell_type": "markdown",
   "metadata": {},
   "source": [
    "### Make reference to the data from the server\n",
    "\n",
    "We query the server for the dataset, which is the 1k-genomes dataset.\n",
    "We follow to access the bases of reference. So to access it we first list the reference sets."
   ]
  },
  {
   "cell_type": "code",
   "execution_count": 2,
   "metadata": {
    "collapsed": false
   },
   "outputs": [],
   "source": [
    "dataset = c.searchDatasets().next()\n",
    "referenceSet = c.searchReferenceSets().next()\n",
    "references = [r for r in c.searchReferences(referenceSetId = referenceSet.id)]"
   ]
  },
  {
   "cell_type": "markdown",
   "metadata": {},
   "source": [
    "### Reference chromosome & read group set read groups\n",
    "We define our contigues sequence with a chromosome reference, and then make a reference array for our read group sets of read groups."
   ]
  },
  {
   "cell_type": "code",
   "execution_count": 3,
   "metadata": {
    "collapsed": true
   },
   "outputs": [],
   "source": [
    "contig ={}\n",
    "for i in references:\n",
    "    contig[i.name] = str(i.id)"
   ]
  },
  {
   "cell_type": "code",
   "execution_count": 30,
   "metadata": {
    "collapsed": true
   },
   "outputs": [],
   "source": [
    "def readGroupSetByName(name):\n",
    "    result = None\n",
    "    for rgs in c.searchReadGroupSets(name=name, datasetId=dataset.id):\n",
    "        return rgs\n",
    "    return result\n",
    "def getReadGroupsByReadGroupSetName(readGroupSetName):\n",
    "    if None == readGroupSetByName(readGroupSetName):\n",
    "        return \"Sorry, bad request for {}\".format(readGroupSetName)\n",
    "    else:\n",
    "        return readGroupSetByName(readGroupSetName).readGroups"
   ]
  },
  {
   "cell_type": "code",
   "execution_count": 41,
   "metadata": {
    "collapsed": false
   },
   "outputs": [],
   "source": [
    "def GetReadsForName(Name):\n",
    "    Name = str(Name)\n",
    "    if type(getReadGroupsByReadGroupSetName(Name)) == str:\n",
    "        return getReadGroupsByReadGroupSetName(Name)\n",
    "    else:\n",
    "        return [i for i in getReadGroupsByReadGroupSetName(Name)]\n",
    "\n"
   ]
  },
  {
   "cell_type": "markdown",
   "metadata": {},
   "source": [
    "### Function to obtain the complement of a negative strand read\n",
    "This function takes the original sequence if it is in the negative strand and then returns the compliment of the input sequence "
   ]
  },
  {
   "cell_type": "code",
   "execution_count": 43,
   "metadata": {
    "collapsed": false
   },
   "outputs": [],
   "source": [
    "def Revers_Compl(Sequence):\n",
    "    CompSeq = list(Sequence[:])\n",
    "    for i in range(len(Sequence)):\n",
    "        if Sequence[i]==\"A\":\n",
    "            CompSeq[i] = \"T\"\n",
    "        elif Sequence[i]==\"C\":\n",
    "            CompSeq[i] = \"G\"\n",
    "        elif Sequence[i] == \"G\":\n",
    "            CompSeq[i] = \"C\"\n",
    "        elif Sequence[i] == \"T\":\n",
    "            CompSeq[i] = \"A\"\n",
    "        else:\n",
    "            CompSeq[i] = \"N\"\n",
    "    return \"\".join(CompSeq)"
   ]
  },
  {
   "cell_type": "markdown",
   "metadata": {},
   "source": [
    "### Pile up function\n",
    "This function calculates the pile up's for a given region, that is the position being observed. It takes as input the chromosome reference and the readgroups to obtain the needed sequence read. "
   ]
  },
  {
   "cell_type": "code",
   "execution_count": 47,
   "metadata": {
    "collapsed": false
   },
   "outputs": [],
   "source": [
    "def pileUp(contig, position, rgset):\n",
    "    alleles = []\n",
    "    rgset = GetReadsForName(rgset)\n",
    "    if type(rgset) != str:\n",
    "        for i in rgset:\n",
    "            for sequence in c.searchReads(readGroupIds=[i.id],start = position, end = position+1, referenceId=contig):\n",
    "                if sequence.alignment != None:\n",
    "                    start = sequence.alignment.position.position\n",
    "                    observe = position-start\n",
    "                    if sequence.alignment.position.strand == \"NEG_STRAND\":\n",
    "                        Rev_Comp_Seq = Revers_Compl(sequence.alignedSequence)\n",
    "                        allele = Rev_Comp_Seq[-(observe+1)]\n",
    "                        alleles.append({\"allele\":allele, \"readGroupId\":i.id})\n",
    "                    else:\n",
    "                        allele = sequence.alignedSequence[observe]\n",
    "                        alleles.append({\"allele\": allele, \"readGroupId\": i.id })\n",
    "        return Calc_Freq(alleles)         \n",
    "    else:\n",
    "        return rgset"
   ]
  },
  {
   "cell_type": "markdown",
   "metadata": {},
   "source": [
    "### Function to calculate occurrence frequency\n",
    "The frequency is obtain from the occurence of alleles in the observed position. And our function returns an array of occurances for a given instance as well as the overall frequency. "
   ]
  },
  {
   "cell_type": "code",
   "execution_count": 44,
   "metadata": {
    "collapsed": false,
    "scrolled": false
   },
   "outputs": [],
   "source": [
    "def Calc_Freq(Test):\n",
    "    #Test = pileUp(references[0].id, Position, rgIdsArr)\n",
    "    tot = len(Test)\n",
    "    A = [{\"All\": \"A\",\"Frq\": float(0),\"Occ\": 0},{\"All\": \"C\",\"Frq\": float(0), \"Occ\": 0},{\"All\": \"G\",\"Frq\": float(0), \"Occ\": 0},{\"All\": \"T\",\"Frq\": float(0), \"Occ\": 0}]\n",
    "    for i in range(tot):\n",
    "        if Test[i][\"allele\"] == \"A\":\n",
    "            A[0][\"Occ\"] += 1\n",
    "        elif Test[i][\"allele\"]==\"C\":\n",
    "            A[1][\"Occ\"] += 1\n",
    "        elif Test[i][\"allele\"] == \"G\":\n",
    "            A[2][\"Occ\"] += 1\n",
    "        elif Test[i][\"allele\"] == \"T\":\n",
    "            A[3][\"Occ\"] += 1\n",
    "        else:\n",
    "            tot -= 1        \n",
    "    A[0][\"Frq\"] = float(A[0][\"Occ\"])/float(tot)\n",
    "    A[1][\"Frq\"] = float(A[1][\"Occ\"])/float(tot)\n",
    "    A[2][\"Frq\"] = float(A[2][\"Occ\"])/float(tot)\n",
    "    A[3][\"Frq\"] = float(A[3][\"Occ\"])/float(tot)\n",
    "    return A"
   ]
  },
  {
   "cell_type": "code",
   "execution_count": 22,
   "metadata": {
    "collapsed": false
   },
   "outputs": [],
   "source": [
    "#chrl = filter(lambda x: x.name == \"1\", references)[0]"
   ]
  },
  {
   "cell_type": "code",
   "execution_count": 54,
   "metadata": {
    "collapsed": false
   },
   "outputs": [],
   "source": [
    "def Variant_Comp(Position, ReadGroupSetName, Chromo):\n",
    "    RdGrp = rgIdsArr.get(ReadGroupSetName, None)\n",
    "    Chrom = contig.get(Chromo, None) \n",
    "    if (RdGrp and Chrom) != None:\n",
    "        base = c.listReferenceBases(Chrom, start = Position, end = Position+1)\n",
    "        var = pileUp(Chrom, Position, RdGrp)\n",
    "        print base\n",
    "        print max(var)\n",
    "    else:\n",
    "        if RdGrp == None:\n",
    "            print\"Read Group Set '{}' is not in the API\".format(ReadGroupSetName)\n",
    "        else:\n",
    "            print\"Chromosome '{}' is not in the API\".format(Chromo)"
   ]
  },
  {
   "cell_type": "code",
   "execution_count": 61,
   "metadata": {
    "collapsed": false
   },
   "outputs": [
    {
     "name": "stdout",
     "output_type": "stream",
     "text": [
      "G\n",
      "{'All': 'T', 'Frq': 0.0, 'Occ': 0}\n"
     ]
    }
   ],
   "source": [
    "Variant_Comp(1058000,\"NA19102\",\"1\")"
   ]
  },
  {
   "cell_type": "code",
   "execution_count": null,
   "metadata": {
    "collapsed": true
   },
   "outputs": [],
   "source": []
  }
 ],
 "metadata": {
  "kernelspec": {
   "display_name": "Python 2",
   "language": "python",
   "name": "python2"
  },
  "language_info": {
   "codemirror_mode": {
    "name": "ipython",
    "version": 2
   },
   "file_extension": ".py",
   "mimetype": "text/x-python",
   "name": "python",
   "nbconvert_exporter": "python",
   "pygments_lexer": "ipython2",
   "version": "2.7.11"
  },
  "widgets": {
   "state": {},
   "version": "1.1.1"
  }
 },
 "nbformat": 4,
 "nbformat_minor": 0
}
