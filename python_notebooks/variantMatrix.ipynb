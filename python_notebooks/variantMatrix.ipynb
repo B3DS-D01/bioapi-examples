{
 "cells": [
  {
   "cell_type": "markdown",
   "metadata": {},
   "source": [
    "# Variant Call Adjacency Matrix\n"
   ]
  },
  {
   "cell_type": "markdown",
   "metadata": {},
   "source": [
    "An interconnected matrix of variants from data in 1000 genomes.\n"
   ]
  },
  {
   "cell_type": "markdown",
   "metadata": {},
   "source": [
    "# GA4GH Server Connection Established"
   ]
  },
  {
   "cell_type": "markdown",
   "metadata": {},
   "source": [
    "Here, like the 1kg example, a client object is used to communicate with the server."
   ]
  },
  {
   "cell_type": "code",
   "execution_count": 1,
   "metadata": {
    "collapsed": false
   },
   "outputs": [],
   "source": [
    "from __future__ import print_function\n",
    "import ga4gh.client as client\n",
    "data = client.HttpClient(\"http://1kgenomes.ga4gh.org\")\n",
    "\n",
    "import collections\n",
    "%matplotlib inline\n",
    "import matplotlib\n",
    "import numpy as np\n",
    "import matplotlib.pyplot as plt\n",
    "import matplotlib.mlab as mlab\n",
    "from mpl_toolkits.axes_grid1 import ImageGrid\n",
    "#import Figtodat\n",
    "#from images2gif import writeGif"
   ]
  },
  {
   "cell_type": "markdown",
   "metadata": {},
   "source": [
    "# Data Sets "
   ]
  },
  {
   "cell_type": "code",
   "execution_count": 2,
   "metadata": {
    "collapsed": false
   },
   "outputs": [
    {
     "name": "stdout",
     "output_type": "stream",
     "text": [
      "Datasets\n",
      "Name: 1kgenomes\n"
     ]
    }
   ],
   "source": [
    "datasets = list(data.searchDatasets())\n",
    "print(\"Datasets\")\n",
    "for dataset in datasets:\n",
    "    print(\"Name: {}\".format(dataset.name))"
   ]
  },
  {
   "cell_type": "code",
   "execution_count": 3,
   "metadata": {
    "collapsed": false
   },
   "outputs": [],
   "source": [
    "dataset = data.getDataset(datasets[0].id)"
   ]
  },
  {
   "cell_type": "code",
   "execution_count": 4,
   "metadata": {
    "collapsed": false
   },
   "outputs": [],
   "source": [
    "release = None\n",
    "functional = None\n",
    "for variantSet in data.searchVariantSets(datasetId=dataset.id):\n",
    "    if variantSet.name == \"phase3-release\":\n",
    "        release = variantSet\n",
    "    else:\n",
    "        functional = variantSet"
   ]
  },
  {
   "cell_type": "code",
   "execution_count": 5,
   "metadata": {
    "collapsed": false
   },
   "outputs": [],
   "source": [
    "callsi = list(data.searchCallSets(release.id))\n",
    "\n",
    "variantSets = list(data.searchVariantSets(dataset.id))\n",
    "variantSetId = variantSets[0].id\n",
    "\n",
    "call_set_ids = []\n",
    "\n",
    "for csi in callsi:        \n",
    "    call_set_ids.append(csi.id)"
   ]
  },
  {
   "cell_type": "markdown",
   "metadata": {},
   "source": [
    "# generate_dictionary function"
   ]
  },
  {
   "cell_type": "markdown",
   "metadata": {},
   "source": [
    "generates a dictionary of call set id keys and values for the index of that the call set id appeared throughout a list of variants within a given range on the human genome"
   ]
  },
  {
   "cell_type": "code",
   "execution_count": 6,
   "metadata": {
    "collapsed": true
   },
   "outputs": [],
   "source": [
    "def generate_dictionary(num_people, num_chrom, begin, stop):\n",
    "    \n",
    "    #x = data.searchVariants(variantSetId, start=begin, end=stop, \n",
    "    #referenceName = num_chrom).next()\n",
    "      \n",
    "    dictionary = {}\n",
    "    \n",
    "    variants = data.searchVariants(variantSetId, callSetIds= call_set_ids[0:num_people],\n",
    "           start=begin, end=stop, referenceName = num_chrom )\n",
    "    \n",
    "    i = 0\n",
    "    for v in variants:\n",
    "        for call_inner in v.calls:\n",
    "            i += 1\n",
    "            dictionary[call_inner.call_set_id] = i\n",
    "    \n",
    "    return (dictionary)  "
   ]
  },
  {
   "cell_type": "markdown",
   "metadata": {},
   "source": [
    "# normalize_indexes function"
   ]
  },
  {
   "cell_type": "markdown",
   "metadata": {},
   "source": [
    "initializes the indexes of the variant dictionay to be {0,...,n} where n is the number of call set ids "
   ]
  },
  {
   "cell_type": "code",
   "execution_count": 7,
   "metadata": {
    "collapsed": false
   },
   "outputs": [],
   "source": [
    "def normalize_indexes(dictionary):\n",
    "       \n",
    "    keys = []\n",
    "    keys = dictionary.keys()\n",
    "    \n",
    "    new_dictionary = {}\n",
    "    i = 0\n",
    "    j = 0\n",
    "    k = 0\n",
    "    for i in range(len(dictionary)):        \n",
    "        l = keys[j]\n",
    "        dictionary[l] = k\n",
    "        j += 1\n",
    "        k += 1\n",
    "    \n",
    "    return dictionary"
   ]
  },
  {
   "cell_type": "code",
   "execution_count": 8,
   "metadata": {
    "collapsed": false
   },
   "outputs": [
    {
     "data": {
      "text/plain": [
       "{u'WyIxa2dlbm9tZXMiLCJ2cyIsInBoYXNlMy1yZWxlYXNlIiwiSEcwMDA5NiJd': 20,\n",
       " u'WyIxa2dlbm9tZXMiLCJ2cyIsInBoYXNlMy1yZWxlYXNlIiwiSEcwMDA5NyJd': 14,\n",
       " u'WyIxa2dlbm9tZXMiLCJ2cyIsInBoYXNlMy1yZWxlYXNlIiwiSEcwMDA5OSJd': 8,\n",
       " u'WyIxa2dlbm9tZXMiLCJ2cyIsInBoYXNlMy1yZWxlYXNlIiwiSEcwMDE0MCJd': 17,\n",
       " u'WyIxa2dlbm9tZXMiLCJ2cyIsInBoYXNlMy1yZWxlYXNlIiwiSEcwMDEwMCJd': 27,\n",
       " u'WyIxa2dlbm9tZXMiLCJ2cyIsInBoYXNlMy1yZWxlYXNlIiwiSEcwMDEwMSJd': 15,\n",
       " u'WyIxa2dlbm9tZXMiLCJ2cyIsInBoYXNlMy1yZWxlYXNlIiwiSEcwMDEwMiJd': 34,\n",
       " u'WyIxa2dlbm9tZXMiLCJ2cyIsInBoYXNlMy1yZWxlYXNlIiwiSEcwMDEwMyJd': 38,\n",
       " u'WyIxa2dlbm9tZXMiLCJ2cyIsInBoYXNlMy1yZWxlYXNlIiwiSEcwMDEwNSJd': 30,\n",
       " u'WyIxa2dlbm9tZXMiLCJ2cyIsInBoYXNlMy1yZWxlYXNlIiwiSEcwMDEwNiJd': 5,\n",
       " u'WyIxa2dlbm9tZXMiLCJ2cyIsInBoYXNlMy1yZWxlYXNlIiwiSEcwMDEwNyJd': 1,\n",
       " u'WyIxa2dlbm9tZXMiLCJ2cyIsInBoYXNlMy1yZWxlYXNlIiwiSEcwMDEwOCJd': 32,\n",
       " u'WyIxa2dlbm9tZXMiLCJ2cyIsInBoYXNlMy1yZWxlYXNlIiwiSEcwMDEwOSJd': 6,\n",
       " u'WyIxa2dlbm9tZXMiLCJ2cyIsInBoYXNlMy1yZWxlYXNlIiwiSEcwMDExMCJd': 36,\n",
       " u'WyIxa2dlbm9tZXMiLCJ2cyIsInBoYXNlMy1yZWxlYXNlIiwiSEcwMDExMSJd': 10,\n",
       " u'WyIxa2dlbm9tZXMiLCJ2cyIsInBoYXNlMy1yZWxlYXNlIiwiSEcwMDExMiJd': 9,\n",
       " u'WyIxa2dlbm9tZXMiLCJ2cyIsInBoYXNlMy1yZWxlYXNlIiwiSEcwMDExMyJd': 2,\n",
       " u'WyIxa2dlbm9tZXMiLCJ2cyIsInBoYXNlMy1yZWxlYXNlIiwiSEcwMDExNCJd': 11,\n",
       " u'WyIxa2dlbm9tZXMiLCJ2cyIsInBoYXNlMy1yZWxlYXNlIiwiSEcwMDExNSJd': 3,\n",
       " u'WyIxa2dlbm9tZXMiLCJ2cyIsInBoYXNlMy1yZWxlYXNlIiwiSEcwMDExNiJd': 33,\n",
       " u'WyIxa2dlbm9tZXMiLCJ2cyIsInBoYXNlMy1yZWxlYXNlIiwiSEcwMDExNyJd': 7,\n",
       " u'WyIxa2dlbm9tZXMiLCJ2cyIsInBoYXNlMy1yZWxlYXNlIiwiSEcwMDExOCJd': 35,\n",
       " u'WyIxa2dlbm9tZXMiLCJ2cyIsInBoYXNlMy1yZWxlYXNlIiwiSEcwMDExOSJd': 39,\n",
       " u'WyIxa2dlbm9tZXMiLCJ2cyIsInBoYXNlMy1yZWxlYXNlIiwiSEcwMDEyMCJd': 29,\n",
       " u'WyIxa2dlbm9tZXMiLCJ2cyIsInBoYXNlMy1yZWxlYXNlIiwiSEcwMDEyMSJd': 22,\n",
       " u'WyIxa2dlbm9tZXMiLCJ2cyIsInBoYXNlMy1yZWxlYXNlIiwiSEcwMDEyMiJd': 13,\n",
       " u'WyIxa2dlbm9tZXMiLCJ2cyIsInBoYXNlMy1yZWxlYXNlIiwiSEcwMDEyMyJd': 23,\n",
       " u'WyIxa2dlbm9tZXMiLCJ2cyIsInBoYXNlMy1yZWxlYXNlIiwiSEcwMDEyNSJd': 28,\n",
       " u'WyIxa2dlbm9tZXMiLCJ2cyIsInBoYXNlMy1yZWxlYXNlIiwiSEcwMDEyNiJd': 26,\n",
       " u'WyIxa2dlbm9tZXMiLCJ2cyIsInBoYXNlMy1yZWxlYXNlIiwiSEcwMDEyNyJd': 21,\n",
       " u'WyIxa2dlbm9tZXMiLCJ2cyIsInBoYXNlMy1yZWxlYXNlIiwiSEcwMDEyOCJd': 25,\n",
       " u'WyIxa2dlbm9tZXMiLCJ2cyIsInBoYXNlMy1yZWxlYXNlIiwiSEcwMDEyOSJd': 18,\n",
       " u'WyIxa2dlbm9tZXMiLCJ2cyIsInBoYXNlMy1yZWxlYXNlIiwiSEcwMDEzMCJd': 4,\n",
       " u'WyIxa2dlbm9tZXMiLCJ2cyIsInBoYXNlMy1yZWxlYXNlIiwiSEcwMDEzMSJd': 0,\n",
       " u'WyIxa2dlbm9tZXMiLCJ2cyIsInBoYXNlMy1yZWxlYXNlIiwiSEcwMDEzMiJd': 37,\n",
       " u'WyIxa2dlbm9tZXMiLCJ2cyIsInBoYXNlMy1yZWxlYXNlIiwiSEcwMDEzMyJd': 31,\n",
       " u'WyIxa2dlbm9tZXMiLCJ2cyIsInBoYXNlMy1yZWxlYXNlIiwiSEcwMDEzNiJd': 19,\n",
       " u'WyIxa2dlbm9tZXMiLCJ2cyIsInBoYXNlMy1yZWxlYXNlIiwiSEcwMDEzNyJd': 24,\n",
       " u'WyIxa2dlbm9tZXMiLCJ2cyIsInBoYXNlMy1yZWxlYXNlIiwiSEcwMDEzOCJd': 12,\n",
       " u'WyIxa2dlbm9tZXMiLCJ2cyIsInBoYXNlMy1yZWxlYXNlIiwiSEcwMDEzOSJd': 16}"
      ]
     },
     "execution_count": 8,
     "metadata": {},
     "output_type": "execute_result"
    }
   ],
   "source": [
    "dictionary = generate_dictionary(40, \"1\", 100000, 105000 )\n",
    "#print()\n",
    "normalize_indexes(dictionary)"
   ]
  },
  {
   "cell_type": "markdown",
   "metadata": {},
   "source": [
    "# variant_matrix function"
   ]
  },
  {
   "cell_type": "markdown",
   "metadata": {},
   "source": [
    "This function connects two identical sets of participant sample's callSetId's through the variants shared between them.\n",
    "\n",
    "                     M D (Mother/Father allele donated)\n",
    "    Where A or B =  [1,0] : heterozygous for variant\n",
    "                    [0,1] : heterozygous for variant\n",
    "                    [1,1] : homozygous dominant for variant\n",
    "                    [0,0] : homozygous recessive for variant\n",
    "                 \n",
    "        | 1    |  0    |\n",
    "      1 |[1,1] | [1,0] |\n",
    "        |      |       |      \n",
    "      0 |[1,0] | [0,0] |\n",
    "    \n",
    "    \n",
    "    True for the shared genotype:\n",
    "        \n",
    "        case 1: \n",
    "            A = [1,0]\n",
    "            B = [0,1]\n",
    "        case 2: \n",
    "            A = [0,0]\n",
    "            B = [0,0]\n",
    "        case 3:  \n",
    "            A = [1,0]\n",
    "            B = [1,0]\n",
    "        case 4: \n",
    "            A = [1,1]\n",
    "            B = [0,1]\n",
    "    \n",
    "    False for the shared genotype:\n",
    "        \n",
    "        case 1: \n",
    "            A = [1,0]\n",
    "            B = [0,0]\n",
    "        case 2:\n",
    "            A = [0,1]\n",
    "            B = [0,0]\n",
    "        case 3: \n",
    "            A = [0,0]\n",
    "            B = [1,0]\n",
    "        case 4:\n",
    "            A = [0,0]\n",
    "            B = [0,1]\n",
    "            \n",
    "            "
   ]
  },
  {
   "cell_type": "code",
   "execution_count": 9,
   "metadata": {
    "collapsed": false,
    "scrolled": false
   },
   "outputs": [],
   "source": [
    "def variant_matrix(callMatrix, num_people, num_chrom, begin, stop):\n",
    "#def variant_matrix(callMatrix):\n",
    "        \n",
    "    csid_dict = {}    \n",
    "    csid_dict = generate_dictionary(num_people, num_chrom, begin, stop)\n",
    "    \n",
    "    normalize_indexes(csid_dict)\n",
    "    \n",
    "    h = len(csid_dict)\n",
    "    w = len(csid_dict)\n",
    "    dimension = h*w\n",
    "    \n",
    "    callMatrix = [[0 for x in range(w)] for y in range(h)]    \n",
    "    np.zeros((h,w))     \n",
    "    #np.reshape(callMatrix, (h,w))\n",
    "    \n",
    "    vs = data.searchVariants(variantSetId, callSetIds= call_set_ids[0:num_people],\n",
    "           start=begin, end=stop, referenceName = num_chrom)\n",
    "\n",
    "    for v in vs:\n",
    "        for call_outer in v.calls:         \n",
    "            for call_inner in v.calls:               \n",
    "                outer_index = csid_dict[call_outer.call_set_id] \n",
    "                inner_index = csid_dict[call_inner.call_set_id]                             \n",
    "                # can be 0 or 1\n",
    "                A1 = call_outer.genotype[0] \n",
    "                A2 = call_outer.genotype[1]\n",
    "                B1 = call_inner.genotype[0]\n",
    "                B2 = call_inner.genotype[1]               \n",
    "                # True for the shared genotype\n",
    "                if (((A1 + A2 ) > 0) and ((B1 + B2) > 0)):\n",
    "                    callMatrix[outer_index][inner_index] += 1\n",
    "                elif (((A1 + A2 ) == 0) and ((B1 + B2) == 0)):\n",
    "                    callMatrix[outer_index][inner_index] += 1               \n",
    "                \n",
    "    return (callMatrix)"
   ]
  },
  {
   "cell_type": "code",
   "execution_count": 10,
   "metadata": {
    "collapsed": false,
    "scrolled": true
   },
   "outputs": [
    {
     "data": {
      "text/plain": [
       "[[193, 190, 191, 189, 189, 191, 190, 190, 190, 190],\n",
       " [190, 193, 192, 192, 192, 192, 193, 193, 193, 191],\n",
       " [191, 192, 193, 191, 191, 193, 192, 192, 192, 192],\n",
       " [189, 192, 191, 193, 193, 191, 192, 192, 192, 190],\n",
       " [189, 192, 191, 193, 193, 191, 192, 192, 192, 190],\n",
       " [191, 192, 193, 191, 191, 193, 192, 192, 192, 192],\n",
       " [190, 193, 192, 192, 192, 192, 193, 193, 193, 191],\n",
       " [190, 193, 192, 192, 192, 192, 193, 193, 193, 191],\n",
       " [190, 193, 192, 192, 192, 192, 193, 193, 193, 191],\n",
       " [190, 191, 192, 190, 190, 192, 191, 191, 191, 193]]"
      ]
     },
     "execution_count": 10,
     "metadata": {},
     "output_type": "execute_result"
    }
   ],
   "source": [
    "matrix = {}\n",
    "variant_matrix(matrix, 10, \"1\", 100000, 140000)"
   ]
  },
  {
   "cell_type": "markdown",
   "metadata": {},
   "source": [
    "# visualize_matrix function "
   ]
  },
  {
   "cell_type": "code",
   "execution_count": 15,
   "metadata": {
    "collapsed": false
   },
   "outputs": [],
   "source": [
    "def visualize_matrix_color(callMatrix, num_people, num_chrom, begin, stop):\n",
    "    \n",
    "    callMatrix = variant_matrix(callMatrix, num_people, num_chrom, begin, stop)\n",
    "    \n",
    "    #callMatrix = callMatrix.squeeze()\n",
    "    \n",
    "    fig = plt.figure(1,(10.,10.))\n",
    "    grid = ImageGrid(fig, 111,\n",
    "                    nrows_ncols=(1,1),\n",
    "                    axes_pad=0.1)\n",
    "    \n",
    "    ax = grid[0]\n",
    "    ax.set_title('Color matrix comparing the occurence of shared variants obtained from call set ids between individuals in the the genomic dataset\\n', fontsize=14, fontweight='bold')\n",
    "    ax.set_xlabel(\"Individual's call set ids\", fontsize=12)\n",
    "    ax.set_ylabel(\"Individual's call set ids\", fontsize=12)    \n",
    "    ax.imshow(callMatrix, origin = \"lower\", interpolation=\"nearest\")\n",
    "    \n",
    "    plt.show()\n",
    "\n",
    "def visualize_matrix_grey(callMatrix, num_people, num_chrom, begin, stop):\n",
    "    \n",
    "    callMatrix = variant_matrix(callMatrix, num_people, num_chrom, begin, stop)\n",
    "      \n",
    "    #print(np.asarray(callMatrix).shape[0])\n",
    "    \n",
    "    fig = plt.figure(1,(10.,10.))\n",
    "   \n",
    "    grid = ImageGrid(fig, 111,\n",
    "                    nrows_ncols=(1,1),\n",
    "                    axes_pad=0.1)\n",
    "    ax = grid[0]  \n",
    "    ax.set_title('Greyscale matrix comparing the occurence of shared variants obtained from call set ids between individuals in the the genomic dataset\\n', fontsize=14, fontweight='bold')\n",
    "    ax.set_xlabel(\"Individual's call set ids\", fontsize=12)\n",
    "    ax.set_ylabel(\"Individual's call set ids\", fontsize=12)\n",
    "    \n",
    "    ax.imshow(callMatrix, cmap= 'Greys', origin = \"lower\", interpolation=\"nearest\")\n",
    "    \n",
    " \n",
    "    plt.show()"
   ]
  },
  {
   "cell_type": "code",
   "execution_count": 16,
   "metadata": {
    "collapsed": false
   },
   "outputs": [
    {
     "data": {
      "image/png": "[encoded data removed]",
      "text/plain": [
       "<matplotlib.figure.Figure at 0x10300c0d0>"
      ]
     },
     "metadata": {},
     "output_type": "display_data"
    },
    {
     "data": {
      "image/png": "[encoded data removed]",
      "text/plain": [
       "<matplotlib.figure.Figure at 0x102f7db10>"
      ]
     },
     "metadata": {},
     "output_type": "display_data"
    }
   ],
   "source": [
    "\n",
    "'''\n",
    "i = 100000\n",
    "j = 105000\n",
    "while ( i != j):\n",
    "    matrix = {}\n",
    "    visualize_matrix_grey(matrix, 5, \"1\", i, j)\n",
    "    i += 5000\n",
    "    j += 5000\n",
    "    if ( j == 300000 and i == 205000): break\n",
    "\n",
    "visualize_matrix_grey(matrix, 500, \"1\", 100000, 105000)\n",
    "visualize_matrix_grey(matrix, 500, \"1\", 105000, 110000)\n",
    "visualize_matrix_grey(matrix, 500, \"1\", 110000, 115000)\n",
    "visualize_matrix_grey(matrix, 500, \"1\", 115000, 120000)\n",
    "visualize_matrix_grey(matrix, 500, \"1\", 120000, 125000)\n",
    "visualize_matrix_grey(matrix, 500, \"1\", 125000, 130000)\n",
    "visualize_matrix_grey(matrix, 500, \"1\", 130000, 135000)\n",
    "visualize_matrix_grey(matrix, 500, \"1\", 135000, 140000)\n",
    "#visualize_matrix_grey(matrix, 40, \"1\", 140000, 145000) #TypeError: Invalid dimensions for image data\n",
    "visualize_matrix_grey(matrix, 500, \"1\", 145000, 150000)\n",
    "visualize_matrix_grey(matrix, 500, \"1\", 150000, 155000)\n",
    "visualize_matrix_grey(matrix, 500, \"1\", 155000, 160000)\n",
    "#visualize_matrix_grey(matrix, 40, \"1\", 160000, 165000) TypeError: Invalid dimensions for image data\n",
    "visualize_matrix_grey(matrix, 500, \"1\", 165000, 170000)\n",
    "visualize_matrix_grey(matrix, 500, \"1\", 170000, 175000)\n",
    "#visualize_matrix_grey(matrix, 40, \"1\", 175000, 180000) TypeError: Invalid dimensions for image data\n",
    "#visualize_matrix_grey(matrix, 40, \"1\", 180000, 185000) TypeError: Invalid dimensions for image data\n",
    "#visualize_matrix_grey(matrix, 40, \"1\", 185000, 190000) TypeError: Invalid dimensions for image data\n",
    "#visualize_matrix_grey(matrix, 40, \"1\", 190000, 195000) TypeError: Invalid dimensions for image data\n",
    "#visualize_matrix_grey(matrix, 40, \"1\", 195000, 200000) TypeError: Invalid dimensions for image data\n",
    "'''\n",
    "matrix = {}\n",
    "visualize_matrix_grey(matrix, 40, \"1\", 100000, 140000)\n",
    "matrix = {}\n",
    "visualize_matrix_color(matrix, 40, \"1\", 100000, 140000)\n",
    "\n"
   ]
  },
  {
   "cell_type": "code",
   "execution_count": 17,
   "metadata": {
    "collapsed": false
   },
   "outputs": [],
   "source": [
    "def determine_matrix_range():\n",
    "    \n",
    "    matrix = {}\n",
    "    matrix = variant_matrix(matrix, 40, \"1\", 100000, 140000)\n",
    "    \n",
    "    i = 0\n",
    "    j = 0\n",
    "    cur = 0\n",
    "    lis = []\n",
    "    \n",
    "    for i in range(len(matrix)):\n",
    "        for j in range(len(matrix)):\n",
    "            cur = matrix[i][j]\n",
    "            lis.append(cur)\n",
    "            \n",
    "    minimum = min(lis)\n",
    "    maximum = max(lis)\n",
    "    print (\"values in the matrix range from {} to {}\".\n",
    "           format(minimum, maximum))\n",
    "    lis.sort()\n",
    "\n",
    "    return lis"
   ]
  },
  {
   "cell_type": "code",
   "execution_count": 18,
   "metadata": {
    "collapsed": false
   },
   "outputs": [],
   "source": [
    "#determine_matrix_range()"
   ]
  },
  {
   "cell_type": "code",
   "execution_count": 19,
   "metadata": {
    "collapsed": false
   },
   "outputs": [],
   "source": [
    "def find_percent_occurence():\n",
    "    \n",
    "    matrix_list = []\n",
    "    matrix_list = determine_matrix_range()   \n",
    "    i = 0\n",
    "    key_list = []\n",
    "    j = 0\n",
    "    for i in matrix_list:\n",
    "        variable = matrix_list[j]\n",
    "        if (variable == i):\n",
    "            key_list.append(variable)\n",
    "            j += 1\n",
    "        elif ( variable != i):\n",
    "            j += 1\n",
    "            \n",
    "    occur_dict = {}\n",
    "    occur_dict = occur_dict.fromkeys(key_list,0)\n",
    "    i = 0\n",
    "    j = 0  \n",
    "    total = 0.0\n",
    "    for i in matrix_list:\n",
    "        variable = matrix_list[j]\n",
    "        if ( i == variable):\n",
    "            occur_dict[i] += 1\n",
    "            j += 1\n",
    "        elif ( i != variable):\n",
    "            j += 1\n",
    "        total += 1\n",
    "    \n",
    "    percent = 0.0\n",
    "    for i in occur_dict:\n",
    "        percent = ((occur_dict[i]/total)*100.0)\n",
    "        occur_dict[i] = percent\n",
    "    \n",
    "    return occur_dict\n"
   ]
  },
  {
   "cell_type": "code",
   "execution_count": 20,
   "metadata": {
    "collapsed": false
   },
   "outputs": [],
   "source": [
    "#find_percent_occurence()"
   ]
  },
  {
   "cell_type": "code",
   "execution_count": 21,
   "metadata": {
    "collapsed": true
   },
   "outputs": [],
   "source": [
    "def graph_percent_occurence():\n",
    "    \n",
    "    fig = plt.figure(1,(9.,9.))\n",
    "    \n",
    "    occur_dict = {}\n",
    "    occur_dict = find_percent_occurence()\n",
    "    \n",
    "    occur_dict = collections.OrderedDict(sorted(occur_dict.items()))\n",
    "    \n",
    "    plt.bar(range(len(occur_dict)), occur_dict.values(), align='center')\n",
    "    plt.xticks(range(len(occur_dict)), occur_dict.keys())\n",
    "    \n",
    "    ax = fig.add_subplot(111)\n",
    "    ax.set_title('Distribution of shared variants among the genomic dataset (as compared to the reference genome)\\n', fontsize=14, fontweight='bold')\n",
    "    ax.set_xlabel('number of shared variants called within a range of bases on one chromosome')\n",
    "    ax.set_ylabel('percent occurence of the amount of shared variants')\n",
    "    plt.show()\n",
    "    "
   ]
  },
  {
   "cell_type": "code",
   "execution_count": 22,
   "metadata": {
    "collapsed": false
   },
   "outputs": [
    {
     "name": "stdout",
     "output_type": "stream",
     "text": [
      "values in the matrix range from 185 to 193\n"
     ]
    },
    {
     "data": {
      "image/png": "[encoded data removed]",
      "text/plain": [
       "<matplotlib.figure.Figure at 0x1069418d0>"
      ]
     },
     "metadata": {},
     "output_type": "display_data"
    }
   ],
   "source": [
    "graph_percent_occurence()"
   ]
  },
  {
   "cell_type": "code",
   "execution_count": null,
   "metadata": {
    "collapsed": true
   },
   "outputs": [],
   "source": []
  }
 ],
 "metadata": {
  "kernelspec": {
   "display_name": "Python 2",
   "language": "python",
   "name": "python2"
  },
  "language_info": {
   "codemirror_mode": {
    "name": "ipython",
    "version": 2
   },
   "file_extension": ".py",
   "mimetype": "text/x-python",
   "name": "python",
   "nbconvert_exporter": "python",
   "pygments_lexer": "ipython2",
   "version": "2.7.11"
  }
 },
 "nbformat": 4,
 "nbformat_minor": 0
}
