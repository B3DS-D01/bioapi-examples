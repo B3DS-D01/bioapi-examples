{
 "cells": [
  {
   "cell_type": "markdown",
   "metadata": {},
   "source": [
    "## GA4GH 1000 Genomes Datasets Example\n",
    "This example illustrates how to access the available datasets in the server. "
   ]
  },
  {
   "cell_type": "markdown",
   "metadata": {},
   "source": [
    "### Initialize the client\n",
    "In this step we create a client object which will be used to communicate with the server. It is initialized using the URL."
   ]
  },
  {
   "cell_type": "code",
   "execution_count": 1,
   "metadata": {
    "collapsed": true
   },
   "outputs": [],
   "source": [
    "import ga4gh.client as client\n",
    "c = client.HttpClient(\"http://1kgenomes.ga4gh.org\")"
   ]
  },
  {
   "cell_type": "markdown",
   "metadata": {},
   "source": [
    "### Search read group set\n",
    "We can obtain read group sets via `search_read_group_sets`, observe that this request takes as main parameter `dataset_id` which we illustrate how to obtain it in the `1kg_metadata_service` examples via `search_datasets` request."
   ]
  },
  {
   "cell_type": "code",
   "execution_count": 2,
   "metadata": {
    "collapsed": false
   },
   "outputs": [
    {
     "name": "stdout",
     "output_type": "stream",
     "text": [
      "\n",
      "Read Group Set: HG03270\n",
      "\tId: WyIxa2dlbm9tZXMiLCJyZ3MiLCJIRzAzMjcwIl0\n",
      "\tData Set: WyIxa2dlbm9tZXMiXQ\n",
      "\tAligned Read Count: 177645990\n",
      "\tUnaligned Read Count: 746202\n",
      "\tReads:\n",
      "\t\tId: WyIxa2dlbm9tZXMiLCJyZ3MiLCJIRzAzMjcwIiwiRVJSMTgxMzI5Il0\n",
      "\t\tName: ERR181329\n",
      "\t\tDescription: SRP015238\n",
      "\t\tBio Sample Id: WyIxa2dlbm9tZXMiLCJiIiwiSEcwMzI3MCJd\n",
      "\tReads:\n",
      "\t\tId: WyIxa2dlbm9tZXMiLCJyZ3MiLCJIRzAzMjcwIiwiRVJSMTg0MzI4Il0\n",
      "\t\tName: ERR184328\n",
      "\t\tDescription: SRP015238\n",
      "\t\tBio Sample Id: WyIxa2dlbm9tZXMiLCJiIiwiSEcwMzI3MCJd\n",
      "\tReads:\n",
      "\t\tId: WyIxa2dlbm9tZXMiLCJyZ3MiLCJIRzAzMjcwIiwiRVJSMTg0MzM2Il0\n",
      "\t\tName: ERR184336\n",
      "\t\tDescription: SRP015238\n",
      "\t\tBio Sample Id: WyIxa2dlbm9tZXMiLCJiIiwiSEcwMzI3MCJd\n",
      "\tReads:\n",
      "\t\tId: WyIxa2dlbm9tZXMiLCJyZ3MiLCJIRzAzMjcwIiwiRVJSMTg0MzQ0Il0\n",
      "\t\tName: ERR184344\n",
      "\t\tDescription: SRP015238\n",
      "\t\tBio Sample Id: WyIxa2dlbm9tZXMiLCJiIiwiSEcwMzI3MCJd\n",
      "\n",
      "Read Group Set: HG03271\n",
      "\tId: WyIxa2dlbm9tZXMiLCJyZ3MiLCJIRzAzMjcxIl0\n",
      "\tData Set: WyIxa2dlbm9tZXMiXQ\n",
      "\tAligned Read Count: 201280730\n",
      "\tUnaligned Read Count: 944735\n",
      "\tReads:\n",
      "\t\tId: WyIxa2dlbm9tZXMiLCJyZ3MiLCJIRzAzMjcxIiwiRVJSMTgxMzI4Il0\n",
      "\t\tName: ERR181328\n",
      "\t\tDescription: SRP015238\n",
      "\t\tBio Sample Id: WyIxa2dlbm9tZXMiLCJiIiwiSEcwMzI3MSJd\n",
      "\tReads:\n",
      "\t\tId: WyIxa2dlbm9tZXMiLCJyZ3MiLCJIRzAzMjcxIiwiRVJSMTg0MzI3Il0\n",
      "\t\tName: ERR184327\n",
      "\t\tDescription: SRP015238\n",
      "\t\tBio Sample Id: WyIxa2dlbm9tZXMiLCJiIiwiSEcwMzI3MSJd\n",
      "\tReads:\n",
      "\t\tId: WyIxa2dlbm9tZXMiLCJyZ3MiLCJIRzAzMjcxIiwiRVJSMTg0MzM1Il0\n",
      "\t\tName: ERR184335\n",
      "\t\tDescription: SRP015238\n",
      "\t\tBio Sample Id: WyIxa2dlbm9tZXMiLCJiIiwiSEcwMzI3MSJd\n",
      "\tReads:\n",
      "\t\tId: WyIxa2dlbm9tZXMiLCJyZ3MiLCJIRzAzMjcxIiwiRVJSMTg0MzQzIl0\n",
      "\t\tName: ERR184343\n",
      "\t\tDescription: SRP015238\n",
      "\t\tBio Sample Id: WyIxa2dlbm9tZXMiLCJiIiwiSEcwMzI3MSJd\n",
      "\n",
      "Read Group Set: NA19675\n",
      "\tId: WyIxa2dlbm9tZXMiLCJyZ3MiLCJOQTE5Njc1Il0\n",
      "\tData Set: WyIxa2dlbm9tZXMiXQ\n",
      "\tAligned Read Count: 251846416\n",
      "\tUnaligned Read Count: 3935762\n",
      "\tReads:\n",
      "\t\tId: WyIxa2dlbm9tZXMiLCJyZ3MiLCJOQTE5Njc1IiwiU1JSMDU4OTM3Il0\n",
      "\t\tName: SRR058937\n",
      "\t\tDescription: SRP000803\n",
      "\t\tBio Sample Id: WyIxa2dlbm9tZXMiLCJiIiwiTkExOTY3NSJd\n",
      "\tReads:\n",
      "\t\tId: WyIxa2dlbm9tZXMiLCJyZ3MiLCJOQTE5Njc1IiwiU1JSMDU4OTM4Il0\n",
      "\t\tName: SRR058938\n",
      "\t\tDescription: SRP000803\n",
      "\t\tBio Sample Id: WyIxa2dlbm9tZXMiLCJiIiwiTkExOTY3NSJd\n",
      "\tReads:\n",
      "\t\tId: WyIxa2dlbm9tZXMiLCJyZ3MiLCJOQTE5Njc1IiwiU1JSMDU4OTM5Il0\n",
      "\t\tName: SRR058939\n",
      "\t\tDescription: SRP000803\n",
      "\t\tBio Sample Id: WyIxa2dlbm9tZXMiLCJiIiwiTkExOTY3NSJd\n",
      "\tReads:\n",
      "\t\tId: WyIxa2dlbm9tZXMiLCJyZ3MiLCJOQTE5Njc1IiwiU1JSMDU4OTY0Il0\n",
      "\t\tName: SRR058964\n",
      "\t\tDescription: SRP000803\n",
      "\t\tBio Sample Id: WyIxa2dlbm9tZXMiLCJiIiwiTkExOTY3NSJd\n",
      "\n",
      "Read Group Set: HG01504\n",
      "\tId: WyIxa2dlbm9tZXMiLCJyZ3MiLCJIRzAxNTA0Il0\n",
      "\tData Set: WyIxa2dlbm9tZXMiXQ\n",
      "\tAligned Read Count: 151609351\n",
      "\tUnaligned Read Count: 626665\n",
      "\tReads:\n",
      "\t\tId: WyIxa2dlbm9tZXMiLCJyZ3MiLCJIRzAxNTA0IiwiRVJSMDUwMDk1Il0\n",
      "\t\tName: ERR050095\n",
      "\t\tDescription: SRP001514\n",
      "\t\tBio Sample Id: WyIxa2dlbm9tZXMiLCJiIiwiSEcwMTUwNCJd\n",
      "\tReads:\n",
      "\t\tId: WyIxa2dlbm9tZXMiLCJyZ3MiLCJIRzAxNTA0IiwiRVJSMDUwMTA5Il0\n",
      "\t\tName: ERR050109\n",
      "\t\tDescription: SRP001514\n",
      "\t\tBio Sample Id: WyIxa2dlbm9tZXMiLCJiIiwiSEcwMTUwNCJd\n",
      "\tReads:\n",
      "\t\tId: WyIxa2dlbm9tZXMiLCJyZ3MiLCJIRzAxNTA0IiwiRVJSMDUwMTE1Il0\n",
      "\t\tName: ERR050115\n",
      "\t\tDescription: SRP001514\n",
      "\t\tBio Sample Id: WyIxa2dlbm9tZXMiLCJiIiwiSEcwMTUwNCJd\n",
      "\n",
      "Read Group Set: NA19670\n",
      "\tId: WyIxa2dlbm9tZXMiLCJyZ3MiLCJOQTE5NjcwIl0\n",
      "\tData Set: WyIxa2dlbm9tZXMiXQ\n",
      "\tAligned Read Count: 193305805\n",
      "\tUnaligned Read Count: 2502044\n",
      "\tReads:\n",
      "\t\tId: WyIxa2dlbm9tZXMiLCJyZ3MiLCJOQTE5NjcwIiwiU1JSMTg5ODI2Il0\n",
      "\t\tName: SRR189826\n",
      "\t\tDescription: SRP000803\n",
      "\t\tBio Sample Id: WyIxa2dlbm9tZXMiLCJiIiwiTkExOTY3MCJd\n",
      "\n",
      "Total available 'read group sets': 100, for this dataset id\n"
     ]
    }
   ],
   "source": [
    "counter = 0\n",
    "for read_groups in c.search_read_group_sets(dataset_id=\"WyIxa2dlbm9tZXMiXQ\"):\n",
    "    counter += 1\n",
    "    if counter < 6:\n",
    "        print \"\\nRead Group Set: {}\\n\\tId: {}\\n\\tData Set: {}\\n\\tAligned Read Count: {}\\n\\tUnaligned Read Count: {}\".format(read_groups.name, read_groups.id, read_groups.dataset_id,read_groups.stats.aligned_read_count, read_groups.stats.unaligned_read_count)\n",
    "        for elems in read_groups.read_groups:\n",
    "            print \"\\tReads:\\n\\t\\tId: {}\\n\\t\\tName: {}\\n\\t\\tDescription: {}\\n\\t\\tBio Sample Id: {}\".format(elems.id, elems.name, elems.description,elems.bio_sample_id)\n",
    "print \"\\nTotal available 'read group sets': {}, for this dataset id\".format(counter)"
   ]
  },
  {
   "cell_type": "markdown",
   "metadata": {},
   "source": [
    "###### Note: only a small subset of elements is being illustrated, the data returned by the servers is richer, that is, it contains other informational fields which my be of interest. "
   ]
  },
  {
   "cell_type": "markdown",
   "metadata": {},
   "source": [
    "### Get readgroup set\n",
    "Similarly, we can obtain an individual readgroup set just by providing the denoting id."
   ]
  },
  {
   "cell_type": "code",
   "execution_count": 3,
   "metadata": {
    "collapsed": false
   },
   "outputs": [
    {
     "name": "stdout",
     "output_type": "stream",
     "text": [
      "\n",
      "Read Group Set: NA19678\n",
      "\tId: WyIxa2dlbm9tZXMiLCJyZ3MiLCJOQTE5Njc4Il0\n",
      "\tData Set: WyIxa2dlbm9tZXMiXQ\n",
      "\tAligned Read Count: 449711566\n",
      "\tUnaligned Read Count: 5831622\n",
      "\tReads:\n",
      "\t\tId: WyIxa2dlbm9tZXMiLCJyZ3MiLCJOQTE5Njc4IiwiU1JSMDM0NTc4Il0\n",
      "\t\tName: SRR034578\n",
      "\t\tDescription: SRP000803\n",
      "\t\tBio Sample Id: WyIxa2dlbm9tZXMiLCJiIiwiTkExOTY3OCJd\n",
      "\tReads:\n",
      "\t\tId: WyIxa2dlbm9tZXMiLCJyZ3MiLCJOQTE5Njc4IiwiU1JSMDM0NTc5Il0\n",
      "\t\tName: SRR034579\n",
      "\t\tDescription: SRP000803\n",
      "\t\tBio Sample Id: WyIxa2dlbm9tZXMiLCJiIiwiTkExOTY3OCJd\n",
      "\tReads:\n",
      "\t\tId: WyIxa2dlbm9tZXMiLCJyZ3MiLCJOQTE5Njc4IiwiU1JSMDM1NDg4Il0\n",
      "\t\tName: SRR035488\n",
      "\t\tDescription: SRP000803\n",
      "\t\tBio Sample Id: WyIxa2dlbm9tZXMiLCJiIiwiTkExOTY3OCJd\n",
      "\tReads:\n",
      "\t\tId: WyIxa2dlbm9tZXMiLCJyZ3MiLCJOQTE5Njc4IiwiU1JSMDM4NTg1Il0\n",
      "\t\tName: SRR038585\n",
      "\t\tDescription: SRP000803\n",
      "\t\tBio Sample Id: WyIxa2dlbm9tZXMiLCJiIiwiTkExOTY3OCJd\n",
      "\tReads:\n",
      "\t\tId: WyIxa2dlbm9tZXMiLCJyZ3MiLCJOQTE5Njc4IiwiU1JSMDUxNTc1Il0\n",
      "\t\tName: SRR051575\n",
      "\t\tDescription: SRP000803\n",
      "\t\tBio Sample Id: WyIxa2dlbm9tZXMiLCJiIiwiTkExOTY3OCJd\n",
      "\tReads:\n",
      "\t\tId: WyIxa2dlbm9tZXMiLCJyZ3MiLCJOQTE5Njc4IiwiU1JSNDI0Mjg3Il0\n",
      "\t\tName: SRR424287\n",
      "\t\tDescription: SRP001525\n",
      "\t\tBio Sample Id: WyIxa2dlbm9tZXMiLCJiIiwiTkExOTY3OCJd\n",
      "\tReads:\n",
      "\t\tId: WyIxa2dlbm9tZXMiLCJyZ3MiLCJOQTE5Njc4IiwiU1JSNDI0Mjg4Il0\n",
      "\t\tName: SRR424288\n",
      "\t\tDescription: SRP001525\n",
      "\t\tBio Sample Id: WyIxa2dlbm9tZXMiLCJiIiwiTkExOTY3OCJd\n",
      "\tReads:\n",
      "\t\tId: WyIxa2dlbm9tZXMiLCJyZ3MiLCJOQTE5Njc4IiwiU1JSNDI0Mjg5Il0\n",
      "\t\tName: SRR424289\n",
      "\t\tDescription: SRP001525\n",
      "\t\tBio Sample Id: WyIxa2dlbm9tZXMiLCJiIiwiTkExOTY3OCJd\n",
      "\tReads:\n",
      "\t\tId: WyIxa2dlbm9tZXMiLCJyZ3MiLCJOQTE5Njc4IiwiU1JSNDQyMDE4Il0\n",
      "\t\tName: SRR442018\n",
      "\t\tDescription: SRP001525\n",
      "\t\tBio Sample Id: WyIxa2dlbm9tZXMiLCJiIiwiTkExOTY3OCJd\n",
      "\tReads:\n",
      "\t\tId: WyIxa2dlbm9tZXMiLCJyZ3MiLCJOQTE5Njc4IiwiU1JSNDQyMDE5Il0\n",
      "\t\tName: SRR442019\n",
      "\t\tDescription: SRP001525\n",
      "\t\tBio Sample Id: WyIxa2dlbm9tZXMiLCJiIiwiTkExOTY3OCJd\n",
      "\tReads:\n",
      "\t\tId: WyIxa2dlbm9tZXMiLCJyZ3MiLCJOQTE5Njc4IiwiU1JSNDQyMDIwIl0\n",
      "\t\tName: SRR442020\n",
      "\t\tDescription: SRP001525\n",
      "\t\tBio Sample Id: WyIxa2dlbm9tZXMiLCJiIiwiTkExOTY3OCJd\n",
      "\n",
      "Total available reads: 11, for group set: NA19678\n"
     ]
    }
   ],
   "source": [
    "read_group_set = c.get_read_group_set(read_group_set_id=\"WyIxa2dlbm9tZXMiLCJyZ3MiLCJOQTE5Njc4Il0\")\n",
    "print \"\\nRead Group Set: {}\\n\\tId: {}\\n\\tData Set: {}\\n\\tAligned Read Count: {}\\n\\tUnaligned Read Count: {}\".format(read_group_set.name, read_group_set.id, read_group_set.dataset_id,read_group_set.stats.aligned_read_count, read_group_set.stats.unaligned_read_count)\n",
    "for elems in read_group_set.read_groups:\n",
    "    print \"\\tReads:\\n\\t\\tId: {}\\n\\t\\tName: {}\\n\\t\\tDescription: {}\\n\\t\\tBio Sample Id: {}\".format(elems.id, elems.name, elems.description,elems.bio_sample_id)\n",
    "print \"\\nTotal available reads: {}, for group set: {}\".format(len(read_group_set.read_groups), read_group_set.name) "
   ]
  },
  {
   "cell_type": "markdown",
   "metadata": {},
   "source": [
    "###### Note, like in the previous example. Only a selected amount of parameters are selected for illustration, the data returned by the server is far richer, this format is only to have a more aesthetic presentation."
   ]
  },
  {
   "cell_type": "markdown",
   "metadata": {},
   "source": [
    "### Search reads\n",
    "This request returns the reads which correspond to the group set names we obtained before."
   ]
  },
  {
   "cell_type": "code",
   "execution_count": 4,
   "metadata": {
    "collapsed": false
   },
   "outputs": [
    {
     "name": "stdout",
     "output_type": "stream",
     "text": [
      "Id: WyIxa2dlbm9tZXMiLCJyZ3MiLCJOQTE5Njc4IiwiU1JSMDM0NTc4LjE3MzYwMCJd\n",
      "Read Group Id: WyIxa2dlbm9tZXMiLCJyZ3MiLCJOQTE5Njc4IiwiU1JSMDM0NTc4Il0\n",
      "Fragment Name: SRR034578.173600\n",
      "Read Sequence: ACCCTAACCCTAACCCTAACCCTAACCCTAACCCTAACCCTAACCCTAACCCTAACCCTAACCCTAACCCTAACCC\n",
      "\n",
      "Id: WyIxa2dlbm9tZXMiLCJyZ3MiLCJOQTE5Njc4IiwiU1JSMDM0NTc5LjY2MzcyODkiXQ\n",
      "Read Group Id: WyIxa2dlbm9tZXMiLCJyZ3MiLCJOQTE5Njc4IiwiU1JSMDM0NTc5Il0\n",
      "Fragment Name: SRR034579.6637289\n",
      "Read Sequence: CCCTAACCCTAACCCTAACCCTAACCCTAACCCTAACCCTAACCCTAACCCTAACCCTAACCCTAACCCTAACCCT\n",
      "\n",
      "Id: WyIxa2dlbm9tZXMiLCJyZ3MiLCJOQTE5Njc4IiwiU1JSMDM1NDg4Ljc1NTQ1NDciXQ\n",
      "Read Group Id: WyIxa2dlbm9tZXMiLCJyZ3MiLCJOQTE5Njc4IiwiU1JSMDM1NDg4Il0\n",
      "Fragment Name: SRR035488.7554547\n",
      "Read Sequence: ACCCTGACCCCGACCCTAACCCTAACCCTAACCCTAACCCTAACCCTAACCCTCACCCTCACCCTAACCCCTAAAC\n",
      "\n",
      "Id: WyIxa2dlbm9tZXMiLCJyZ3MiLCJOQTE5Njc4IiwiU1JSMDM4NTg1LjE1MzI5MDkiXQ\n",
      "Read Group Id: WyIxa2dlbm9tZXMiLCJyZ3MiLCJOQTE5Njc4IiwiU1JSMDM4NTg1Il0\n",
      "Fragment Name: SRR038585.1532909\n",
      "Read Sequence: CCCTGACCCTGACCCTGACCCTGAACCCGAACCCGAACCCGAACCCCAACCCGAAGCGGAGCCCGAACCAGAACCC\n",
      "\n",
      "Id: WyIxa2dlbm9tZXMiLCJyZ3MiLCJOQTE5Njc4IiwiU1JSMDUxNTc1LjI0ODgxNDciXQ\n",
      "Read Group Id: WyIxa2dlbm9tZXMiLCJyZ3MiLCJOQTE5Njc4IiwiU1JSMDUxNTc1Il0\n",
      "Fragment Name: SRR051575.2488147\n",
      "Read Sequence: CTCGTCATTCCTGCTGATCCGCTCTTCCGATCTGTTAGGGTTAGGGTTAGGGTTAGGGTTAGGGTTAGGGTTAGGG\n",
      "\n",
      "Id: WyIxa2dlbm9tZXMiLCJyZ3MiLCJOQTE5Njc4IiwiU1JSNDI0Mjg3Ljk1NDQ3MjgiXQ\n",
      "Read Group Id: WyIxa2dlbm9tZXMiLCJyZ3MiLCJOQTE5Njc4IiwiU1JSNDI0Mjg3Il0\n",
      "Fragment Name: SRR424287.9544728\n",
      "Read Sequence: TCCGATCTCCCTAACCCTAACCCTAACCCTAACCCTAACCCTAACCCTAACCCTAACAACCCTAACCCTAACCCTAACCCTAACCCTAACCCTAACCCTAA\n",
      "\n",
      "Id: WyIxa2dlbm9tZXMiLCJyZ3MiLCJOQTE5Njc4IiwiU1JSNDI0Mjg4LjMwIl0\n",
      "Read Group Id: WyIxa2dlbm9tZXMiLCJyZ3MiLCJOQTE5Njc4IiwiU1JSNDI0Mjg4Il0\n",
      "Fragment Name: SRR424288.30\n",
      "Read Sequence: TAACCCTAACCCTAACCCTAACCCTAACCCTAACCCTAACCCTAACCCTAACCCTAACCCTAACCCTAACCCTAACCCTAACCCTAACCCTAACCCTAACC\n",
      "\n",
      "Id: WyIxa2dlbm9tZXMiLCJyZ3MiLCJOQTE5Njc4IiwiU1JSNDI0Mjg5LjE5Il0\n",
      "Read Group Id: WyIxa2dlbm9tZXMiLCJyZ3MiLCJOQTE5Njc4IiwiU1JSNDI0Mjg5Il0\n",
      "Fragment Name: SRR424289.19\n",
      "Read Sequence: AACCCTAACCCTAACCCTAACCCTAACCCTAACCCTAACCCTAACCCTAACCCTAACCCTAACCCTAACCCTAACCCTAACCCCAACCCTAACCCTAACCC\n",
      "\n",
      "Id: WyIxa2dlbm9tZXMiLCJyZ3MiLCJOQTE5Njc4IiwiU1JSNDQyMDE4LjMyIl0\n",
      "Read Group Id: WyIxa2dlbm9tZXMiLCJyZ3MiLCJOQTE5Njc4IiwiU1JSNDQyMDE4Il0\n",
      "Fragment Name: SRR442018.32\n",
      "Read Sequence: AACCCTAACCCTAACCCTAACCCTAACCCTAACCCTAACCCTAACCCTAACCCTAACCCAAACCCTAACCCTAACCCTAACCCTAACCCTAACCCTAACCC\n",
      "\n",
      "Id: WyIxa2dlbm9tZXMiLCJyZ3MiLCJOQTE5Njc4IiwiU1JSNDQyMDE5LjIwIl0\n",
      "Read Group Id: WyIxa2dlbm9tZXMiLCJyZ3MiLCJOQTE5Njc4IiwiU1JSNDQyMDE5Il0\n",
      "Fragment Name: SRR442019.20\n",
      "Read Sequence: AACCCTAACCCTAACCCTAACCCTAACCCTAACCCTAACCCTAACCCTAACCCTAACCCTAACCCTAACCCTAACCCTAACCCTAACCCTAACCCTAACCC\n",
      "\n",
      "Id: WyIxa2dlbm9tZXMiLCJyZ3MiLCJOQTE5Njc4IiwiU1JSNDQyMDIwLjY2Il0\n",
      "Read Group Id: WyIxa2dlbm9tZXMiLCJyZ3MiLCJOQTE5Njc4IiwiU1JSNDQyMDIwIl0\n",
      "Fragment Name: SRR442020.66\n",
      "Read Sequence: CCCTAACCCTAACCCTAACCCTAACCCTAACCCTAACCCTAACCCTAACCCTAACCCTAACCCTAACCCTAACCCTAACCCTAACCCTAACCCTAACCCTA\n",
      "\n"
     ]
    }
   ],
   "source": [
    "for reads in read_group_set.read_groups:\n",
    "    reads = c.search_reads(read_group_ids=[reads.id], start=0, end=1000000, reference_id=\"WyJOQ0JJMzciLCIxIl0\").next()\n",
    "    print \"Id: {}\\nRead Group Id: {}\\nFragment Name: {}\\nRead Sequence: {}\\n\".format(reads.id, reads.read_group_id, reads.fragment_name, reads.aligned_sequence)"
   ]
  },
  {
   "cell_type": "markdown",
   "metadata": {},
   "source": [
    "#### For documentation on the service, and more information go to.\n",
    "https://ga4gh-schemas.readthedocs.io/en/latest/schemas/read_service.proto.html"
   ]
  }
 ],
 "metadata": {
  "kernelspec": {
   "display_name": "Python 2",
   "language": "python",
   "name": "python2"
  },
  "language_info": {
   "codemirror_mode": {
    "name": "ipython",
    "version": 2
   },
   "file_extension": ".py",
   "mimetype": "text/x-python",
   "name": "python",
   "nbconvert_exporter": "python",
   "pygments_lexer": "ipython2",
   "version": "2.7.11"
  },
  "widgets": {
   "state": {},
   "version": "1.1.1"
  }
 },
 "nbformat": 4,
 "nbformat_minor": 0
}
