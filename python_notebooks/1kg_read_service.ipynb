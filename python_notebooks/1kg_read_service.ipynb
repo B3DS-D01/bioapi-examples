{
 "cells": [
  {
   "cell_type": "markdown",
   "metadata": {},
   "source": [
    "## GA4GH 1000 Genomes Reads Service Example\n",
    "This example illustrates how to access alignment data made available using a GA4GH interface."
   ]
  },
  {
   "cell_type": "markdown",
   "metadata": {},
   "source": [
    "### Initialize the client\n",
    "In this step we create a client object which will be used to communicate with the server. It is initialized using the URL."
   ]
  },
  {
   "cell_type": "code",
   "execution_count": 1,
   "metadata": {
    "collapsed": true
   },
   "outputs": [],
   "source": [
    "from ga4gh.client import client\n",
    "c = client.HttpClient(\"http://1kgenomes.ga4gh.org\")"
   ]
  },
  {
   "cell_type": "code",
   "execution_count": 2,
   "metadata": {
    "collapsed": false
   },
   "outputs": [],
   "source": [
    "#Obtain dataSet id REF: -> `1kg_metadata_service`\n",
    "dataset = c.search_datasets().next() \n",
    "\n",
    "#Obtain reference set id REF:-> `1kg_reference_service`\n",
    "reference_set = c.search_reference_sets().next()\n",
    "reference = c.search_references(reference_set_id=reference_set.id).next()\n"
   ]
  },
  {
   "cell_type": "markdown",
   "metadata": {},
   "source": [
    "### Search read group sets\n",
    "Read group sets are logical containers for read groups similar to BAM.\n",
    "\n",
    "We can obtain read group sets via a `search_read_group_sets` request. Observe that this request takes as it's main parameter `dataset_id`, which was obtained using the example in `1kg_metadata_service` using a `search_datasets` request."
   ]
  },
  {
   "cell_type": "code",
   "execution_count": 3,
   "metadata": {
    "collapsed": false
   },
   "outputs": [
    {
     "name": "stdout",
     "output_type": "stream",
     "text": [
      "Read Group Set: HG03270\n",
      "id: WyIxa2dlbm9tZXMiLCJyZ3MiLCJIRzAzMjcwIl0\n",
      "dataset_id: WyIxa2dlbm9tZXMiXQ\n",
      "Aligned Read Count: 177645990\n",
      "Unaligned Read Count: 746202\n",
      "\n",
      "  Read group:\n",
      "  id: WyIxa2dlbm9tZXMiLCJyZ3MiLCJIRzAzMjcwIiwiRVJSMTgxMzI5Il0\n",
      "  Name: ERR181329\n",
      "  Description: SRP015238\n",
      "  Biosample Id: WyIxa2dlbm9tZXMiLCJiIiwiSEcwMzI3MCJd\n",
      "\n",
      "  Read group:\n",
      "  id: WyIxa2dlbm9tZXMiLCJyZ3MiLCJIRzAzMjcwIiwiRVJSMTg0MzI4Il0\n",
      "  Name: ERR184328\n",
      "  Description: SRP015238\n",
      "  Biosample Id: WyIxa2dlbm9tZXMiLCJiIiwiSEcwMzI3MCJd\n",
      "\n",
      "  Read group:\n",
      "  id: WyIxa2dlbm9tZXMiLCJyZ3MiLCJIRzAzMjcwIiwiRVJSMTg0MzM2Il0\n",
      "  Name: ERR184336\n",
      "  Description: SRP015238\n",
      "  Biosample Id: WyIxa2dlbm9tZXMiLCJiIiwiSEcwMzI3MCJd\n",
      "\n",
      "  Read group:\n",
      "  id: WyIxa2dlbm9tZXMiLCJyZ3MiLCJIRzAzMjcwIiwiRVJSMTg0MzQ0Il0\n",
      "  Name: ERR184344\n",
      "  Description: SRP015238\n",
      "  Biosample Id: WyIxa2dlbm9tZXMiLCJiIiwiSEcwMzI3MCJd\n",
      "\n",
      "Read Group Set: HG03271\n",
      "id: WyIxa2dlbm9tZXMiLCJyZ3MiLCJIRzAzMjcxIl0\n",
      "dataset_id: WyIxa2dlbm9tZXMiXQ\n",
      "Aligned Read Count: 201280730\n",
      "Unaligned Read Count: 944735\n",
      "\n",
      "  Read group:\n",
      "  id: WyIxa2dlbm9tZXMiLCJyZ3MiLCJIRzAzMjcxIiwiRVJSMTgxMzI4Il0\n",
      "  Name: ERR181328\n",
      "  Description: SRP015238\n",
      "  Biosample Id: WyIxa2dlbm9tZXMiLCJiIiwiSEcwMzI3MSJd\n",
      "\n",
      "  Read group:\n",
      "  id: WyIxa2dlbm9tZXMiLCJyZ3MiLCJIRzAzMjcxIiwiRVJSMTg0MzI3Il0\n",
      "  Name: ERR184327\n",
      "  Description: SRP015238\n",
      "  Biosample Id: WyIxa2dlbm9tZXMiLCJiIiwiSEcwMzI3MSJd\n",
      "\n",
      "  Read group:\n",
      "  id: WyIxa2dlbm9tZXMiLCJyZ3MiLCJIRzAzMjcxIiwiRVJSMTg0MzM1Il0\n",
      "  Name: ERR184335\n",
      "  Description: SRP015238\n",
      "  Biosample Id: WyIxa2dlbm9tZXMiLCJiIiwiSEcwMzI3MSJd\n",
      "\n",
      "  Read group:\n",
      "  id: WyIxa2dlbm9tZXMiLCJyZ3MiLCJIRzAzMjcxIiwiRVJSMTg0MzQzIl0\n",
      "  Name: ERR184343\n",
      "  Description: SRP015238\n",
      "  Biosample Id: WyIxa2dlbm9tZXMiLCJiIiwiSEcwMzI3MSJd\n",
      "\n",
      "Read Group Set: NA19675\n",
      "id: WyIxa2dlbm9tZXMiLCJyZ3MiLCJOQTE5Njc1Il0\n",
      "dataset_id: WyIxa2dlbm9tZXMiXQ\n",
      "Aligned Read Count: 251846416\n",
      "Unaligned Read Count: 3935762\n",
      "\n",
      "  Read group:\n",
      "  id: WyIxa2dlbm9tZXMiLCJyZ3MiLCJOQTE5Njc1IiwiU1JSMDU4OTM3Il0\n",
      "  Name: SRR058937\n",
      "  Description: SRP000803\n",
      "  Biosample Id: WyIxa2dlbm9tZXMiLCJiIiwiTkExOTY3NSJd\n",
      "\n",
      "  Read group:\n",
      "  id: WyIxa2dlbm9tZXMiLCJyZ3MiLCJOQTE5Njc1IiwiU1JSMDU4OTM4Il0\n",
      "  Name: SRR058938\n",
      "  Description: SRP000803\n",
      "  Biosample Id: WyIxa2dlbm9tZXMiLCJiIiwiTkExOTY3NSJd\n",
      "\n",
      "  Read group:\n",
      "  id: WyIxa2dlbm9tZXMiLCJyZ3MiLCJOQTE5Njc1IiwiU1JSMDU4OTM5Il0\n",
      "  Name: SRR058939\n",
      "  Description: SRP000803\n",
      "  Biosample Id: WyIxa2dlbm9tZXMiLCJiIiwiTkExOTY3NSJd\n",
      "\n",
      "  Read group:\n",
      "  id: WyIxa2dlbm9tZXMiLCJyZ3MiLCJOQTE5Njc1IiwiU1JSMDU4OTY0Il0\n",
      "  Name: SRR058964\n",
      "  Description: SRP000803\n",
      "  Biosample Id: WyIxa2dlbm9tZXMiLCJiIiwiTkExOTY3NSJd\n",
      "\n"
     ]
    }
   ],
   "source": [
    "counter = 0\n",
    "for read_group_set in c.search_read_group_sets(dataset_id=dataset.id):\n",
    "    counter += 1\n",
    "    if counter < 4:\n",
    "        print \"Read Group Set: {}\".format(read_group_set.name)\n",
    "        print \"id: {}\".format(read_group_set.id)\n",
    "        print \"dataset_id: {}\".format(read_group_set.dataset_id)\n",
    "        print \"Aligned Read Count: {}\".format(read_group_set.stats.aligned_read_count)\n",
    "        print \"Unaligned Read Count: {}\\n\".format(read_group_set.stats.unaligned_read_count)\n",
    "        if read_group_set.name == \"NA19675\":\n",
    "            rgSet = read_group_set\n",
    "        for read_group in read_group_set.read_groups:\n",
    "            print \"  Read group:\"\n",
    "            print \"  id: {}\".format(read_group.id)\n",
    "            print \"  Name: {}\".format(read_group.name)\n",
    "            print \"  Description: {}\".format(read_group.description)\n",
    "            print \"  Biosample Id: {}\\n\".format(read_group.bio_sample_id)\n",
    "    else: \n",
    "        break"
   ]
  },
  {
   "cell_type": "markdown",
   "metadata": {},
   "source": [
    "###### Note: only a small subset of elements is being illustrated, the data returned by the servers is richer, that is, it contains other informational fields which may be of interest. "
   ]
  },
  {
   "cell_type": "markdown",
   "metadata": {},
   "source": [
    "### Get read group set\n",
    "Similarly, we can obtain a specific Read Group Set by providing a specific identifier."
   ]
  },
  {
   "cell_type": "code",
   "execution_count": 4,
   "metadata": {
    "collapsed": false
   },
   "outputs": [
    {
     "name": "stdout",
     "output_type": "stream",
     "text": [
      "Read Group Set: NA19675\n",
      "id: WyIxa2dlbm9tZXMiLCJyZ3MiLCJOQTE5Njc1Il0\n",
      "dataset_id: WyIxa2dlbm9tZXMiXQ\n",
      "Aligned Read Count: 251846416\n",
      "Unaligned Read Count: 3935762\n",
      "\n",
      " Read Group: SRR058937\n",
      " id: WyIxa2dlbm9tZXMiLCJiIiwiTkExOTY3NSJd\n",
      " bio_sample_id: WyIxa2dlbm9tZXMiLCJiIiwiTkExOTY3NSJd\n",
      "\n",
      " Read Group: SRR058938\n",
      " id: WyIxa2dlbm9tZXMiLCJiIiwiTkExOTY3NSJd\n",
      " bio_sample_id: WyIxa2dlbm9tZXMiLCJiIiwiTkExOTY3NSJd\n",
      "\n",
      " Read Group: SRR058939\n",
      " id: WyIxa2dlbm9tZXMiLCJiIiwiTkExOTY3NSJd\n",
      " bio_sample_id: WyIxa2dlbm9tZXMiLCJiIiwiTkExOTY3NSJd\n",
      "\n",
      " Read Group: SRR058964\n",
      " id: WyIxa2dlbm9tZXMiLCJiIiwiTkExOTY3NSJd\n",
      " bio_sample_id: WyIxa2dlbm9tZXMiLCJiIiwiTkExOTY3NSJd\n",
      "\n"
     ]
    }
   ],
   "source": [
    "read_group_set = c.get_read_group_set(read_group_set_id=rgSet.id)\n",
    "print \"Read Group Set: {}\".format(read_group_set.name)\n",
    "print \"id: {}\".format(read_group_set.id)\n",
    "print \"dataset_id: {}\".format(read_group_set.dataset_id)\n",
    "print \"Aligned Read Count: {}\".format(read_group_set.stats.aligned_read_count)\n",
    "print \"Unaligned Read Count: {}\\n\".format(read_group_set.stats.unaligned_read_count)\n",
    "for read_group in read_group_set.read_groups:\n",
    "    print \" Read Group: {}\".format(read_group.name)\n",
    "    print \" id: {}\".format(read_group.bio_sample_id)\n",
    "    print \" bio_sample_id: {}\\n\".format(read_group.bio_sample_id)"
   ]
  },
  {
   "cell_type": "markdown",
   "metadata": {},
   "source": [
    "###### Note, like in the previous example. Only a selected amount of parameters are selected for illustration, the data returned by the server is far richer, this format is only to have a more aesthetic presentation."
   ]
  },
  {
   "cell_type": "markdown",
   "metadata": {},
   "source": [
    "### Search reads\n",
    "This request returns reads were the read group set names we obtained above. The reference ID provided corresponds to chromosome 1 as obtained from the `1kg_reference_service` examples. A `search_reads` request searches for read alignments in a region using start and end coordinates."
   ]
  },
  {
   "cell_type": "code",
   "execution_count": 5,
   "metadata": {
    "collapsed": false
   },
   "outputs": [
    {
     "name": "stdout",
     "output_type": "stream",
     "text": [
      "Alignment from SRR058937\n",
      "\n",
      " id: WyIxa2dlbm9tZXMiLCJyZ3MiLCJOQTE5Njc1IiwiU1JSMDU4OTM3LjIyODQ4NjU0Il0\n",
      " fragment_name: SRR058937.22848654\n",
      " aligned_sequence: CGCTCTTCCGATCTCCCTAACCCTAACCCTAATCCTAACCCTAACCCTAACCCTAACCCTAACCCTAACCCTAACC\n",
      "\n",
      "Alignment from SRR058938\n",
      "\n",
      " id: WyIxa2dlbm9tZXMiLCJyZ3MiLCJOQTE5Njc1IiwiU1JSMDU4OTM4LjkzNTY4NiJd\n",
      " fragment_name: SRR058938.935686\n",
      " aligned_sequence: AACCCTAACAACCCTAACCCTAACCCTAACCCTAACCCTAACCCTAACCCTAACCCTAACCCTAACCCTAACCCTT\n",
      "\n",
      "Alignment from SRR058939\n",
      "\n",
      " id: WyIxa2dlbm9tZXMiLCJyZ3MiLCJOQTE5Njc1IiwiU1JSMDU4OTM5LjI1ODYxNTEzIl0\n",
      " fragment_name: SRR058939.25861513\n",
      " aligned_sequence: CTTAACCTTAACCTTAACCTAACCCTAACCCTAACCCTAACCCTAACCCTAACCCTAACCCTAACCCTTAACCCTA\n",
      "\n",
      "Alignment from SRR058964\n",
      "\n",
      " id: WyIxa2dlbm9tZXMiLCJyZ3MiLCJOQTE5Njc1IiwiU1JSMDU4OTY0LjEwNzEwNDY5Il0\n",
      " fragment_name: SRR058964.10710469\n",
      " aligned_sequence: CCCTAACCCTAACCCTAACCCTAACCCTAACCCTAACCCTAACCCTAACCCTAACCCTAACCCTAACCCTAACCCT\n",
      "\n"
     ]
    }
   ],
   "source": [
    "for read_group in read_group_set.read_groups:\n",
    "    print \"Alignment from {}\\n\".format(read_group.name)\n",
    "    alignment = c.search_reads(read_group_ids=[read_group.id], start=0, end=1000000, reference_id=reference.id).next()\n",
    "    print \" id: {}\".format(alignment.id)\n",
    "    print \" fragment_name: {}\".format(alignment.fragment_name)\n",
    "    print \" aligned_sequence: {}\\n\".format(alignment.aligned_sequence)"
   ]
  },
  {
   "cell_type": "markdown",
   "metadata": {},
   "source": [
    "#### For documentation on the service, and more information go to.\n",
    "https://ga4gh-schemas.readthedocs.io/en/latest/schemas/read_service.proto.html"
   ]
  }
 ],
 "metadata": {
  "kernelspec": {
   "display_name": "Python 2",
   "language": "python",
   "name": "python2"
  },
  "language_info": {
   "codemirror_mode": {
    "name": "ipython",
    "version": 2
   },
   "file_extension": ".py",
   "mimetype": "text/x-python",
   "name": "python",
   "nbconvert_exporter": "python",
   "pygments_lexer": "ipython2",
   "version": "2.7.11"
  },
  "widgets": {
   "state": {},
   "version": "1.1.1"
  }
 },
 "nbformat": 4,
 "nbformat_minor": 0
}
