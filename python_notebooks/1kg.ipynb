{
 "cells": [
  {
   "cell_type": "markdown",
   "metadata": {},
   "source": [
    "## GA4GH 1000 Genome Examples"
   ]
  },
  {
   "cell_type": "markdown",
   "metadata": {},
   "source": [
    "Variant data from the Thousand Genomes project is being served by the GA4GH reference server. In this example we show how to use the GA4GH client to access the data."
   ]
  },
  {
   "cell_type": "markdown",
   "metadata": {},
   "source": [
    "### Initialize the client"
   ]
  },
  {
   "cell_type": "markdown",
   "metadata": {},
   "source": [
    "In this step we create a client object which will be used to communicate with the server. It is initialized using the URL."
   ]
  },
  {
   "cell_type": "code",
   "execution_count": 3,
   "metadata": {
    "collapsed": false
   },
   "outputs": [],
   "source": [
    "import ga4gh.client as client\n",
    "c = client.HttpClient(\"http://1kgenomes.ga4gh.org\") "
   ]
  },
  {
   "cell_type": "markdown",
   "metadata": {},
   "source": [
    "We will continue to refer to this client object for accessing the remote server."
   ]
  },
  {
   "cell_type": "markdown",
   "metadata": {},
   "source": [
    "\n",
    "### Access the dataset"
   ]
  },
  {
   "cell_type": "markdown",
   "metadata": {},
   "source": [
    "Here, we issue or first API call to get a listing of datasets hosted by the server. The API call returns an iterator, which is iterated on once to get the `1kgenomes` dataset."
   ]
  },
  {
   "cell_type": "code",
   "execution_count": 4,
   "metadata": {
    "collapsed": true
   },
   "outputs": [],
   "source": [
    "dataset = c.searchDatasets().next()"
   ]
  },
  {
   "cell_type": "code",
   "execution_count": 5,
   "metadata": {
    "collapsed": false
   },
   "outputs": [
    {
     "name": "stdout",
     "output_type": "stream",
     "text": [
      "id: \"WyIxa2dlbm9tZXMiXQ\"\n",
      "name: \"1kgenomes\"\n",
      "description: \"Variants from the 1000 Genomes project and GENCODE genes annotations\"\n",
      "\n"
     ]
    }
   ],
   "source": [
    "print(dataset)"
   ]
  },
  {
   "cell_type": "markdown",
   "metadata": {},
   "source": [
    "### Access the reference set"
   ]
  },
  {
   "cell_type": "markdown",
   "metadata": {},
   "source": [
    "The GA4GH Genomics API provides methods for accessing the bases of a reference. The Thousand Genomes data presented here are mapped to GRCh37.\n",
    "\n",
    "To access these data we first list the reference sets."
   ]
  },
  {
   "cell_type": "code",
   "execution_count": 6,
   "metadata": {
    "collapsed": false,
    "scrolled": true
   },
   "outputs": [
    {
     "name": "stdout",
     "output_type": "stream",
     "text": [
      "id: \"WyJOQ0JJMzciXQ\"\n",
      "name: \"NCBI37\"\n",
      "md5checksum: \"54e0bb53844059bb7152618fc927cfa9\"\n",
      "ncbi_taxon_id: 9606\n",
      "description: \"NCBI37 assembly of the human genome\"\n",
      "source_uri: \"ftp://ftp.1000genomes.ebi.ac.uk/vol1/ftp/technical/reference/phase2_reference_assembly_sequence/hs37d5.fa.gz\"\n",
      "\n"
     ]
    }
   ],
   "source": [
    "referenceSet = c.searchReferenceSets().next()\n",
    "print(referenceSet)"
   ]
  },
  {
   "cell_type": "markdown",
   "metadata": {},
   "source": [
    "With the reference set saved to a variable we will now request for the available references. This is the list of contigs for which we can request reference bases."
   ]
  },
  {
   "cell_type": "code",
   "execution_count": 7,
   "metadata": {
    "collapsed": false
   },
   "outputs": [
    {
     "name": "stdout",
     "output_type": "stream",
     "text": [
      "1, 10, 11, 12, 13, 14, 15, 16, 17, 18, 19, 2, 20, 21, 22, 3, 4, 5, 6, 7, 8, 9, GL000191.1, GL000192.1, GL000193.1, GL000194.1, GL000195.1, GL000196.1, GL000197.1, GL000198.1, GL000199.1, GL000200.1, GL000201.1, GL000202.1, GL000203.1, GL000204.1, GL000205.1, GL000206.1, GL000207.1, GL000208.1, GL000209.1, GL000210.1, GL000211.1, GL000212.1, GL000213.1, GL000214.1, GL000215.1, GL000216.1, GL000217.1, GL000218.1, GL000219.1, GL000220.1, GL000221.1, GL000222.1, GL000223.1, GL000224.1, GL000225.1, GL000226.1, GL000227.1, GL000228.1, GL000229.1, GL000230.1, GL000231.1, GL000232.1, GL000233.1, GL000234.1, GL000235.1, GL000236.1, GL000237.1, GL000238.1, GL000239.1, GL000240.1, GL000241.1, GL000242.1, GL000243.1, GL000244.1, GL000245.1, GL000246.1, GL000247.1, GL000248.1, GL000249.1, MT, NC_007605, X, Y, hs37d5\n"
     ]
    }
   ],
   "source": [
    "references = [r for r in c.searchReferences(referenceSetId = referenceSet.id)]\n",
    "print(', '.join(sorted([reference.name for reference in references])))"
   ]
  },
  {
   "cell_type": "markdown",
   "metadata": {},
   "source": [
    "Here, we print the names of the available references. These reference names are used in the `variants/search` API. By selecting one of the references we can craft a `ListBases` request. Here, we ask for the 1000 bases between 10,000 and 11,000 on the first chromosome."
   ]
  },
  {
   "cell_type": "markdown",
   "metadata": {},
   "source": [
    "### List reference bases"
   ]
  },
  {
   "cell_type": "code",
   "execution_count": 8,
   "metadata": {
    "collapsed": false
   },
   "outputs": [
    {
     "name": "stdout",
     "output_type": "stream",
     "text": [
      "TAACCCTAACCCTAACCCTAACCCTAACCCTAACCCTAACCCTAACCCTAACCCTAACCCTAACCCTAACCCTAACCCTAACCCTAACCCTAACCCTAACCCTAACCCAACCCTAACCCTAACCCTAACCCTAACCCTAACCCTAACCCCTAACCCTAACCCTAACCCTAACCCTAACCTAACCCTAACCCTAACCCTAACCCTAACCCTAACCCTAACCCTAACCCTAACCCCTAACCCTAACCCTAAACCCTAAACCCTAACCCTAACCCTAACCCTAACCCTAACCCCAACCCCAACCCCAACCCCAACCCCAACCCCAACCCTAACCCCTAACCCTAACCCTAACCCTACCCTAACCCTAACCCTAACCCTAACCCTAACCCTAACCCCTAACCCCTAACCCTAACCCTAACCCTAACCCTAACCCTAACCCTAACCCCTAACCCTAACCCTAACCCTAACCCTCGCGGTACCCTCAGCCGGCCCGCCCGCCCGGGTCTGACCTGAGGAGAACTGTGCTCCGCCTTCAGAGTACCACCGAAATCTGTGCAGAGGACAACGCAGCTCCGCCCTCGCGGTGCTCTCCGGGTCTGTGCTGAGGAGAACGCAACTCCGCCGTTGCAAAGGCGCGCCGCGCCGGCGCAGGCGCAGAGAGGCGCGCCGCGCCGGCGCAGGCGCAGAGAGGCGCGCCGCGCCGGCGCAGGCGCAGAGAGGCGCGCCGCGCCGGCGCAGGCGCAGAGAGGCGCGCCGCGCCGGCGCAGGCGCAGAGAGGCGCGCCGCGCCGGCGCAGGCGCAGACACATGCTAGCGCGTCGGGGTGGAGGCGTGGCGCAGGCGCAGAGAGGCGCGCCGCGCCGGCGCAGGCGCAGAGACACATGCTACCGCGTCCAGGGGTGGAGGCGTGGCGCAGGCGCAGAGAGGCGCACCGCGCCGGCGCAGGCGCAGAGACACATGCTAGCGCGTCCAGGGGTGGAGGCGTGGCGCAGGCGCAGAGACGC\n",
      "1000\n"
     ]
    }
   ],
   "source": [
    "chr1 = filter(lambda x: x.name == \"1\", references)[0]\n",
    "bases = c.listReferenceBases(chr1.id, start=10000, end=11000)\n",
    "print(bases)\n",
    "print(len(bases))"
   ]
  },
  {
   "cell_type": "markdown",
   "metadata": {},
   "source": [
    "### List Variant Sets "
   ]
  },
  {
   "cell_type": "markdown",
   "metadata": {},
   "source": [
    "The Thousand Genomes project sequenced the genome of over 2500 participants and released variation data in VCF format. The GA4GH reference server hosts those variant sets, and in this step we will list the available containers."
   ]
  },
  {
   "cell_type": "code",
   "execution_count": 9,
   "metadata": {
    "collapsed": false
   },
   "outputs": [],
   "source": [
    "release = None\n",
    "functional = None\n",
    "for variantSet in c.searchVariantSets(datasetId=dataset.id):\n",
    "    if variantSet.name == \"phase3-release\":\n",
    "        release = variantSet\n",
    "    else:\n",
    "        functional = variantSet\n",
    "        "
   ]
  },
  {
   "cell_type": "markdown",
   "metadata": {},
   "source": [
    "There are two variant sets currently being made available by this server instance. `release` contains the calls for the each participant and `functional_annotation` provides details of the effects of these variants created using the Variant Effect Predictor."
   ]
  },
  {
   "cell_type": "markdown",
   "metadata": {},
   "source": [
    "### Search variants"
   ]
  },
  {
   "cell_type": "markdown",
   "metadata": {},
   "source": [
    "Now that we have stored identifiers for the variant sets hosted by this server, we can craft search requests to find the individual variants. The GA4GH genomics API closely follows VCF by providing the calls for each variant in the variant record itself. Let's get a single variant record to examine."
   ]
  },
  {
   "cell_type": "code",
   "execution_count": 10,
   "metadata": {
    "collapsed": false
   },
   "outputs": [
    {
     "name": "stdout",
     "output_type": "stream",
     "text": [
      "Variant name: rs367896724\n",
      "Start: 10176, End: 10177\n",
      "Reference bases: A\n",
      "Alternate bases: [u'AC']\n",
      "Number of calls: 2504\n"
     ]
    }
   ],
   "source": [
    "allCallSets = list(c.searchCallSets(release.id))\n",
    "\n",
    "callSetIds = []\n",
    "for callSet in allCallSets:\n",
    "    callSetIds.append(str(callSet.id))\n",
    "\n",
    "exampleVariant = c.searchVariants(variantSetId=release.id, start=10000, end=11000, referenceName=chr1.name, callSetIds=callSetIds).next()\n",
    "print(\"Variant name: {}\".format(exampleVariant.names[0]))\n",
    "print(\"Start: {}, End: {}\".format(exampleVariant.start, exampleVariant.end))\n",
    "print(\"Reference bases: {}\".format(exampleVariant.reference_bases))\n",
    "print(\"Alternate bases: {}\".format(exampleVariant.alternate_bases))\n",
    "print(\"Number of calls: {}\".format(len(exampleVariant.calls)))\n"
   ]
  },
  {
   "cell_type": "markdown",
   "metadata": {},
   "source": [
    "### Variant calls"
   ]
  },
  {
   "cell_type": "markdown",
   "metadata": {},
   "source": [
    "Here, we select a few of the important fields of the variant record. Let's now examine the calls returned with this variant. The calls are what tell us which participants were believed to have presented the given variant."
   ]
  },
  {
   "cell_type": "code",
   "execution_count": 11,
   "metadata": {
    "collapsed": false
   },
   "outputs": [
    {
     "name": "stdout",
     "output_type": "stream",
     "text": [
      "call_set_name: \"HG00096\"\n",
      "call_set_id: \"WyIxa2dlbm9tZXMiLCJ2cyIsInBoYXNlMy1yZWxlYXNlIiwiSEcwMDA5NiJd\"\n",
      "genotype: 1\n",
      "genotype: 0\n",
      "phaseset: \"True\"\n",
      "\n"
     ]
    }
   ],
   "source": [
    "print(exampleVariant.calls[0])"
   ]
  },
  {
   "cell_type": "markdown",
   "metadata": {},
   "source": [
    "This tells us that for the participant `HG00096` the variant in question was observed on the first haplotype (`\"genotype\": [1, 0]`). We can perform summary statistics on the calls field to measure allele frequency. For this demonstration we will count the presence of the variant on either haplotype to determine how often it was seen amongst the participants."
   ]
  },
  {
   "cell_type": "code",
   "execution_count": 12,
   "metadata": {
    "collapsed": false
   },
   "outputs": [
    {
     "name": "stdout",
     "output_type": "stream",
     "text": [
      "1810/2504 participants with this variant\n",
      "0.722843450479\n"
     ]
    }
   ],
   "source": [
    "total = 0\n",
    "count = 0\n",
    "for call in exampleVariant.calls:\n",
    "    total += 1\n",
    "    count += call.genotype[0] or call.genotype[1]\n",
    "    \n",
    "print(\"{}/{} participants with this variant\".format(count, total))\n",
    "print(float(count) / float(total))"
   ]
  },
  {
   "cell_type": "markdown",
   "metadata": {},
   "source": [
    "### Variant annotations"
   ]
  },
  {
   "cell_type": "markdown",
   "metadata": {},
   "source": [
    "To get at the detailed variant annotations, we must first find the variant annotation set."
   ]
  },
  {
   "cell_type": "code",
   "execution_count": 13,
   "metadata": {
    "collapsed": false
   },
   "outputs": [],
   "source": [
    "annotationSet = c.searchVariantAnnotationSets(variantSetId=functional.id).next()"
   ]
  },
  {
   "cell_type": "markdown",
   "metadata": {},
   "source": [
    "We can now search for the range that includes our example variant to discover relevant annotations."
   ]
  },
  {
   "cell_type": "code",
   "execution_count": 14,
   "metadata": {
    "collapsed": false
   },
   "outputs": [
    {
     "name": "stdout",
     "output_type": "stream",
     "text": [
      "upstream_gene_variant\n"
     ]
    }
   ],
   "source": [
    "annotation = c.searchVariantAnnotations(\n",
    "    variantAnnotationSetId=annotationSet.id,\n",
    "    start=exampleVariant.start,\n",
    "    end=exampleVariant.end,\n",
    "    referenceName=chr1.name).next()\n",
    "print(annotation.transcript_effects[0].effects[0].term)"
   ]
  },
  {
   "cell_type": "markdown",
   "metadata": {},
   "source": [
    "Here we have found the annotation for our example variant and have found it has the `upstream_gene_variant` consequence."
   ]
  },
  {
   "cell_type": "markdown",
   "metadata": {},
   "source": [
    "### Sequence annotations"
   ]
  },
  {
   "cell_type": "markdown",
   "metadata": {},
   "source": [
    "Finally, we can learn more about the site of our example variant by querying the sequence annotations API, which is serving the Gencode Genes data."
   ]
  },
  {
   "cell_type": "code",
   "execution_count": 15,
   "metadata": {
    "collapsed": false
   },
   "outputs": [
    {
     "name": "stdout",
     "output_type": "stream",
     "text": [
      "id: \"WyIxa2dlbm9tZXMiLCJnZW5jb2RlX3YyNGxpZnQzNyJd\"\n",
      "dataset_id: \"WyIxa2dlbm9tZXMiXQ\"\n",
      "reference_set_id: \"WyJOQ0JJMzciXQ\"\n",
      "name: \"gencode_v24lift37\"\n",
      "\n"
     ]
    }
   ],
   "source": [
    "gencode = c.searchFeatureSets(datasetId=dataset.id).next()\n",
    "print(gencode)"
   ]
  },
  {
   "cell_type": "markdown",
   "metadata": {},
   "source": [
    "We can now craft search requests for features to find the nearest gene:"
   ]
  },
  {
   "cell_type": "code",
   "execution_count": 16,
   "metadata": {
    "collapsed": false
   },
   "outputs": [
    {
     "ename": "TypeError",
     "evalue": "searchFeatures() got an unexpected keyword argument 'feature_set_id'",
     "output_type": "error",
     "traceback": [
      "\u001b[0;31m---------------------------------------------------------------------------\u001b[0m",
      "\u001b[0;31mTypeError\u001b[0m                                 Traceback (most recent call last)",
      "\u001b[0;32m<ipython-input-16-f4b24b1ac247>\u001b[0m in \u001b[0;36m<module>\u001b[0;34m()\u001b[0m\n\u001b[1;32m      4\u001b[0m     \u001b[0mend\u001b[0m\u001b[0;34m=\u001b[0m\u001b[0;36m12000\u001b[0m\u001b[0;34m,\u001b[0m\u001b[0;34m\u001b[0m\u001b[0m\n\u001b[1;32m      5\u001b[0m     \u001b[0mreference_name\u001b[0m\u001b[0;34m=\u001b[0m\u001b[0;34m\"chr1\"\u001b[0m\u001b[0;34m,\u001b[0m\u001b[0;34m\u001b[0m\u001b[0m\n\u001b[0;32m----> 6\u001b[0;31m     feature_types=['gene']).next()\n\u001b[0m\u001b[1;32m      7\u001b[0m \u001b[0;34m\u001b[0m\u001b[0m\n\u001b[1;32m      8\u001b[0m \u001b[0mgene\u001b[0m \u001b[0;34m=\u001b[0m \u001b[0mc\u001b[0m\u001b[0;34m.\u001b[0m\u001b[0msearchFeatures\u001b[0m\u001b[0;34m(\u001b[0m\u001b[0mfeature_set_id\u001b[0m\u001b[0;34m=\u001b[0m\u001b[0mgencode\u001b[0m\u001b[0;34m.\u001b[0m\u001b[0mid\u001b[0m\u001b[0;34m)\u001b[0m\u001b[0;34m.\u001b[0m\u001b[0mnext\u001b[0m\u001b[0;34m(\u001b[0m\u001b[0;34m)\u001b[0m\u001b[0;34m\u001b[0m\u001b[0m\n",
      "\u001b[0;31mTypeError\u001b[0m: searchFeatures() got an unexpected keyword argument 'feature_set_id'"
     ]
    }
   ],
   "source": [
    "# gene = c.searchFeatures(\n",
    "#     feature_set_id=gencode.id,\n",
    "#     start=10000,\n",
    "#     end=12000,\n",
    "#     reference_name=\"chr1\",\n",
    "#     feature_types=['gene']).next()\n",
    "\n",
    "# gene = c.searchFeatures(feature_set_id=gencode.id).next()\n",
    "# print(\"Gene name: {}\".format(gene.attributes.vals['gene_name'][0]))\n",
    "# print(\"Start: {}, End: {}\".format(gene.start, gene.end))\n"
   ]
  },
  {
   "cell_type": "markdown",
   "metadata": {},
   "source": [
    "## Querying read group set and reads from dataset"
   ]
  },
  {
   "cell_type": "markdown",
   "metadata": {},
   "source": [
    "One can obtain read group set and their reads, by using the data set id, the group set name as well as the readgroup id, one can also provide a specific observance region, also we can provide a specific gene that we want to observe.\n",
    "  "
   ]
  },
  {
   "cell_type": "markdown",
   "metadata": {},
   "source": [
    "In this case we will use 0 as our starting point and 1,000,000 as our ending point, we will also be observing only the first chromosome. We will only be observing the first 2 subjects as means of demostration."
   ]
  },
  {
   "cell_type": "code",
   "execution_count": 17,
   "metadata": {
    "collapsed": false
   },
   "outputs": [
    {
     "name": "stdout",
     "output_type": "stream",
     "text": [
      "Read group set : NA19102\n",
      "Read group name: SRR023300,\n",
      "Sequence: TTCCGATCTTTAGGGTTAGGGTTAGGGTTAGGGTTAGGGTTAGGGTTAGGGTTAGGGTTAGGGTTAGGGTTAGGGT\n",
      "Read group name: SRR032854,\n",
      "Sequence: TCTTCCGATCTACCCTAACCCTAACCCTAACCCTAACCCTAACCCTAACCCTAACCCTAACCCTAACCCTAACCCT\n",
      "Read group name: SRR032855,\n",
      "Sequence: CTTCCGATCTCCCTAACCCTAACCCTAACCCTAACCCTAACCCTAACCCTAACCCTAACCCTAACCCTAACCCTAA\n",
      "Read group name: SRR788622,\n",
      "Sequence: TAACCCTAACCCTAACCCTAACCCTAACCCTAACCCTAACCCTAACCCTAACCCTAACCCTAACCCTAACCCTAACCCTAACCCTAACCCTAACCCTAACC\n",
      "Read group name: SRR788623,\n",
      "Sequence: CGCTCTTCCGATCTGGGTTAGGGTTAGGGTTAGGGTTAGGGTTAGGGTTAGGGTTAGGGTTAGGGTTAGGGTTAGGGTTAGGGTTAGGGTTAGGGTTAGCG\n",
      "Read group name: SRR788632,\n",
      "Sequence: TAACCCTAACCCTAACCCTAACCCTAACCCTAACCCTAACCCTAACCCTAACCCTAACCCTAACCCTAACCCTAACCCTAACCCTAACCCAAACCCTAACC\n",
      "Read group name: SRR788643,\n",
      "Sequence: TAACCCTAACCCTAACCCTAACCCTAACCCTAACCCTAACCCTAACCCTAACCCTAACCCTAACCCTAACCCTAACCCTAACCCCACCCCTAACCCTAACC\n",
      "Read group name: SRR788651,\n",
      "Sequence: TAACCCTAACCCTAACCCTAACCCTAACCCTACCCCTAACCCTAACCCTAACCCTAACCCTAACCCTAACCCTAACCCTAACCCTAACCCTAACCCTAACC\n",
      "Read group name: SRR788654,\n",
      "Sequence: GCTCTTCCGATCTAGGGTTAGGGTTAGGGTTAGGGTTAGGGTTAGGGTTAGGGTTAGGGTTAGGGTTAGGGTTAGGGTTAGGGTTAGGGTTAGGGTTAGGG\n",
      "Read group name: SRR788660,\n",
      "Sequence: TTCCGATCTGTTAGGGTTAGGGTTAGGGTTAGGGTTAGGGTTAGGGTTAGGGTTAGGGTTAGGGTTAGGGTTAGGGTTAGGGTTAGGGTTAGGGTTAGGGT\n",
      "Read group name: SRR788663,\n",
      "Sequence: TAACCCTAACCCTAACCCTAACCCTAACCCTAACCCTAACCCTAACCCTAACCCTAACCCTAACCCTAACCCTAACCCTAACCCTAACCCTAACCCTAACC\n",
      "Read group name: SRR788670,\n",
      "Sequence: GACGCTCTTCCGATCTGTTAGGGTTAGGGTTAGGGTTAGGGTTAGGGTTAGGGTTAGGGTTAGGGTTAGGGTTAGGGTTAGGGTTAGGGTTAGGGTTAGGG\n",
      "Read group name: SRR788681,\n",
      "Sequence: TAACCCTAACCCTAACCCTAACCCTAACCCTAACCCTAACCCTAACCCTAACCCTAACCCTAACCCTAACCCTAACCCTAACCCTAACCCTAACCCTAACC\n",
      "Read group name: SRR788684,\n",
      "Sequence: CACGACGCTCTTCCGATCTCCCTAACCCTAACCCTAACCCTAACCCTAACCCTAACCCTAACCCTAACCCTAACCCTAACCCTAACCCTAACCCTAACCCT\n",
      "Read group name: SRR788686,\n",
      "Sequence: CACGACGCTCTTCCGATCTCCCTAACCCTAACCCTAACCCTAACCCTAACCCTAACCCTAACCCTAACCCTAACCCTAACCCTAACCCTAACCCTAACCCT\n",
      "Read group name: SRR788688,\n",
      "Sequence: AACCCTAACCCTAACCCTAACCCTAACCCTAACCCTAACCCTAACCCTAACCCTAACCCTAACCCTAACCCTAACCCTAACCCTAACCCTAACCCTAACCC\n",
      "Read group name: SRR788690,\n",
      "Sequence: TAACCCTAACCCTAACCCTAACCCTAACCCTAACCCTAACCCTAACCCTAACCCTAACCCTAACCCTAACCCTAACCCTAACCCTAACCCTAACCCTAACC\n",
      "Read group name: SRR788697,\n",
      "Sequence: TAACCCTAACCCTAACCCTAACCCTAACCCTAACCCTAACCCTAACCCTAACCCTAACCCTAACCCTAACCCTAACCCTAACCCTAACCCTAACCCTAACC\n",
      "Read group name: SRR788710,\n",
      "Sequence: TAACCCTAACCCTAACCCTAACCCTAACCCTAACCCTAACCCTAACCCTAACCCTAACCCTAACCCTAACCCTAACCCTAACCCTAACACTAACCCTAACC\n"
     ]
    }
   ],
   "source": [
    "limit = 2\n",
    "iterator = 0\n",
    "ReadGroupSet = c.searchReadGroupSets(datasetId=dataset.id).next()\n",
    "print(\"Read group set : {}\".format(ReadGroupSet.name))\n",
    "for ReadGroup in ReadGroupSet.read_groups:\n",
    "    sequence = c.searchReads(readGroupIds=[ReadGroup.id], start=0, end = 1000000, referenceId=references[0].id).next()\n",
    "    print(\"Read group name: {},\\nSequence: {}\".format(ReadGroup.name, sequence.aligned_sequence))"
   ]
  },
  {
   "cell_type": "code",
   "execution_count": null,
   "metadata": {
    "collapsed": true
   },
   "outputs": [],
   "source": []
  }
 ],
 "metadata": {
  "kernelspec": {
   "display_name": "Python 2",
   "language": "python",
   "name": "python2"
  },
  "language_info": {
   "codemirror_mode": {
    "name": "ipython",
    "version": 2
   },
   "file_extension": ".py",
   "mimetype": "text/x-python",
   "name": "python",
   "nbconvert_exporter": "python",
   "pygments_lexer": "ipython2",
   "version": "2.7.11"
  }
 },
 "nbformat": 4,
 "nbformat_minor": 0
}
