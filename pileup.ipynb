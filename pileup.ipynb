{
 "cells": [
  {
   "cell_type": "markdown",
   "metadata": {},
   "source": [
    "# Query for pile-up allignments at region \"x\""
   ]
  },
  {
   "cell_type": "markdown",
   "metadata": {},
   "source": [
    "We can query the database to obtain a pile-up of the reads from a given readgroup."
   ]
  },
  {
   "cell_type": "markdown",
   "metadata": {},
   "source": [
    "### Initialize the client\n",
    "\n",
    "As seen in the \"1kg.ipynb\" example, we take the following steps to create the client object that will be used to obtain the information we desire and query the serever "
   ]
  },
  {
   "cell_type": "code",
   "execution_count": 1,
   "metadata": {
    "collapsed": false
   },
   "outputs": [
    {
     "ename": "ImportError",
     "evalue": "No module named ga4gh.client",
     "output_type": "error",
     "traceback": [
      "\u001b[0;31m---------------------------------------------------------------------------\u001b[0m",
      "\u001b[0;31mImportError\u001b[0m                               Traceback (most recent call last)",
      "\u001b[0;32m<ipython-input-1-d1553c20981d>\u001b[0m in \u001b[0;36m<module>\u001b[0;34m()\u001b[0m\n\u001b[0;32m----> 1\u001b[0;31m \u001b[0;32mimport\u001b[0m \u001b[0mga4gh\u001b[0m\u001b[0;34m.\u001b[0m\u001b[0mclient\u001b[0m \u001b[0;32mas\u001b[0m \u001b[0mclient\u001b[0m\u001b[0;34m\u001b[0m\u001b[0m\n\u001b[0m\u001b[1;32m      2\u001b[0m \u001b[0mc\u001b[0m \u001b[0;34m=\u001b[0m \u001b[0mclient\u001b[0m\u001b[0;34m.\u001b[0m\u001b[0mHttpClient\u001b[0m\u001b[0;34m(\u001b[0m\u001b[0;34m\"http://1kgenomes.ga4gh.org\"\u001b[0m\u001b[0;34m)\u001b[0m\u001b[0;34m\u001b[0m\u001b[0m\n",
      "\u001b[0;31mImportError\u001b[0m: No module named ga4gh.client"
     ]
    }
   ],
   "source": [
    "import ga4gh.client as client\n",
    "c = client.HttpClient(\"http://1kgenomes.ga4gh.org\")"
   ]
  },
  {
   "cell_type": "markdown",
   "metadata": {},
   "source": [
    "### Make reference to the data from the server\n",
    "\n",
    "We query the server for the dataset, which is the 1k-genomes dataset.\n",
    "We follow to access the bases of reference. So to access it we first list the reference sets."
   ]
  },
  {
   "cell_type": "code",
   "execution_count": 101,
   "metadata": {
    "collapsed": false
   },
   "outputs": [],
   "source": [
    "dataset = c.searchDatasets().next()\n",
    "referenceSet = c.searchReferenceSets().next()\n",
    "references = [r for r in c.searchReferences(referenceSetId = referenceSet.id)]"
   ]
  },
  {
   "cell_type": "markdown",
   "metadata": {},
   "source": [
    "### Reference chromosome & read group set read groups\n",
    "We define our contigues sequence with a chromosome reference, and then make a reference array for our read group sets of read groups."
   ]
  },
  {
   "cell_type": "code",
   "execution_count": 113,
   "metadata": {
    "collapsed": true
   },
   "outputs": [],
   "source": [
    "contig ={}\n",
    "for i in references:\n",
    "    contig[i.name] = str(i.id)"
   ]
  },
  {
   "cell_type": "code",
   "execution_count": 104,
   "metadata": {
    "collapsed": false
   },
   "outputs": [],
   "source": [
    "rgIdsArr = {}\n",
    "for r in c.searchReadGroupSets(datasetId=dataset.id):\n",
    "        rgIdsArr[str(r.name)] = [e for e in r.readGroups]"
   ]
  },
  {
   "cell_type": "markdown",
   "metadata": {},
   "source": [
    "### Function to obtain the complement of a negative strand read\n",
    "This function takes the original sequence if it is in the negative strand and then returns the compliment of the input sequence "
   ]
  },
  {
   "cell_type": "code",
   "execution_count": 4,
   "metadata": {
    "collapsed": false
   },
   "outputs": [],
   "source": [
    "def Revers_Compl(Sequence):\n",
    "    CompSeq = list(Sequence[:])\n",
    "    for i in range(len(Sequence)):\n",
    "        if Sequence[i]==\"A\":\n",
    "            CompSeq[i] = \"T\"\n",
    "        elif Sequence[i]==\"C\":\n",
    "            CompSeq[i] = \"G\"\n",
    "        elif Sequence[i] == \"G\":\n",
    "            CompSeq[i] = \"C\"\n",
    "        elif Sequence[i] == \"T\":\n",
    "            CompSeq[i] = \"A\"\n",
    "        else:\n",
    "            CompSeq[i] = \"N\"\n",
    "    return \"\".join(CompSeq)"
   ]
  },
  {
   "cell_type": "markdown",
   "metadata": {},
   "source": [
    "### Pile up function\n",
    "This function calculates the pile up's for a given region, that is the position being observed. It takes as input the chromosome reference and the readgroups to obtain the needed sequence read. "
   ]
  },
  {
   "cell_type": "code",
   "execution_count": 137,
   "metadata": {
    "collapsed": false
   },
   "outputs": [],
   "source": [
    "def pileUp(contig, position, rgset):\n",
    "    alleles = []\n",
    "    #rgidelems = rgIdsArr.get(rgset)\n",
    "    for i in rgset:#rgIdsArr[0]:   \n",
    "        for sequence in c.searchReads(readGroupIds=[i.id],start = position, end = position+1, referenceId=contig):\n",
    "            if sequence.alignment != None:\n",
    "                start = sequence.alignment.position.position\n",
    "                observe = position-start\n",
    "                if sequence.alignment.position.strand == \"NEG_STRAND\":\n",
    "                    Rev_Comp_Seq = Revers_Compl(sequence.alignedSequence)\n",
    "                    allele = Rev_Comp_Seq[-(observe+1)]\n",
    "                    alleles.append({\"allele\":allele, \"readGroupId\":i.id})\n",
    "                else:\n",
    "                    allele = sequence.alignedSequence[observe]\n",
    "                    alleles.append({\"allele\": allele, \"readGroupId\": i.id })\n",
    "    return Calc_Freq(alleles)         \n",
    "          "
   ]
  },
  {
   "cell_type": "markdown",
   "metadata": {},
   "source": [
    "### Function to calculate occurrence frequency\n",
    "The frequency is obtain from the occurence of alleles in the observed position. And our function returns an array of occurances for a given instance as well as the overall frequency. "
   ]
  },
  {
   "cell_type": "code",
   "execution_count": 138,
   "metadata": {
    "collapsed": false,
    "scrolled": false
   },
   "outputs": [],
   "source": [
    "def Calc_Freq(Test):\n",
    "    #Test = pileUp(references[0].id, Position, rgIdsArr)\n",
    "    tot = len(Test)\n",
    "    A = [{\"All\": \"A\",\"Frq\": float(0),\"Occ\": 0},{\"All\": \"C\",\"Frq\": float(0), \"Occ\": 0},{\"All\": \"G\",\"Frq\": float(0), \"Occ\": 0},{\"All\": \"T\",\"Frq\": float(0), \"Occ\": 0}]\n",
    "    for i in range(tot):\n",
    "        if Test[i][\"allele\"] == \"A\":\n",
    "            A[0][\"Occ\"] += 1\n",
    "        elif Test[i][\"allele\"]==\"C\":\n",
    "            A[1][\"Occ\"] += 1\n",
    "        elif Test[i][\"allele\"] == \"G\":\n",
    "            A[2][\"Occ\"] += 1\n",
    "        elif Test[i][\"allele\"] == \"T\":\n",
    "            A[3][\"Occ\"] += 1\n",
    "        else:\n",
    "            tot -= 1        \n",
    "    A[0][\"Frq\"] = float(A[0][\"Occ\"])/float(tot)\n",
    "    A[1][\"Frq\"] = float(A[1][\"Occ\"])/float(tot)\n",
    "    A[2][\"Frq\"] = float(A[2][\"Occ\"])/float(tot)\n",
    "    A[3][\"Frq\"] = float(A[3][\"Occ\"])/float(tot)\n",
    "    return A"
   ]
  },
  {
   "cell_type": "code",
   "execution_count": 136,
   "metadata": {
    "collapsed": false
   },
   "outputs": [
    {
     "ename": "TypeError",
     "evalue": "object of type 'int' has no len()",
     "output_type": "error",
     "traceback": [
      "\u001b[0;31m---------------------------------------------------------------------------\u001b[0m",
      "\u001b[0;31mTypeError\u001b[0m                                 Traceback (most recent call last)",
      "\u001b[0;32m<ipython-input-136-978c51355322>\u001b[0m in \u001b[0;36m<module>\u001b[0;34m()\u001b[0m\n\u001b[0;32m----> 1\u001b[0;31m \u001b[0mX\u001b[0m \u001b[0;34m=\u001b[0m \u001b[0mCalc_Freq\u001b[0m\u001b[0;34m(\u001b[0m\u001b[0;36m10000\u001b[0m\u001b[0;34m)\u001b[0m\u001b[0;34m\u001b[0m\u001b[0m\n\u001b[0m\u001b[1;32m      2\u001b[0m \u001b[0mExampl\u001b[0m \u001b[0;34m=\u001b[0m \u001b[0mmax\u001b[0m\u001b[0;34m(\u001b[0m\u001b[0mX\u001b[0m\u001b[0;34m)\u001b[0m\u001b[0;34m\u001b[0m\u001b[0m\n\u001b[1;32m      3\u001b[0m \u001b[0;32mprint\u001b[0m \u001b[0;34m\"The most frequent allele is : {}, with {} occurances and overall frequency of : {}\"\u001b[0m\u001b[0;34m.\u001b[0m\u001b[0mformat\u001b[0m\u001b[0;34m(\u001b[0m\u001b[0mExampl\u001b[0m\u001b[0;34m[\u001b[0m\u001b[0;34m\"All\"\u001b[0m\u001b[0;34m]\u001b[0m\u001b[0;34m,\u001b[0m \u001b[0mExampl\u001b[0m\u001b[0;34m[\u001b[0m\u001b[0;34m\"Occ\"\u001b[0m\u001b[0;34m]\u001b[0m\u001b[0;34m,\u001b[0m \u001b[0mExampl\u001b[0m\u001b[0;34m[\u001b[0m\u001b[0;34m\"Frq\"\u001b[0m\u001b[0;34m]\u001b[0m\u001b[0;34m)\u001b[0m\u001b[0;34m\u001b[0m\u001b[0m\n",
      "\u001b[0;32m<ipython-input-135-d7c21a150019>\u001b[0m in \u001b[0;36mCalc_Freq\u001b[0;34m(Test)\u001b[0m\n\u001b[1;32m      1\u001b[0m \u001b[0;32mdef\u001b[0m \u001b[0mCalc_Freq\u001b[0m\u001b[0;34m(\u001b[0m\u001b[0mTest\u001b[0m\u001b[0;34m)\u001b[0m\u001b[0;34m:\u001b[0m\u001b[0;34m\u001b[0m\u001b[0m\n\u001b[1;32m      2\u001b[0m     \u001b[0;31m#Test = pileUp(references[0].id, Position, rgIdsArr)\u001b[0m\u001b[0;34m\u001b[0m\u001b[0;34m\u001b[0m\u001b[0m\n\u001b[0;32m----> 3\u001b[0;31m     \u001b[0mtot\u001b[0m \u001b[0;34m=\u001b[0m \u001b[0mlen\u001b[0m\u001b[0;34m(\u001b[0m\u001b[0mTest\u001b[0m\u001b[0;34m)\u001b[0m\u001b[0;34m\u001b[0m\u001b[0m\n\u001b[0m\u001b[1;32m      4\u001b[0m     \u001b[0mA\u001b[0m \u001b[0;34m=\u001b[0m \u001b[0;34m[\u001b[0m\u001b[0;34m{\u001b[0m\u001b[0;34m\"All\"\u001b[0m\u001b[0;34m:\u001b[0m \u001b[0;34m\"A\"\u001b[0m\u001b[0;34m,\u001b[0m\u001b[0;34m\"Frq\"\u001b[0m\u001b[0;34m:\u001b[0m \u001b[0mfloat\u001b[0m\u001b[0;34m(\u001b[0m\u001b[0;36m0\u001b[0m\u001b[0;34m)\u001b[0m\u001b[0;34m,\u001b[0m\u001b[0;34m\"Occ\"\u001b[0m\u001b[0;34m:\u001b[0m \u001b[0;36m0\u001b[0m\u001b[0;34m}\u001b[0m\u001b[0;34m,\u001b[0m\u001b[0;34m{\u001b[0m\u001b[0;34m\"All\"\u001b[0m\u001b[0;34m:\u001b[0m \u001b[0;34m\"C\"\u001b[0m\u001b[0;34m,\u001b[0m\u001b[0;34m\"Frq\"\u001b[0m\u001b[0;34m:\u001b[0m \u001b[0mfloat\u001b[0m\u001b[0;34m(\u001b[0m\u001b[0;36m0\u001b[0m\u001b[0;34m)\u001b[0m\u001b[0;34m,\u001b[0m \u001b[0;34m\"Occ\"\u001b[0m\u001b[0;34m:\u001b[0m \u001b[0;36m0\u001b[0m\u001b[0;34m}\u001b[0m\u001b[0;34m,\u001b[0m\u001b[0;34m{\u001b[0m\u001b[0;34m\"All\"\u001b[0m\u001b[0;34m:\u001b[0m \u001b[0;34m\"G\"\u001b[0m\u001b[0;34m,\u001b[0m\u001b[0;34m\"Frq\"\u001b[0m\u001b[0;34m:\u001b[0m \u001b[0mfloat\u001b[0m\u001b[0;34m(\u001b[0m\u001b[0;36m0\u001b[0m\u001b[0;34m)\u001b[0m\u001b[0;34m,\u001b[0m \u001b[0;34m\"Occ\"\u001b[0m\u001b[0;34m:\u001b[0m \u001b[0;36m0\u001b[0m\u001b[0;34m}\u001b[0m\u001b[0;34m,\u001b[0m\u001b[0;34m{\u001b[0m\u001b[0;34m\"All\"\u001b[0m\u001b[0;34m:\u001b[0m \u001b[0;34m\"T\"\u001b[0m\u001b[0;34m,\u001b[0m\u001b[0;34m\"Frq\"\u001b[0m\u001b[0;34m:\u001b[0m \u001b[0mfloat\u001b[0m\u001b[0;34m(\u001b[0m\u001b[0;36m0\u001b[0m\u001b[0;34m)\u001b[0m\u001b[0;34m,\u001b[0m \u001b[0;34m\"Occ\"\u001b[0m\u001b[0;34m:\u001b[0m \u001b[0;36m0\u001b[0m\u001b[0;34m}\u001b[0m\u001b[0;34m]\u001b[0m\u001b[0;34m\u001b[0m\u001b[0m\n\u001b[1;32m      5\u001b[0m     \u001b[0;32mfor\u001b[0m \u001b[0mi\u001b[0m \u001b[0;32min\u001b[0m \u001b[0mrange\u001b[0m\u001b[0;34m(\u001b[0m\u001b[0mtot\u001b[0m\u001b[0;34m)\u001b[0m\u001b[0;34m:\u001b[0m\u001b[0;34m\u001b[0m\u001b[0m\n",
      "\u001b[0;31mTypeError\u001b[0m: object of type 'int' has no len()"
     ]
    }
   ],
   "source": [
    "X = Calc_Freq(10000)\n",
    "Exampl = max(X)\n",
    "print \"The most frequent allele is : {}, with {} occurances and overall frequency of : {}\".format(Exampl[\"All\"], Exampl[\"Occ\"], Exampl[\"Frq\"])\n"
   ]
  },
  {
   "cell_type": "code",
   "execution_count": 22,
   "metadata": {
    "collapsed": false
   },
   "outputs": [],
   "source": [
    "chrl = filter(lambda x: x.name == \"1\", references)[0]"
   ]
  },
  {
   "cell_type": "code",
   "execution_count": 139,
   "metadata": {
    "collapsed": false
   },
   "outputs": [
    {
     "name": "stdout",
     "output_type": "stream",
     "text": [
      "T\n",
      "{'All': 'T', 'Frq': 0.8, 'Occ': 36}\n"
     ]
    }
   ],
   "source": [
    "def Variant_Comp(Position, ReadGroupSetName, Chromo):\n",
    "    RdGrp = rgIdsArr.get(ReadGroupSetName, None)\n",
    "    Chrom = contig.get(Chromo, None) \n",
    "    if (RdGrp and Chrom) != None:\n",
    "        base = c.listReferenceBases(Chrom, start = Position, end = Position+1)\n",
    "        var = pileUp(Chrom, Position, RdGrp)\n",
    "        print base\n",
    "        print max(var)\n",
    "    else:\n",
    "        if RdGrp == None:\n",
    "            print\"Read Group Set '{}' is not in the API\".format(ReadGroupSetName)\n",
    "        else:\n",
    "            print\"Chromosome '{}' is not in the API\".format(Chromo)\n",
    "    \n",
    "Variant_Comp(10000,\"NA19102\",\"1\")"
   ]
  },
  {
   "cell_type": "code",
   "execution_count": 67,
   "metadata": {
    "collapsed": false
   },
   "outputs": [
    {
     "name": "stdout",
     "output_type": "stream",
     "text": [
      "SRR032854\n",
      "TTCCGATCTTTAGGGTTAGGGTTAGGGTTAGGGTTAGGGTTAGGGTTAGGGTTAGGGTTAGGGTTAGGGTTAGGGT\n"
     ]
    }
   ],
   "source": [
    "rdgrp = rgIdsArr[0][\"RdGroup\"][0].id\n",
    "print rgIdsArr[0][\"RdGroup\"][1].name\n",
    "print c.searchReads(readGroupIds= [rdgrp], start=0, end = 1000000, referenceId=references[0].id).next().alignedSequence"
   ]
  },
  {
   "cell_type": "code",
   "execution_count": 108,
   "metadata": {
    "collapsed": false
   },
   "outputs": [
    {
     "name": "stdout",
     "output_type": "stream",
     "text": [
      "Reference({\"name\": \"1\", \"sourceURI\": null, \"sourceAccessions\": [], \"sourceDivergence\": null, \"length\": 249250621, \"md5checksum\": \"1b22b98cdeb4a9304cb5d48026a85128\", \"isDerived\": false, \"id\": \"WyJOQ0JJMzciLCIxIl0\", \"ncbiTaxonId\": null})\n"
     ]
    }
   ],
   "source": [
    "#print rgIdsArr[0][\"RdGrpSet\"].name == \"NA19102\"\n",
    "print references[0]\n"
   ]
  },
  {
   "cell_type": "code",
   "execution_count": 132,
   "metadata": {
    "collapsed": false
   },
   "outputs": [
    {
     "data": {
      "text/plain": [
       "'WyJOQ0JJMzciLCIxIl0'"
      ]
     },
     "execution_count": 132,
     "metadata": {},
     "output_type": "execute_result"
    }
   ],
   "source": [
    "contig.get(\"1\") "
   ]
  },
  {
   "cell_type": "code",
   "execution_count": 115,
   "metadata": {
    "collapsed": false
   },
   "outputs": [
    {
     "name": "stdout",
     "output_type": "stream",
     "text": [
      "WyJOQ0JJMzciLCIxIl0\n"
     ]
    }
   ],
   "source": [
    "print chrl.id"
   ]
  },
  {
   "cell_type": "code",
   "execution_count": 131,
   "metadata": {
    "collapsed": false
   },
   "outputs": [
    {
     "data": {
      "text/plain": [
       "u'WyJOQ0JJMzciLCIxIl0'"
      ]
     },
     "execution_count": 131,
     "metadata": {},
     "output_type": "execute_result"
    }
   ],
   "source": [
    "references[0].id\n"
   ]
  },
  {
   "cell_type": "code",
   "execution_count": null,
   "metadata": {
    "collapsed": true
   },
   "outputs": [],
   "source": []
  }
 ],
 "metadata": {
  "kernelspec": {
   "display_name": "Python 2",
   "language": "python",
   "name": "python2"
  },
  "language_info": {
   "codemirror_mode": {
    "name": "ipython",
    "version": 2
   },
   "file_extension": ".py",
   "mimetype": "text/x-python",
   "name": "python",
   "nbconvert_exporter": "python",
   "pygments_lexer": "ipython2",
   "version": "2.7.11"
  },
  "widgets": {
   "state": {},
   "version": "1.1.1"
  }
 },
 "nbformat": 4,
 "nbformat_minor": 0
}
